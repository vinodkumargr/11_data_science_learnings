{
 "cells": [
  {
   "cell_type": "markdown",
   "id": "1a599be7",
   "metadata": {},
   "source": [
    "# 01. Lists :"
   ]
  },
  {
   "cell_type": "markdown",
   "id": "d62b6043",
   "metadata": {},
   "source": [
    "# Ascending order "
   ]
  },
  {
   "cell_type": "code",
   "execution_count": 1,
   "id": "beb98f5e",
   "metadata": {},
   "outputs": [],
   "source": [
    "l = [1,4,9,2,6,3,5,8,7,11,13,10,12] # dataset is not in a order\n",
    "\n",
    "l.sort() # this .sort() will help you to set data into a order(ascending order).\n",
    "\n",
    "# .sort() by default it will sort to ascending order."
   ]
  },
  {
   "cell_type": "code",
   "execution_count": 2,
   "id": "6476a26c",
   "metadata": {},
   "outputs": [
    {
     "data": {
      "text/plain": [
       "[1, 2, 3, 4, 5, 6, 7, 8, 9, 10, 11, 12, 13]"
      ]
     },
     "execution_count": 2,
     "metadata": {},
     "output_type": "execute_result"
    }
   ],
   "source": [
    "l # after sorting"
   ]
  },
  {
   "cell_type": "code",
   "execution_count": 3,
   "id": "39ad61bb",
   "metadata": {},
   "outputs": [],
   "source": [
    "# If you want to sort data into descending order use below code\n",
    "\n",
    "l.sort(reverse=True) \n",
    "\n",
    "# True keyword is case sensetive, always T should be captial"
   ]
  },
  {
   "cell_type": "code",
   "execution_count": 4,
   "id": "b0de4b30",
   "metadata": {},
   "outputs": [
    {
     "data": {
      "text/plain": [
       "[13, 12, 11, 10, 9, 8, 7, 6, 5, 4, 3, 2, 1]"
      ]
     },
     "execution_count": 4,
     "metadata": {},
     "output_type": "execute_result"
    }
   ],
   "source": [
    "l"
   ]
  },
  {
   "cell_type": "markdown",
   "id": "586068a5",
   "metadata": {},
   "source": [
    "#  Descending order"
   ]
  },
  {
   "cell_type": "code",
   "execution_count": 5,
   "id": "219f7444",
   "metadata": {},
   "outputs": [
    {
     "data": {
      "text/plain": [
       "[1, 4, 9, 2, 6, 3, 5, 8, 7, 11, 13, 10, 12]"
      ]
     },
     "execution_count": 5,
     "metadata": {},
     "output_type": "execute_result"
    }
   ],
   "source": [
    "#you can directly convert the unordered data into descending\n",
    "\n",
    "# reload the original data:\n",
    "l = [1,4,9,2,6,3,5,8,7,11,13,10,12] \n",
    "l # retreive the data"
   ]
  },
  {
   "cell_type": "code",
   "execution_count": 6,
   "id": "31862c79",
   "metadata": {},
   "outputs": [],
   "source": [
    "l.sort(reverse=True) # here T in True always should be capital"
   ]
  },
  {
   "cell_type": "code",
   "execution_count": 12,
   "id": "82b02c47",
   "metadata": {},
   "outputs": [
    {
     "data": {
      "text/plain": [
       "[13, 12, 11, 10, 9, 8, 7, 6, 5, 4, 3, 2, 1]"
      ]
     },
     "execution_count": 12,
     "metadata": {},
     "output_type": "execute_result"
    }
   ],
   "source": [
    "l"
   ]
  },
  {
   "cell_type": "code",
   "execution_count": null,
   "id": "1fc6ff59",
   "metadata": {},
   "outputs": [],
   "source": []
  },
  {
   "cell_type": "markdown",
   "id": "c216f7a2",
   "metadata": {},
   "source": [
    "# 02. Tuples : "
   ]
  },
  {
   "cell_type": "code",
   "execution_count": 4,
   "id": "9a513284",
   "metadata": {},
   "outputs": [],
   "source": [
    "t = ()"
   ]
  },
  {
   "cell_type": "code",
   "execution_count": 5,
   "id": "4d0b5543",
   "metadata": {},
   "outputs": [
    {
     "data": {
      "text/plain": [
       "tuple"
      ]
     },
     "execution_count": 5,
     "metadata": {},
     "output_type": "execute_result"
    }
   ],
   "source": [
    "# what is the type of 't' here:\n",
    "type(t)"
   ]
  },
  {
   "cell_type": "code",
   "execution_count": 6,
   "id": "e23995f5",
   "metadata": {},
   "outputs": [
    {
     "name": "stdout",
     "output_type": "stream",
     "text": [
      "('vinod', 'kumar', 'sai', 'kumar', 'abhi', 'shreyas')\n"
     ]
    }
   ],
   "source": [
    "# tuples with strings:\n",
    "t = ('vinod', 'kumar', 'sai', 'kumar', 'abhi', 'shreyas')\n",
    "print(t)"
   ]
  },
  {
   "cell_type": "code",
   "execution_count": 1,
   "id": "c056b78d",
   "metadata": {},
   "outputs": [
    {
     "data": {
      "text/plain": [
       "(1, 2, 3, 4, 5, 6, 7, 8, 9, 10)"
      ]
     },
     "execution_count": 1,
     "metadata": {},
     "output_type": "execute_result"
    }
   ],
   "source": [
    "# tuples with numbers:\n",
    "t1 = (1,2,3,4,5,6,7,8,9,10) # you can acess without paranthesis\n",
    "t1"
   ]
  },
  {
   "cell_type": "code",
   "execution_count": 2,
   "id": "eb793d53",
   "metadata": {},
   "outputs": [
    {
     "data": {
      "text/plain": [
       "('vinod', 'sai', 'kumar', 1, 2, 3, 4, 5)"
      ]
     },
     "execution_count": 2,
     "metadata": {},
     "output_type": "execute_result"
    }
   ],
   "source": [
    "# combination of strings and numbers:\n",
    "t2 = ('vinod','sai','kumar',1,2,3,4,5)\n",
    "t2"
   ]
  },
  {
   "cell_type": "code",
   "execution_count": 1,
   "id": "70447a95",
   "metadata": {},
   "outputs": [
    {
     "name": "stdout",
     "output_type": "stream",
     "text": [
      "[1, 2, 3, 4, 5, 6, 7]\n"
     ]
    }
   ],
   "source": [
    "# convert list into tuple\n",
    "l = [1,2,3,4,5,6,7] \n",
    "print(l)"
   ]
  },
  {
   "cell_type": "code",
   "execution_count": 2,
   "id": "85b6b777",
   "metadata": {},
   "outputs": [
    {
     "data": {
      "text/plain": [
       "list"
      ]
     },
     "execution_count": 2,
     "metadata": {},
     "output_type": "execute_result"
    }
   ],
   "source": [
    "type(l) # here we can see type of l"
   ]
  },
  {
   "cell_type": "code",
   "execution_count": 3,
   "id": "d8accb8b",
   "metadata": {},
   "outputs": [],
   "source": [
    "lt = tuple(l) # \"tuple()\" will convert any data type into tuples\n",
    "\n",
    "# we store the converted list into lt"
   ]
  },
  {
   "cell_type": "code",
   "execution_count": 4,
   "id": "03e6f63a",
   "metadata": {},
   "outputs": [
    {
     "name": "stdout",
     "output_type": "stream",
     "text": [
      "(1, 2, 3, 4, 5, 6, 7)\n"
     ]
    }
   ],
   "source": [
    "print(lt) # we can see lt is list or tuple\n",
    "# it is converted list into tuple"
   ]
  },
  {
   "cell_type": "code",
   "execution_count": 5,
   "id": "16b32165",
   "metadata": {},
   "outputs": [
    {
     "data": {
      "text/plain": [
       "tuple"
      ]
     },
     "execution_count": 5,
     "metadata": {},
     "output_type": "execute_result"
    }
   ],
   "source": [
    "type(lt) # and here the type of lt is tuple now"
   ]
  },
  {
   "cell_type": "markdown",
   "id": "e93321f4",
   "metadata": {},
   "source": [
    "tuple.index()"
   ]
  },
  {
   "cell_type": "code",
   "execution_count": 1,
   "id": "f884fc88",
   "metadata": {},
   "outputs": [
    {
     "data": {
      "text/plain": [
       "2"
      ]
     },
     "execution_count": 1,
     "metadata": {},
     "output_type": "execute_result"
    }
   ],
   "source": [
    "# using index operation :\n",
    "t4 = (\"vinod\", 'kumar', 'sai','abhi')\n",
    "t4.index('sai')"
   ]
  },
  {
   "cell_type": "code",
   "execution_count": 2,
   "id": "9c449e38",
   "metadata": {},
   "outputs": [
    {
     "data": {
      "text/plain": [
       "5"
      ]
     },
     "execution_count": 2,
     "metadata": {},
     "output_type": "execute_result"
    }
   ],
   "source": [
    "# lets take combined data\n",
    "t5 = ('vinod','sai','abhi','shreyas',1,2,3,4,5,6)\n",
    "t5.index(2) # here 2 is not a inde, it's a value"
   ]
  },
  {
   "cell_type": "code",
   "execution_count": 3,
   "id": "680c9923",
   "metadata": {},
   "outputs": [
    {
     "data": {
      "text/plain": [
       "1"
      ]
     },
     "execution_count": 3,
     "metadata": {},
     "output_type": "execute_result"
    }
   ],
   "source": [
    "# what is the index value of 'sai'\n",
    "t5.index('sai')"
   ]
  },
  {
   "cell_type": "code",
   "execution_count": 4,
   "id": "0597fa0e",
   "metadata": {},
   "outputs": [
    {
     "data": {
      "text/plain": [
       "3"
      ]
     },
     "execution_count": 4,
     "metadata": {},
     "output_type": "execute_result"
    }
   ],
   "source": [
    "t5.index('shreyas')"
   ]
  },
  {
   "cell_type": "code",
   "execution_count": 5,
   "id": "c26d13af",
   "metadata": {},
   "outputs": [],
   "source": [
    "# How much data is present in t5\n",
    "for i in t5:\n",
    "    d = t5.index(i)"
   ]
  },
  {
   "cell_type": "code",
   "execution_count": 6,
   "id": "cc7a8e1a",
   "metadata": {},
   "outputs": [
    {
     "data": {
      "text/plain": [
       "9"
      ]
     },
     "execution_count": 6,
     "metadata": {},
     "output_type": "execute_result"
    }
   ],
   "source": [
    "# the total data is\n",
    "d"
   ]
  },
  {
   "cell_type": "markdown",
   "id": "298829ce",
   "metadata": {},
   "source": [
    "tuple.count()"
   ]
  },
  {
   "cell_type": "code",
   "execution_count": 1,
   "id": "f56af364",
   "metadata": {},
   "outputs": [
    {
     "data": {
      "text/plain": [
       "5"
      ]
     },
     "execution_count": 1,
     "metadata": {},
     "output_type": "execute_result"
    }
   ],
   "source": [
    "# count operation \n",
    "t6 = (1,2,3,1,2,1,1,1,2,2,2,4,4,4,5,5,5,3,4)\n",
    "\n",
    "t6.count(1)"
   ]
  },
  {
   "cell_type": "code",
   "execution_count": 2,
   "id": "7e3b0e7e",
   "metadata": {},
   "outputs": [
    {
     "name": "stdout",
     "output_type": "stream",
     "text": [
      "how many times 2 value is present ?  5 times\n"
     ]
    }
   ],
   "source": [
    "print(\"how many times 2 value is present ? \", t6.count(2), \"times\")"
   ]
  },
  {
   "cell_type": "code",
   "execution_count": 3,
   "id": "29747f78",
   "metadata": {},
   "outputs": [
    {
     "name": "stdout",
     "output_type": "stream",
     "text": [
      "how many times 4 value is present ?  4 times\n"
     ]
    }
   ],
   "source": [
    "print(\"how many times 4 value is present ? \", t6.count(4), \"times\")"
   ]
  },
  {
   "cell_type": "code",
   "execution_count": 4,
   "id": "945e0b5b",
   "metadata": {},
   "outputs": [
    {
     "name": "stdout",
     "output_type": "stream",
     "text": [
      "how many times 3 value is present ?  2 times\n"
     ]
    }
   ],
   "source": [
    "print(\"how many times 3 value is present ? \", t6.count(3), \"times\")"
   ]
  },
  {
   "cell_type": "markdown",
   "id": "05c1f52e",
   "metadata": {},
   "source": [
    "#  03. Sets: "
   ]
  },
  {
   "cell_type": "code",
   "execution_count": 1,
   "id": "99966972",
   "metadata": {},
   "outputs": [],
   "source": [
    "s = () \n",
    "# If you initialize like this it consider as a tuple"
   ]
  },
  {
   "cell_type": "code",
   "execution_count": 2,
   "id": "8b2809e8",
   "metadata": {},
   "outputs": [
    {
     "data": {
      "text/plain": [
       "tuple"
      ]
     },
     "execution_count": 2,
     "metadata": {},
     "output_type": "execute_result"
    }
   ],
   "source": [
    "# Let's see the type(s) here:\n",
    "type(s)"
   ]
  },
  {
   "cell_type": "code",
   "execution_count": 3,
   "id": "68242320",
   "metadata": {},
   "outputs": [],
   "source": [
    "# If i use set() keyword and add data into set()\n",
    "s1 = set()"
   ]
  },
  {
   "cell_type": "code",
   "execution_count": 4,
   "id": "7c26c5a7",
   "metadata": {},
   "outputs": [
    {
     "data": {
      "text/plain": [
       "set"
      ]
     },
     "execution_count": 4,
     "metadata": {},
     "output_type": "execute_result"
    }
   ],
   "source": [
    "type(s1) # here my type of s1 is :"
   ]
  },
  {
   "cell_type": "code",
   "execution_count": 5,
   "id": "c77dafa2",
   "metadata": {},
   "outputs": [
    {
     "ename": "TypeError",
     "evalue": "set expected at most 1 argument, got 7",
     "output_type": "error",
     "traceback": [
      "\u001b[1;31m---------------------------------------------------------------------------\u001b[0m",
      "\u001b[1;31mTypeError\u001b[0m                                 Traceback (most recent call last)",
      "Input \u001b[1;32mIn [5]\u001b[0m, in \u001b[0;36m<cell line: 2>\u001b[1;34m()\u001b[0m\n\u001b[0;32m      1\u001b[0m \u001b[38;5;66;03m# Lets add data and retreive them:\u001b[39;00m\n\u001b[1;32m----> 2\u001b[0m s2 \u001b[38;5;241m=\u001b[39m \u001b[38;5;28;43mset\u001b[39;49m\u001b[43m(\u001b[49m\u001b[38;5;124;43m'\u001b[39;49m\u001b[38;5;124;43mvinod\u001b[39;49m\u001b[38;5;124;43m'\u001b[39;49m\u001b[43m,\u001b[49m\u001b[38;5;124;43m'\u001b[39;49m\u001b[38;5;124;43msai\u001b[39;49m\u001b[38;5;124;43m'\u001b[39;49m\u001b[43m,\u001b[49m\u001b[38;5;241;43m1\u001b[39;49m\u001b[43m,\u001b[49m\u001b[38;5;241;43m2\u001b[39;49m\u001b[43m,\u001b[49m\u001b[38;5;241;43m3\u001b[39;49m\u001b[43m,\u001b[49m\u001b[38;5;241;43m4\u001b[39;49m\u001b[43m,\u001b[49m\u001b[38;5;241;43m5\u001b[39;49m\u001b[43m)\u001b[49m\n",
      "\u001b[1;31mTypeError\u001b[0m: set expected at most 1 argument, got 7"
     ]
    }
   ],
   "source": [
    "# Lets add data and retreive them:\n",
    "s2 = set('vinod','sai',1,2,3,4,5)"
   ]
  },
  {
   "cell_type": "markdown",
   "id": "336342bb",
   "metadata": {},
   "source": [
    "you can't add multiple data like this into the sets data, you should add only single data. \n",
    "Either you create a list inside sets(), that will consider whole data inside list as a single argument.\n",
    "or create a tuple inside sets().\n",
    "The output of sets will be like this - { data }"
   ]
  },
  {
   "cell_type": "code",
   "execution_count": 6,
   "id": "89686df9",
   "metadata": {},
   "outputs": [
    {
     "data": {
      "text/plain": [
       "{1, 2, 3, 4, 5, 'sai', 'vinod'}"
      ]
     },
     "execution_count": 6,
     "metadata": {},
     "output_type": "execute_result"
    }
   ],
   "source": [
    "# Like tuple inside set() i,e., set(tuple())\n",
    "s2 = set((1,2,3,4,5,'vinod','sai'))\n",
    "s2"
   ]
  },
  {
   "cell_type": "code",
   "execution_count": 7,
   "id": "9fce0051",
   "metadata": {},
   "outputs": [
    {
     "data": {
      "text/plain": [
       "{1, 2, 3, 4, 5, 'sai', 'vinod'}"
      ]
     },
     "execution_count": 7,
     "metadata": {},
     "output_type": "execute_result"
    }
   ],
   "source": [
    "# Like list inside set() i,e., set(list[])\n",
    "s3 = set(['vinod','sai',1,2,3,4,5])\n",
    "s3"
   ]
  },
  {
   "cell_type": "code",
   "execution_count": 11,
   "id": "295be833",
   "metadata": {},
   "outputs": [
    {
     "data": {
      "text/plain": [
       "{1, 2, 3, 4, 5, 6, 7, 8}"
      ]
     },
     "execution_count": 11,
     "metadata": {},
     "output_type": "execute_result"
    }
   ],
   "source": [
    "# the advantage is set will sort the data:\n",
    "# unordered data\n",
    "s4 = set({8,2,5,3,1,6,4,7}) # no problem in using flower braces\n",
    "\n",
    "s4 # see it have soreted the data"
   ]
  },
  {
   "cell_type": "code",
   "execution_count": 13,
   "id": "33e87cfe",
   "metadata": {},
   "outputs": [
    {
     "data": {
      "text/plain": [
       "{'abhi', 'sai', 'shreyas', 'vinod', 'vishnu'}"
      ]
     },
     "execution_count": 13,
     "metadata": {},
     "output_type": "execute_result"
    }
   ],
   "source": [
    "# we will apply in strings also:\n",
    "s5 = set(['vinod','shreyas','sai','abhi','vishnu']) \n",
    "s5 # it will sorted according to the letters"
   ]
  },
  {
   "cell_type": "code",
   "execution_count": 14,
   "id": "b88d536a",
   "metadata": {},
   "outputs": [
    {
     "data": {
      "text/plain": [
       "{1, 2, 3, 4, 5, 6, 'abhi', 'sai', 'shreyas', 'vinod', 'vishnu'}"
      ]
     },
     "execution_count": 14,
     "metadata": {},
     "output_type": "execute_result"
    }
   ],
   "source": [
    "# Let's see for combined data\n",
    "s6 = set((6,2,1,4,3,5,'vinod','sai','vishnu','abhi','shreyas'))\n",
    "s6"
   ]
  },
  {
   "cell_type": "code",
   "execution_count": 15,
   "id": "53c036c3",
   "metadata": {},
   "outputs": [
    {
     "data": {
      "text/plain": [
       "{1, 2, 3, 4, 5, 6, 'kumar', 'sai', 'vinod'}"
      ]
     },
     "execution_count": 15,
     "metadata": {},
     "output_type": "execute_result"
    }
   ],
   "source": [
    "# if the numbers are repeated then it will be recoded only once\n",
    "s7 = set([1,2,3,1,4,5,2,6,6,6,'vinod','kumar','sai','kumar'])\n",
    "s7"
   ]
  },
  {
   "cell_type": "markdown",
   "id": "69ff8064",
   "metadata": {},
   "source": [
    "# operations on sets : "
   ]
  },
  {
   "cell_type": "code",
   "execution_count": 1,
   "id": "21daed97",
   "metadata": {},
   "outputs": [],
   "source": [
    "# add operation : you can't use [] to add, use ()\n",
    "s1 = set(()) # empty set"
   ]
  },
  {
   "cell_type": "code",
   "execution_count": 2,
   "id": "4c118058",
   "metadata": {},
   "outputs": [
    {
     "data": {
      "text/plain": [
       "{1}"
      ]
     },
     "execution_count": 2,
     "metadata": {},
     "output_type": "execute_result"
    }
   ],
   "source": [
    "s1.add(1) # add 1 into s1\n",
    "s1"
   ]
  },
  {
   "cell_type": "code",
   "execution_count": 3,
   "id": "2cc9e2d2",
   "metadata": {},
   "outputs": [
    {
     "data": {
      "text/plain": [
       "{1, 2}"
      ]
     },
     "execution_count": 3,
     "metadata": {},
     "output_type": "execute_result"
    }
   ],
   "source": [
    "s1.add(2)\n",
    "s1"
   ]
  },
  {
   "cell_type": "code",
   "execution_count": 4,
   "id": "542c3168",
   "metadata": {},
   "outputs": [
    {
     "data": {
      "text/plain": [
       "{1, 2, 3, 4, 5, 6, 7, 8}"
      ]
     },
     "execution_count": 4,
     "metadata": {},
     "output_type": "execute_result"
    }
   ],
   "source": [
    "for i in range(3,9):  # adding multiple data at once using for loop\n",
    "    s1.add(i)\n",
    "s1"
   ]
  },
  {
   "cell_type": "code",
   "execution_count": 5,
   "id": "bb117957",
   "metadata": {},
   "outputs": [
    {
     "data": {
      "text/plain": [
       "{1, 2, 3}"
      ]
     },
     "execution_count": 5,
     "metadata": {},
     "output_type": "execute_result"
    }
   ],
   "source": [
    "# add data inside a tuple:\n",
    "s2 = set((1,2,3))\n",
    "s2"
   ]
  },
  {
   "cell_type": "code",
   "execution_count": 6,
   "id": "a6275956",
   "metadata": {},
   "outputs": [
    {
     "data": {
      "text/plain": [
       "{(1, 2, 3, 4, 5), 1, 2, 3}"
      ]
     },
     "execution_count": 6,
     "metadata": {},
     "output_type": "execute_result"
    }
   ],
   "source": [
    "s2.add((1,2,3,4,5))\n",
    "s2  # tuple inside set"
   ]
  },
  {
   "cell_type": "code",
   "execution_count": 8,
   "id": "305aae1f",
   "metadata": {},
   "outputs": [
    {
     "data": {
      "text/plain": [
       "{('vinod', 'kumar', 'sai'), (1, 2, 3, 4, 5), 1, 2, 3}"
      ]
     },
     "execution_count": 8,
     "metadata": {},
     "output_type": "execute_result"
    }
   ],
   "source": [
    "s2.add(('vinod','kumar','sai'))\n",
    "s2"
   ]
  },
  {
   "cell_type": "markdown",
   "id": "563309f8",
   "metadata": {},
   "source": [
    "# set.update():"
   ]
  },
  {
   "cell_type": "code",
   "execution_count": 1,
   "id": "5a4d9b55",
   "metadata": {},
   "outputs": [],
   "source": [
    "s1 = set(())  # an empty set"
   ]
  },
  {
   "cell_type": "code",
   "execution_count": 3,
   "id": "36d034ee",
   "metadata": {},
   "outputs": [
    {
     "data": {
      "text/plain": [
       "{1, 2, 3, 4}"
      ]
     },
     "execution_count": 3,
     "metadata": {},
     "output_type": "execute_result"
    }
   ],
   "source": [
    "s1.update([1,2,3,4]) # update will take lists, but add cannot take lists.\n",
    "s1"
   ]
  },
  {
   "cell_type": "code",
   "execution_count": 5,
   "id": "9436d1ba",
   "metadata": {},
   "outputs": [
    {
     "data": {
      "text/plain": [
       "{1, 2, 3, 4, 11, 22, 33, 44}"
      ]
     },
     "execution_count": 5,
     "metadata": {},
     "output_type": "execute_result"
    }
   ],
   "source": [
    "s1.update((11,22,33,44))\n",
    "s1  # you can see all data are combined."
   ]
  },
  {
   "cell_type": "code",
   "execution_count": 6,
   "id": "502b09e4",
   "metadata": {},
   "outputs": [
    {
     "data": {
      "text/plain": [
       "{1, 11, 2, 22, 3, 33, 4, 44, 'kumar', 'sai', 'vinod'}"
      ]
     },
     "execution_count": 6,
     "metadata": {},
     "output_type": "execute_result"
    }
   ],
   "source": [
    "s1.update(('vinod','kumar','sai'))\n",
    "s1  # also sorts the data."
   ]
  },
  {
   "cell_type": "markdown",
   "id": "b7a756e9",
   "metadata": {},
   "source": [
    "# set.remove() : "
   ]
  },
  {
   "cell_type": "code",
   "execution_count": 11,
   "id": "e896b792",
   "metadata": {},
   "outputs": [
    {
     "data": {
      "text/plain": [
       "{1, 2, 3, 4, 5, 6, 7, 8, 9, 10, 11, 12, 13, 14, 15}"
      ]
     },
     "execution_count": 11,
     "metadata": {},
     "output_type": "execute_result"
    }
   ],
   "source": [
    "# First I'll add some data using for loop:\n",
    "s1 = set(()) # created empty set\n",
    "for i in range(1,16):\n",
    "    s1.add(i)\n",
    "s1  # i have added some elements/data."
   ]
  },
  {
   "cell_type": "code",
   "execution_count": 13,
   "id": "1ef02068",
   "metadata": {},
   "outputs": [
    {
     "data": {
      "text/plain": [
       "{2, 3, 4, 5, 6, 7, 8, 9, 10, 11, 12, 13, 14, 15}"
      ]
     },
     "execution_count": 13,
     "metadata": {},
     "output_type": "execute_result"
    }
   ],
   "source": [
    "s1.remove(1)  # by default it will take only one argument\n",
    "s1  # I have removed a numbers"
   ]
  },
  {
   "cell_type": "code",
   "execution_count": 14,
   "id": "0c258df5",
   "metadata": {},
   "outputs": [
    {
     "data": {
      "text/plain": [
       "{2, 4, 5, 6, 7, 8, 9, 10, 11, 12, 13, 14, 15}"
      ]
     },
     "execution_count": 14,
     "metadata": {},
     "output_type": "execute_result"
    }
   ],
   "source": [
    "s1.remove(3)\n",
    "s1"
   ]
  },
  {
   "cell_type": "code",
   "execution_count": 15,
   "id": "7edbd2eb",
   "metadata": {},
   "outputs": [
    {
     "data": {
      "text/plain": [
       "{2, 11, 12, 13, 14, 15}"
      ]
     },
     "execution_count": 15,
     "metadata": {},
     "output_type": "execute_result"
    }
   ],
   "source": [
    "# I'll remove some sequence of data using for loop:\n",
    "for i in range(4,11):  # 11 is not included.\n",
    "    s1.remove(i)\n",
    "s1"
   ]
  },
  {
   "cell_type": "markdown",
   "id": "60210eb8",
   "metadata": {},
   "source": [
    "Type casting:"
   ]
  },
  {
   "cell_type": "code",
   "execution_count": 16,
   "id": "97e63f6c",
   "metadata": {},
   "outputs": [
    {
     "data": {
      "text/plain": [
       "{1, 2, 3, 4, 5, 6}"
      ]
     },
     "execution_count": 16,
     "metadata": {},
     "output_type": "execute_result"
    }
   ],
   "source": [
    "lst = [1,2,3,4,5,6] # this is list\n",
    "s = set(lst)  # storing list inside set (type casting)\n",
    "s"
   ]
  },
  {
   "cell_type": "code",
   "execution_count": 17,
   "id": "d83d7aaa",
   "metadata": {},
   "outputs": [
    {
     "data": {
      "text/plain": [
       "{1, 2, 3, 4, 5, 6, 7}"
      ]
     },
     "execution_count": 17,
     "metadata": {},
     "output_type": "execute_result"
    }
   ],
   "source": [
    "tup = (1,2,3,4,5,6,7)\n",
    "s1 = set(tup)\n",
    "s1"
   ]
  },
  {
   "cell_type": "markdown",
   "id": "aa9fd6aa",
   "metadata": {},
   "source": [
    "#  04. DICTIONARY : "
   ]
  },
  {
   "cell_type": "code",
   "execution_count": 1,
   "id": "71fb9306",
   "metadata": {},
   "outputs": [
    {
     "data": {
      "text/plain": [
       "dict"
      ]
     },
     "execution_count": 1,
     "metadata": {},
     "output_type": "execute_result"
    }
   ],
   "source": [
    "d = {} # empty dictionary\n",
    "type(d)  # type of d is :  dict means dictionary"
   ]
  },
  {
   "cell_type": "code",
   "execution_count": 2,
   "id": "4c8c20e8",
   "metadata": {},
   "outputs": [
    {
     "data": {
      "text/plain": [
       "{'1': 'vinod', '2': 'sai', '3': 'abhi', '4': 'shreyas'}"
      ]
     },
     "execution_count": 2,
     "metadata": {},
     "output_type": "execute_result"
    }
   ],
   "source": [
    "d = {'1':'vinod', '2':'sai', '3':'abhi', '4':'shreyas'}\n",
    "d"
   ]
  },
  {
   "cell_type": "code",
   "execution_count": 3,
   "id": "d6adfba7",
   "metadata": {},
   "outputs": [
    {
     "data": {
      "text/plain": [
       "{'name': 'vinod', 'age': '19', 'friend': 'sai'}"
      ]
     },
     "execution_count": 3,
     "metadata": {},
     "output_type": "execute_result"
    }
   ],
   "source": [
    "d1 = {'name':'vinod','age':'19','friend':'sai'}\n",
    "d1"
   ]
  },
  {
   "cell_type": "code",
   "execution_count": 4,
   "id": "806f38e2",
   "metadata": {},
   "outputs": [
    {
     "data": {
      "text/plain": [
       "{'1': '[1,2,3,4]', '2': '[11,22,33,44]'}"
      ]
     },
     "execution_count": 4,
     "metadata": {},
     "output_type": "execute_result"
    }
   ],
   "source": [
    "# you can use list inside dict for values:\n",
    "d2 = {'1':'[1,2,3,4]', '2':'[11,22,33,44]'}\n",
    "d2"
   ]
  },
  {
   "cell_type": "code",
   "execution_count": 5,
   "id": "aa26d047",
   "metadata": {},
   "outputs": [
    {
     "data": {
      "text/plain": [
       "{1: [1, 2, 3, 4], 2: [11, 22, 33, 44], 3: [111, 222, 333, 444]}"
      ]
     },
     "execution_count": 5,
     "metadata": {},
     "output_type": "execute_result"
    }
   ],
   "source": [
    "#you can acess data without parenthesis for numbers\n",
    "d2 = {1:[1,2,3,4], 2:[11,22,33,44], 3:[111,222,333,444]}\n",
    "d2"
   ]
  },
  {
   "cell_type": "markdown",
   "id": "ef4e7307",
   "metadata": {},
   "source": [
    "# add into dict: "
   ]
  },
  {
   "cell_type": "code",
   "execution_count": 1,
   "id": "8e9e542d",
   "metadata": {},
   "outputs": [
    {
     "data": {
      "text/plain": [
       "{}"
      ]
     },
     "execution_count": 1,
     "metadata": {},
     "output_type": "execute_result"
    }
   ],
   "source": [
    "d = {} # an empty dict\n",
    "d"
   ]
  },
  {
   "cell_type": "code",
   "execution_count": 2,
   "id": "393a1117",
   "metadata": {},
   "outputs": [
    {
     "data": {
      "text/plain": [
       "{'name': 'vinod', 'age': '19', 'friend': 'saikumar'}"
      ]
     },
     "execution_count": 2,
     "metadata": {},
     "output_type": "execute_result"
    }
   ],
   "source": [
    "# adding data into dict:\n",
    "d['name'] = 'vinod'\n",
    "d['age'] = '19'\n",
    "d['friend'] = 'saikumar'\n",
    "\n",
    "d"
   ]
  },
  {
   "cell_type": "code",
   "execution_count": 1,
   "id": "6db5d73c",
   "metadata": {},
   "outputs": [
    {
     "data": {
      "text/plain": [
       "{1: (1, 2, 3, 4),\n",
       " 2: [11, 22, 33, 44],\n",
       " 3: (111, 222, 333, 444),\n",
       " 4: [1111, 2222, 3333, 4444]}"
      ]
     },
     "execution_count": 1,
     "metadata": {},
     "output_type": "execute_result"
    }
   ],
   "source": [
    "# adding data  using tuple and lists:\n",
    "d1 = {}\n",
    "d1[1] = (1,2,3,4)\n",
    "d1[2] = [11,22,33,44]\n",
    "d1[3] = (111,222,333,444)\n",
    "d1[4] = [1111,2222,3333,4444]\n",
    "\n",
    "d1"
   ]
  },
  {
   "cell_type": "markdown",
   "id": "55ace01f",
   "metadata": {},
   "source": [
    "dict.get()"
   ]
  },
  {
   "cell_type": "code",
   "execution_count": 8,
   "id": "7f6e5698",
   "metadata": {},
   "outputs": [
    {
     "data": {
      "text/plain": [
       "(1, 2, 3, 4)"
      ]
     },
     "execution_count": 8,
     "metadata": {},
     "output_type": "execute_result"
    }
   ],
   "source": [
    "d1.get(1) #1 is a key and the output will be values"
   ]
  },
  {
   "cell_type": "code",
   "execution_count": 9,
   "id": "375cd040",
   "metadata": {},
   "outputs": [
    {
     "data": {
      "text/plain": [
       "[11, 22, 33, 44]"
      ]
     },
     "execution_count": 9,
     "metadata": {},
     "output_type": "execute_result"
    }
   ],
   "source": [
    "d1.get(2) # gets the values when you give a key as an argument"
   ]
  },
  {
   "cell_type": "code",
   "execution_count": 10,
   "id": "12d70d24",
   "metadata": {},
   "outputs": [
    {
     "data": {
      "text/plain": [
       "(111, 222, 333, 444)"
      ]
     },
     "execution_count": 10,
     "metadata": {},
     "output_type": "execute_result"
    }
   ],
   "source": [
    "d1.get(3)"
   ]
  },
  {
   "cell_type": "code",
   "execution_count": 11,
   "id": "5cba172f",
   "metadata": {},
   "outputs": [
    {
     "data": {
      "text/plain": [
       "[1111, 2222, 3333, 4444]"
      ]
     },
     "execution_count": 11,
     "metadata": {},
     "output_type": "execute_result"
    }
   ],
   "source": [
    "d1.get(4)"
   ]
  },
  {
   "cell_type": "code",
   "execution_count": 3,
   "id": "14145bfe",
   "metadata": {},
   "outputs": [
    {
     "data": {
      "text/plain": [
       "dict_keys([1, 2, 3, 4])"
      ]
     },
     "execution_count": 3,
     "metadata": {},
     "output_type": "execute_result"
    }
   ],
   "source": [
    "d1.keys() # all the key inside d1"
   ]
  },
  {
   "cell_type": "code",
   "execution_count": 4,
   "id": "98be1e0c",
   "metadata": {},
   "outputs": [
    {
     "data": {
      "text/plain": [
       "dict_values([(1, 2, 3, 4), [11, 22, 33, 44], (111, 222, 333, 444), [1111, 2222, 3333, 4444]])"
      ]
     },
     "execution_count": 4,
     "metadata": {},
     "output_type": "execute_result"
    }
   ],
   "source": [
    "d1.values() # all values inside d1"
   ]
  },
  {
   "cell_type": "code",
   "execution_count": 7,
   "id": "a302716c",
   "metadata": {},
   "outputs": [
    {
     "data": {
      "text/plain": [
       "dict_items([(2, [11, 22, 33, 44]), (3, (111, 222, 333, 444)), (4, [1111, 2222, 3333, 4444])])"
      ]
     },
     "execution_count": 7,
     "metadata": {},
     "output_type": "execute_result"
    }
   ],
   "source": [
    "d1.items() # all data inside d1, key:value format"
   ]
  },
  {
   "cell_type": "code",
   "execution_count": 6,
   "id": "de65052c",
   "metadata": {},
   "outputs": [
    {
     "data": {
      "text/plain": [
       "(1, 2, 3, 4)"
      ]
     },
     "execution_count": 6,
     "metadata": {},
     "output_type": "execute_result"
    }
   ],
   "source": [
    "d1.pop(1) # deletes the data"
   ]
  },
  {
   "cell_type": "markdown",
   "id": "85815304",
   "metadata": {},
   "source": [
    "# 05. Function : "
   ]
  },
  {
   "cell_type": "code",
   "execution_count": 1,
   "id": "587f26a8",
   "metadata": {},
   "outputs": [
    {
     "name": "stdout",
     "output_type": "stream",
     "text": [
      "num is even\n"
     ]
    }
   ],
   "source": [
    "# Noraml code to check number is even or odd : \n",
    "num = 20\n",
    "if num%2 == 0:  #num =20, if 20/2=0 then \n",
    "    print(\"num is even\")  # print this statement.\n",
    "else:\n",
    "    print(\"num is odd\")"
   ]
  },
  {
   "cell_type": "code",
   "execution_count": 2,
   "id": "00f91502",
   "metadata": {},
   "outputs": [
    {
     "name": "stdout",
     "output_type": "stream",
     "text": [
      "num is odd\n"
     ]
    }
   ],
   "source": [
    "num = 25\n",
    "if num%2 == 0:  #num =25, if 25/2=0 then \n",
    "    print(\"num is even\")  # print this statement.\n",
    "else:\n",
    "    print(\"num is odd\")"
   ]
  },
  {
   "cell_type": "markdown",
   "id": "a68c18a9",
   "metadata": {},
   "source": [
    "# Syntax of function(user defined) : "
   ]
  },
  {
   "cell_type": "code",
   "execution_count": null,
   "id": "65c27a67",
   "metadata": {},
   "outputs": [],
   "source": [
    "# syntax of user defined function is :\n",
    "def <function name> :\n",
    "    <code>"
   ]
  },
  {
   "cell_type": "code",
   "execution_count": null,
   "id": "e6059725",
   "metadata": {},
   "outputs": [],
   "source": [
    "# we take above example:\n",
    "def check(num):  # check is a function name which we wre going to call for output.\n",
    "    if num%2 == 0:  # num is an argument(num value) where we provide user input.\n",
    "        print(\"num is even.\")\n",
    "    else:\n",
    "        print(\"num is odd.\")\n",
    "# here the code execute and value is stored."
   ]
  },
  {
   "cell_type": "code",
   "execution_count": 4,
   "id": "0b24d7f0",
   "metadata": {},
   "outputs": [
    {
     "name": "stdout",
     "output_type": "stream",
     "text": [
      "num is odd.\n"
     ]
    }
   ],
   "source": [
    "# We will call the functionwith argument(num value)\n",
    "# for calling <function name(argument)>\n",
    "\n",
    "check(25)  # I have called my function with num = 25"
   ]
  },
  {
   "cell_type": "code",
   "execution_count": 5,
   "id": "77f859de",
   "metadata": {},
   "outputs": [
    {
     "name": "stdout",
     "output_type": "stream",
     "text": [
      "num is even.\n"
     ]
    }
   ],
   "source": [
    "check(2)"
   ]
  },
  {
   "cell_type": "code",
   "execution_count": 6,
   "id": "cb6d5d9a",
   "metadata": {},
   "outputs": [
    {
     "name": "stdout",
     "output_type": "stream",
     "text": [
      "num is odd.\n"
     ]
    }
   ],
   "source": [
    "check(3)"
   ]
  },
  {
   "cell_type": "code",
   "execution_count": 7,
   "id": "eb4cb17c",
   "metadata": {},
   "outputs": [
    {
     "name": "stdout",
     "output_type": "stream",
     "text": [
      "num is even.\n"
     ]
    }
   ],
   "source": [
    "check(4)"
   ]
  },
  {
   "cell_type": "code",
   "execution_count": 8,
   "id": "708fc434",
   "metadata": {},
   "outputs": [],
   "source": [
    "# you can I'm able to print the output, without writing code multiple times\n",
    "# I'm just using my function name."
   ]
  },
  {
   "cell_type": "markdown",
   "id": "966a4056",
   "metadata": {},
   "source": [
    "# We will see the error that we get using of return and print statement"
   ]
  },
  {
   "cell_type": "code",
   "execution_count": 14,
   "id": "b55e6522",
   "metadata": {},
   "outputs": [],
   "source": [
    "# I'll take another function:\n",
    "def my_name(): # no argumrnts\n",
    "    print(\"vinod kumar\")  #executed"
   ]
  },
  {
   "cell_type": "code",
   "execution_count": 2,
   "id": "3316721e",
   "metadata": {},
   "outputs": [
    {
     "name": "stdout",
     "output_type": "stream",
     "text": [
      "vinod kumar\n"
     ]
    }
   ],
   "source": [
    "# I'll call my function:\n",
    "my_name()  # it prints the output"
   ]
  },
  {
   "cell_type": "markdown",
   "id": "7f50e642",
   "metadata": {},
   "source": [
    "understand carefully here:"
   ]
  },
  {
   "cell_type": "code",
   "execution_count": 15,
   "id": "bc76a387",
   "metadata": {},
   "outputs": [
    {
     "name": "stdout",
     "output_type": "stream",
     "text": [
      "vinod kumar\n"
     ]
    }
   ],
   "source": [
    "# if i store my function to a variable :\n",
    "x = my_name() # i stored my function into x"
   ]
  },
  {
   "cell_type": "code",
   "execution_count": 4,
   "id": "d6be589c",
   "metadata": {},
   "outputs": [
    {
     "name": "stdout",
     "output_type": "stream",
     "text": [
      "None\n"
     ]
    }
   ],
   "source": [
    "print(x)  # I'm trying to print my name after storing into x"
   ]
  },
  {
   "cell_type": "markdown",
   "id": "ed330e76",
   "metadata": {},
   "source": [
    "# solving the none type error:"
   ]
  },
  {
   "cell_type": "code",
   "execution_count": 1,
   "id": "b1e36e7f",
   "metadata": {},
   "outputs": [],
   "source": [
    "# same example I'll take : \n",
    "def my_name():\n",
    "    return \"vinod kumar\" # Now I used retutn here\n",
    "# executed "
   ]
  },
  {
   "cell_type": "code",
   "execution_count": 2,
   "id": "6fafc07f",
   "metadata": {},
   "outputs": [],
   "source": [
    "x1 = my_name() # I stored my name into x1"
   ]
  },
  {
   "cell_type": "code",
   "execution_count": 3,
   "id": "1b822efb",
   "metadata": {},
   "outputs": [
    {
     "name": "stdout",
     "output_type": "stream",
     "text": [
      "vinod kumar\n"
     ]
    }
   ],
   "source": [
    "print(x1) # If I print my name, it will able to print my name"
   ]
  },
  {
   "cell_type": "code",
   "execution_count": 4,
   "id": "ba50f046",
   "metadata": {},
   "outputs": [],
   "source": [
    "# another example:\n",
    "def add(num1,num2):\n",
    "    print(num1+num2)"
   ]
  },
  {
   "cell_type": "code",
   "execution_count": 5,
   "id": "24bc015a",
   "metadata": {},
   "outputs": [
    {
     "name": "stdout",
     "output_type": "stream",
     "text": [
      "9\n"
     ]
    }
   ],
   "source": [
    "x = add(5,4) # if i use print here, in this step itself I'm getting my output "
   ]
  },
  {
   "cell_type": "code",
   "execution_count": 6,
   "id": "40583c37",
   "metadata": {},
   "outputs": [
    {
     "name": "stdout",
     "output_type": "stream",
     "text": [
      "None\n"
     ]
    }
   ],
   "source": [
    "print(x) # Here I'm not getting output, because result is already printed above"
   ]
  },
  {
   "cell_type": "code",
   "execution_count": 7,
   "id": "9691a07a",
   "metadata": {},
   "outputs": [],
   "source": [
    "# Let's use return now instead of print:\n",
    "def add1 (num1,num2):\n",
    "    return num1+num2  # returning this result"
   ]
  },
  {
   "cell_type": "code",
   "execution_count": 8,
   "id": "189c946b",
   "metadata": {},
   "outputs": [],
   "source": [
    "v = add1(5,8)  # stored result into v"
   ]
  },
  {
   "cell_type": "code",
   "execution_count": 9,
   "id": "a60f1ee8",
   "metadata": {},
   "outputs": [
    {
     "name": "stdout",
     "output_type": "stream",
     "text": [
      "13\n"
     ]
    }
   ],
   "source": [
    "print(v) # printing the result stored in v."
   ]
  },
  {
   "cell_type": "markdown",
   "id": "84fa3672",
   "metadata": {},
   "source": [
    "# default value arguments:"
   ]
  },
  {
   "cell_type": "code",
   "execution_count": 1,
   "id": "72e94e7c",
   "metadata": {},
   "outputs": [],
   "source": [
    "def bio(name,sex='male'):  # I have passed default value for sex(argument)\n",
    "    return name, sex"
   ]
  },
  {
   "cell_type": "code",
   "execution_count": 2,
   "id": "65b4533a",
   "metadata": {},
   "outputs": [
    {
     "data": {
      "text/plain": [
       "('vinod', 'male')"
      ]
     },
     "execution_count": 2,
     "metadata": {},
     "output_type": "execute_result"
    }
   ],
   "source": [
    "# I'll call my function:\n",
    "bio('vinod') # here I give only one argument, but it will give both the arguments, coz we pass a default argument already"
   ]
  },
  {
   "cell_type": "code",
   "execution_count": 3,
   "id": "61a414fc",
   "metadata": {},
   "outputs": [],
   "source": [
    "# another way of writing a code\n",
    "def bio1(name,sex='male'):  \n",
    "    print(\"my name is \", name, \", my gender is \", sex)"
   ]
  },
  {
   "cell_type": "code",
   "execution_count": 4,
   "id": "f34f0942",
   "metadata": {},
   "outputs": [
    {
     "name": "stdout",
     "output_type": "stream",
     "text": [
      "my name is  vinod , my gender is  male\n"
     ]
    }
   ],
   "source": [
    "bio1('vinod')"
   ]
  },
  {
   "cell_type": "code",
   "execution_count": 5,
   "id": "a3b775ea",
   "metadata": {},
   "outputs": [],
   "source": [
    "# using .format{} for printing an output\n",
    "def bio2(name,sex='male'):   # Here in this scenario name is a positional argument, and sex=male is a keyword argument\n",
    "    print(\"my name is {} and my gender is {}\".format(name,sex))"
   ]
  },
  {
   "cell_type": "code",
   "execution_count": 6,
   "id": "e716c78a",
   "metadata": {},
   "outputs": [
    {
     "name": "stdout",
     "output_type": "stream",
     "text": [
      "my name is vinod and my gender is male\n"
     ]
    }
   ],
   "source": [
    "bio2('vinod')"
   ]
  },
  {
   "cell_type": "code",
   "execution_count": 7,
   "id": "e8612adc",
   "metadata": {},
   "outputs": [],
   "source": [
    "# What if I remove default argument and give only one argument\n",
    "def bio3(name,sex): # I didn't pass any default argument here\n",
    "    return name, sex"
   ]
  },
  {
   "cell_type": "code",
   "execution_count": 8,
   "id": "b01dde68",
   "metadata": {},
   "outputs": [
    {
     "ename": "TypeError",
     "evalue": "bio3() missing 1 required positional argument: 'sex'",
     "output_type": "error",
     "traceback": [
      "\u001b[1;31m-----------------------------------------------------------------\u001b[0m",
      "\u001b[1;31mTypeError\u001b[0m                       Traceback (most recent call last)",
      "Input \u001b[1;32mIn [8]\u001b[0m, in \u001b[0;36m<cell line: 1>\u001b[1;34m()\u001b[0m\n\u001b[1;32m----> 1\u001b[0m \u001b[43mbio3\u001b[49m\u001b[43m(\u001b[49m\u001b[38;5;124;43m'\u001b[39;49m\u001b[38;5;124;43mvinod\u001b[39;49m\u001b[38;5;124;43m'\u001b[39;49m\u001b[43m)\u001b[49m\n",
      "\u001b[1;31mTypeError\u001b[0m: bio3() missing 1 required positional argument: 'sex'"
     ]
    }
   ],
   "source": [
    "bio3('vinod') # previously I gave inly on argument and I executed, it will able to print bio\n",
    "# Now it gives error because here I didn't give any default argument and I'm giving only one value"
   ]
  },
  {
   "cell_type": "code",
   "execution_count": 9,
   "id": "6884ddd9",
   "metadata": {},
   "outputs": [
    {
     "data": {
      "text/plain": [
       "('vinod', 'male')"
      ]
     },
     "execution_count": 9,
     "metadata": {},
     "output_type": "execute_result"
    }
   ],
   "source": [
    "# let me try to give two values here\n",
    "bio3('vinod', 'male') # Now I'm able to get output after giving two values/arguments"
   ]
  },
  {
   "cell_type": "markdown",
   "id": "846fd634",
   "metadata": {},
   "source": [
    "# using *args and **kwargs :"
   ]
  },
  {
   "cell_type": "code",
   "execution_count": 1,
   "id": "88496a0a",
   "metadata": {},
   "outputs": [],
   "source": [
    "# using *args :\n",
    "def func(*args): # I'm passing argument as *args\n",
    "    print(*args) # I want to print *args(what all data I passed into *args)"
   ]
  },
  {
   "cell_type": "code",
   "execution_count": 2,
   "id": "90ba31df",
   "metadata": {},
   "outputs": [
    {
     "name": "stdout",
     "output_type": "stream",
     "text": [
      "vinod sai 1 2 3 4 abhi shreyas (1, 2, 3, 4) [11, 22, 33, 44, 55, 66]\n"
     ]
    }
   ],
   "source": [
    "func('vinod','sai',1,2,3,4,'abhi','shreyas',(1,2,3,4),[11,22,33,44,55,66])\n",
    "# I used different data list, strings, numbers"
   ]
  },
  {
   "cell_type": "code",
   "execution_count": 3,
   "id": "78e4322c",
   "metadata": {},
   "outputs": [],
   "source": [
    "def func1(*a): # it is not madatory of using a word \"args\", if you use * it will get to know that it is *args.\n",
    "    print(*a)\n",
    "# But it's better to use *args so that others can understand easily your passing infinite args"
   ]
  },
  {
   "cell_type": "code",
   "execution_count": 4,
   "id": "7a831914",
   "metadata": {},
   "outputs": [
    {
     "name": "stdout",
     "output_type": "stream",
     "text": [
      "vinod abhi shreyas (1, 2, 3, 4) [11, 22, 33, 44] {444, 333, 222, 111}\n"
     ]
    }
   ],
   "source": [
    "func1('vinod','abhi','shreyas',(1,2,3,4),[11,22,33,44],{111,222,333,444})"
   ]
  },
  {
   "cell_type": "code",
   "execution_count": 5,
   "id": "31c737bf",
   "metadata": {},
   "outputs": [],
   "source": [
    "def adder(*num): \n",
    "    sum = 0  # initializing sum value starts with 0\n",
    "    \n",
    "    for i in num:   # for data in that we give inside num\n",
    "        sum = sum + i   # for every iteration output will be the sum value\n",
    "                        # if 1st output is 1, then sum + i(next data) = sum -> 1+2=3,\n",
    "                        #the 2nd output is 3, then sum + i(next data) = sum -> 3+3=6\n",
    "    print(\"Sum:\",sum)\n"
   ]
  },
  {
   "cell_type": "code",
   "execution_count": 6,
   "id": "e127efa0",
   "metadata": {},
   "outputs": [
    {
     "name": "stdout",
     "output_type": "stream",
     "text": [
      "Sum: 2\n"
     ]
    }
   ],
   "source": [
    "adder(1,1)"
   ]
  },
  {
   "cell_type": "code",
   "execution_count": 7,
   "id": "5bd1b395",
   "metadata": {},
   "outputs": [
    {
     "name": "stdout",
     "output_type": "stream",
     "text": [
      "Sum: 6\n"
     ]
    }
   ],
   "source": [
    "adder(1,2,3)"
   ]
  },
  {
   "cell_type": "code",
   "execution_count": 8,
   "id": "f6146d39",
   "metadata": {},
   "outputs": [
    {
     "name": "stdout",
     "output_type": "stream",
     "text": [
      "Sum: 21\n"
     ]
    }
   ],
   "source": [
    "adder(1,2,3,4,5,6)"
   ]
  },
  {
   "cell_type": "markdown",
   "id": "448b5706",
   "metadata": {},
   "source": [
    "# using **kwargs :"
   ]
  },
  {
   "cell_type": "code",
   "execution_count": 1,
   "id": "48a04670",
   "metadata": {},
   "outputs": [],
   "source": [
    "def m1(**kwargs):\n",
    "    print(kwargs)"
   ]
  },
  {
   "cell_type": "code",
   "execution_count": 2,
   "id": "a6f668cc",
   "metadata": {},
   "outputs": [
    {
     "name": "stdout",
     "output_type": "stream",
     "text": [
      "{'name': 'vinod', 'age': 20, 'friend': 'sai kumar'}\n"
     ]
    }
   ],
   "source": [
    "m1(name='vinod', age=20, friend='sai kumar') # the 'key' data you don't need to put inside paranthesis\n",
    "                                             # but you need to put 'values'(strings) inside paranthesis \n",
    "    # it will return dict data type"
   ]
  },
  {
   "cell_type": "code",
   "execution_count": 3,
   "id": "ec250500",
   "metadata": {},
   "outputs": [],
   "source": [
    "def f2(**a):  # you store value in 'a'\n",
    "    print(f2) # if you try to print the function, erroe occurs, so print the data, data stored in 'a'"
   ]
  },
  {
   "cell_type": "code",
   "execution_count": 4,
   "id": "8c78bb87",
   "metadata": {},
   "outputs": [
    {
     "name": "stdout",
     "output_type": "stream",
     "text": [
      "<function f2 at 0x0000010C01835C10>\n",
      "None\n"
     ]
    }
   ],
   "source": [
    "print(f2(odd=(1,3,5,7,9), even=(2,4,6,8,10), prime=(1,3,5,7,11)))  #error and None error"
   ]
  },
  {
   "cell_type": "code",
   "execution_count": 5,
   "id": "1b645a18",
   "metadata": {},
   "outputs": [],
   "source": [
    "def f2(**a):  # you want to print the data, data inside **a.\n",
    "    print(a)"
   ]
  },
  {
   "cell_type": "code",
   "execution_count": 6,
   "id": "cc1f89df",
   "metadata": {},
   "outputs": [
    {
     "name": "stdout",
     "output_type": "stream",
     "text": [
      "{'odd': (1, 3, 5, 7, 9), 'even': (2, 4, 6, 8, 10), 'prime': (1, 3, 5, 7, 11)}\n"
     ]
    }
   ],
   "source": [
    "f2(odd=(1,3,5,7,9), even=(2,4,6,8,10), prime=(1,3,5,7,11))# you can add multiple data inside values"
   ]
  },
  {
   "cell_type": "code",
   "execution_count": 7,
   "id": "6661f5c3",
   "metadata": {},
   "outputs": [],
   "source": [
    "def m3(**a):\n",
    "    print(a.items()) # print all items(all data) present in m3(passed data)."
   ]
  },
  {
   "cell_type": "code",
   "execution_count": 8,
   "id": "3dbc289b",
   "metadata": {},
   "outputs": [
    {
     "name": "stdout",
     "output_type": "stream",
     "text": [
      "dict_items([('a', (1, 2, 3)), ('b', (4, 5, 6)), ('c', (7, 8, 9))])\n"
     ]
    }
   ],
   "source": [
    "m3(a=(1,2,3), b=(4,5,6), c=(7,8,9))"
   ]
  },
  {
   "cell_type": "code",
   "execution_count": 9,
   "id": "f0f4252d",
   "metadata": {},
   "outputs": [],
   "source": [
    "def m4(**b):  #you can use print or return any one\n",
    "    return b.values()  # only values will be printed."
   ]
  },
  {
   "cell_type": "code",
   "execution_count": 10,
   "id": "bd85fbdd",
   "metadata": {},
   "outputs": [
    {
     "name": "stdout",
     "output_type": "stream",
     "text": [
      "dict_values([(1, 2, 3), (4, 5, 6), (7, 8, 9)])\n"
     ]
    }
   ],
   "source": [
    "print(m4(a=(1,2,3), b=(4,5,6), c=(7,8,9)))"
   ]
  },
  {
   "cell_type": "code",
   "execution_count": 11,
   "id": "87430bd3",
   "metadata": {},
   "outputs": [],
   "source": [
    "def m5(**c):  \n",
    "    return c.keys()  # all key data will be printed"
   ]
  },
  {
   "cell_type": "code",
   "execution_count": 12,
   "id": "d50714e8",
   "metadata": {},
   "outputs": [
    {
     "data": {
      "text/plain": [
       "dict_keys(['a', 'b', 'c'])"
      ]
     },
     "execution_count": 12,
     "metadata": {},
     "output_type": "execute_result"
    }
   ],
   "source": [
    "m5(a=(1,2,3), b=(4,5,6), c=(7,8,9))"
   ]
  },
  {
   "cell_type": "markdown",
   "id": "946a653a",
   "metadata": {},
   "source": [
    "# both *args and **kwargs"
   ]
  },
  {
   "cell_type": "code",
   "execution_count": 1,
   "id": "16446976",
   "metadata": {},
   "outputs": [],
   "source": [
    "def f1(*a,**b):\n",
    "    return a,b"
   ]
  },
  {
   "cell_type": "code",
   "execution_count": 2,
   "id": "a61f2aa8",
   "metadata": {},
   "outputs": [
    {
     "data": {
      "text/plain": [
       "(('vinod', 'kumar', 'sai'), {'a': 'abhi', 'b': 'shreyas', 'c': 10})"
      ]
     },
     "execution_count": 2,
     "metadata": {},
     "output_type": "execute_result"
    }
   ],
   "source": [
    "f1('vinod','kumar','sai',a='abhi',b='shreyas',c=10) # both positional and keyword arguments"
   ]
  },
  {
   "cell_type": "code",
   "execution_count": 3,
   "id": "0d2cf856",
   "metadata": {},
   "outputs": [],
   "source": [
    "# another way, I'll seperate the data and i want to print the different data types data  \n",
    "lst=[1,2,3,4,5,6,7,8,9,10]\n",
    "dict_args={'a':'vinod','b':'kumar','c':'sai','d':'abhi','e':'shreyas'}"
   ]
  },
  {
   "cell_type": "code",
   "execution_count": 4,
   "id": "f8a72d1f",
   "metadata": {},
   "outputs": [
    {
     "data": {
      "text/plain": [
       "(([1, 2, 3, 4, 5, 6, 7, 8, 9, 10],\n",
       "  {'a': 'vinod', 'b': 'kumar', 'c': 'sai', 'd': 'abhi', 'e': 'shreyas'}),\n",
       " {})"
      ]
     },
     "execution_count": 4,
     "metadata": {},
     "output_type": "execute_result"
    }
   ],
   "source": [
    "f1(lst,dict_args) #If i print the data like this, I'll get combined data, I don't want this"
   ]
  },
  {
   "cell_type": "code",
   "execution_count": 5,
   "id": "25140d50",
   "metadata": {},
   "outputs": [
    {
     "data": {
      "text/plain": [
       "((1, 2, 3, 4, 5, 6, 7, 8, 9, 10),\n",
       " {'a': 'vinod', 'b': 'kumar', 'c': 'sai', 'd': 'abhi', 'e': 'shreyas'})"
      ]
     },
     "execution_count": 5,
     "metadata": {},
     "output_type": "execute_result"
    }
   ],
   "source": [
    "f1(*lst,**dict_args) # I'll give postional args(*) as lst, and keys args(**) as dict_args\n",
    "                     # it will seperate the data, list items seperate and dict items seperate."
   ]
  },
  {
   "cell_type": "code",
   "execution_count": 6,
   "id": "09b3f954",
   "metadata": {},
   "outputs": [],
   "source": [
    "lst=[1,2,3,4,5,6,7,8,9,10]"
   ]
  },
  {
   "cell_type": "code",
   "execution_count": 9,
   "id": "63450d30",
   "metadata": {},
   "outputs": [],
   "source": [
    "# now I want the even and odd numbers that are present inside lst.\n",
    "def even_odd(lst):\n",
    "    for i in lst:\n",
    "        if i%2 == 0:\n",
    "            print(i, \" is even number\")\n",
    "        else :\n",
    "            print(i, ' is odd number')"
   ]
  },
  {
   "cell_type": "code",
   "execution_count": 10,
   "id": "8eed4f54",
   "metadata": {},
   "outputs": [
    {
     "name": "stdout",
     "output_type": "stream",
     "text": [
      "1  is odd number\n",
      "2  is even number\n",
      "3  is odd number\n",
      "4  is even number\n",
      "5  is odd number\n",
      "6  is even number\n",
      "7  is odd number\n",
      "8  is even number\n",
      "9  is odd number\n",
      "10  is even number\n"
     ]
    }
   ],
   "source": [
    "even_odd(lst)"
   ]
  },
  {
   "cell_type": "markdown",
   "id": "50ccd7a2",
   "metadata": {},
   "source": [
    "# 06. Lambda function : "
   ]
  },
  {
   "cell_type": "code",
   "execution_count": 1,
   "id": "5b0d73de",
   "metadata": {},
   "outputs": [],
   "source": [
    "# this is a noraml function :\n",
    "def add(a,b):\n",
    "    return a+b"
   ]
  },
  {
   "cell_type": "code",
   "execution_count": 2,
   "id": "95e28219",
   "metadata": {},
   "outputs": [
    {
     "data": {
      "text/plain": [
       "13"
      ]
     },
     "execution_count": 2,
     "metadata": {},
     "output_type": "execute_result"
    }
   ],
   "source": [
    "# If I call that add function :\n",
    "add(5,8)"
   ]
  },
  {
   "cell_type": "code",
   "execution_count": 3,
   "id": "e5fa70cc",
   "metadata": {},
   "outputs": [],
   "source": [
    "# here I'm passing two numbers and I'm printing my value. I'm able to get my output.\n",
    "# can we simplyify this function to less code \n",
    "# yes, I can simply the code using lambda."
   ]
  },
  {
   "cell_type": "code",
   "execution_count": 1,
   "id": "ace8aebf",
   "metadata": {},
   "outputs": [
    {
     "data": {
      "text/plain": [
       "12"
      ]
     },
     "execution_count": 1,
     "metadata": {},
     "output_type": "execute_result"
    }
   ],
   "source": [
    "# Let's see how to use lambda function : \n",
    "# you will directly name a function and lambda function, argumnets:\n",
    "\n",
    "# syntax :\n",
    "# Lambda arguments : expression\n",
    "\n",
    "addition = lambda a,b : a + b  # add is a function name, lambda keyword, a,b are arguments, a+b is an expression\n",
    "addition(5,7)  # calling my function with two arguments"
   ]
  },
  {
   "cell_type": "code",
   "execution_count": 2,
   "id": "fa867ac9",
   "metadata": {},
   "outputs": [
    {
     "data": {
      "text/plain": [
       "60"
      ]
     },
     "execution_count": 2,
     "metadata": {},
     "output_type": "execute_result"
    }
   ],
   "source": [
    "# I'll call with different numbers:\n",
    "addition(20,40)"
   ]
  },
  {
   "cell_type": "code",
   "execution_count": 3,
   "id": "380523c8",
   "metadata": {},
   "outputs": [
    {
     "name": "stdout",
     "output_type": "stream",
     "text": [
      "100\n"
     ]
    }
   ],
   "source": [
    "print(addition(40,60))"
   ]
  },
  {
   "cell_type": "code",
   "execution_count": 4,
   "id": "29dd0af6",
   "metadata": {},
   "outputs": [
    {
     "data": {
      "text/plain": [
       "7"
      ]
     },
     "execution_count": 4,
     "metadata": {},
     "output_type": "execute_result"
    }
   ],
   "source": [
    "# you can't perform with multiple expression:\n",
    "ad = lambda a,b,c: a+b*c\n",
    "ad(1,2,3)    #give you error"
   ]
  },
  {
   "cell_type": "code",
   "execution_count": 5,
   "id": "b0a89f0d",
   "metadata": {},
   "outputs": [
    {
     "data": {
      "text/plain": [
       "10"
      ]
     },
     "execution_count": 5,
     "metadata": {},
     "output_type": "execute_result"
    }
   ],
   "source": [
    "# you can perform with many arguments but single expression : \n",
    "addd = lambda a,b,c,d : a+b+c+d\n",
    "addd(1,2,3,4)"
   ]
  },
  {
   "cell_type": "code",
   "execution_count": 6,
   "id": "ee255e85",
   "metadata": {},
   "outputs": [
    {
     "name": "stdout",
     "output_type": "stream",
     "text": [
      "<function <lambda> at 0x000001BE365D5C10>\n"
     ]
    }
   ],
   "source": [
    "print(lambda a,b : a-b)  # You can't do like this, you need to call lambda function first & then print the output"
   ]
  },
  {
   "cell_type": "code",
   "execution_count": 8,
   "id": "e4afece8",
   "metadata": {},
   "outputs": [],
   "source": [
    "evod = lambda a:\"even\" if a%2 == 0 else \"odd\"  #correct way of printing evod"
   ]
  },
  {
   "cell_type": "code",
   "execution_count": 9,
   "id": "d529a969",
   "metadata": {},
   "outputs": [
    {
     "data": {
      "text/plain": [
       "'odd'"
      ]
     },
     "execution_count": 9,
     "metadata": {},
     "output_type": "execute_result"
    }
   ],
   "source": [
    "evod(5)"
   ]
  },
  {
   "cell_type": "code",
   "execution_count": 10,
   "id": "5a490d4b",
   "metadata": {},
   "outputs": [
    {
     "data": {
      "text/plain": [
       "'even'"
      ]
     },
     "execution_count": 10,
     "metadata": {},
     "output_type": "execute_result"
    }
   ],
   "source": [
    "evod(4)"
   ]
  },
  {
   "cell_type": "markdown",
   "id": "910d3ec3",
   "metadata": {},
   "source": [
    "# 07. map function ():"
   ]
  },
  {
   "cell_type": "markdown",
   "id": "e2215080",
   "metadata": {},
   "source": [
    "Syntax of map function()"
   ]
  },
  {
   "cell_type": "code",
   "execution_count": null,
   "id": "811ecee9",
   "metadata": {},
   "outputs": [],
   "source": [
    "map(function, iter)\n",
    "map -> map function\n",
    "function -> function name(user defined)\n",
    "iter -> returns iterator object(int,float,...)"
   ]
  },
  {
   "cell_type": "code",
   "execution_count": 1,
   "id": "9df32f62",
   "metadata": {},
   "outputs": [],
   "source": [
    "lst=[1,2,3,4,5,6,7,8,9,10,11,12,13,14,15,16]  # I have list of numbers"
   ]
  },
  {
   "cell_type": "code",
   "execution_count": 2,
   "id": "d56bd950",
   "metadata": {},
   "outputs": [],
   "source": [
    "# normal function :\n",
    "def evod(lst):\n",
    "    for i in lst:\n",
    "        if i%2 == 0:\n",
    "            print(\"num {} is an even.\" .format(i))\n",
    "        else:\n",
    "            print(\"num {} is an odd.\".format(i))"
   ]
  },
  {
   "cell_type": "code",
   "execution_count": 3,
   "id": "2b299d7a",
   "metadata": {},
   "outputs": [
    {
     "name": "stdout",
     "output_type": "stream",
     "text": [
      "num 1 is an odd.\n",
      "num 2 is an even.\n",
      "num 3 is an odd.\n",
      "num 4 is an even.\n",
      "num 5 is an odd.\n",
      "num 6 is an even.\n",
      "num 7 is an odd.\n",
      "num 8 is an even.\n",
      "num 9 is an odd.\n",
      "num 10 is an even.\n",
      "num 11 is an odd.\n",
      "num 12 is an even.\n",
      "num 13 is an odd.\n",
      "num 14 is an even.\n",
      "num 15 is an odd.\n",
      "num 16 is an even.\n"
     ]
    }
   ],
   "source": [
    "evod(lst) #I'll call my functions using lst argument."
   ]
  },
  {
   "cell_type": "code",
   "execution_count": 4,
   "id": "33ebb54f",
   "metadata": {},
   "outputs": [],
   "source": [
    "# this is a nraml function\n",
    "# Let's see a using map how can we get this output"
   ]
  },
  {
   "cell_type": "code",
   "execution_count": 5,
   "id": "7c08cf48",
   "metadata": {},
   "outputs": [],
   "source": [
    "lst=[1,2,3,4,5,6,7,8,9,10,11,12,13,14,15,16]  # this is the iter."
   ]
  },
  {
   "cell_type": "code",
   "execution_count": 6,
   "id": "44bf04ea",
   "metadata": {},
   "outputs": [],
   "source": [
    "# creating a function :\n",
    "def evod1(lst):\n",
    "    for i in lst:\n",
    "        if i%2 == 0:\n",
    "            print(\"num {} is an even.\" .format(i))\n",
    "        else:\n",
    "            print(\"num {} is an odd.\".format(i))"
   ]
  },
  {
   "cell_type": "code",
   "execution_count": 7,
   "id": "7df674a5",
   "metadata": {},
   "outputs": [
    {
     "data": {
      "text/plain": [
       "<map at 0x1f3d3e3e9d0>"
      ]
     },
     "execution_count": 7,
     "metadata": {},
     "output_type": "execute_result"
    }
   ],
   "source": [
    "# I have already created a function \"evod\"\n",
    "#syntax is : map(fun, iter):\n",
    "\n",
    "map(evod1,lst)"
   ]
  },
  {
   "cell_type": "code",
   "execution_count": 8,
   "id": "5a36cba0",
   "metadata": {},
   "outputs": [
    {
     "data": {
      "text/plain": [
       "list[<map object at 0x000001F3D3EBD130>]"
      ]
     },
     "execution_count": 8,
     "metadata": {},
     "output_type": "execute_result"
    }
   ],
   "source": [
    "#  I'll convert this into list.\n",
    "list[map(evod1,lst)] # you can't use [] to intialize"
   ]
  },
  {
   "cell_type": "code",
   "execution_count": 9,
   "id": "71608f25",
   "metadata": {},
   "outputs": [
    {
     "ename": "TypeError",
     "evalue": "'int' object is not iterable",
     "output_type": "error",
     "traceback": [
      "\u001b[1;31m---------------------------------------------------------------------------\u001b[0m",
      "\u001b[1;31mTypeError\u001b[0m                                 Traceback (most recent call last)",
      "Input \u001b[1;32mIn [9]\u001b[0m, in \u001b[0;36m<cell line: 2>\u001b[1;34m()\u001b[0m\n\u001b[0;32m      1\u001b[0m \u001b[38;5;66;03m# use list()\u001b[39;00m\n\u001b[1;32m----> 2\u001b[0m \u001b[38;5;28;43mlist\u001b[39;49m\u001b[43m(\u001b[49m\u001b[38;5;28;43mmap\u001b[39;49m\u001b[43m(\u001b[49m\u001b[43mevod1\u001b[49m\u001b[43m,\u001b[49m\u001b[43mlst\u001b[49m\u001b[43m)\u001b[49m\u001b[43m)\u001b[49m\n",
      "Input \u001b[1;32mIn [6]\u001b[0m, in \u001b[0;36mevod1\u001b[1;34m(lst)\u001b[0m\n\u001b[0;32m      2\u001b[0m \u001b[38;5;28;01mdef\u001b[39;00m \u001b[38;5;21mevod1\u001b[39m(lst):\n\u001b[1;32m----> 3\u001b[0m     \u001b[38;5;28;01mfor\u001b[39;00m i \u001b[38;5;129;01min\u001b[39;00m lst:\n\u001b[0;32m      4\u001b[0m         \u001b[38;5;28;01mif\u001b[39;00m i\u001b[38;5;241m%\u001b[39m\u001b[38;5;241m2\u001b[39m \u001b[38;5;241m==\u001b[39m \u001b[38;5;241m0\u001b[39m:\n\u001b[0;32m      5\u001b[0m             \u001b[38;5;28mprint\u001b[39m(\u001b[38;5;124m\"\u001b[39m\u001b[38;5;124mnum \u001b[39m\u001b[38;5;132;01m{}\u001b[39;00m\u001b[38;5;124m is an even.\u001b[39m\u001b[38;5;124m\"\u001b[39m \u001b[38;5;241m.\u001b[39mformat(i))\n",
      "\u001b[1;31mTypeError\u001b[0m: 'int' object is not iterable"
     ]
    }
   ],
   "source": [
    "# use list()\n",
    "list(map(evod1,lst)) # I used for loop(iterator) so error"
   ]
  },
  {
   "cell_type": "code",
   "execution_count": 10,
   "id": "9655f4bc",
   "metadata": {},
   "outputs": [],
   "source": [
    "# now I'll remove for loop and if i try i'll able to get output"
   ]
  },
  {
   "cell_type": "code",
   "execution_count": 11,
   "id": "143ed54b",
   "metadata": {},
   "outputs": [],
   "source": [
    "# creating a function :\n",
    "def evod1(num):\n",
    "    if num%2 == 0:\n",
    "        return \"num {} is an even.\" .format(num)\n",
    "    else:\n",
    "        return \"num {} is an odd.\".format(num)"
   ]
  },
  {
   "cell_type": "code",
   "execution_count": 12,
   "id": "79e9b73c",
   "metadata": {},
   "outputs": [],
   "source": [
    "lst=[1,2,3,4,5,6,7,8,9,10,11,12,13,14,15,16] "
   ]
  },
  {
   "cell_type": "code",
   "execution_count": 13,
   "id": "03566a05",
   "metadata": {},
   "outputs": [
    {
     "data": {
      "text/plain": [
       "['num 1 is an odd.',\n",
       " 'num 2 is an even.',\n",
       " 'num 3 is an odd.',\n",
       " 'num 4 is an even.',\n",
       " 'num 5 is an odd.',\n",
       " 'num 6 is an even.',\n",
       " 'num 7 is an odd.',\n",
       " 'num 8 is an even.',\n",
       " 'num 9 is an odd.',\n",
       " 'num 10 is an even.',\n",
       " 'num 11 is an odd.',\n",
       " 'num 12 is an even.',\n",
       " 'num 13 is an odd.',\n",
       " 'num 14 is an even.',\n",
       " 'num 15 is an odd.',\n",
       " 'num 16 is an even.']"
      ]
     },
     "execution_count": 13,
     "metadata": {},
     "output_type": "execute_result"
    }
   ],
   "source": [
    "list(map(evod1,lst))"
   ]
  },
  {
   "cell_type": "code",
   "execution_count": 14,
   "id": "fd114fd6",
   "metadata": {},
   "outputs": [
    {
     "data": {
      "text/plain": [
       "('num 1 is an odd.',\n",
       " 'num 2 is an even.',\n",
       " 'num 3 is an odd.',\n",
       " 'num 4 is an even.',\n",
       " 'num 5 is an odd.',\n",
       " 'num 6 is an even.',\n",
       " 'num 7 is an odd.',\n",
       " 'num 8 is an even.',\n",
       " 'num 9 is an odd.',\n",
       " 'num 10 is an even.',\n",
       " 'num 11 is an odd.',\n",
       " 'num 12 is an even.',\n",
       " 'num 13 is an odd.',\n",
       " 'num 14 is an even.',\n",
       " 'num 15 is an odd.',\n",
       " 'num 16 is an even.')"
      ]
     },
     "execution_count": 14,
     "metadata": {},
     "output_type": "execute_result"
    }
   ],
   "source": [
    "tuple(map(evod1,lst)) # you can use tuple also"
   ]
  },
  {
   "cell_type": "code",
   "execution_count": 15,
   "id": "4fe491ac",
   "metadata": {},
   "outputs": [
    {
     "ename": "SyntaxError",
     "evalue": "invalid syntax (4134114846.py, line 1)",
     "output_type": "error",
     "traceback": [
      "\u001b[1;36m  Input \u001b[1;32mIn [15]\u001b[1;36m\u001b[0m\n\u001b[1;33m    dict{map(evod1,lst)} # but dict gives error\u001b[0m\n\u001b[1;37m        ^\u001b[0m\n\u001b[1;31mSyntaxError\u001b[0m\u001b[1;31m:\u001b[0m invalid syntax\n"
     ]
    }
   ],
   "source": [
    "dict{map(evod1,lst)} # but dict gives error"
   ]
  },
  {
   "cell_type": "code",
   "execution_count": 16,
   "id": "6d52b2d2",
   "metadata": {},
   "outputs": [
    {
     "name": "stdout",
     "output_type": "stream",
     "text": [
      "[2, 4, 6, 8, 10, 12, 14, 16, 18, 20]\n"
     ]
    }
   ],
   "source": [
    "lst=[1,2,3,4,5,6,7,8,9,10]\n",
    "\n",
    "result = map(lambda x: x + x, lst) # x is data inside lst, (1+1, 2+2, 3+3)\n",
    "print(list(result)) # list(output) # return output in list format."
   ]
  },
  {
   "cell_type": "code",
   "execution_count": 17,
   "id": "c14906c3",
   "metadata": {},
   "outputs": [
    {
     "name": "stdout",
     "output_type": "stream",
     "text": [
      "(7, 9, 11, 13, 15)\n"
     ]
    }
   ],
   "source": [
    "fir = [1,2,3,4,5]  # one list\n",
    "fir1 = [6,7,8,9,10]  # second list\n",
    "dump = map (lambda x,y : x+y, fir,fir1)  # calculation add 1st list and 2nd list.\n",
    "print(tuple(dump))  # return output in tuple format"
   ]
  },
  {
   "cell_type": "markdown",
   "id": "7da65499",
   "metadata": {},
   "source": [
    "# 08. Filter function() : "
   ]
  },
  {
   "cell_type": "markdown",
   "id": "33210255",
   "metadata": {},
   "source": [
    "syntax of filter function() : "
   ]
  },
  {
   "cell_type": "code",
   "execution_count": null,
   "id": "a844ac5e",
   "metadata": {},
   "outputs": [],
   "source": [
    "filter(function, sequence)\n",
    "filter -> filter function.\n",
    "function -> function name(user defined/your function name).\n",
    "sequence -> which needs to filter it may be list, tuple, ...(input)."
   ]
  },
  {
   "cell_type": "code",
   "execution_count": 1,
   "id": "4760f26a",
   "metadata": {},
   "outputs": [],
   "source": [
    "lst=['v','i','n','o','d','s','a','i','k','u','m','a','r']  #I'll take a list"
   ]
  },
  {
   "cell_type": "code",
   "execution_count": 2,
   "id": "a3b8085f",
   "metadata": {},
   "outputs": [],
   "source": [
    "# The function which finds vowels in a list\n",
    "def func(lst):\n",
    "    sequence = ['a','e','i','o','u']  # This is the reference to find vowels in list\n",
    "    for i in lst:\n",
    "        if i in sequence:\n",
    "            print('{} : is vowel '.format(i))\n",
    "        else:\n",
    "            print('{} : is not vowel ' .format(i))"
   ]
  },
  {
   "cell_type": "code",
   "execution_count": 3,
   "id": "3d67d973",
   "metadata": {},
   "outputs": [
    {
     "name": "stdout",
     "output_type": "stream",
     "text": [
      "v : is not vowel \n",
      "i : is vowel \n",
      "n : is not vowel \n",
      "o : is vowel \n",
      "d : is not vowel \n",
      "s : is not vowel \n",
      "a : is vowel \n",
      "i : is vowel \n",
      "k : is not vowel \n",
      "u : is vowel \n",
      "m : is not vowel \n",
      "a : is vowel \n",
      "r : is not vowel \n"
     ]
    }
   ],
   "source": [
    "func(lst)"
   ]
  },
  {
   "cell_type": "code",
   "execution_count": 4,
   "id": "ae86931f",
   "metadata": {},
   "outputs": [
    {
     "data": {
      "text/plain": [
       "<filter at 0x24300b44400>"
      ]
     },
     "execution_count": 4,
     "metadata": {},
     "output_type": "execute_result"
    }
   ],
   "source": [
    "filter(func,lst)"
   ]
  },
  {
   "cell_type": "code",
   "execution_count": 5,
   "id": "96932ab2",
   "metadata": {},
   "outputs": [],
   "source": [
    "lst1 = ['vinod', 'sai','kumar','reddy','abhi']"
   ]
  },
  {
   "cell_type": "code",
   "execution_count": 6,
   "id": "5f58a48a",
   "metadata": {},
   "outputs": [],
   "source": [
    "def func(lst):\n",
    "    sequence = ['a','e','i','o','u']  # This is the reference to find vowels in list\n",
    "    for i in lst:\n",
    "        if i in sequence:\n",
    "            print('{} : is vowel '.format(i))\n",
    "        else:\n",
    "            print('{} : is not vowel ' .format(i))"
   ]
  },
  {
   "cell_type": "code",
   "execution_count": 7,
   "id": "4bf63030",
   "metadata": {},
   "outputs": [
    {
     "ename": "NameError",
     "evalue": "name 'func1' is not defined",
     "output_type": "error",
     "traceback": [
      "\u001b[1;31m---------------------------------------------------------------------------\u001b[0m",
      "\u001b[1;31mNameError\u001b[0m                                 Traceback (most recent call last)",
      "Input \u001b[1;32mIn [7]\u001b[0m, in \u001b[0;36m<cell line: 1>\u001b[1;34m()\u001b[0m\n\u001b[1;32m----> 1\u001b[0m \u001b[38;5;28mlist\u001b[39m(\u001b[38;5;28mfilter\u001b[39m(\u001b[43mfunc1\u001b[49m,lst1))\n",
      "\u001b[1;31mNameError\u001b[0m: name 'func1' is not defined"
     ]
    }
   ],
   "source": [
    "list(filter(func1,lst1))"
   ]
  },
  {
   "cell_type": "code",
   "execution_count": 8,
   "id": "54392f5f",
   "metadata": {},
   "outputs": [],
   "source": [
    "lst1 = ['vinod', 'sai','kumar','reddy','abhi']"
   ]
  },
  {
   "cell_type": "code",
   "execution_count": 9,
   "id": "52fc4d14",
   "metadata": {},
   "outputs": [],
   "source": [
    "def func1(i):\n",
    "    sequence = ['a','e','i','o','u']  # This is the reference to find vowels in list\n",
    "    if i in sequence:\n",
    "        print('{} : is vowel '.format(i))\n",
    "    else:\n",
    "        print('{} : is not vowel ' .format(i))"
   ]
  },
  {
   "cell_type": "code",
   "execution_count": 10,
   "id": "8e479197",
   "metadata": {},
   "outputs": [
    {
     "name": "stdout",
     "output_type": "stream",
     "text": [
      "vinod : is not vowel \n",
      "sai : is not vowel \n",
      "kumar : is not vowel \n",
      "reddy : is not vowel \n",
      "abhi : is not vowel \n"
     ]
    },
    {
     "data": {
      "text/plain": [
       "[]"
      ]
     },
     "execution_count": 10,
     "metadata": {},
     "output_type": "execute_result"
    }
   ],
   "source": [
    "list(filter(func1,lst1))  # for loop is removed and it will take word as an item."
   ]
  },
  {
   "cell_type": "code",
   "execution_count": 11,
   "id": "3ae4435d",
   "metadata": {},
   "outputs": [],
   "source": [
    "nums = [1,2,3,4,5,6,7,8,9,10,12,13,14,15,16,17,20]"
   ]
  },
  {
   "cell_type": "code",
   "execution_count": 12,
   "id": "e357446e",
   "metadata": {},
   "outputs": [],
   "source": [
    "# prints the even numbers only from \n",
    "def even(n):\n",
    "    if n%2 == 0:\n",
    "        return True"
   ]
  },
  {
   "cell_type": "code",
   "execution_count": 13,
   "id": "d0e121ac",
   "metadata": {},
   "outputs": [
    {
     "data": {
      "text/plain": [
       "<filter at 0x24300aadb20>"
      ]
     },
     "execution_count": 13,
     "metadata": {},
     "output_type": "execute_result"
    }
   ],
   "source": [
    "filter(even,nums) # lazy loading techniques, store this in a list"
   ]
  },
  {
   "cell_type": "code",
   "execution_count": 14,
   "id": "85dd8862",
   "metadata": {},
   "outputs": [
    {
     "data": {
      "text/plain": [
       "list[<filter object at 0x0000024300AADDF0>]"
      ]
     },
     "execution_count": 14,
     "metadata": {},
     "output_type": "execute_result"
    }
   ],
   "source": [
    "list[filter(even,nums)]  # not like this, not in [ ]"
   ]
  },
  {
   "cell_type": "code",
   "execution_count": 15,
   "id": "166420e4",
   "metadata": {},
   "outputs": [
    {
     "data": {
      "text/plain": [
       "[2, 4, 6, 8, 10, 12, 14, 16, 20]"
      ]
     },
     "execution_count": 15,
     "metadata": {},
     "output_type": "execute_result"
    }
   ],
   "source": [
    "# I said to return which are the values are true(satisfies condition)\n",
    "list(filter(even,nums)) # like this, store in ( )"
   ]
  },
  {
   "cell_type": "code",
   "execution_count": 16,
   "id": "ef50a33b",
   "metadata": {},
   "outputs": [],
   "source": [
    "# for odd numbers\n",
    "def odd(n):\n",
    "    if n%2 != 0:  #( !=0 ) means not equal to zero\n",
    "        return True"
   ]
  },
  {
   "cell_type": "code",
   "execution_count": 17,
   "id": "f73b0a5d",
   "metadata": {},
   "outputs": [
    {
     "data": {
      "text/plain": [
       "[1, 3, 5, 7, 9, 13, 15, 17]"
      ]
     },
     "execution_count": 17,
     "metadata": {},
     "output_type": "execute_result"
    }
   ],
   "source": [
    "list(filter(odd,nums)) # These are the odd numbers from list of numbers."
   ]
  },
  {
   "cell_type": "code",
   "execution_count": 1,
   "id": "a4caf2f1",
   "metadata": {},
   "outputs": [],
   "source": [
    "nums = [1,2,3,4,5,6,7,8,9,10,12,13,14,15,16,17,20]"
   ]
  },
  {
   "cell_type": "code",
   "execution_count": 2,
   "id": "0971a9b0",
   "metadata": {},
   "outputs": [
    {
     "data": {
      "text/plain": [
       "[2, 4, 6, 8, 10, 12, 14, 16, 20]"
      ]
     },
     "execution_count": 2,
     "metadata": {},
     "output_type": "execute_result"
    }
   ],
   "source": [
    "# Let's use lambda() inside filter():\n",
    "list(filter(lambda n : n%2 == 0, nums)) # for even numbers"
   ]
  },
  {
   "cell_type": "code",
   "execution_count": 3,
   "id": "0b5763df",
   "metadata": {},
   "outputs": [
    {
     "data": {
      "text/plain": [
       "[1, 3, 5, 7, 9, 13, 15, 17]"
      ]
     },
     "execution_count": 3,
     "metadata": {},
     "output_type": "execute_result"
    }
   ],
   "source": [
    "list(filter(lambda n : n%2 != 0, nums)) # for odd nubers"
   ]
  },
  {
   "cell_type": "markdown",
   "id": "a2ad2d4f",
   "metadata": {},
   "source": [
    "# true vs false"
   ]
  },
  {
   "cell_type": "code",
   "execution_count": 4,
   "id": "2943f4f1",
   "metadata": {},
   "outputs": [
    {
     "data": {
      "text/plain": [
       "[2, 4, 6, 8, 10, 12, 14, 16, 20]"
      ]
     },
     "execution_count": 4,
     "metadata": {},
     "output_type": "execute_result"
    }
   ],
   "source": [
    "list(filter(lambda n : True if n%2 == 0 else False, nums))  # filter only prints true  values not false values."
   ]
  },
  {
   "cell_type": "markdown",
   "id": "a6a6ce58",
   "metadata": {},
   "source": [
    "# we didn't see false values, Let's use map to check it actually gives false value too or not."
   ]
  },
  {
   "cell_type": "code",
   "execution_count": 5,
   "id": "acb132fd",
   "metadata": {},
   "outputs": [
    {
     "data": {
      "text/plain": [
       "[False,\n",
       " True,\n",
       " False,\n",
       " True,\n",
       " False,\n",
       " True,\n",
       " False,\n",
       " True,\n",
       " False,\n",
       " True,\n",
       " True,\n",
       " False,\n",
       " True,\n",
       " False,\n",
       " True,\n",
       " False,\n",
       " True]"
      ]
     },
     "execution_count": 5,
     "metadata": {},
     "output_type": "execute_result"
    }
   ],
   "source": [
    "list(map(lambda n : True if n%2 == 0 else False, nums))"
   ]
  },
  {
   "cell_type": "markdown",
   "id": "c3411073",
   "metadata": {},
   "source": [
    "# 09. list comprehension : "
   ]
  },
  {
   "cell_type": "code",
   "execution_count": null,
   "id": "c513803a",
   "metadata": {},
   "outputs": [],
   "source": [
    "# syntax of list comprehension :\n",
    "newlist = [expression(element) for element in oldlist if condition]\n",
    "expression -> resulant(i+i,i*i,i-i,i+2).\n",
    "element -> i,j,k,a,b,etc,.\n",
    "for ->for clause\n",
    "if ci=ondition -> if,elif conditions"
   ]
  },
  {
   "cell_type": "code",
   "execution_count": 1,
   "id": "b4d855cf",
   "metadata": {},
   "outputs": [],
   "source": [
    "lst = [1,2,3,4,5,6,7] # I have takena list of numbers."
   ]
  },
  {
   "cell_type": "code",
   "execution_count": 2,
   "id": "31ecee0b",
   "metadata": {},
   "outputs": [],
   "source": [
    "def lst_square(lst):\n",
    "    lst1=[]   # I have an empty list.\n",
    "    for i in lst:\n",
    "        lst1.append(i*i)  # I'm appending every number into my empty list as i*i (1*1,2*2,...)\n",
    "    return lst1  # I' returning my lst1"
   ]
  },
  {
   "cell_type": "code",
   "execution_count": 3,
   "id": "70026778",
   "metadata": {},
   "outputs": [
    {
     "data": {
      "text/plain": [
       "[1, 4, 9, 16, 25, 36, 49]"
      ]
     },
     "execution_count": 3,
     "metadata": {},
     "output_type": "execute_result"
    }
   ],
   "source": [
    "# If I call my function lst_square:\n",
    "lst_square(lst) # I'm able to get my output."
   ]
  },
  {
   "cell_type": "code",
   "execution_count": 4,
   "id": "07c14d48",
   "metadata": {},
   "outputs": [],
   "source": [
    "# I want to square only odd numbers then :\n",
    "def lst_square_odd(lst):\n",
    "    lst2=[]\n",
    "    for i in lst:\n",
    "        if i%2 != 0:   # applied conditionthat only odd numbers have to enter into next step\n",
    "            lst2.append(i*i)\n",
    "    return lst2"
   ]
  },
  {
   "cell_type": "code",
   "execution_count": 5,
   "id": "0552fbed",
   "metadata": {},
   "outputs": [
    {
     "data": {
      "text/plain": [
       "[1, 9, 25, 49]"
      ]
     },
     "execution_count": 5,
     "metadata": {},
     "output_type": "execute_result"
    }
   ],
   "source": [
    "# if i call my lst_square_odd :\n",
    "lst_square_odd(lst)"
   ]
  },
  {
   "cell_type": "code",
   "execution_count": 1,
   "id": "8965466b",
   "metadata": {},
   "outputs": [],
   "source": [
    "lst = [1,2,3,4,5,6,7] # I have taken a list of numbers."
   ]
  },
  {
   "cell_type": "code",
   "execution_count": 2,
   "id": "56bfdb4b",
   "metadata": {},
   "outputs": [],
   "source": [
    "# using list comprehensiion method for above example :\n",
    "\n",
    "def lst_square1(lst):\n",
    "    a = [i*i for i in lst]  # i just written 1 line for calculation.\n",
    "    return a"
   ]
  },
  {
   "cell_type": "code",
   "execution_count": 3,
   "id": "7b8bc9ff",
   "metadata": {},
   "outputs": [
    {
     "data": {
      "text/plain": [
       "[1, 4, 9, 16, 25, 36, 49]"
      ]
     },
     "execution_count": 3,
     "metadata": {},
     "output_type": "execute_result"
    }
   ],
   "source": [
    "lst_square1(lst)"
   ]
  },
  {
   "cell_type": "code",
   "execution_count": 4,
   "id": "be40e5dd",
   "metadata": {},
   "outputs": [],
   "source": [
    "# what if i want to print only even numbers : \n",
    "\n",
    "def lst_square1_even(lst):\n",
    "    b = [i*i for i in lst if i%2 == 0]\n",
    "    return b"
   ]
  },
  {
   "cell_type": "code",
   "execution_count": 5,
   "id": "d7dbba7a",
   "metadata": {},
   "outputs": [
    {
     "data": {
      "text/plain": [
       "[4, 16, 36]"
      ]
     },
     "execution_count": 5,
     "metadata": {},
     "output_type": "execute_result"
    }
   ],
   "source": [
    "lst_square1_even(lst)"
   ]
  },
  {
   "cell_type": "code",
   "execution_count": 6,
   "id": "73ba41fa",
   "metadata": {},
   "outputs": [],
   "source": [
    "# i'll use range function and with different oparetion :\n",
    "def dd():\n",
    "    c = [i for i in range(10)]  # print range of 0 to 10 indexes numbers\n",
    "    return c"
   ]
  },
  {
   "cell_type": "code",
   "execution_count": 7,
   "id": "25f48644",
   "metadata": {},
   "outputs": [
    {
     "data": {
      "text/plain": [
       "[0, 1, 2, 3, 4, 5, 6, 7, 8, 9]"
      ]
     },
     "execution_count": 7,
     "metadata": {},
     "output_type": "execute_result"
    }
   ],
   "source": [
    "dd()"
   ]
  },
  {
   "cell_type": "code",
   "execution_count": 2,
   "id": "ab7e7b70",
   "metadata": {},
   "outputs": [],
   "source": [
    "# printing list of numbers as [i+i]\n",
    "\n",
    "def fun(lst):\n",
    "    a = [i+1 for i in lst] \n",
    "    return a"
   ]
  },
  {
   "cell_type": "code",
   "execution_count": 3,
   "id": "c0bfc90a",
   "metadata": {},
   "outputs": [
    {
     "data": {
      "text/plain": [
       "[2, 3, 4, 5, 6, 7, 8]"
      ]
     },
     "execution_count": 3,
     "metadata": {},
     "output_type": "execute_result"
    }
   ],
   "source": [
    "fun(lst)"
   ]
  },
  {
   "cell_type": "code",
   "execution_count": 4,
   "id": "a4d2a3ad",
   "metadata": {},
   "outputs": [
    {
     "name": "stdout",
     "output_type": "stream",
     "text": [
      "[[0, 1, 2, 3], [0, 1, 2, 3], [0, 1, 2, 3]]\n"
     ]
    }
   ],
   "source": [
    "# normal function to print matrix of elements: \n",
    "\n",
    "matrix = []\n",
    " \n",
    "for i in range(3):\n",
    " \n",
    "    # Append an empty sublist inside the list\n",
    "    matrix.append([])\n",
    " \n",
    "    for j in range(4):\n",
    "        matrix[i].append(j)\n",
    " \n",
    "print(matrix)"
   ]
  },
  {
   "cell_type": "code",
   "execution_count": 5,
   "id": "bccf9f9e",
   "metadata": {},
   "outputs": [
    {
     "name": "stdout",
     "output_type": "stream",
     "text": [
      "[[0, 1, 2, 3], [0, 1, 2, 3], [0, 1, 2, 3]]\n"
     ]
    }
   ],
   "source": [
    "# above eg using list comprehension : \n",
    "\n",
    "# Nested list comprehension\n",
    "matrix = [[j for j in range(4)] for i in range(3)] # 3 is how many times, 4 is how many indexes\n",
    " \n",
    "print(matrix)\n"
   ]
  },
  {
   "cell_type": "markdown",
   "id": "5844fa13",
   "metadata": {},
   "source": [
    "# 10. Dictionary comprehension : "
   ]
  },
  {
   "cell_type": "code",
   "execution_count": null,
   "id": "3051c69f",
   "metadata": {},
   "outputs": [],
   "source": [
    "# I'll take keys and values as a seperate data : \n",
    "\n",
    "keys = ['a','b','c','d']\n",
    "values = ['vinod', 'sai', 'abhi', 'shreyas']\n",
    "\n",
    "# I'll apply for loop in a comprehension method,\n",
    "#I'll use zip function here \n",
    "\n",
    "output = { k:v for (k, v) in zip(keys,values) }  # k and v is a variable name for keys and values.\n",
    "print(output)"
   ]
  },
  {
   "cell_type": "code",
   "execution_count": 3,
   "id": "fe06bb7a",
   "metadata": {},
   "outputs": [
    {
     "name": "stdout",
     "output_type": "stream",
     "text": [
      "{1: 1, 2: 4, 3: 9, 4: 16, 5: 25, 6: 36, 7: 49, 8: 64, 9: 81, 10: 100}\n"
     ]
    }
   ],
   "source": [
    "# you can use range function inside a dictionary : \n",
    "# This is a square of numbers :\n",
    "\n",
    "square = {i : i * i for i in range(1,11)}\n",
    "print(square)"
   ]
  },
  {
   "cell_type": "code",
   "execution_count": 4,
   "id": "47bebeac",
   "metadata": {},
   "outputs": [
    {
     "name": "stdout",
     "output_type": "stream",
     "text": [
      "{1: 2, 2: 4, 3: 6, 4: 8, 5: 10, 6: 12, 7: 14, 8: 16, 9: 18, 10: 20}\n"
     ]
    }
   ],
   "source": [
    "add = {x : x + x for x in range(1,11)}\n",
    "print(add)"
   ]
  },
  {
   "cell_type": "code",
   "execution_count": 7,
   "id": "4094e9c9",
   "metadata": {},
   "outputs": [
    {
     "name": "stdout",
     "output_type": "stream",
     "text": [
      "{1: 'odd', 2: 'even', 3: 'odd', 4: 'even', 5: 'odd', 6: 'even', 7: 'odd', 8: 'even', 9: 'odd'}\n"
     ]
    }
   ],
   "source": [
    "odd_even = {s : 'even' if s%2 == 0 else 'odd' for s in range(1,10)}\n",
    "print(odd_even)"
   ]
  },
  {
   "cell_type": "markdown",
   "id": "49c38180",
   "metadata": {},
   "source": [
    "# 11. Set comprehension : "
   ]
  },
  {
   "cell_type": "code",
   "execution_count": 1,
   "id": "131013f2",
   "metadata": {},
   "outputs": [
    {
     "name": "stdout",
     "output_type": "stream",
     "text": [
      "{1, 2, 3, 4, 5, 6, 7, 8, 9, 10}\n"
     ]
    }
   ],
   "source": [
    "s = {i for i in range(1,11)}  # I wanted a numbers fom 1 to 11 in set format\n",
    "print(s)"
   ]
  },
  {
   "cell_type": "code",
   "execution_count": 2,
   "id": "447d1a35",
   "metadata": {},
   "outputs": [
    {
     "data": {
      "text/plain": [
       "set"
      ]
     },
     "execution_count": 2,
     "metadata": {},
     "output_type": "execute_result"
    }
   ],
   "source": [
    "type(s) # so the type of S is set."
   ]
  },
  {
   "cell_type": "code",
   "execution_count": 3,
   "id": "5e09f00d",
   "metadata": {},
   "outputs": [
    {
     "data": {
      "text/plain": [
       "{1: 'odd ',\n",
       " 2: 'even ',\n",
       " 3: 'odd ',\n",
       " 4: 'even ',\n",
       " 5: 'odd ',\n",
       " 6: 'even ',\n",
       " 7: 'odd ',\n",
       " 8: 'even ',\n",
       " 9: 'odd '}"
      ]
     },
     "execution_count": 3,
     "metadata": {},
     "output_type": "execute_result"
    }
   ],
   "source": [
    "x = [1,2,3,4,5,6,7,8,9]\n",
    "{i : 'even ' if i%2 == 0 else \"odd \" for i in x  }"
   ]
  },
  {
   "cell_type": "code",
   "execution_count": 4,
   "id": "974e4eb0",
   "metadata": {},
   "outputs": [
    {
     "data": {
      "text/plain": [
       "{1, 4, 9, 16, 25, 36, 49, 64, 81}"
      ]
     },
     "execution_count": 4,
     "metadata": {},
     "output_type": "execute_result"
    }
   ],
   "source": [
    "v = [1,2,3,4,5,6,7,8,9]\n",
    "{i*i for i in v}  # prints square root of each number inside a list"
   ]
  },
  {
   "cell_type": "code",
   "execution_count": 5,
   "id": "1c33cdbd",
   "metadata": {},
   "outputs": [
    {
     "data": {
      "text/plain": [
       "{1, 4, 9, 16, 25, 36, 49}"
      ]
     },
     "execution_count": 5,
     "metadata": {},
     "output_type": "execute_result"
    }
   ],
   "source": [
    "def fun(lst):  # create a function\n",
    "    d = {i*i for i in lst}   # stored the ouput into d\n",
    "    return d   # calling d \n",
    "\n",
    "# passing data into function :\n",
    "fun([1,2,3,4,5,6,7])  # function_name(argument)"
   ]
  },
  {
   "cell_type": "code",
   "execution_count": 6,
   "id": "d4868fa6",
   "metadata": {},
   "outputs": [
    {
     "data": {
      "text/plain": [
       "{11: 'odd ',\n",
       " 12: 'even ',\n",
       " 13: 'odd ',\n",
       " 14: 'even ',\n",
       " 15: 'odd ',\n",
       " 16: 'even ',\n",
       " 17: 'odd ',\n",
       " 18: 'even ',\n",
       " 19: 'odd ',\n",
       " 20: 'even '}"
      ]
     },
     "execution_count": 6,
     "metadata": {},
     "output_type": "execute_result"
    }
   ],
   "source": [
    "def even_odd(lst):\n",
    "    v = {i : 'even ' if i%2 == 0 else \"odd \" for i in lst  }\n",
    "    return v\n",
    "\n",
    " # passing data into function\n",
    "even_odd([11,12,13,14,15,16,17,18,19,20])"
   ]
  },
  {
   "cell_type": "markdown",
   "id": "1bb4b825",
   "metadata": {},
   "source": [
    "# 12. ITERATOR VS ITERABLE : "
   ]
  },
  {
   "cell_type": "code",
   "execution_count": 11,
   "id": "5b17d4a6",
   "metadata": {},
   "outputs": [
    {
     "name": "stdout",
     "output_type": "stream",
     "text": [
      "v\n",
      "i\n",
      "n\n",
      "o\n",
      "d\n"
     ]
    }
   ],
   "source": [
    "# i think you will able to undertand \n",
    "\n",
    "a = 'vinod'\n",
    "for i in a:\n",
    "    print(i) \n",
    "\n",
    " # it will give output coz string can store pne after another location."
   ]
  },
  {
   "cell_type": "code",
   "execution_count": 12,
   "id": "68c09194",
   "metadata": {},
   "outputs": [
    {
     "ename": "TypeError",
     "evalue": "'int' object is not iterable",
     "output_type": "error",
     "traceback": [
      "\u001b[1;31m---------------------------------------------------------------------------\u001b[0m",
      "\u001b[1;31mTypeError\u001b[0m                                 Traceback (most recent call last)",
      "Input \u001b[1;32mIn [12]\u001b[0m, in \u001b[0;36m<cell line: 4>\u001b[1;34m()\u001b[0m\n\u001b[0;32m      1\u001b[0m \u001b[38;5;66;03m# now when it comes to number , it will raise an error \u001b[39;00m\n\u001b[0;32m      3\u001b[0m b \u001b[38;5;241m=\u001b[39m \u001b[38;5;241m2022\u001b[39m\n\u001b[1;32m----> 4\u001b[0m \u001b[38;5;28;01mfor\u001b[39;00m i \u001b[38;5;129;01min\u001b[39;00m b:\n\u001b[0;32m      5\u001b[0m     \u001b[38;5;28mprint\u001b[39m(i)\n",
      "\u001b[1;31mTypeError\u001b[0m: 'int' object is not iterable"
     ]
    }
   ],
   "source": [
    "# now when it comes to number , it will raise an error \n",
    "\n",
    "b = 2022\n",
    "for i in b:\n",
    "    print(i)  \n",
    "    \n",
    "# becoz when yyou want to store the number , you will store in one position, you can't store 2002 as 2,0,2,2"
   ]
  },
  {
   "cell_type": "code",
   "execution_count": 14,
   "id": "2ffda034",
   "metadata": {},
   "outputs": [
    {
     "name": "stdout",
     "output_type": "stream",
     "text": [
      "s\n",
      "a\n",
      "i\n",
      " \n",
      "k\n",
      "u\n",
      "m\n",
      "a\n",
      "r\n"
     ]
    }
   ],
   "source": [
    "c = 'sai kumar'\n",
    "for i in c:\n",
    "    print(i)\n",
    "    \n",
    "# but you can store the string as a s,a,i, ,k,u,m,a,r"
   ]
  },
  {
   "cell_type": "code",
   "execution_count": 23,
   "id": "711a40ed",
   "metadata": {},
   "outputs": [
    {
     "name": "stdout",
     "output_type": "stream",
     "text": [
      "list iterable are :  1\n",
      "list iterable are :  2\n",
      "list iterable are :  3\n",
      "list iterable are :  4\n",
      "list iterable are :  5\n",
      "list iterable are :  6\n",
      "***********\n",
      "set iterables are :  33\n",
      "set iterables are :  66\n",
      "set iterables are :  11\n",
      "set iterables are :  44\n",
      "set iterables are :  22\n",
      "set iterables are :  55\n",
      "***********\n",
      "dict iterables are :  a\n",
      "dict iterables are :  b\n"
     ]
    }
   ],
   "source": [
    "# you can use list, tuple, dict as well\n",
    "\n",
    "a1 = [1,2,3,4,5,6]\n",
    "for i in a1:\n",
    "    print('list iterable are : ',i)\n",
    "    \n",
    "print('***********')\n",
    "    \n",
    "a2 = set((11,22,33,44,55,66))\n",
    "for i in a2:\n",
    "    print('set iterables are : ',i)\n",
    "    \n",
    "print('***********')\n",
    "    \n",
    "a3 = {'a' : 'vinod' , 'b' : 'sai'}\n",
    "for i in a3:\n",
    "      print('dict iterables are : ',i)"
   ]
  },
  {
   "cell_type": "code",
   "execution_count": 28,
   "id": "d3ca23f8",
   "metadata": {},
   "outputs": [
    {
     "data": {
      "text/plain": [
       "'v'"
      ]
     },
     "execution_count": 28,
     "metadata": {},
     "output_type": "execute_result"
    }
   ],
   "source": [
    "# first we store our value in a, then we apply iter function\n",
    "\n",
    "a = 'vinod'\n",
    "b = iter(a)  # iter through a\n",
    "next(b)  # print the every next word in a"
   ]
  },
  {
   "cell_type": "code",
   "execution_count": 30,
   "id": "2ccb841d",
   "metadata": {},
   "outputs": [
    {
     "data": {
      "text/plain": [
       "'i'"
      ]
     },
     "execution_count": 30,
     "metadata": {},
     "output_type": "execute_result"
    }
   ],
   "source": [
    "# v is printed, the next is i\n",
    "\n",
    "next(b)"
   ]
  },
  {
   "cell_type": "code",
   "execution_count": 31,
   "id": "bfc497b1",
   "metadata": {},
   "outputs": [
    {
     "data": {
      "text/plain": [
       "'n'"
      ]
     },
     "execution_count": 31,
     "metadata": {},
     "output_type": "execute_result"
    }
   ],
   "source": [
    "# next is n\n",
    "\n",
    "next(b)"
   ]
  },
  {
   "cell_type": "code",
   "execution_count": 32,
   "id": "25141023",
   "metadata": {},
   "outputs": [
    {
     "data": {
      "text/plain": [
       "'o'"
      ]
     },
     "execution_count": 32,
     "metadata": {},
     "output_type": "execute_result"
    }
   ],
   "source": [
    "next(b)"
   ]
  },
  {
   "cell_type": "code",
   "execution_count": 33,
   "id": "5ffaee7a",
   "metadata": {},
   "outputs": [
    {
     "data": {
      "text/plain": [
       "'d'"
      ]
     },
     "execution_count": 33,
     "metadata": {},
     "output_type": "execute_result"
    }
   ],
   "source": [
    "next(b)"
   ]
  },
  {
   "cell_type": "code",
   "execution_count": 42,
   "id": "2ddac41f",
   "metadata": {},
   "outputs": [
    {
     "name": "stdout",
     "output_type": "stream",
     "text": [
      "v\n",
      "i\n",
      "n\n",
      "o\n",
      "d\n"
     ]
    },
    {
     "ename": "StopIteration",
     "evalue": "",
     "output_type": "error",
     "traceback": [
      "\u001b[1;31m---------------------------------------------------------------------------\u001b[0m",
      "\u001b[1;31mStopIteration\u001b[0m                             Traceback (most recent call last)",
      "Input \u001b[1;32mIn [42]\u001b[0m, in \u001b[0;36m<cell line: 5>\u001b[1;34m()\u001b[0m\n\u001b[0;32m      2\u001b[0m iterable_obj \u001b[38;5;241m=\u001b[39m \u001b[38;5;28miter\u001b[39m(iterable_value)\n\u001b[0;32m      4\u001b[0m \u001b[38;5;28;01mwhile\u001b[39;00m \u001b[38;5;28;01mTrue\u001b[39;00m : \n\u001b[1;32m----> 5\u001b[0m     item \u001b[38;5;241m=\u001b[39m \u001b[38;5;28;43mnext\u001b[39;49m\u001b[43m(\u001b[49m\u001b[43miterable_obj\u001b[49m\u001b[43m)\u001b[49m\n\u001b[0;32m      6\u001b[0m     \u001b[38;5;28mprint\u001b[39m(item)\n",
      "\u001b[1;31mStopIteration\u001b[0m: "
     ]
    }
   ],
   "source": [
    "iterable_value = 'vinod'\n",
    "iterable_obj = iter(iterable_value)\n",
    "\n",
    "while True : \n",
    "    item = next(iterable_obj)\n",
    "    print(item)\n",
    "    \n",
    "# the error means iteration stopped\n",
    "# I'll use exception handling for not raising this error, this concept not done yet, we will see."
   ]
  },
  {
   "cell_type": "code",
   "execution_count": 47,
   "id": "f535189f",
   "metadata": {},
   "outputs": [
    {
     "name": "stdout",
     "output_type": "stream",
     "text": [
      "v\n",
      "i\n",
      "n\n",
      "o\n",
      "d\n"
     ]
    }
   ],
   "source": [
    "iterable_value = 'vinod'\n",
    "iterable_obj = iter(iterable_value)\n",
    "\n",
    "while True : \n",
    "    try : \n",
    "        item = next(iterable_obj)\n",
    "        print(item)\n",
    "    except StopIteration:\n",
    "        break"
   ]
  },
  {
   "cell_type": "markdown",
   "id": "7dd76191",
   "metadata": {},
   "source": [
    "# 13. iterable vs generator "
   ]
  },
  {
   "cell_type": "code",
   "execution_count": 51,
   "id": "01bc7144",
   "metadata": {},
   "outputs": [
    {
     "name": "stdout",
     "output_type": "stream",
     "text": [
      "1\n",
      "2\n",
      "3\n",
      "4\n",
      "5\n",
      "6\n"
     ]
    }
   ],
   "source": [
    "def fun1():\n",
    "    yield 1\n",
    "    yield 2\n",
    "    yield 3\n",
    "    yield 4\n",
    "    yield 5\n",
    "    yield 6\n",
    "    \n",
    "for i in fun1():\n",
    "    print(i)"
   ]
  },
  {
   "cell_type": "code",
   "execution_count": 56,
   "id": "6c5facbf",
   "metadata": {},
   "outputs": [
    {
     "ename": "AttributeError",
     "evalue": "'generator' object has no attribute 'next'",
     "output_type": "error",
     "traceback": [
      "\u001b[1;31m---------------------------------------------------------------------------\u001b[0m",
      "\u001b[1;31mAttributeError\u001b[0m                            Traceback (most recent call last)",
      "Input \u001b[1;32mIn [56]\u001b[0m, in \u001b[0;36m<cell line: 17>\u001b[1;34m()\u001b[0m\n\u001b[0;32m     15\u001b[0m x \u001b[38;5;241m=\u001b[39m fun2()\n\u001b[0;32m     16\u001b[0m \u001b[38;5;66;03m# I'll use next function to print every data:\u001b[39;00m\n\u001b[1;32m---> 17\u001b[0m \u001b[38;5;28mprint\u001b[39m(\u001b[43mx\u001b[49m\u001b[38;5;241;43m.\u001b[39;49m\u001b[43mnext\u001b[49m())\n\u001b[0;32m     18\u001b[0m \u001b[38;5;28mprint\u001b[39m(x\u001b[38;5;241m.\u001b[39mnext())\n\u001b[0;32m     19\u001b[0m \u001b[38;5;28mprint\u001b[39m(x\u001b[38;5;241m.\u001b[39mnext())\n",
      "\u001b[1;31mAttributeError\u001b[0m: 'generator' object has no attribute 'next'"
     ]
    }
   ],
   "source": [
    "# using a next() in generators :\n",
    "\n",
    "# I'll store some data in a,b and c:\n",
    "a = [1,2,3,4]\n",
    "b = [5,6,7,8]\n",
    "c = [11,22,33,44,55,66]\n",
    "\n",
    "# I'll create a function which produce values of a, b and c\n",
    "def fun2():\n",
    "    yield a\n",
    "    yield b\n",
    "    yield c\n",
    "    \n",
    "# calling my function :    \n",
    "x = fun2()\n",
    "# I'll use next function to print every data:\n",
    "print(x.next())\n",
    "print(x.next())\n",
    "print(x.next())"
   ]
  },
  {
   "cell_type": "code",
   "execution_count": 53,
   "id": "f01aedce",
   "metadata": {},
   "outputs": [
    {
     "name": "stdout",
     "output_type": "stream",
     "text": [
      "[1, 2, 3, 4]\n",
      "[5, 6, 7, 8]\n",
      "[11, 22, 33, 44, 55, 66]\n"
     ]
    }
   ],
   "source": [
    "# i can use __next__() here to overcome this error:\n",
    "\n",
    "x = fun2()\n",
    "\n",
    "print(x.__next__())\n",
    "print(x.__next__())\n",
    "print(x.__next__())"
   ]
  },
  {
   "cell_type": "code",
   "execution_count": 57,
   "id": "98d72937",
   "metadata": {},
   "outputs": [
    {
     "name": "stdout",
     "output_type": "stream",
     "text": [
      "[1, 2, 3, 4]\n",
      "[5, 6, 7, 8]\n",
      "[11, 22, 33, 44, 55, 66]\n"
     ]
    }
   ],
   "source": [
    "x = fun2()\n",
    "\n",
    "# printing next value of x\n",
    "print(next(x))\n",
    "print(next(x))\n",
    "print(next(x))"
   ]
  },
  {
   "cell_type": "code",
   "execution_count": 50,
   "id": "e028284a",
   "metadata": {},
   "outputs": [
    {
     "name": "stdout",
     "output_type": "stream",
     "text": [
      "1\n",
      "1\n",
      "2\n",
      "3\n",
      "5\n",
      "8\n",
      "13\n"
     ]
    }
   ],
   "source": [
    "# I'll give you a common example of using generator \n",
    "# i.e,  printing a fibonacci series :\n",
    "\n",
    "def genfib(n):\n",
    "    a=1\n",
    "    b=1\n",
    "    for i in range(n):\n",
    "        yield a\n",
    "        a,b = b,a+b\n",
    "        \n",
    "# If you call function directly it give only ocation, not values. So you have to iterate through that function :\n",
    "# you can append every value into list & print the list      \n",
    "x = genfib(7)\n",
    "l = []\n",
    "for i in x:\n",
    "    l.append(i)\n",
    "    print(i)"
   ]
  },
  {
   "cell_type": "code",
   "execution_count": 48,
   "id": "c5ee1f51",
   "metadata": {},
   "outputs": [
    {
     "name": "stdout",
     "output_type": "stream",
     "text": [
      "1\n",
      "1\n",
      "2\n",
      "3\n",
      "5\n",
      "8\n",
      "13\n"
     ]
    }
   ],
   "source": [
    "# or you can directly use loop statement :\n",
    "x = genfib(7)\n",
    "for i in x:\n",
    "    print(i)"
   ]
  },
  {
   "cell_type": "code",
   "execution_count": 60,
   "id": "d121cf2b",
   "metadata": {},
   "outputs": [
    {
     "name": "stdout",
     "output_type": "stream",
     "text": [
      "1\n",
      "1\n",
      "2\n",
      "3\n",
      "5\n",
      "8\n",
      "13\n",
      "21\n",
      "34\n"
     ]
    }
   ],
   "source": [
    "# using iter function in generator :\n",
    "\n",
    "c = genfib(9)\n",
    "x = iter(c)\n",
    "for i in x:\n",
    "    print(i)"
   ]
  },
  {
   "cell_type": "markdown",
   "id": "03d81336",
   "metadata": {},
   "source": [
    "# 14. LOGGING :"
   ]
  },
  {
   "cell_type": "code",
   "execution_count": 1,
   "id": "116032a6",
   "metadata": {},
   "outputs": [],
   "source": [
    "# first import the logging module:\n",
    "\n",
    "import logging as lg\n",
    "\n",
    "# lg is a alias, whenever you want to call logging just call as lg"
   ]
  },
  {
   "cell_type": "code",
   "execution_count": 2,
   "id": "2c6b2c8a",
   "metadata": {},
   "outputs": [],
   "source": [
    "# you need to create a file, you can do manually. I'll create here itself.\n",
    "# for that I'll import os\n",
    "\n",
    "import os"
   ]
  },
  {
   "cell_type": "code",
   "execution_count": 3,
   "id": "fc5b692e",
   "metadata": {},
   "outputs": [
    {
     "data": {
      "text/plain": [
       "'C:\\\\Users\\\\Dell'"
      ]
     },
     "execution_count": 3,
     "metadata": {},
     "output_type": "execute_result"
    }
   ],
   "source": [
    "# check the cwd( current eorking directoy ):\n",
    "\n",
    "os.getcwd()"
   ]
  },
  {
   "cell_type": "code",
   "execution_count": 4,
   "id": "224d6f81",
   "metadata": {},
   "outputs": [],
   "source": [
    "# here I'll create a logging file :\n",
    "\n",
    "os.mkdir(\"logging\")"
   ]
  },
  {
   "cell_type": "code",
   "execution_count": 5,
   "id": "4356fde7",
   "metadata": {},
   "outputs": [],
   "source": [
    "# now let's move into this logging file :\n",
    "\n",
    "os.chdir(os.getcwd() + '/' + 'logging')"
   ]
  },
  {
   "cell_type": "code",
   "execution_count": 6,
   "id": "c06e43ea",
   "metadata": {},
   "outputs": [
    {
     "data": {
      "text/plain": [
       "'C:\\\\Users\\\\Dell\\\\logging'"
      ]
     },
     "execution_count": 6,
     "metadata": {},
     "output_type": "execute_result"
    }
   ],
   "source": [
    "# now we entered inside of logging file :\n",
    "# let's check \n",
    "\n",
    "os.getcwd()"
   ]
  },
  {
   "cell_type": "markdown",
   "id": "33d41822",
   "metadata": {},
   "source": [
    "# creating a logging in local system"
   ]
  },
  {
   "cell_type": "code",
   "execution_count": 7,
   "id": "237202ec",
   "metadata": {},
   "outputs": [],
   "source": [
    "# so for logging module i set alias as lg\n",
    "\n",
    "lg.basicConfig(filename = \"test1.log\" , level = lg.DEBUG, format = '%(asctime)s %(name)s %(levelname)s %(message)s')\n",
    "\n",
    "# lg.basicConfig -> configures the root user and it does basic configuration by creating a strem handler.\n",
    "# level -> This is like a reason, that this file is to debug/information/errors/warnings\n",
    "# format -> This is the format of printing the log info, like time, user_name, leve_name, message, "
   ]
  },
  {
   "cell_type": "code",
   "execution_count": 8,
   "id": "16b466e2",
   "metadata": {},
   "outputs": [],
   "source": [
    "# so above cell is executed that means it created a test1.log file inside a \"logging\" file\n",
    "\n",
    "# I'll just print some data and check if that data is printed on thaat file or not\n",
    "\n",
    "lg.debug(\"----this is a debug statement\")\n",
    "lg.info(\"----this is a info statement\")\n",
    "lg.error(\"----this is a error statement\")\n",
    "lg.warning(\"----this is a warning statement\")"
   ]
  },
  {
   "cell_type": "code",
   "execution_count": 9,
   "id": "8715aefd",
   "metadata": {},
   "outputs": [],
   "source": [
    "# Let me try to do some error\n",
    "# here i'll use exception handling, we will see the topic later, just understand this\n",
    "# try -> tries the code\n",
    "# except -> it will except the error, not raises an error.\n",
    "\n",
    "\n",
    "# I'll create a function :\n",
    "\n",
    "def err(a,b):\n",
    "    \n",
    "    try:\n",
    "        c = a/b\n",
    "    except Exception as e:  # it will exept all exceptions and stored in e\n",
    "        print(\"error is : \",e, \" and you can check in log file also\")  # if error occurs this is printed\n",
    "        lg.error(e)     #lg is a logging module, lg.error(<error is printed inside the log file>)"
   ]
  },
  {
   "cell_type": "code",
   "execution_count": 10,
   "id": "a7ccb188",
   "metadata": {},
   "outputs": [
    {
     "name": "stdout",
     "output_type": "stream",
     "text": [
      "error is :  division by zero  and you can check in log file also\n"
     ]
    }
   ],
   "source": [
    "err(4,0)   # 4/0 is a div by zero error"
   ]
  },
  {
   "cell_type": "code",
   "execution_count": 11,
   "id": "1857bbe3",
   "metadata": {},
   "outputs": [
    {
     "name": "stdout",
     "output_type": "stream",
     "text": [
      "error is :  division by zero  and you can check in log file also\n"
     ]
    }
   ],
   "source": [
    "err(5,0)"
   ]
  },
  {
   "cell_type": "code",
   "execution_count": 12,
   "id": "8c035298",
   "metadata": {},
   "outputs": [
    {
     "name": "stdout",
     "output_type": "stream",
     "text": [
      "error is :  division by zero  and you can check in log file also\n"
     ]
    }
   ],
   "source": [
    "err(1,0)"
   ]
  },
  {
   "cell_type": "markdown",
   "id": "ce5cb2ab",
   "metadata": {},
   "source": [
    "# EXCEPTION HANDLING :"
   ]
  },
  {
   "cell_type": "markdown",
   "id": "bb5a4d45",
   "metadata": {},
   "source": [
    "try - except blocks :"
   ]
  },
  {
   "cell_type": "code",
   "execution_count": 1,
   "id": "e2098fdf",
   "metadata": {},
   "outputs": [],
   "source": [
    "# let's raise an error or let's make some error :\n",
    "\n",
    "def division():\n",
    "    a=4\n",
    "    b=0\n",
    "    c=a/b\n",
    "    print(c)"
   ]
  },
  {
   "cell_type": "code",
   "execution_count": 2,
   "id": "48b49fe4",
   "metadata": {},
   "outputs": [
    {
     "ename": "ZeroDivisionError",
     "evalue": "division by zero",
     "output_type": "error",
     "traceback": [
      "\u001b[1;31m---------------------------------------------------------------------------\u001b[0m",
      "\u001b[1;31mZeroDivisionError\u001b[0m                         Traceback (most recent call last)",
      "Input \u001b[1;32mIn [2]\u001b[0m, in \u001b[0;36m<cell line: 3>\u001b[1;34m()\u001b[0m\n\u001b[0;32m      1\u001b[0m \u001b[38;5;66;03m# call the division function :\u001b[39;00m\n\u001b[1;32m----> 3\u001b[0m \u001b[43mdivision\u001b[49m\u001b[43m(\u001b[49m\u001b[43m)\u001b[49m\n",
      "Input \u001b[1;32mIn [1]\u001b[0m, in \u001b[0;36mdivision\u001b[1;34m()\u001b[0m\n\u001b[0;32m      4\u001b[0m a\u001b[38;5;241m=\u001b[39m\u001b[38;5;241m4\u001b[39m\n\u001b[0;32m      5\u001b[0m b\u001b[38;5;241m=\u001b[39m\u001b[38;5;241m0\u001b[39m\n\u001b[1;32m----> 6\u001b[0m c\u001b[38;5;241m=\u001b[39m\u001b[43ma\u001b[49m\u001b[38;5;241;43m/\u001b[39;49m\u001b[43mb\u001b[49m\n\u001b[0;32m      7\u001b[0m \u001b[38;5;28mprint\u001b[39m(c)\n",
      "\u001b[1;31mZeroDivisionError\u001b[0m: division by zero"
     ]
    }
   ],
   "source": [
    "# call the division function :\n",
    "\n",
    "division()"
   ]
  },
  {
   "cell_type": "markdown",
   "id": "6fb199df",
   "metadata": {},
   "source": [
    "see we have error here, when you want to handle these tyoe of errors, use exception handling."
   ]
  },
  {
   "cell_type": "code",
   "execution_count": 9,
   "id": "1406ef36",
   "metadata": {},
   "outputs": [
    {
     "ename": "IndentationError",
     "evalue": "unexpected unindent (3797543006.py, line 6)",
     "output_type": "error",
     "traceback": [
      "\u001b[1;36m  Input \u001b[1;32mIn [9]\u001b[1;36m\u001b[0m\n\u001b[1;33m    ad()\u001b[0m\n\u001b[1;37m        ^\u001b[0m\n\u001b[1;31mIndentationError\u001b[0m\u001b[1;31m:\u001b[0m unexpected unindent\n"
     ]
    }
   ],
   "source": [
    "def ad():\n",
    "    try:\n",
    "        c = 4/0\n",
    "        print(c)\n",
    "        \n",
    "ad()"
   ]
  },
  {
   "cell_type": "code",
   "execution_count": 10,
   "id": "b5661af6",
   "metadata": {},
   "outputs": [
    {
     "ename": "SyntaxError",
     "evalue": "unexpected EOF while parsing (3551830121.py, line 2)",
     "output_type": "error",
     "traceback": [
      "\u001b[1;36m  Input \u001b[1;32mIn [10]\u001b[1;36m\u001b[0m\n\u001b[1;33m    6/0\u001b[0m\n\u001b[1;37m       ^\u001b[0m\n\u001b[1;31mSyntaxError\u001b[0m\u001b[1;31m:\u001b[0m unexpected EOF while parsing\n"
     ]
    }
   ],
   "source": [
    "try:\n",
    "    6/0"
   ]
  },
  {
   "cell_type": "code",
   "execution_count": 11,
   "id": "6cf971db",
   "metadata": {},
   "outputs": [
    {
     "name": "stdout",
     "output_type": "stream",
     "text": [
      "I got error\n"
     ]
    }
   ],
   "source": [
    "# using try aand except block :\n",
    "\n",
    "try :\n",
    "    4/0\n",
    "except:\n",
    "    print(\"I got error\")"
   ]
  },
  {
   "cell_type": "code",
   "execution_count": 12,
   "id": "951506f5",
   "metadata": {},
   "outputs": [
    {
     "name": "stdout",
     "output_type": "stream",
     "text": [
      "values not defined, so error occured\n"
     ]
    }
   ],
   "source": [
    "try : \n",
    "    A = B + C\n",
    "except :\n",
    "    print(\"values not defined, so error occured\")"
   ]
  },
  {
   "cell_type": "code",
   "execution_count": 13,
   "id": "37287ad3",
   "metadata": {},
   "outputs": [
    {
     "ename": "FileNotFoundError",
     "evalue": "[Errno 2] No such file or directory: 'vin.txt'",
     "output_type": "error",
     "traceback": [
      "\u001b[1;31m---------------------------------------------------------------------------\u001b[0m",
      "\u001b[1;31mFileNotFoundError\u001b[0m                         Traceback (most recent call last)",
      "Input \u001b[1;32mIn [13]\u001b[0m, in \u001b[0;36m<cell line: 3>\u001b[1;34m()\u001b[0m\n\u001b[0;32m      1\u001b[0m \u001b[38;5;66;03m# I don't have a file name wiht vin.txt iin this dir :\u001b[39;00m\n\u001b[1;32m----> 3\u001b[0m p \u001b[38;5;241m=\u001b[39m \u001b[38;5;28;43mopen\u001b[39;49m\u001b[43m(\u001b[49m\u001b[38;5;124;43m\"\u001b[39;49m\u001b[38;5;124;43mvin.txt\u001b[39;49m\u001b[38;5;124;43m\"\u001b[39;49m\u001b[43m,\u001b[49m\u001b[43m \u001b[49m\u001b[38;5;124;43m'\u001b[39;49m\u001b[38;5;124;43mr\u001b[39;49m\u001b[38;5;124;43m'\u001b[39;49m\u001b[43m)\u001b[49m\n",
      "\u001b[1;31mFileNotFoundError\u001b[0m: [Errno 2] No such file or directory: 'vin.txt'"
     ]
    }
   ],
   "source": [
    "# I don't have a file name wiht vin.txt iin this dir :\n",
    "\n",
    "p = open(\"vin.txt\", 'r')"
   ]
  },
  {
   "cell_type": "markdown",
   "id": "4c0a7d8b",
   "metadata": {},
   "source": [
    "see i don't have this file, i don't want to print this error :"
   ]
  },
  {
   "cell_type": "code",
   "execution_count": 14,
   "id": "b81427d9",
   "metadata": {},
   "outputs": [
    {
     "name": "stdout",
     "output_type": "stream",
     "text": [
      "Oh!! I don't have this file\n"
     ]
    }
   ],
   "source": [
    "try : \n",
    "    p = open(\"vin.txt\", 'r')\n",
    "except :\n",
    "    print(\"Oh!! I don't have this file\")"
   ]
  },
  {
   "cell_type": "code",
   "execution_count": 1,
   "id": "53f1c81a",
   "metadata": {},
   "outputs": [
    {
     "name": "stdout",
     "output_type": "stream",
     "text": [
      "ZeroDivisionError raised here \n"
     ]
    }
   ],
   "source": [
    "# you know 4/0 is \"ZeroDivisionError\" type of error :\n",
    "# SO here i'll specify only division by zero error it should except, not other :\n",
    "\n",
    "try :\n",
    "    c = 4 / 0\n",
    "except ZeroDivisionError:\n",
    "    print(\"ZeroDivisionError raised here \")"
   ]
  },
  {
   "cell_type": "code",
   "execution_count": 2,
   "id": "da4dd3c7",
   "metadata": {},
   "outputs": [
    {
     "name": "stdout",
     "output_type": "stream",
     "text": [
      "ArithmeticError raised here\n"
     ]
    }
   ],
   "source": [
    "# this also a ArithmeticError :\n",
    "try:\n",
    "    a = 5 / 0\n",
    "except ArithmeticError:  # this can handle a=5/0\n",
    "    print(\"ArithmeticError raised here\")"
   ]
  },
  {
   "cell_type": "code",
   "execution_count": 3,
   "id": "897c1ce2",
   "metadata": {},
   "outputs": [
    {
     "ename": "FileNotFoundError",
     "evalue": "[Errno 2] No such file or directory: 'vin.txt'",
     "output_type": "error",
     "traceback": [
      "\u001b[1;31m---------------------------------------------------------------------------\u001b[0m",
      "\u001b[1;31mFileNotFoundError\u001b[0m                         Traceback (most recent call last)",
      "Input \u001b[1;32mIn [3]\u001b[0m, in \u001b[0;36m<cell line: 3>\u001b[1;34m()\u001b[0m\n\u001b[0;32m      1\u001b[0m \u001b[38;5;66;03m# now I'll try same error for FileNotFoundError :\u001b[39;00m\n\u001b[0;32m      3\u001b[0m \u001b[38;5;28;01mtry\u001b[39;00m :\n\u001b[1;32m----> 4\u001b[0m     p \u001b[38;5;241m=\u001b[39m \u001b[38;5;28;43mopen\u001b[39;49m\u001b[43m(\u001b[49m\u001b[38;5;124;43m\"\u001b[39;49m\u001b[38;5;124;43mvin.txt\u001b[39;49m\u001b[38;5;124;43m\"\u001b[39;49m\u001b[43m,\u001b[49m\u001b[43m \u001b[49m\u001b[38;5;124;43m'\u001b[39;49m\u001b[38;5;124;43mr\u001b[39;49m\u001b[38;5;124;43m'\u001b[39;49m\u001b[43m)\u001b[49m\n\u001b[0;32m      5\u001b[0m \u001b[38;5;28;01mexcept\u001b[39;00m \u001b[38;5;167;01mZeroDivisionError\u001b[39;00m :\n\u001b[0;32m      6\u001b[0m     \u001b[38;5;28mprint\u001b[39m(\u001b[38;5;124m\"\u001b[39m\u001b[38;5;124mThis only for ZeroDivisionError\u001b[39m\u001b[38;5;124m\"\u001b[39m)\n",
      "\u001b[1;31mFileNotFoundError\u001b[0m: [Errno 2] No such file or directory: 'vin.txt'"
     ]
    }
   ],
   "source": [
    "# now I'll try same error for FileNotFoundError :\n",
    "\n",
    "try :\n",
    "    p = open(\"vin.txt\", 'r')\n",
    "except ZeroDivisionError :\n",
    "    print(\"This only for ZeroDivisionError\")"
   ]
  },
  {
   "cell_type": "markdown",
   "id": "145016da",
   "metadata": {},
   "source": [
    "the zero division error didn't handle FileNotFoundError"
   ]
  },
  {
   "cell_type": "code",
   "execution_count": 4,
   "id": "5307b770",
   "metadata": {},
   "outputs": [
    {
     "name": "stdout",
     "output_type": "stream",
     "text": [
      "now error handled, when you used FileNotFoundError\n"
     ]
    }
   ],
   "source": [
    "# when I use FIleNotFoundError instead of ZeroDivisionError , it will handle :\n",
    "\n",
    "try :\n",
    "    p = open(\"vin.txt\", 'r')\n",
    "except FileNotFoundError :\n",
    "    print(\"now error handled, when you used FileNotFoundError\")"
   ]
  },
  {
   "cell_type": "code",
   "execution_count": 1,
   "id": "21a18264",
   "metadata": {},
   "outputs": [
    {
     "name": "stdout",
     "output_type": "stream",
     "text": [
      "the error you got is -  name 'b' is not defined\n"
     ]
    }
   ],
   "source": [
    "# now we will print what type of error we got : \n",
    "# I'm not defined value of b :\n",
    "\n",
    "try : \n",
    "    a = 1\n",
    "    c = a + b\n",
    "    print(c)\n",
    "except Exception as e:\n",
    "    print(\"the error you got is - \",e)"
   ]
  },
  {
   "cell_type": "code",
   "execution_count": 2,
   "id": "e4128d94",
   "metadata": {},
   "outputs": [
    {
     "name": "stdout",
     "output_type": "stream",
     "text": [
      "the error I got is -  unsupported operand type(s) for +: 'int' and 'str'\n"
     ]
    }
   ],
   "source": [
    "# a syntax error I'll do :\n",
    "\n",
    "try:\n",
    "    a = 1\n",
    "    b = 2\n",
    "    print(a + \"b\")\n",
    "    \n",
    "except Exception as e :\n",
    "    print(\"the error I got is - \",e)"
   ]
  },
  {
   "cell_type": "code",
   "execution_count": 1,
   "id": "1101310c",
   "metadata": {},
   "outputs": [
    {
     "name": "stdout",
     "output_type": "stream",
     "text": [
      "the error you got is -  name 'b' is not defined\n"
     ]
    }
   ],
   "source": [
    "# this is Name Error type of error so it handled :\n",
    "try : \n",
    "    a = 1\n",
    "    c = a + b\n",
    "    print(c)\n",
    "except NameError as e:\n",
    "    print(\"the error you got is - \",e)"
   ]
  },
  {
   "cell_type": "code",
   "execution_count": 2,
   "id": "d41a532c",
   "metadata": {},
   "outputs": [
    {
     "ename": "NameError",
     "evalue": "name 'b' is not defined",
     "output_type": "error",
     "traceback": [
      "\u001b[1;31m---------------------------------------------------------------------------\u001b[0m",
      "\u001b[1;31mNameError\u001b[0m                                 Traceback (most recent call last)",
      "Input \u001b[1;32mIn [2]\u001b[0m, in \u001b[0;36m<cell line: 3>\u001b[1;34m()\u001b[0m\n\u001b[0;32m      3\u001b[0m \u001b[38;5;28;01mtry\u001b[39;00m : \n\u001b[0;32m      4\u001b[0m     a \u001b[38;5;241m=\u001b[39m \u001b[38;5;241m1\u001b[39m\n\u001b[1;32m----> 5\u001b[0m     c \u001b[38;5;241m=\u001b[39m a \u001b[38;5;241m+\u001b[39m \u001b[43mb\u001b[49m\n\u001b[0;32m      6\u001b[0m     \u001b[38;5;28mprint\u001b[39m(c)\n\u001b[0;32m      7\u001b[0m \u001b[38;5;28;01mexcept\u001b[39;00m \u001b[38;5;167;01mSyntaxError\u001b[39;00m \u001b[38;5;28;01mas\u001b[39;00m e:\n",
      "\u001b[1;31mNameError\u001b[0m: name 'b' is not defined"
     ]
    }
   ],
   "source": [
    "# when I use above code to except syntaxerror and i try to print the type of error, it won't give\n",
    "\n",
    "try : \n",
    "    a = 1\n",
    "    c = a + b\n",
    "    print(c)\n",
    "except SyntaxError as e:\n",
    "    print(\"the error you got is - \",e)"
   ]
  },
  {
   "cell_type": "markdown",
   "id": "904a0cda",
   "metadata": {},
   "source": [
    "try - except - else :"
   ]
  },
  {
   "cell_type": "code",
   "execution_count": 3,
   "id": "e41b363a",
   "metadata": {},
   "outputs": [
    {
     "name": "stdout",
     "output_type": "stream",
     "text": [
      "fine with the code, a =  1.25\n"
     ]
    }
   ],
   "source": [
    "try:\n",
    "    a = 5/4 # error won't be there, so uses else block\n",
    "except Exception as e:  \n",
    "    print(\"error detected and handling done :\",e)\n",
    "else:\n",
    "    print(\"fine with the code, a = \",a)"
   ]
  },
  {
   "cell_type": "code",
   "execution_count": 4,
   "id": "d8b4d854",
   "metadata": {},
   "outputs": [
    {
     "name": "stdout",
     "output_type": "stream",
     "text": [
      "error detected and handling done : division by zero\n"
     ]
    }
   ],
   "source": [
    "# Same code if i replace 4 with 0, it tis division by zero error\n",
    "try:\n",
    "    a = 5/0 # error won't be there, so uses else block\n",
    "except Exception as e:  \n",
    "    print(\"error detected and handling done :\",e)\n",
    "else:\n",
    "    print(\"fine with the code, a = \",a)"
   ]
  },
  {
   "cell_type": "markdown",
   "id": "a3e64a1a",
   "metadata": {},
   "source": [
    "nested try - except - else : "
   ]
  },
  {
   "cell_type": "code",
   "execution_count": 5,
   "id": "678173fa",
   "metadata": {},
   "outputs": [
    {
     "name": "stdout",
     "output_type": "stream",
     "text": [
      "fine with the code\n",
      "error is  :  [Errno 2] No such file or directory: 'test.txt'\n"
     ]
    }
   ],
   "source": [
    "# branching in excpetion handling :\n",
    "\n",
    "try:\n",
    "    a = 5/4 # no error , uses else block\n",
    "except Exception as e:\n",
    "    print(\"error detected : \",e)\n",
    "else:\n",
    "    print(\"fine with the code\")\n",
    "    try:\n",
    "        a = open('test.txt','r') # exception handling inside else block\n",
    "    except Exception as f:\n",
    "        print('error is  : ',f)"
   ]
  },
  {
   "cell_type": "code",
   "execution_count": 6,
   "id": "9ab2cfc0",
   "metadata": {},
   "outputs": [
    {
     "name": "stdout",
     "output_type": "stream",
     "text": [
      "error detected, stops here only :  division by zero\n"
     ]
    }
   ],
   "source": [
    "# what will happen when 5/0 instead of 5/4 : \n",
    "\n",
    "try:\n",
    "    a = 5/0 # no error , uses else block\n",
    "except Exception as e:\n",
    "    print(\"error detected, stops here only : \",e)\n",
    "else:\n",
    "    print(\"fine with the code\")\n",
    "    try:\n",
    "        a = open('test.txt','r') # exception handling inside else block\n",
    "    except Exception as f:\n",
    "        print('error is  : ',f)"
   ]
  },
  {
   "cell_type": "markdown",
   "id": "11b85000",
   "metadata": {},
   "source": [
    "finally block : "
   ]
  },
  {
   "cell_type": "code",
   "execution_count": 10,
   "id": "ce196e50",
   "metadata": {},
   "outputs": [
    {
     "name": "stdout",
     "output_type": "stream",
     "text": [
      "5.0\n",
      "finally will be executed, if there is no error.\n"
     ]
    }
   ],
   "source": [
    "# if error occur or not, finalyy il be execcuted :\n",
    "try:\n",
    "    f = 25/5\n",
    "    print(f)\n",
    "finally:\n",
    "    print(\"finally will be executed, if there is no error.\") "
   ]
  },
  {
   "cell_type": "code",
   "execution_count": 11,
   "id": "9d85e332",
   "metadata": {},
   "outputs": [
    {
     "name": "stdout",
     "output_type": "stream",
     "text": [
      "finally will be executed, even there is error also.\n"
     ]
    },
    {
     "ename": "ZeroDivisionError",
     "evalue": "division by zero",
     "output_type": "error",
     "traceback": [
      "\u001b[1;31m---------------------------------------------------------------------------\u001b[0m",
      "\u001b[1;31mZeroDivisionError\u001b[0m                         Traceback (most recent call last)",
      "Input \u001b[1;32mIn [11]\u001b[0m, in \u001b[0;36m<cell line: 1>\u001b[1;34m()\u001b[0m\n\u001b[0;32m      1\u001b[0m \u001b[38;5;28;01mtry\u001b[39;00m:\n\u001b[1;32m----> 2\u001b[0m     f \u001b[38;5;241m=\u001b[39m \u001b[38;5;241;43m5\u001b[39;49m\u001b[38;5;241;43m/\u001b[39;49m\u001b[38;5;241;43m0\u001b[39;49m\n\u001b[0;32m      3\u001b[0m     \u001b[38;5;28mprint\u001b[39m(f)\n\u001b[0;32m      4\u001b[0m \u001b[38;5;28;01mfinally\u001b[39;00m:\n",
      "\u001b[1;31mZeroDivisionError\u001b[0m: division by zero"
     ]
    }
   ],
   "source": [
    "try:\n",
    "    f = 5/0\n",
    "    print(f)\n",
    "finally:\n",
    "    print(\"finally will be executed, even there is error also.\")"
   ]
  },
  {
   "cell_type": "code",
   "execution_count": 16,
   "id": "c5eb5204",
   "metadata": {},
   "outputs": [
    {
     "name": "stdout",
     "output_type": "stream",
     "text": [
      " output from finally block\n",
      "even numbers are : 2\n",
      "even numbers are : 4\n",
      "even numbers are : 6\n",
      "even numbers are : 8\n",
      "even numbers are : 10\n"
     ]
    }
   ],
   "source": [
    "# I'll write code in finally block\n",
    "try:\n",
    "    f = 5/0\n",
    "except:\n",
    "    pass\n",
    "finally:\n",
    "    print(\" output from finally block\")\n",
    "    l=[1,2,3,4,5,6,7,8,9,10]\n",
    "    [print(\"even numbers are :\",i)  for i in l if i%2 == 0]"
   ]
  },
  {
   "cell_type": "markdown",
   "id": "98905379",
   "metadata": {},
   "source": [
    "Enter ony integer number which is >o"
   ]
  },
  {
   "cell_type": "code",
   "execution_count": 17,
   "id": "16b48191",
   "metadata": {},
   "outputs": [
    {
     "name": "stdout",
     "output_type": "stream",
     "text": [
      "enter only integer : 0\n",
      "this is <= 0, error is :  division by zero\n",
      "done dude!!\n",
      "enter only integer : vinod\n",
      "this is <= 0, error is :  invalid literal for int() with base 10: 'vinod'\n",
      "done dude!!\n",
      "enter only integer : 8\n",
      "you entered an integer. Hurray!! \n",
      "done dude!!\n"
     ]
    }
   ],
   "source": [
    "def here():  #  created a function \n",
    "    while True: # once you enter into loop, you can't get out of loop untill you enter the integer >0.\n",
    "        try:\n",
    "            a=int(input(\"enter only integer : \")) \n",
    "            d=8/a\n",
    "        except Exception as e:\n",
    "            print(\"this is <= 0, error is : \" , e)\n",
    "        else:\n",
    "            print(\"you entered an integer. Hurray!! \")\n",
    "            break\n",
    "        finally:\n",
    "            print('done dude!!')\n",
    "            \n",
    "here()"
   ]
  },
  {
   "cell_type": "markdown",
   "id": "5c8fbadd",
   "metadata": {},
   "source": [
    "raise block : "
   ]
  },
  {
   "cell_type": "code",
   "execution_count": 3,
   "id": "defc5e85",
   "metadata": {},
   "outputs": [],
   "source": [
    "# here I'll give a funtion, when you give 6 as an argument it will raise an error : \n",
    "\n",
    "def ddd(a):\n",
    "    if a==6:\n",
    "        raise Exception(a)"
   ]
  },
  {
   "cell_type": "code",
   "execution_count": 4,
   "id": "700bf382",
   "metadata": {},
   "outputs": [],
   "source": [
    "ddd(2) # see here when i give 2 no error"
   ]
  },
  {
   "cell_type": "code",
   "execution_count": 5,
   "id": "0fb89550",
   "metadata": {},
   "outputs": [],
   "source": [
    "ddd(5) # when i give five also no error"
   ]
  },
  {
   "cell_type": "code",
   "execution_count": 6,
   "id": "3d5d4d2a",
   "metadata": {},
   "outputs": [
    {
     "ename": "Exception",
     "evalue": "6",
     "output_type": "error",
     "traceback": [
      "\u001b[1;31m---------------------------------------------------------------------------\u001b[0m",
      "\u001b[1;31mException\u001b[0m                                 Traceback (most recent call last)",
      "Input \u001b[1;32mIn [6]\u001b[0m, in \u001b[0;36m<cell line: 1>\u001b[1;34m()\u001b[0m\n\u001b[1;32m----> 1\u001b[0m \u001b[43mddd\u001b[49m\u001b[43m(\u001b[49m\u001b[38;5;241;43m6\u001b[39;49m\u001b[43m)\u001b[49m\n",
      "Input \u001b[1;32mIn [3]\u001b[0m, in \u001b[0;36mddd\u001b[1;34m(a)\u001b[0m\n\u001b[0;32m      3\u001b[0m \u001b[38;5;28;01mdef\u001b[39;00m \u001b[38;5;21mddd\u001b[39m(a):\n\u001b[0;32m      4\u001b[0m     \u001b[38;5;28;01mif\u001b[39;00m a\u001b[38;5;241m==\u001b[39m\u001b[38;5;241m6\u001b[39m:\n\u001b[1;32m----> 5\u001b[0m         \u001b[38;5;28;01mraise\u001b[39;00m \u001b[38;5;167;01mException\u001b[39;00m(a)\n",
      "\u001b[1;31mException\u001b[0m: 6"
     ]
    }
   ],
   "source": [
    "ddd(6) # when i give 6 it raises an error"
   ]
  },
  {
   "cell_type": "code",
   "execution_count": 11,
   "id": "2db22c79",
   "metadata": {},
   "outputs": [],
   "source": [
    "def d1(a):\n",
    "    if a == 7:\n",
    "        raise Exception(\"error is \",a)  # if a=7, then this willl be printed\n",
    "    else:\n",
    "        print(\"your number number is not 7, so no error raised\") # if a != 7, this will be printed"
   ]
  },
  {
   "cell_type": "code",
   "execution_count": 12,
   "id": "b8158e1e",
   "metadata": {},
   "outputs": [
    {
     "name": "stdout",
     "output_type": "stream",
     "text": [
      "your number number is not 7, so no error raised\n"
     ]
    }
   ],
   "source": [
    "d1(5)"
   ]
  },
  {
   "cell_type": "code",
   "execution_count": 13,
   "id": "6895f520",
   "metadata": {},
   "outputs": [
    {
     "name": "stdout",
     "output_type": "stream",
     "text": [
      "your number number is not 7, so no error raised\n"
     ]
    }
   ],
   "source": [
    "d1(4)"
   ]
  },
  {
   "cell_type": "code",
   "execution_count": 14,
   "id": "8d0dd4b1",
   "metadata": {},
   "outputs": [
    {
     "ename": "Exception",
     "evalue": "('error is ', 7)",
     "output_type": "error",
     "traceback": [
      "\u001b[1;31m---------------------------------------------------------------------------\u001b[0m",
      "\u001b[1;31mException\u001b[0m                                 Traceback (most recent call last)",
      "Input \u001b[1;32mIn [14]\u001b[0m, in \u001b[0;36m<cell line: 1>\u001b[1;34m()\u001b[0m\n\u001b[1;32m----> 1\u001b[0m \u001b[43md1\u001b[49m\u001b[43m(\u001b[49m\u001b[38;5;241;43m7\u001b[39;49m\u001b[43m)\u001b[49m\n",
      "Input \u001b[1;32mIn [11]\u001b[0m, in \u001b[0;36md1\u001b[1;34m(a)\u001b[0m\n\u001b[0;32m      1\u001b[0m \u001b[38;5;28;01mdef\u001b[39;00m \u001b[38;5;21md1\u001b[39m(a):\n\u001b[0;32m      2\u001b[0m     \u001b[38;5;28;01mif\u001b[39;00m a \u001b[38;5;241m==\u001b[39m \u001b[38;5;241m7\u001b[39m:\n\u001b[1;32m----> 3\u001b[0m         \u001b[38;5;28;01mraise\u001b[39;00m \u001b[38;5;167;01mException\u001b[39;00m(\u001b[38;5;124m\"\u001b[39m\u001b[38;5;124merror is \u001b[39m\u001b[38;5;124m\"\u001b[39m,a)  \u001b[38;5;66;03m# if a=7, then this willl be printed\u001b[39;00m\n\u001b[0;32m      4\u001b[0m     \u001b[38;5;28;01melse\u001b[39;00m:\n\u001b[0;32m      5\u001b[0m         \u001b[38;5;28mprint\u001b[39m(\u001b[38;5;124m\"\u001b[39m\u001b[38;5;124myour number number is not 7, so no error raised\u001b[39m\u001b[38;5;124m\"\u001b[39m)\n",
      "\u001b[1;31mException\u001b[0m: ('error is ', 7)"
     ]
    }
   ],
   "source": [
    "d1(7)"
   ]
  },
  {
   "cell_type": "code",
   "execution_count": 18,
   "id": "171192a9",
   "metadata": {},
   "outputs": [],
   "source": [
    "# print user number of even numbers, if any error occurs it should handle that\n",
    "\n",
    "def even_num():\n",
    "    try:\n",
    "        n=int(input(\"enter how many numbers you want to check even : \"))\n",
    "        for i in range(n):\n",
    "            if i%2 == 0:\n",
    "                print(\"even are : \", i)\n",
    "    except Exception as e:\n",
    "        print('error is -> ',e ,' -- excepted')"
   ]
  },
  {
   "cell_type": "code",
   "execution_count": 19,
   "id": "a52f9364",
   "metadata": {},
   "outputs": [
    {
     "name": "stdout",
     "output_type": "stream",
     "text": [
      "enter how many numbers you want to check even : vinod\n",
      "error is ->  invalid literal for int() with base 10: 'vinod'  -- excepted\n"
     ]
    }
   ],
   "source": [
    "even_num()"
   ]
  },
  {
   "cell_type": "code",
   "execution_count": 20,
   "id": "17535a12",
   "metadata": {},
   "outputs": [
    {
     "name": "stdout",
     "output_type": "stream",
     "text": [
      "enter how many numbers you want to check even : @#$%^&*(\n",
      "error is ->  invalid literal for int() with base 10: '@#$%^&*('  -- excepted\n"
     ]
    }
   ],
   "source": [
    "even_num()"
   ]
  },
  {
   "cell_type": "code",
   "execution_count": 22,
   "id": "0b9ba5d2",
   "metadata": {},
   "outputs": [
    {
     "name": "stdout",
     "output_type": "stream",
     "text": [
      "enter how many numbers you want to check even : 10\n",
      "even are :  0\n",
      "even are :  2\n",
      "even are :  4\n",
      "even are :  6\n",
      "even are :  8\n"
     ]
    }
   ],
   "source": [
    "even_num()"
   ]
  },
  {
   "cell_type": "markdown",
   "id": "3ec6c5d5",
   "metadata": {},
   "source": [
    "# OOPS concepts :\n",
    "Object-oriented programming (OOP) is a computer programming model that organizes software design around data, or objects, rather than functions and logic.\n",
    "\n",
    "OOPs is used beacuse, OOPs provides a clear structure for the programs. OOPs make the code easier to maintain, modify and debug. OOP makes it possible to create fully reusable applications with less code and shorter development time.\n",
    "OOPs concept follows : \n",
    "1. Classes.\n",
    "2. Objects.\n",
    "3. Inheritance.\n",
    "4. Polymorphism.\n",
    "5. Encapsulation.\n",
    "6. Data Abstraction."
   ]
  },
  {
   "cell_type": "markdown",
   "id": "1f92df45",
   "metadata": {},
   "source": [
    "# Class and Objects :\n",
    "Class: \"A class creates a new local namespace where all its attributes are defined. Attributes may be data or functions\". Or in short we can say, \"A class is a blueprint for declaring and creating objects.\"\n",
    "\n",
    "Object: \"An object is simply a collection of data (variables) and methods (functions) that act on those data.\" or \"An Object is an instance of a Class\"\n",
    "\n",
    "To understand this class and object I'll give a simple practical example. Let's consider a House as a class, inside that we have rooms, doors, windows, things, etc., are the objects.\n",
    "\n",
    "A car is a class. In the car we have different objects like models, companies, year of manufacture, mileage, engine, etc.,."
   ]
  },
  {
   "cell_type": "code",
   "execution_count": 1,
   "id": "1b48c882",
   "metadata": {},
   "outputs": [],
   "source": [
    "class car(): # we have a car class here\n",
    "    pass  # I'm justing passing, later we write code"
   ]
  },
  {
   "cell_type": "code",
   "execution_count": 2,
   "id": "5ce8896e",
   "metadata": {},
   "outputs": [],
   "source": [
    "audi = car()  # I have considered audi as my 1st car class"
   ]
  },
  {
   "cell_type": "code",
   "execution_count": 3,
   "id": "2c42a17e",
   "metadata": {},
   "outputs": [],
   "source": [
    "# now I'm going to add objects and assigning values to objects :\n",
    "audi.model = 'Audi Q7'\n",
    "audi.mileage = '11.21kmpl'\n",
    "audi.engine = '2995cc'\n",
    "audi.seat = 7"
   ]
  },
  {
   "cell_type": "code",
   "execution_count": 5,
   "id": "28f98e98",
   "metadata": {},
   "outputs": [
    {
     "data": {
      "text/plain": [
       "'Audi Q7'"
      ]
     },
     "execution_count": 5,
     "metadata": {},
     "output_type": "execute_result"
    }
   ],
   "source": [
    "# IF I need to get values/details, I need to call one by one :\n",
    "audi.model"
   ]
  },
  {
   "cell_type": "code",
   "execution_count": 6,
   "id": "603bf8ca",
   "metadata": {},
   "outputs": [
    {
     "data": {
      "text/plain": [
       "'11.21kmpl'"
      ]
     },
     "execution_count": 6,
     "metadata": {},
     "output_type": "execute_result"
    }
   ],
   "source": [
    "audi.mileage"
   ]
  },
  {
   "cell_type": "code",
   "execution_count": 7,
   "id": "045f8f50",
   "metadata": {},
   "outputs": [
    {
     "data": {
      "text/plain": [
       "'2995cc'"
      ]
     },
     "execution_count": 7,
     "metadata": {},
     "output_type": "execute_result"
    }
   ],
   "source": [
    "audi.engine"
   ]
  },
  {
   "cell_type": "code",
   "execution_count": 9,
   "id": "7e20a594",
   "metadata": {},
   "outputs": [],
   "source": [
    "class car : #class car\n",
    "    def __init__(self, milage,year,model,make):   # Initialize the values, self acts as constructor\n",
    "        self.milage = milage   # it will considered as carname.milage\n",
    "        self.year = year\n",
    "        self.model = model\n",
    "        self.make =make"
   ]
  },
  {
   "cell_type": "code",
   "execution_count": 10,
   "id": "ab8892d2",
   "metadata": {},
   "outputs": [],
   "source": [
    "# class name are car names(nana1,honda) and assigning objects\n",
    "nano1 = car(80,2022,'vks','ddsd')\n",
    "honda = car(70,2021,'kks','sdsd')\n",
    "hyper = car(60,2002,'vvk','dddd')  \n",
    "dudon = car(90,2023,'vvv','ssss')\n",
    "# adding some data into class"
   ]
  },
  {
   "cell_type": "code",
   "execution_count": 11,
   "id": "d419d857",
   "metadata": {},
   "outputs": [
    {
     "data": {
      "text/plain": [
       "80"
      ]
     },
     "execution_count": 11,
     "metadata": {},
     "output_type": "execute_result"
    }
   ],
   "source": [
    "nano1.milage"
   ]
  },
  {
   "cell_type": "code",
   "execution_count": 12,
   "id": "c91987f2",
   "metadata": {},
   "outputs": [
    {
     "data": {
      "text/plain": [
       "2002"
      ]
     },
     "execution_count": 12,
     "metadata": {},
     "output_type": "execute_result"
    }
   ],
   "source": [
    "hyper.year"
   ]
  },
  {
   "cell_type": "code",
   "execution_count": 21,
   "id": "c9f8ab8e",
   "metadata": {},
   "outputs": [],
   "source": [
    "# using __str__ :\n",
    "class car :\n",
    "    def __init__(a, milage,year,model,make):\n",
    "        a.milage = milage\n",
    "        a.year = year\n",
    "        a.model = model\n",
    "        a.make =make\n",
    "        \n",
    "    def age(b,cur_year):\n",
    "        return cur_year - b.year\n",
    "    \n",
    "    def mil(c):\n",
    "        print('print milage of car is : ',c.milage)\n",
    "    \n",
    "    def __str__(d): # it returns the given data when you call car name\n",
    "        return'this is class car'"
   ]
  },
  {
   "cell_type": "code",
   "execution_count": 22,
   "id": "951f4212",
   "metadata": {},
   "outputs": [],
   "source": [
    "nano1 = car(80,2022,'vks','ddsd')"
   ]
  },
  {
   "cell_type": "code",
   "execution_count": 23,
   "id": "6d206c30",
   "metadata": {},
   "outputs": [
    {
     "name": "stdout",
     "output_type": "stream",
     "text": [
      "print milage of car is :  80\n"
     ]
    }
   ],
   "source": [
    "nano1.mil()"
   ]
  },
  {
   "cell_type": "code",
   "execution_count": 24,
   "id": "8f8868ce",
   "metadata": {},
   "outputs": [
    {
     "data": {
      "text/plain": [
       "<__main__.car at 0x28f58a7dc40>"
      ]
     },
     "execution_count": 24,
     "metadata": {},
     "output_type": "execute_result"
    }
   ],
   "source": [
    "nano1  # when you call car name, it gives output like this."
   ]
  },
  {
   "cell_type": "code",
   "execution_count": 25,
   "id": "06cae9d0",
   "metadata": {},
   "outputs": [
    {
     "name": "stdout",
     "output_type": "stream",
     "text": [
      "this is class car\n"
     ]
    }
   ],
   "source": [
    "print(nano1) # It will print car name, it gives output like this"
   ]
  },
  {
   "cell_type": "code",
   "execution_count": 2,
   "id": "e62d5c10",
   "metadata": {},
   "outputs": [],
   "source": [
    "# student details. \n",
    "class student:\n",
    "    \n",
    "    def __init__(self,name,rollno,joining,topic):\n",
    "        self.name = name\n",
    "        self.rollno = rollno\n",
    "        self.joining = joining\n",
    "        self.topic = topic\n",
    "        \n",
    "    def output(self):  # printing the data that you give\n",
    "        if type(self.name) == list:  # prints only data when it is list\n",
    "            for i in self.name:\n",
    "                print(i)\n",
    "        elif type(self.name) == tuple:  # prints only data when it is tuple\n",
    "            for i in self.name:\n",
    "                print(i)\n",
    "        elif type(self.name) == dict:  # prints data only when it is fictionary\n",
    "                print(self.name.items())\n",
    "        else:\n",
    "            print(\"student details\")\n",
    "    \n",
    "    \n",
    "    def c_rollno(self):  # Roll_no \n",
    "        if type(self.rollno) == str:  # it will raise error, if you enter rollno as str\n",
    "            raise Exception(\"enter only int or intvar\")  # it will return rollno when it is int\n",
    "        else:\n",
    "            return str(self.rollno)  \n",
    "        \n",
    "    def cur_year(self,cur_year):  # year gap\n",
    "        return 'gap is :',cur_year - self.joining\n",
    "    \n",
    "    def __str__(self):\n",
    "        return \"this is a student class.\""
   ]
  },
  {
   "cell_type": "code",
   "execution_count": 3,
   "id": "1c92c05d",
   "metadata": {},
   "outputs": [],
   "source": [
    "# adding data into class\n",
    "vinod = student('vinod','697',2020,'python')\n",
    "sai = student('sai',568,2019,'data science')"
   ]
  },
  {
   "cell_type": "code",
   "execution_count": 4,
   "id": "ac5cb6ca",
   "metadata": {},
   "outputs": [
    {
     "ename": "Exception",
     "evalue": "enter only int or intvar",
     "output_type": "error",
     "traceback": [
      "\u001b[1;31m---------------------------------------------------------------------------\u001b[0m",
      "\u001b[1;31mException\u001b[0m                                 Traceback (most recent call last)",
      "Input \u001b[1;32mIn [4]\u001b[0m, in \u001b[0;36m<cell line: 2>\u001b[1;34m()\u001b[0m\n\u001b[0;32m      1\u001b[0m \u001b[38;5;66;03m# I raised an exception here by giving roll.no as str. It should be int\u001b[39;00m\n\u001b[1;32m----> 2\u001b[0m \u001b[43mvinod\u001b[49m\u001b[38;5;241;43m.\u001b[39;49m\u001b[43mc_rollno\u001b[49m\u001b[43m(\u001b[49m\u001b[43m)\u001b[49m\n",
      "Input \u001b[1;32mIn [2]\u001b[0m, in \u001b[0;36mstudent.c_rollno\u001b[1;34m(self)\u001b[0m\n\u001b[0;32m     23\u001b[0m \u001b[38;5;28;01mdef\u001b[39;00m \u001b[38;5;21mc_rollno\u001b[39m(\u001b[38;5;28mself\u001b[39m):  \u001b[38;5;66;03m# Roll_no \u001b[39;00m\n\u001b[0;32m     24\u001b[0m     \u001b[38;5;28;01mif\u001b[39;00m \u001b[38;5;28mtype\u001b[39m(\u001b[38;5;28mself\u001b[39m\u001b[38;5;241m.\u001b[39mrollno) \u001b[38;5;241m==\u001b[39m \u001b[38;5;28mstr\u001b[39m:  \u001b[38;5;66;03m# it will raise error, if you enter rollno as str\u001b[39;00m\n\u001b[1;32m---> 25\u001b[0m         \u001b[38;5;28;01mraise\u001b[39;00m \u001b[38;5;167;01mException\u001b[39;00m(\u001b[38;5;124m\"\u001b[39m\u001b[38;5;124menter only int or intvar\u001b[39m\u001b[38;5;124m\"\u001b[39m)  \u001b[38;5;66;03m# it will return rollno when it is int\u001b[39;00m\n\u001b[0;32m     26\u001b[0m     \u001b[38;5;28;01melse\u001b[39;00m:\n\u001b[0;32m     27\u001b[0m         \u001b[38;5;28;01mreturn\u001b[39;00m \u001b[38;5;28mstr\u001b[39m(\u001b[38;5;28mself\u001b[39m\u001b[38;5;241m.\u001b[39mrollno)\n",
      "\u001b[1;31mException\u001b[0m: enter only int or intvar"
     ]
    }
   ],
   "source": [
    "# I raised an exception here by giving roll.no as str. It should be int\n",
    "vinod.c_rollno()"
   ]
  },
  {
   "cell_type": "code",
   "execution_count": 5,
   "id": "6add4e3d",
   "metadata": {},
   "outputs": [
    {
     "data": {
      "text/plain": [
       "('gap is :', 2)"
      ]
     },
     "execution_count": 5,
     "metadata": {},
     "output_type": "execute_result"
    }
   ],
   "source": [
    "vinod.cur_year(2022)"
   ]
  },
  {
   "cell_type": "code",
   "execution_count": 6,
   "id": "c8ad36b0",
   "metadata": {
    "scrolled": true
   },
   "outputs": [
    {
     "name": "stdout",
     "output_type": "stream",
     "text": [
      "vinod1\n",
      "sai1\n",
      "abhi1\n",
      "shreyas1\n"
     ]
    }
   ],
   "source": [
    "# giving data in list format\n",
    "abhi = student(['vinod1','sai1','abhi1','shreyas1'],22,45,2022)\n",
    "abhi.output()"
   ]
  },
  {
   "cell_type": "code",
   "execution_count": 7,
   "id": "5db11611",
   "metadata": {},
   "outputs": [
    {
     "name": "stdout",
     "output_type": "stream",
     "text": [
      "vinod1\n",
      "sai1\n",
      "abhi1\n",
      "shreyas1\n"
     ]
    }
   ],
   "source": [
    "# giving data in tuple format:\n",
    "abhi = student(('vinod1','sai1','abhi1','shreyas1'),22,45,2022)\n",
    "abhi.output()"
   ]
  },
  {
   "cell_type": "code",
   "execution_count": 8,
   "id": "1bc9aa4a",
   "metadata": {},
   "outputs": [
    {
     "name": "stdout",
     "output_type": "stream",
     "text": [
      "dict_items([('a', 'vinod1'), ('b', 'sai1'), ('c', 'abhi1'), ('d', 'shreyas1')])\n"
     ]
    }
   ],
   "source": [
    "# giving data in dictionary format\n",
    "abhi = student({'a':'vinod1','b':'sai1','c':'abhi1','d':'shreyas1'},22,45,2022)\n",
    "abhi.output()"
   ]
  },
  {
   "cell_type": "code",
   "execution_count": 1,
   "id": "1192b061",
   "metadata": {},
   "outputs": [],
   "source": [
    "class function:\n",
    "    def __init__(self,dicti):  # initialize the object names\n",
    "        self.dicti = dicti\n",
    "    \n",
    "    def dict_keys(self):  # function to return keys\n",
    "        if type(self.dicti) == dict:\n",
    "            print(self.dicti.keys())\n",
    "        else:\n",
    "            raise Exception ('only dictionary values will be taken.')\n",
    "    \n",
    "    def dict_values(self):  # function to return values\n",
    "        if type(self.dicti) == dict:\n",
    "            print(self.dicti.values())\n",
    "        else:\n",
    "            raise Exception (' only dictionary values will be taken.')\n",
    "\n",
    "    def add_new(self):  # function to add new data, not into main dictionary\n",
    "        self.new={}\n",
    "        keys = input(\"enter only the key : \")\n",
    "        values = input(\"enter only the value : \")\n",
    "        self.new[keys]=values  # add keys and values into  new {}\n",
    "        print(\"now entered is : \",self.new)\n",
    "        \n",
    "    def add_to_main(self,keys,values): # function to add new data into main dictionary\n",
    "        self.dicti[keys]=values\n",
    "        \n",
    "    def show(self):  # function to print all the data\n",
    "        print(self.dicti)"
   ]
  },
  {
   "cell_type": "code",
   "execution_count": 2,
   "id": "6d808067",
   "metadata": {},
   "outputs": [],
   "source": [
    "now = function({'a':'vinod','b':'kumar','c':'sai'})"
   ]
  },
  {
   "cell_type": "code",
   "execution_count": 3,
   "id": "491b9f25",
   "metadata": {},
   "outputs": [
    {
     "name": "stdout",
     "output_type": "stream",
     "text": [
      "dict_keys(['a', 'b', 'c'])\n"
     ]
    }
   ],
   "source": [
    "now.dict_keys()"
   ]
  },
  {
   "cell_type": "code",
   "execution_count": 4,
   "id": "8a8d369f",
   "metadata": {},
   "outputs": [
    {
     "name": "stdout",
     "output_type": "stream",
     "text": [
      "dict_values(['vinod', 'kumar', 'sai'])\n"
     ]
    }
   ],
   "source": [
    "now.dict_values()"
   ]
  },
  {
   "cell_type": "code",
   "execution_count": 5,
   "id": "85504311",
   "metadata": {},
   "outputs": [
    {
     "name": "stdout",
     "output_type": "stream",
     "text": [
      "enter only the key : d\n",
      "enter only the value : shreyas\n",
      "now entered is :  {'d': 'shreyas'}\n"
     ]
    }
   ],
   "source": [
    "now.add_new() # this will be just stored in new, not stored in main dictionary"
   ]
  },
  {
   "cell_type": "code",
   "execution_count": 6,
   "id": "2810dbd7",
   "metadata": {},
   "outputs": [
    {
     "name": "stdout",
     "output_type": "stream",
     "text": [
      "{'a': 'vinod', 'b': 'kumar', 'c': 'sai'}\n"
     ]
    }
   ],
   "source": [
    "now.show()"
   ]
  },
  {
   "cell_type": "code",
   "execution_count": 7,
   "id": "1732f8b2",
   "metadata": {},
   "outputs": [],
   "source": [
    "now.add_to_main('e','abhi') # this will be added to main dictionary"
   ]
  },
  {
   "cell_type": "code",
   "execution_count": 8,
   "id": "c9fe9fa9",
   "metadata": {},
   "outputs": [
    {
     "name": "stdout",
     "output_type": "stream",
     "text": [
      "{'a': 'vinod', 'b': 'kumar', 'c': 'sai', 'e': 'abhi'}\n"
     ]
    }
   ],
   "source": [
    "now.show()# only e key is added. d is not added"
   ]
  },
  {
   "cell_type": "markdown",
   "id": "1d940225",
   "metadata": {},
   "source": [
    "# 02. Inheritance\n",
    "Inheritance is a process of obtaining properties and characteristics(variables and methods) of another class. \n",
    "\n",
    "In this hierarchical order, the class which inherits another class is called subclass or child class, and the other class is the parent class.\n",
    "\n",
    "Inheritance allows us to define a class that inherits all the methods and properties from another class. \n",
    "\n",
    "Parent class is the class being inherited from, also called base class. \n",
    "\n",
    "Child class is the class that inherits from another class, also called derived class.\n",
    "\n",
    "Types of Inheritance :\n",
    "\n",
    "1. Single Inheritance.\n",
    "2. Multiple Inheritance.\n",
    "3. Multilevel Inheritance.\n",
    "4. Hierarchical Inheritance : When more than one derived class are created from a single base this type of inheritance is called hierarchical inheritance. In this program, we have a parent (base) class and two child (derived) classes.\n",
    "5. Hybrid Inheritance : Inheritance consisting of multiple types of inheritance is called hybrid inheritance."
   ]
  },
  {
   "cell_type": "markdown",
   "id": "1744f69e",
   "metadata": {},
   "source": [
    "### Single Inheritance"
   ]
  },
  {
   "cell_type": "code",
   "execution_count": 1,
   "id": "b418d184",
   "metadata": {},
   "outputs": [],
   "source": [
    "# first create a class(parent class) and then create another class(child class) : \n",
    "# this is parent class\n",
    "class parent:\n",
    "    def __init__(self, a, b, c):\n",
    "        self.a = a\n",
    "        self.b = b\n",
    "        self.c = c\n",
    "    \n",
    "    def test(self):\n",
    "        print(\"this is test in parent class\")\n",
    "    \n",
    "    def test1(self):\n",
    "        print(\"this is test1 in parent class\")\n",
    "        \n",
    "    def test2(self):\n",
    "        print(\"this is test2 in parent class\")\n",
    "        \n",
    "# child class :\n",
    "class child(parent):  # in this class no parameters/arguments. Just inherited the parent class parameters(a,b,c)\n",
    "    def test(self):\n",
    "        print(\"this is test from child class\")"
   ]
  },
  {
   "cell_type": "code",
   "execution_count": 2,
   "id": "5fd622b8",
   "metadata": {},
   "outputs": [],
   "source": [
    "par = parent(1,2,3) # this is for class parent\n",
    "chi = child(4,5,6)  # this is for class child(paramters are inherited from parent class)"
   ]
  },
  {
   "cell_type": "code",
   "execution_count": 3,
   "id": "d851c07a",
   "metadata": {},
   "outputs": [
    {
     "data": {
      "text/plain": [
       "1"
      ]
     },
     "execution_count": 3,
     "metadata": {},
     "output_type": "execute_result"
    }
   ],
   "source": [
    "par.a  # parent class value of a"
   ]
  },
  {
   "cell_type": "code",
   "execution_count": 5,
   "id": "51ec4dc3",
   "metadata": {},
   "outputs": [
    {
     "data": {
      "text/plain": [
       "4"
      ]
     },
     "execution_count": 5,
     "metadata": {},
     "output_type": "execute_result"
    }
   ],
   "source": [
    "chi.a  # child class (that inherites parent) value of a"
   ]
  },
  {
   "cell_type": "code",
   "execution_count": 6,
   "id": "ec84b514",
   "metadata": {},
   "outputs": [
    {
     "name": "stdout",
     "output_type": "stream",
     "text": [
      "this is test in parent class\n"
     ]
    }
   ],
   "source": [
    "par.test()"
   ]
  },
  {
   "cell_type": "code",
   "execution_count": 7,
   "id": "2386d4cb",
   "metadata": {},
   "outputs": [
    {
     "name": "stdout",
     "output_type": "stream",
     "text": [
      "this is test from child class\n"
     ]
    }
   ],
   "source": [
    "chi.test()"
   ]
  },
  {
   "cell_type": "markdown",
   "id": "320571aa",
   "metadata": {},
   "source": [
    "### multiple inheritance"
   ]
  },
  {
   "cell_type": "code",
   "execution_count": 7,
   "id": "6f42afb3",
   "metadata": {},
   "outputs": [],
   "source": [
    "class c1(object): # class one\n",
    "    def __init__(self):\n",
    "        self.str1 = \"vinod\"\n",
    "        print(\"class 1\")\n",
    " \n",
    " \n",
    "class c2(object): # class two\n",
    "    def __init__(self):\n",
    "        self.str2 = \"kumar\"\n",
    "        print(\"class 2\")\n",
    " \n",
    " \n",
    "class Derived(c1, c2):  # class contain 1st and 2nd class\n",
    "    def __init__(self):\n",
    " \n",
    "        # Calling constructors of c1\n",
    "        # and c2 classes\n",
    "        c1.__init__(self) # return print data of c1 class\n",
    "        c2.__init__(self) # return print data of c2 class\n",
    "        print(\"Derived\")\n",
    " \n",
    "    def allstr(self):\n",
    "        print(self.str1, self.str2) # str1 of class 1, str2 of class 2"
   ]
  },
  {
   "cell_type": "code",
   "execution_count": 8,
   "id": "e8339fec",
   "metadata": {},
   "outputs": [
    {
     "name": "stdout",
     "output_type": "stream",
     "text": [
      "class 1\n",
      "class 2\n",
      "Derived\n"
     ]
    }
   ],
   "source": [
    "out = Derived() # derived class which contain both c1 and c2 classes. "
   ]
  },
  {
   "cell_type": "code",
   "execution_count": 9,
   "id": "9b0f0944",
   "metadata": {},
   "outputs": [
    {
     "name": "stdout",
     "output_type": "stream",
     "text": [
      "vinod kumar\n"
     ]
    }
   ],
   "source": [
    "out.allstr() # allstr function which returns str1 and str2 of both c1 and c2 classes."
   ]
  },
  {
   "cell_type": "code",
   "execution_count": 17,
   "id": "54e334b8",
   "metadata": {},
   "outputs": [],
   "source": [
    "\n",
    "class parent(object):\n",
    "    \n",
    "    def __init__(self, name):  # only name will be given here\n",
    "        self.name = name\n",
    " \n",
    "    # To get name\n",
    "    def getName(self):\n",
    "        return self.name\n",
    " \n",
    " \n",
    "# Inherits parent class\n",
    "class Child(parent):\n",
    "\n",
    "    def __init__(self, name, age): \n",
    "        parent.__init__(self, name)  # get the name from parent class.\n",
    "        self.age = age               # age attribute getfrom in this class itself\n",
    " \n",
    "    # To get name\n",
    "    def getAge(self):\n",
    "        return self.age\n",
    "\n",
    "# Inherits both parent and child class\n",
    "class GrandChild(Child):\n",
    " \n",
    "    # Constructor\n",
    "    def __init__(self, name, age, address):\n",
    "        Child.__init__(self, name, age)   # get the name and age from child class (child inherits parent class)\n",
    "        self.address = address\n",
    " \n",
    "    # To get address\n",
    "    def getAddress(self):\n",
    "        return self.address"
   ]
  },
  {
   "cell_type": "code",
   "execution_count": 18,
   "id": "6ac582c2",
   "metadata": {},
   "outputs": [],
   "source": [
    "output = GrandChild(\"Krishna\", 23, \"banglore\")"
   ]
  },
  {
   "cell_type": "code",
   "execution_count": 19,
   "id": "1861b8ce",
   "metadata": {},
   "outputs": [
    {
     "name": "stdout",
     "output_type": "stream",
     "text": [
      "Krishna 23 banglore\n"
     ]
    }
   ],
   "source": [
    "# get output of name, age and address\n",
    "print(output.getName(), output.getAge(), output.getAddress())"
   ]
  },
  {
   "cell_type": "markdown",
   "id": "e4c8957e",
   "metadata": {},
   "source": [
    "# polymorphism :"
   ]
  },
  {
   "cell_type": "code",
   "execution_count": 3,
   "id": "3fc57534",
   "metadata": {},
   "outputs": [
    {
     "name": "stdout",
     "output_type": "stream",
     "text": [
      "len of word :  5\n",
      "len of list :  3\n"
     ]
    }
   ],
   "source": [
    "# these are in-built polymorphic functions :\n",
    "\n",
    "# len() being used for a string\n",
    "print(\"len of word : \" , len(\"vinod\"))\n",
    " \n",
    "# len() being used for a list\n",
    "print(\"len of list : \" , len([10, 20, 30]))"
   ]
  },
  {
   "cell_type": "code",
   "execution_count": 4,
   "id": "c1ec66c0",
   "metadata": {},
   "outputs": [
    {
     "name": "stdout",
     "output_type": "stream",
     "text": [
      "sum of two numbers :  5\n",
      "sum of three numbers :  9\n"
     ]
    }
   ],
   "source": [
    "# user defined polymorphic functions :\n",
    "\n",
    "def add(x, y, z = 0):  # i assigned value 0. while calling add, you can give or drop z value no problem\n",
    "    return x + y + z\n",
    " \n",
    "# Driver code\n",
    "print(\"sum of two numbers : \", add(2, 3))\n",
    "print(\"sum of three numbers : \", add(2, 3, 4))"
   ]
  },
  {
   "cell_type": "code",
   "execution_count": 6,
   "id": "7e398555",
   "metadata": {},
   "outputs": [],
   "source": [
    "class man1():\n",
    "    def name(self):\n",
    "        print(\"Vinod Kumar\")\n",
    "    \n",
    "    def height(self):\n",
    "        print(\"5.6\")\n",
    " \n",
    "    def language(self):\n",
    "        print(\"Telugu\")\n",
    "        \n",
    "    def place(self):\n",
    "        print(\"Banglore\")\n",
    " \n",
    " \n",
    "class man2():\n",
    "    def name(self):\n",
    "        print(\"Sai Kumar\")\n",
    "    \n",
    "    def height(self):\n",
    "        print(\"5.9\")\n",
    " \n",
    "    def language(self):\n",
    "        print(\"English\")\n",
    "        \n",
    "    def place(self):\n",
    "        print(\"Banglore\")"
   ]
  },
  {
   "cell_type": "code",
   "execution_count": 8,
   "id": "1bab95e0",
   "metadata": {},
   "outputs": [
    {
     "name": "stdout",
     "output_type": "stream",
     "text": [
      "Vinod Kumar\n",
      "5.6\n",
      "Telugu\n",
      "Banglore\n",
      "Sai Kumar\n",
      "5.9\n",
      "English\n",
      "Banglore\n"
     ]
    }
   ],
   "source": [
    "m1 = man1()  # m1 is man 1\n",
    "m2 = man2()  # m2 is man 2\n",
    "for details in (m1, m2):  \n",
    "    details.name()      # both person's name\n",
    "    details.height()    # both person's height\n",
    "    details.language()  # both person's language\n",
    "    details.place()     # both person's place"
   ]
  },
  {
   "cell_type": "code",
   "execution_count": 4,
   "id": "c0311325",
   "metadata": {},
   "outputs": [],
   "source": [
    "# example for polymorphism with inheritance\n",
    "\n",
    "class animal:\n",
    "    def intro(self):\n",
    "        print(\"There are many types of animals in the world.\")\n",
    "    \n",
    "    def types(self):\n",
    "        print(\"Wild animals and Domestic animals.\")\n",
    "        \n",
    "class wild(animal):  # class wild inherits animal class\n",
    "    def types(self):\n",
    "        print(\"Lion, tiger, cheetah\")\n",
    "        \n",
    "class domestic(animal):   # clas domestic inherits animal class.\n",
    "    def types(self):\n",
    "        print(\"dog, cat, cow, monkey\")"
   ]
  },
  {
   "cell_type": "code",
   "execution_count": 5,
   "id": "92236774",
   "metadata": {},
   "outputs": [],
   "source": [
    "ani = animal()\n",
    "ani_wild_ = wild()\n",
    "ani_domestic_ = domestic()"
   ]
  },
  {
   "cell_type": "code",
   "execution_count": 6,
   "id": "2350ed5a",
   "metadata": {},
   "outputs": [
    {
     "name": "stdout",
     "output_type": "stream",
     "text": [
      "There are many types of animals in the world.\n",
      "Wild animals and Domestic animals.\n",
      "There are many types of animals in the world.\n",
      "Lion, tiger, cheetah\n",
      "There are many types of animals in the world.\n",
      "dog, cat, cow, monkey\n"
     ]
    }
   ],
   "source": [
    "ani.intro()\n",
    "ani.types()\n",
    " \n",
    "ani_wild_.intro() # class wild inherits animal class, so intro function we can access\n",
    "ani_wild_.types()\n",
    " \n",
    "ani_domestic_.intro()\n",
    "ani_domestic_.types()"
   ]
  },
  {
   "cell_type": "markdown",
   "id": "720b904e",
   "metadata": {},
   "source": [
    "# Encapsulation :\n",
    "Encapsulation is a mechanism of wrapping the data (variables) and code acting on the data (methods) together as a single unit. In encapsulation, the variables of a class will be hidden from other classes, and can be accessed only through the methods of their current class.\n",
    "\n",
    "### Protected members :\n",
    "To accomplish this in Python, just follow the convention by prefixing the name of the member by a single underscore \"_\".\n",
    "### private members :\n",
    "However, to define a private member, prefix the member's name with double underscore \"__\"."
   ]
  },
  {
   "cell_type": "code",
   "execution_count": 8,
   "id": "511267b4",
   "metadata": {},
   "outputs": [
    {
     "name": "stdout",
     "output_type": "stream",
     "text": [
      "name is :  vinod\n",
      "age is :  22\n",
      "sex is :  male\n"
     ]
    }
   ],
   "source": [
    "class student:\n",
    "    def __init__(self,name,age,sex):\n",
    "        self.name = name\n",
    "        self._age = age  # protected member\n",
    "        self._sex = sex  # protected member\n",
    "        \n",
    "    def det(self):\n",
    "        print(\"age is : \", self._age)  # accessing protected member in the same class\n",
    "        print(\"sex is : \", self._sex)  # accessing protected member in the same class\n",
    "        \n",
    "class out(student):\n",
    "    def __init__(self,name,age,sex):\n",
    "        student.__init__(self,name,age,sex)  # calling details\n",
    "        \n",
    "    def details(self):\n",
    "        print('name is : ',self.name)\n",
    "        self.det()\n",
    "\n",
    "        \n",
    "        \n",
    "x = out('vinod',22,'male')\n",
    "x.details()"
   ]
  },
  {
   "cell_type": "code",
   "execution_count": 14,
   "id": "106c9834",
   "metadata": {},
   "outputs": [
    {
     "name": "stdout",
     "output_type": "stream",
     "text": [
      "name is :  vinod\n",
      "age is :  22\n",
      "sex is :  male\n"
     ]
    }
   ],
   "source": [
    "class student:\n",
    "    def __init__(self,name,age,sex):\n",
    "        self.name = name\n",
    "        self._age = age  # protected member\n",
    "        self._sex = sex  # protected member\n",
    "        \n",
    "class out(student):\n",
    "    def __init__(self,name,age,sex):\n",
    "        student.__init__(self,name,age,sex)  # calling details\n",
    "        \n",
    "    def details(self):\n",
    "        print('name is : ',self.name)\n",
    "        print('age is : ', self._age)\n",
    "        print('sex is : ', self._sex)\n",
    "        \n",
    "        \n",
    "\n",
    "x = out('vinod',22,'male')\n",
    "x.details()"
   ]
  },
  {
   "cell_type": "code",
   "execution_count": 16,
   "id": "6ce0d0f7",
   "metadata": {},
   "outputs": [
    {
     "name": "stdout",
     "output_type": "stream",
     "text": [
      "name is :  vinod\n"
     ]
    },
    {
     "ename": "AttributeError",
     "evalue": "'out' object has no attribute '_out__age'",
     "output_type": "error",
     "traceback": [
      "\u001b[1;31m---------------------------------------------------------------------------\u001b[0m",
      "\u001b[1;31mAttributeError\u001b[0m                            Traceback (most recent call last)",
      "Input \u001b[1;32mIn [16]\u001b[0m, in \u001b[0;36m<cell line: 18>\u001b[1;34m()\u001b[0m\n\u001b[0;32m     15\u001b[0m         \u001b[38;5;66;03m# if you try to print the age n sex directly here u won't ge data, coz they are private members\u001b[39;00m\n\u001b[0;32m     17\u001b[0m x \u001b[38;5;241m=\u001b[39m out(\u001b[38;5;124m'\u001b[39m\u001b[38;5;124mvinod\u001b[39m\u001b[38;5;124m'\u001b[39m,\u001b[38;5;241m22\u001b[39m,\u001b[38;5;124m'\u001b[39m\u001b[38;5;124mmale\u001b[39m\u001b[38;5;124m'\u001b[39m)\n\u001b[1;32m---> 18\u001b[0m \u001b[43mx\u001b[49m\u001b[38;5;241;43m.\u001b[39;49m\u001b[43mdetails\u001b[49m\u001b[43m(\u001b[49m\u001b[43m)\u001b[49m\n",
      "Input \u001b[1;32mIn [16]\u001b[0m, in \u001b[0;36mout.details\u001b[1;34m(self)\u001b[0m\n\u001b[0;32m     11\u001b[0m \u001b[38;5;28;01mdef\u001b[39;00m \u001b[38;5;21mdetails\u001b[39m(\u001b[38;5;28mself\u001b[39m):\n\u001b[0;32m     12\u001b[0m     \u001b[38;5;28mprint\u001b[39m(\u001b[38;5;124m'\u001b[39m\u001b[38;5;124mname is : \u001b[39m\u001b[38;5;124m'\u001b[39m,\u001b[38;5;28mself\u001b[39m\u001b[38;5;241m.\u001b[39mname)\n\u001b[1;32m---> 13\u001b[0m     \u001b[38;5;28mprint\u001b[39m(\u001b[38;5;124m'\u001b[39m\u001b[38;5;124mage is : \u001b[39m\u001b[38;5;124m'\u001b[39m, \u001b[38;5;28;43mself\u001b[39;49m\u001b[38;5;241;43m.\u001b[39;49m\u001b[43m__age\u001b[49m) \u001b[38;5;66;03m# accessing age which is private\u001b[39;00m\n\u001b[0;32m     14\u001b[0m     \u001b[38;5;28mprint\u001b[39m(\u001b[38;5;124m'\u001b[39m\u001b[38;5;124msex is : \u001b[39m\u001b[38;5;124m'\u001b[39m, \u001b[38;5;28mself\u001b[39m\u001b[38;5;241m.\u001b[39m__sex)\n",
      "\u001b[1;31mAttributeError\u001b[0m: 'out' object has no attribute '_out__age'"
     ]
    }
   ],
   "source": [
    "class student:\n",
    "    def __init__(self,name,age,sex):\n",
    "        self.name = name\n",
    "        self.__age = age  # private member\n",
    "        self.__sex = sex  # Privated member\n",
    "        \n",
    "class out(student):\n",
    "    def __init__(self,name,age,sex):\n",
    "        student.__init__(self,name,age,sex)  # calling details\n",
    "        \n",
    "    def details(self):\n",
    "        print('name is : ',self.name)\n",
    "        print('age is : ', self.__age) # accessing age which is private\n",
    "        print('sex is : ', self.__sex) # accessing sex which is private\n",
    "        # if you try to print the age n sex directly here u won't ge data, coz they are private members\n",
    "\n",
    "x = out('vinod',22,'male')\n",
    "x.details()"
   ]
  },
  {
   "cell_type": "code",
   "execution_count": 18,
   "id": "64e7746d",
   "metadata": {},
   "outputs": [
    {
     "name": "stdout",
     "output_type": "stream",
     "text": [
      "name is :  sai\n",
      "age is :  22\n",
      "sex is :  female\n"
     ]
    }
   ],
   "source": [
    "class student:\n",
    "    def __init__(self,name,age,sex):\n",
    "        self.name = name\n",
    "        self.__age = age  # private member\n",
    "        self.__sex = sex  # private member\n",
    "     \n",
    "    # this function is giving access to the other classes\n",
    "    def det(self):\n",
    "        print(\"age is : \", self.__age)  # accessing private member in the same class\n",
    "        print(\"sex is : \", self.__sex)  # accessing private member in the same class\n",
    "        \n",
    "class out(student):\n",
    "    def __init__(self,name,age,sex):\n",
    "        student.__init__(self,name,age,sex)  # calling details\n",
    "        \n",
    "    def details(self):\n",
    "        print('name is : ',self.name)\n",
    "        self.det()\n",
    "\n",
    "        \n",
    "        \n",
    "x = out('sai',22,'female')\n",
    "x.details()"
   ]
  },
  {
   "cell_type": "markdown",
   "id": "208429db",
   "metadata": {},
   "source": [
    "# data  abstraction\n",
    "\n",
    "Abstraction means displaying only essential information and hiding the details."
   ]
  },
  {
   "cell_type": "code",
   "execution_count": 5,
   "id": "c8a362d1",
   "metadata": {},
   "outputs": [],
   "source": [
    "# abstrction (using multiple inheritance concept):\n",
    "class one:   # main or parent class\n",
    "    def statement(self):\n",
    "        pass  # pass means, pass even it doesn't contain any data and doesn't raise an error\n",
    "\n",
    "    \n",
    "# from here we are writing code to add data into statement() function\n",
    "class two(one):  # inherits class one\n",
    "    def statement(self):\n",
    "        print(\"Overridden statement() from class two\")\n",
    "        \n",
    "class three(one):  # inherits class one\n",
    "    def statement(self):\n",
    "        print(\"overridden statement() from class three\")\n",
    "        \n",
    "class four(one):  # inherits class one\n",
    "    def statement(self):\n",
    "        print(\"overridden statement() from class four\")"
   ]
  },
  {
   "cell_type": "code",
   "execution_count": 6,
   "id": "3b555213",
   "metadata": {},
   "outputs": [
    {
     "name": "stdout",
     "output_type": "stream",
     "text": [
      "Overridden statement() from class two\n",
      "overridden statement() from class three\n",
      "overridden statement() from class four\n"
     ]
    }
   ],
   "source": [
    "p = two()\n",
    "p.statement()\n",
    "\n",
    "q = three()\n",
    "q.statement()\n",
    "\n",
    "r = four()\n",
    "r.statement()"
   ]
  },
  {
   "cell_type": "code",
   "execution_count": 9,
   "id": "75034bd0",
   "metadata": {},
   "outputs": [],
   "source": [
    "class Animal():\n",
    "    def move(self):\n",
    "        pass\n",
    " \n",
    "\n",
    "class Human(Animal):\n",
    "    def move(self):\n",
    "        print(\"I can walk and run\")\n",
    " \n",
    "\n",
    "class Snake(Animal):\n",
    "    def move(self):\n",
    "        print(\"I can crawl\")\n",
    " \n",
    "\n",
    "class Dog(Animal):\n",
    "    def move(self):\n",
    "        print(\"I can bark\")\n",
    " \n",
    "\n",
    "class Lion(Animal):\n",
    "    def move(self):\n",
    "        print(\"I can roar\")"
   ]
  },
  {
   "cell_type": "code",
   "execution_count": 10,
   "id": "31c165d4",
   "metadata": {},
   "outputs": [
    {
     "name": "stdout",
     "output_type": "stream",
     "text": [
      "I can walk and run\n",
      "I can crawl\n",
      "I can bark\n",
      "I can roar\n"
     ]
    }
   ],
   "source": [
    "H = Human()\n",
    "H.move()\n",
    " \n",
    "S = Snake()\n",
    "S.move()\n",
    " \n",
    "D = Dog()\n",
    "D.move()\n",
    " \n",
    "L = Lion()\n",
    "L.move()"
   ]
  },
  {
   "cell_type": "code",
   "execution_count": 14,
   "id": "cf7f6f29",
   "metadata": {},
   "outputs": [],
   "source": [
    " from abc import abstractmethod   # absractmethod module\n",
    "\n",
    "class Polygon():\n",
    "    @abstractmethod\n",
    "    def noofsides(self):\n",
    "        pass\n",
    " \n",
    "\n",
    "class Triangle(Polygon):\n",
    "    # overriding abstract method\n",
    "    def noofsides(self):\n",
    "        print(\"I have 3 sides\")\n",
    " \n",
    "\n",
    "class Pentagon(Polygon):\n",
    "    # overriding abstract method\n",
    "    def noofsides(self):\n",
    "        print(\"I have 5 sides\")\n",
    " \n",
    "\n",
    "class Hexagon(Polygon):\n",
    "    # overriding abstract method\n",
    "    def noofsides(self):\n",
    "        print(\"I have 6 sides\")\n",
    " \n",
    "\n",
    "class Quadrilateral(Polygon):\n",
    "    # overriding abstract method\n",
    "    def noofsides(self):\n",
    "        print(\"I have 4 sides\")"
   ]
  },
  {
   "cell_type": "code",
   "execution_count": 15,
   "id": "5b3b455d",
   "metadata": {},
   "outputs": [
    {
     "name": "stdout",
     "output_type": "stream",
     "text": [
      "I have 3 sides\n",
      "I have 4 sides\n",
      "I have 5 sides\n",
      "I have 6 sides\n"
     ]
    }
   ],
   "source": [
    "R = Triangle()\n",
    "R.noofsides()\n",
    " \n",
    "K = Quadrilateral()\n",
    "K.noofsides()\n",
    " \n",
    "R = Pentagon()\n",
    "R.noofsides()\n",
    " \n",
    "K = Hexagon()\n",
    "K.noofsides()"
   ]
  },
  {
   "cell_type": "code",
   "execution_count": null,
   "id": "2d29892d",
   "metadata": {},
   "outputs": [],
   "source": []
  },
  {
   "cell_type": "code",
   "execution_count": null,
   "id": "7381ee23",
   "metadata": {},
   "outputs": [],
   "source": []
  },
  {
   "cell_type": "code",
   "execution_count": null,
   "id": "272070bf",
   "metadata": {},
   "outputs": [],
   "source": []
  },
  {
   "cell_type": "code",
   "execution_count": null,
   "id": "d9332104",
   "metadata": {},
   "outputs": [],
   "source": []
  },
  {
   "cell_type": "code",
   "execution_count": null,
   "id": "29b7e94e",
   "metadata": {},
   "outputs": [],
   "source": []
  },
  {
   "cell_type": "code",
   "execution_count": null,
   "id": "ec68854a",
   "metadata": {},
   "outputs": [],
   "source": []
  },
  {
   "cell_type": "code",
   "execution_count": null,
   "id": "025792d0",
   "metadata": {},
   "outputs": [],
   "source": []
  },
  {
   "cell_type": "code",
   "execution_count": null,
   "id": "89b99650",
   "metadata": {},
   "outputs": [],
   "source": []
  },
  {
   "cell_type": "code",
   "execution_count": null,
   "id": "bd09acda",
   "metadata": {},
   "outputs": [],
   "source": []
  },
  {
   "cell_type": "code",
   "execution_count": null,
   "id": "f7026d35",
   "metadata": {},
   "outputs": [],
   "source": []
  },
  {
   "cell_type": "code",
   "execution_count": null,
   "id": "d06dbb5c",
   "metadata": {},
   "outputs": [],
   "source": []
  },
  {
   "cell_type": "code",
   "execution_count": null,
   "id": "c9b9c1c3",
   "metadata": {},
   "outputs": [],
   "source": []
  },
  {
   "cell_type": "code",
   "execution_count": null,
   "id": "87698da5",
   "metadata": {},
   "outputs": [],
   "source": []
  }
 ],
 "metadata": {
  "kernelspec": {
   "display_name": "Python 3 (ipykernel)",
   "language": "python",
   "name": "python3"
  },
  "language_info": {
   "codemirror_mode": {
    "name": "ipython",
    "version": 3
   },
   "file_extension": ".py",
   "mimetype": "text/x-python",
   "name": "python",
   "nbconvert_exporter": "python",
   "pygments_lexer": "ipython3",
   "version": "3.9.7"
  }
 },
 "nbformat": 4,
 "nbformat_minor": 5
}
