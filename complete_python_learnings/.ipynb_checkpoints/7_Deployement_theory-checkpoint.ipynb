{
 "cells": [
  {
   "cell_type": "markdown",
   "id": "bdb88efe",
   "metadata": {},
   "source": [
    "# Deployement :"
   ]
  },
  {
   "cell_type": "markdown",
   "id": "c318cecc",
   "metadata": {},
   "source": [
    "#### It means making your local code into production level code. That means sending your local code to the production.#### \n",
    " 1. You develop your code\n",
    " 2. Sends your code to testing\n",
    " (All tests passed in testing then,)\n",
    " 3. releases to production.\n",
    " 4. Your project will use all other users."
   ]
  },
  {
   "cell_type": "markdown",
   "id": "370ec91f",
   "metadata": {},
   "source": [
    "### So there are three famous platforms to push code for deploy :\n",
    "1. Heroku \n",
    "2. AWS : Amazon Web Services \n",
    "3. AZURE : Developed by Microsoft."
   ]
  },
  {
   "cell_type": "markdown",
   "id": "a22a285b",
   "metadata": {},
   "source": [
    "Heroku is offering free to user to deploy.  \n",
    "It gives 500 apps storage."
   ]
  },
  {
   "cell_type": "markdown",
   "id": "8c58f8c5",
   "metadata": {},
   "source": [
    "Create new app "
   ]
  },
  {
   "cell_type": "markdown",
   "id": "c11a18c7",
   "metadata": {},
   "source": [
    "### There are 3 ways to push your code :\n",
    "1. Heroku Git : Push code into heroku git, from their you can productionaize.\n",
    "2. Github : push your code too you Githubprofile, from their ypu can productionize.\n",
    "3. Container repository : Push your code into container like Docker, from their you can productionaize."
   ]
  },
  {
   "cell_type": "markdown",
   "id": "6560795f",
   "metadata": {},
   "source": [
    "\n",
    "#### * If you have to push your code into Heroku CLI then install Heroku CLI application. \n",
    "#### * Open Anaconda prompt in Admin mode and check Heroku installed or not (type : 'Heroku' and enter). \n",
    "#### * Change your cd to project path(folder which contain all you code). \n",
    "#### * pip install PyGithub  or  pip install GitPython  # Helps to interact python with Github. \n",
    "#### * Check for Git is available or not (type : 'git' and enter)\n",
    "#### * You can create new Env or you can do in base Env, no issues(To create new Env :  conda  create  -n  <new_env_name>\" and   install  python -  python==3.7).  \n",
    "#### * Login into Heroku ( heroku login)\n",
    "#### (It will redirect to browser to login) and (local is connected to Heroku).  \n",
    "#### (If you get local issue, diasble your fire wall or defender).  \n",
    "#### * Create a git repository :\n",
    "#### **  git init (initialize the git).  \n",
    "#### **  git status (gives the status that  new files added or removed).  \n",
    "#### **  heroku git:remote -a <app_name>\n",
    "#### "
   ]
  },
  {
   "cell_type": "markdown",
   "id": "807c6e62",
   "metadata": {},
   "source": []
  },
  {
   "cell_type": "markdown",
   "id": "12613428",
   "metadata": {},
   "source": []
  },
  {
   "cell_type": "markdown",
   "id": "0bd13029",
   "metadata": {},
   "source": []
  },
  {
   "cell_type": "markdown",
   "id": "26842c6b",
   "metadata": {},
   "source": []
  },
  {
   "cell_type": "markdown",
   "id": "a14d38cf",
   "metadata": {},
   "source": []
  },
  {
   "cell_type": "markdown",
   "id": "bbf8baf7",
   "metadata": {},
   "source": []
  },
  {
   "cell_type": "markdown",
   "id": "5c1ab5c6",
   "metadata": {},
   "source": []
  },
  {
   "cell_type": "markdown",
   "id": "15011ba7",
   "metadata": {},
   "source": []
  },
  {
   "cell_type": "markdown",
   "id": "11c7f70b",
   "metadata": {},
   "source": []
  },
  {
   "cell_type": "markdown",
   "id": "c9ee83eb",
   "metadata": {},
   "source": []
  },
  {
   "cell_type": "markdown",
   "id": "125be10d",
   "metadata": {},
   "source": []
  },
  {
   "cell_type": "markdown",
   "id": "87e02498",
   "metadata": {},
   "source": []
  },
  {
   "cell_type": "markdown",
   "id": "24a0068d",
   "metadata": {},
   "source": []
  }
 ],
 "metadata": {
  "kernelspec": {
   "display_name": "Python 3 (ipykernel)",
   "language": "python",
   "name": "python3"
  },
  "language_info": {
   "codemirror_mode": {
    "name": "ipython",
    "version": 3
   },
   "file_extension": ".py",
   "mimetype": "text/x-python",
   "name": "python",
   "nbconvert_exporter": "python",
   "pygments_lexer": "ipython3",
   "version": "3.9.7"
  }
 },
 "nbformat": 4,
 "nbformat_minor": 5
}
