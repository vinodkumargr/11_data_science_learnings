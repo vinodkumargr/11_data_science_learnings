{
 "cells": [
  {
   "cell_type": "markdown",
   "id": "3b1ede3f",
   "metadata": {},
   "source": [
    "01) --> count number of letters in str without using count function :"
   ]
  },
  {
   "cell_type": "code",
   "execution_count": 1,
   "id": "e209ca0f",
   "metadata": {},
   "outputs": [
    {
     "name": "stdout",
     "output_type": "stream",
     "text": [
      "{'m': 2, 'a': 2, 'd': 1}\n"
     ]
    }
   ],
   "source": [
    "str='madam'\n",
    "a={}\n",
    "for i in str:\n",
    "    if i in a:\n",
    "        a[i]=a[i]+1\n",
    "    else:\n",
    "        a[i]=1\n",
    "print(a)"
   ]
  },
  {
   "cell_type": "markdown",
   "id": "e4b93c07",
   "metadata": {},
   "source": [
    "-------------------------------------------------------------------------------------------------------------------------------"
   ]
  },
  {
   "cell_type": "markdown",
   "id": "4377f3fd",
   "metadata": {},
   "source": [
    "02) --> you have to write a fun which will take string and return a len of it without using a inbuilt fun len."
   ]
  },
  {
   "cell_type": "code",
   "execution_count": 2,
   "id": "2cc5e1cd",
   "metadata": {},
   "outputs": [
    {
     "name": "stdout",
     "output_type": "stream",
     "text": [
      "5\n"
     ]
    }
   ],
   "source": [
    "# with len function:\n",
    "def f1(a):\n",
    "    print(len(a))\n",
    "\n",
    "f1('vinod')"
   ]
  },
  {
   "cell_type": "code",
   "execution_count": 3,
   "id": "a9016893",
   "metadata": {},
   "outputs": [
    {
     "name": "stdout",
     "output_type": "stream",
     "text": [
      "10\n"
     ]
    }
   ],
   "source": [
    "# without length function : \n",
    "def f1(b):\n",
    "    c=0\n",
    "    for i in b:\n",
    "        c += 1\n",
    "    print(c)\n",
    "    \n",
    "f1('vinodkumar')        "
   ]
  },
  {
   "cell_type": "markdown",
   "id": "b214f826",
   "metadata": {},
   "source": [
    "-------------------------------------------------------------------------------------------------"
   ]
  },
  {
   "cell_type": "markdown",
   "id": "6b4d2634",
   "metadata": {},
   "source": [
    "03) --> write a fun which will be able to print an index of all premitive element which you will pass "
   ]
  },
  {
   "cell_type": "code",
   "execution_count": 4,
   "id": "17572eac",
   "metadata": {
    "scrolled": true
   },
   "outputs": [],
   "source": [
    "def f2(*a):\n",
    "    for i in a:\n",
    "        for s in enumerate(i):\n",
    "            print(s)\n"
   ]
  },
  {
   "cell_type": "code",
   "execution_count": 5,
   "id": "99666598",
   "metadata": {},
   "outputs": [
    {
     "name": "stdout",
     "output_type": "stream",
     "text": [
      "(0, True)\n",
      "(1, False)\n",
      "(2, 1)\n",
      "(3, 2)\n",
      "(4, 3)\n",
      "(5, 4)\n",
      "(6, 5)\n",
      "(7, 'vinod')\n",
      "(8, 'kumar')\n",
      "(9, (1, 2, 3, 4))\n"
     ]
    }
   ],
   "source": [
    "f2([True,False,1,2,3,4,5,'vinod','kumar',(1,2,3,4)])"
   ]
  },
  {
   "cell_type": "markdown",
   "id": "c4a97f14",
   "metadata": {},
   "source": [
    "-----------------------------------------------------------------------------------------------------------------------"
   ]
  },
  {
   "cell_type": "markdown",
   "id": "4aeb1f07",
   "metadata": {},
   "source": [
    "04) --> Write a fun which will take input as a dict and give me out as a list of all the values even in case of 2 level nesting it should work ."
   ]
  },
  {
   "cell_type": "code",
   "execution_count": 6,
   "id": "6d090238",
   "metadata": {},
   "outputs": [],
   "source": [
    "def f3(**a):\n",
    "    s=dict(a)\n",
    "    print(s.values())"
   ]
  },
  {
   "cell_type": "code",
   "execution_count": 7,
   "id": "97079631",
   "metadata": {},
   "outputs": [
    {
     "name": "stdout",
     "output_type": "stream",
     "text": [
      "dict_values(['vinod', 'kumar', 'sai', {'a': 'abhi', 'b': 'shreyas'}, [11, 22, 33]])\n"
     ]
    }
   ],
   "source": [
    "f3(n='vinod',n1=\"kumar\",n2=\"sai\",n3={'a':'abhi','b':'shreyas'},n4=[11,22,33])"
   ]
  },
  {
   "cell_type": "code",
   "execution_count": 8,
   "id": "4018a883",
   "metadata": {},
   "outputs": [],
   "source": [
    "# it will print the type of data you enter\n",
    "def d1(*args):\n",
    "    dt={}\n",
    "    for i in args:\n",
    "        if type(i) in dt:\n",
    "            dt[type(i)].append(i)\n",
    "        else:\n",
    "            dt[type(i)] = [i]\n",
    "    return dt"
   ]
  },
  {
   "cell_type": "code",
   "execution_count": 9,
   "id": "f7b365cc",
   "metadata": {},
   "outputs": [
    {
     "data": {
      "text/plain": [
       "{str: ['vinod', 'kumar'],\n",
       " bool: [True, False],\n",
       " int: [1, 2, 3, 4],\n",
       " complex: [(6+7j)],\n",
       " float: [5.666]}"
      ]
     },
     "execution_count": 9,
     "metadata": {},
     "output_type": "execute_result"
    }
   ],
   "source": [
    "d1('vinod','kumar',True,False,1,2,3,4,6+7j,5.666)"
   ]
  },
  {
   "cell_type": "markdown",
   "id": "11a76564",
   "metadata": {},
   "source": [
    "-----------------------------------------------------------------------------------------------------------------------"
   ]
  },
  {
   "cell_type": "markdown",
   "id": "7226d797",
   "metadata": {},
   "source": [
    "05) --> write a fun which will take another function as an input and return me an output"
   ]
  },
  {
   "cell_type": "code",
   "execution_count": 10,
   "id": "8bc7fc39",
   "metadata": {},
   "outputs": [],
   "source": [
    "def add():\n",
    "    a = int(input(\"enter a : \"))\n",
    "    b = int(input(\"enter b : \"))\n",
    "    print(a+b)\n",
    "def mul():\n",
    "    c = int(input(\"enter c : \"))\n",
    "    d = int(input(\"enter d : \"))\n",
    "    print(c*d)\n",
    "\n",
    "def out(fun):\n",
    "    out1 = add\n",
    "    out2 = mul\n",
    "    "
   ]
  },
  {
   "cell_type": "code",
   "execution_count": 11,
   "id": "acff8d9f",
   "metadata": {},
   "outputs": [
    {
     "name": "stdout",
     "output_type": "stream",
     "text": [
      "enter a : 5\n",
      "enter b : 5\n",
      "10\n"
     ]
    }
   ],
   "source": [
    "out(add())"
   ]
  },
  {
   "cell_type": "code",
   "execution_count": 12,
   "id": "16664147",
   "metadata": {},
   "outputs": [
    {
     "name": "stdout",
     "output_type": "stream",
     "text": [
      "enter c : 4\n",
      "enter d : 6\n",
      "24\n"
     ]
    }
   ],
   "source": [
    "out(mul())"
   ]
  },
  {
   "cell_type": "markdown",
   "id": "f1bb66b5",
   "metadata": {},
   "source": [
    "06) --> write a function which will take multiple list as a input and give me concatnation of all the element as and output "
   ]
  },
  {
   "cell_type": "code",
   "execution_count": 13,
   "id": "d9306073",
   "metadata": {},
   "outputs": [],
   "source": [
    "def fun(*a):\n",
    "    for i in a:\n",
    "        v = sum(i)\n",
    "        print(v)"
   ]
  },
  {
   "cell_type": "code",
   "execution_count": 14,
   "id": "6fa059ee",
   "metadata": {},
   "outputs": [
    {
     "name": "stdout",
     "output_type": "stream",
     "text": [
      "10\n",
      "16\n"
     ]
    }
   ],
   "source": [
    "fun([1,2,3,4],[2,3,5,6]) "
   ]
  },
  {
   "cell_type": "code",
   "execution_count": 15,
   "id": "93d20d38",
   "metadata": {},
   "outputs": [
    {
     "name": "stdout",
     "output_type": "stream",
     "text": [
      "10\n",
      "16\n",
      "40\n",
      "10\n"
     ]
    }
   ],
   "source": [
    "fun([1,2,3,4],[2,3,5,6],[10,20,10],[2,2,2,2,2])"
   ]
  },
  {
   "cell_type": "code",
   "execution_count": 16,
   "id": "4aa4f385",
   "metadata": {},
   "outputs": [
    {
     "name": "stdout",
     "output_type": "stream",
     "text": [
      "5\n",
      "12\n",
      "40\n"
     ]
    }
   ],
   "source": [
    "fun([1,1,1,1,1],[2,2,2,2,2,2],[10,10,10,10])"
   ]
  },
  {
   "cell_type": "code",
   "execution_count": null,
   "id": "7035428a",
   "metadata": {},
   "outputs": [],
   "source": []
  },
  {
   "cell_type": "markdown",
   "id": "098c275c",
   "metadata": {},
   "source": [
    "07) --> write a function which will be able to take a list as an input return an index of each element like a inbuilt index function but even if we have repetative element it should return index."
   ]
  },
  {
   "cell_type": "code",
   "execution_count": 1,
   "id": "beb2feb9",
   "metadata": {},
   "outputs": [],
   "source": [
    "\n",
    "def func():\n",
    "    #lst = input(\"enter a list format : \")\n",
    "    a = []\n",
    "    for i in lst:\n",
    "        print(lst.index(i))"
   ]
  },
  {
   "cell_type": "code",
   "execution_count": 2,
   "id": "4bd26e12",
   "metadata": {
    "scrolled": true
   },
   "outputs": [
    {
     "name": "stdout",
     "output_type": "stream",
     "text": [
      "enter a list format : [1,2,3,4,5,6,]\n",
      "0\n",
      "1\n",
      "2\n",
      "3\n",
      "2\n",
      "5\n",
      "2\n",
      "7\n",
      "2\n",
      "9\n",
      "2\n",
      "11\n",
      "2\n",
      "13\n"
     ]
    }
   ],
   "source": [
    "func()"
   ]
  },
  {
   "cell_type": "code",
   "execution_count": 21,
   "id": "ab21ca2c",
   "metadata": {},
   "outputs": [],
   "source": [
    "lst1 = [1,1,1,2,2,3,3,3,4,4,5,5,6,6,6,7]"
   ]
  },
  {
   "cell_type": "code",
   "execution_count": 22,
   "id": "77ac5093",
   "metadata": {},
   "outputs": [
    {
     "name": "stdout",
     "output_type": "stream",
     "text": [
      "0\n",
      "0\n",
      "0\n",
      "3\n",
      "3\n",
      "5\n",
      "5\n",
      "5\n",
      "8\n",
      "8\n",
      "10\n",
      "10\n",
      "12\n",
      "12\n",
      "12\n",
      "15\n"
     ]
    }
   ],
   "source": [
    "func(lst1)"
   ]
  },
  {
   "cell_type": "code",
   "execution_count": null,
   "id": "7e7a02f9",
   "metadata": {},
   "outputs": [],
   "source": []
  },
  {
   "cell_type": "code",
   "execution_count": null,
   "id": "d31a03d9",
   "metadata": {},
   "outputs": [],
   "source": []
  }
 ],
 "metadata": {
  "kernelspec": {
   "display_name": "Python 3 (ipykernel)",
   "language": "python",
   "name": "python3"
  },
  "language_info": {
   "codemirror_mode": {
    "name": "ipython",
    "version": 3
   },
   "file_extension": ".py",
   "mimetype": "text/x-python",
   "name": "python",
   "nbconvert_exporter": "python",
   "pygments_lexer": "ipython3",
   "version": "3.9.7"
  }
 },
 "nbformat": 4,
 "nbformat_minor": 5
}
