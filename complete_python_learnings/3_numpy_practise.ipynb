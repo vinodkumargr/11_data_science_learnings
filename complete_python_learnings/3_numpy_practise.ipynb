{
 "cells": [
  {
   "cell_type": "markdown",
   "id": "f81f0b17",
   "metadata": {},
   "source": [
    "# NUMPY : [NUMeric  PYthon] :"
   ]
  },
  {
   "cell_type": "markdown",
   "id": "7a4315a5",
   "metadata": {},
   "source": [
    "Numpy is one of the most commonly used packages for scientific computing in Python. It provides a multidimensional array object, as well as variations such as masks and matrices, which can be used for various math operations.\n",
    "\n",
    "numpy will convert eveything like image, dataframe, mp4 into array.\n",
    "\n",
    "machine only undestand matrices and arrays."
   ]
  },
  {
   "cell_type": "code",
   "execution_count": 2,
   "id": "a6e7c21a",
   "metadata": {},
   "outputs": [],
   "source": [
    "import numpy as np"
   ]
  },
  {
   "cell_type": "code",
   "execution_count": 2,
   "id": "ad45c766",
   "metadata": {},
   "outputs": [
    {
     "data": {
      "text/plain": [
       "list"
      ]
     },
     "execution_count": 2,
     "metadata": {},
     "output_type": "execute_result"
    }
   ],
   "source": [
    "l = [1,2,3,4, 'vinod']\n",
    "type(l)  # this is a normal list"
   ]
  },
  {
   "cell_type": "code",
   "execution_count": 3,
   "id": "a7549417",
   "metadata": {},
   "outputs": [
    {
     "data": {
      "text/plain": [
       "array(['1', '2', '3', '4', 'vinod'], dtype='<U11')"
      ]
     },
     "execution_count": 3,
     "metadata": {},
     "output_type": "execute_result"
    }
   ],
   "source": [
    "np.array(l) # l is tored in np.array"
   ]
  },
  {
   "cell_type": "code",
   "execution_count": 4,
   "id": "ae785ada",
   "metadata": {},
   "outputs": [
    {
     "data": {
      "text/plain": [
       "numpy.ndarray"
      ]
     },
     "execution_count": 4,
     "metadata": {},
     "output_type": "execute_result"
    }
   ],
   "source": [
    "type(np.array(l))  # type of np.array(l) is ndarray, here ndarray means ndimensional array"
   ]
  },
  {
   "cell_type": "code",
   "execution_count": 5,
   "id": "50d9e81b",
   "metadata": {},
   "outputs": [
    {
     "data": {
      "text/plain": [
       "array([[1, 2, 3],\n",
       "       [4, 5, 6]])"
      ]
     },
     "execution_count": 5,
     "metadata": {},
     "output_type": "execute_result"
    }
   ],
   "source": [
    "a = np.array([[1,2,3], [4,5,6]])\n",
    "a"
   ]
  },
  {
   "cell_type": "code",
   "execution_count": 6,
   "id": "14d39d50",
   "metadata": {},
   "outputs": [
    {
     "data": {
      "text/plain": [
       "6"
      ]
     },
     "execution_count": 6,
     "metadata": {},
     "output_type": "execute_result"
    }
   ],
   "source": [
    "# get value of 6:\n",
    "\n",
    "a[1][2]"
   ]
  },
  {
   "cell_type": "code",
   "execution_count": 7,
   "id": "c6acdf3d",
   "metadata": {},
   "outputs": [
    {
     "data": {
      "text/plain": [
       "array([[[[1, 2, 3]]]])"
      ]
     },
     "execution_count": 7,
     "metadata": {},
     "output_type": "execute_result"
    }
   ],
   "source": [
    "a1 = np.array([1,2,3], ndmin=4) # ndmin is, now it is 4d array\n",
    "a1"
   ]
  },
  {
   "cell_type": "code",
   "execution_count": 8,
   "id": "48706691",
   "metadata": {},
   "outputs": [
    {
     "data": {
      "text/plain": [
       "2"
      ]
     },
     "execution_count": 8,
     "metadata": {},
     "output_type": "execute_result"
    }
   ],
   "source": [
    "# for a1 retreive value 2:\n",
    "\n",
    "a1[0][0][0][1]"
   ]
  },
  {
   "cell_type": "code",
   "execution_count": 9,
   "id": "e6ece0d5",
   "metadata": {},
   "outputs": [
    {
     "data": {
      "text/plain": [
       "array([[1, 2, 3],\n",
       "       [4, 5, 6]])"
      ]
     },
     "execution_count": 9,
     "metadata": {},
     "output_type": "execute_result"
    }
   ],
   "source": [
    "a"
   ]
  },
  {
   "cell_type": "markdown",
   "id": "340d4cf5",
   "metadata": {},
   "source": [
    "### asarray  and asanyarray  and  mat functions : "
   ]
  },
  {
   "cell_type": "code",
   "execution_count": 10,
   "id": "ee22cfa0",
   "metadata": {},
   "outputs": [
    {
     "data": {
      "text/plain": [
       "array([1, 2, 3, 4, 5])"
      ]
     },
     "execution_count": 10,
     "metadata": {},
     "output_type": "execute_result"
    }
   ],
   "source": [
    "np.asarray([1,2,3,4,5]) # same as array"
   ]
  },
  {
   "cell_type": "code",
   "execution_count": 11,
   "id": "9f98d066",
   "metadata": {},
   "outputs": [
    {
     "data": {
      "text/plain": [
       "array([1, 2, 3, 4, 5])"
      ]
     },
     "execution_count": 11,
     "metadata": {},
     "output_type": "execute_result"
    }
   ],
   "source": [
    "np.asanyarray([1,2,3,4,5]) # same as aarray and asarray"
   ]
  },
  {
   "cell_type": "code",
   "execution_count": 12,
   "id": "5dd53b33",
   "metadata": {},
   "outputs": [
    {
     "data": {
      "text/plain": [
       "matrix([[1, 2, 3, 4, 5]])"
      ]
     },
     "execution_count": 12,
     "metadata": {},
     "output_type": "execute_result"
    }
   ],
   "source": [
    "np.mat([1,2,3,4,5]) # mat means a matrix"
   ]
  },
  {
   "cell_type": "markdown",
   "id": "97e6d859",
   "metadata": {},
   "source": [
    "in above example you can see I passed 1d and it return 2d\n",
    "\n",
    "so matrix are 2d by default"
   ]
  },
  {
   "cell_type": "markdown",
   "id": "6cd9c23c",
   "metadata": {},
   "source": [
    "##### A matrix is a two-dimensional data structure where numbers are arranged into rows and columns"
   ]
  },
  {
   "cell_type": "code",
   "execution_count": 7,
   "id": "08edbc7d",
   "metadata": {},
   "outputs": [
    {
     "data": {
      "text/plain": [
       "array([1, 2, 3, 4, 5])"
      ]
     },
     "execution_count": 7,
     "metadata": {},
     "output_type": "execute_result"
    }
   ],
   "source": [
    "a = [1,2,3,4,5]\n",
    "np.asanyarray(a) # it reurn in array format."
   ]
  },
  {
   "cell_type": "code",
   "execution_count": 8,
   "id": "44aa1f84",
   "metadata": {},
   "outputs": [
    {
     "data": {
      "text/plain": [
       "numpy.ndarray"
      ]
     },
     "execution_count": 8,
     "metadata": {},
     "output_type": "execute_result"
    }
   ],
   "source": [
    "type(np.asanyarray(a))"
   ]
  },
  {
   "cell_type": "code",
   "execution_count": 9,
   "id": "21cc4ab2",
   "metadata": {},
   "outputs": [
    {
     "data": {
      "text/plain": [
       "matrix([[1, 2, 3, 4, 5]])"
      ]
     },
     "execution_count": 9,
     "metadata": {},
     "output_type": "execute_result"
    }
   ],
   "source": [
    " # if a stored in mat, it return matrix.\n",
    "    \n",
    "np.mat(a)"
   ]
  },
  {
   "cell_type": "code",
   "execution_count": 10,
   "id": "0c940923",
   "metadata": {},
   "outputs": [
    {
     "data": {
      "text/plain": [
       "numpy.matrix"
      ]
     },
     "execution_count": 10,
     "metadata": {},
     "output_type": "execute_result"
    }
   ],
   "source": [
    "type(np.mat(a))"
   ]
  },
  {
   "cell_type": "code",
   "execution_count": 12,
   "id": "ef9da0b2",
   "metadata": {},
   "outputs": [
    {
     "data": {
      "text/plain": [
       "matrix([[1, 2, 3, 4, 5]])"
      ]
     },
     "execution_count": 12,
     "metadata": {},
     "output_type": "execute_result"
    }
   ],
   "source": [
    "# what if i pass np.mat(a) inside of a np.asanyarry :\n",
    "\n",
    "np.asanyarray(np.mat(a))  # the matrix is subclass of an array"
   ]
  },
  {
   "cell_type": "code",
   "execution_count": 14,
   "id": "35cc5cb8",
   "metadata": {},
   "outputs": [
    {
     "data": {
      "text/plain": [
       "matrix([[1, 2, 3, 4, 5]])"
      ]
     },
     "execution_count": 14,
     "metadata": {},
     "output_type": "execute_result"
    }
   ],
   "source": [
    "np.mat(np.asanyarray(a))"
   ]
  },
  {
   "cell_type": "markdown",
   "id": "51f7b90d",
   "metadata": {},
   "source": [
    "#### in above example, it not converted into array format , coz \n",
    "if anything is not in the form of an array, it will convert into an array. \n",
    "\n",
    "since the matrix is a form an array, so it remains same as before"
   ]
  },
  {
   "cell_type": "markdown",
   "id": "a1d92942",
   "metadata": {},
   "source": [
    "### fromfunction :"
   ]
  },
  {
   "cell_type": "code",
   "execution_count": 16,
   "id": "86a9a3f6",
   "metadata": {},
   "outputs": [
    {
     "data": {
      "text/plain": [
       "array([[ True, False, False],\n",
       "       [False,  True, False],\n",
       "       [False, False,  True]])"
      ]
     },
     "execution_count": 16,
     "metadata": {},
     "output_type": "execute_result"
    }
   ],
   "source": [
    "np.fromfunction(lambda i,j : i==j ,(3,3)) # from function is used to create an array using function"
   ]
  },
  {
   "cell_type": "code",
   "execution_count": 17,
   "id": "7de796f2",
   "metadata": {},
   "outputs": [
    {
     "data": {
      "text/plain": [
       "array([[ 0,  0,  0,  0,  0,  0,  0,  0,  0],\n",
       "       [ 0,  1,  2,  3,  4,  5,  6,  7,  8],\n",
       "       [ 0,  2,  4,  6,  8, 10, 12, 14, 16],\n",
       "       [ 0,  3,  6,  9, 12, 15, 18, 21, 24]])"
      ]
     },
     "execution_count": 17,
     "metadata": {},
     "output_type": "execute_result"
    }
   ],
   "source": [
    "np.fromfunction(lambda i,j : i*j , (4,9), dtype = int) # you can change the data type"
   ]
  },
  {
   "cell_type": "code",
   "execution_count": 18,
   "id": "5944083d",
   "metadata": {},
   "outputs": [
    {
     "data": {
      "text/plain": [
       "matrix([[ 0,  0,  0,  0,  0,  0,  0,  0,  0],\n",
       "        [ 0,  1,  2,  3,  4,  5,  6,  7,  8],\n",
       "        [ 0,  2,  4,  6,  8, 10, 12, 14, 16],\n",
       "        [ 0,  3,  6,  9, 12, 15, 18, 21, 24]])"
      ]
     },
     "execution_count": 18,
     "metadata": {},
     "output_type": "execute_result"
    }
   ],
   "source": [
    "np.mat(np.fromfunction(lambda i,j : i*j , (4,9), dtype = int)) # you can change this into matrix"
   ]
  },
  {
   "cell_type": "code",
   "execution_count": 19,
   "id": "0a7fc8f7",
   "metadata": {
    "scrolled": true
   },
   "outputs": [
    {
     "ename": "ValueError",
     "evalue": "shape too large to be a matrix.",
     "output_type": "error",
     "traceback": [
      "\u001b[1;31m---------------------------------------------------------------------------\u001b[0m",
      "\u001b[1;31mValueError\u001b[0m                                Traceback (most recent call last)",
      "Input \u001b[1;32mIn [19]\u001b[0m, in \u001b[0;36m<cell line: 3>\u001b[1;34m()\u001b[0m\n\u001b[0;32m      1\u001b[0m \u001b[38;5;66;03m# can you print the matrix in 3d array ?\u001b[39;00m\n\u001b[0;32m      2\u001b[0m \u001b[38;5;66;03m# matrix is 2d that is fixed.\u001b[39;00m\n\u001b[1;32m----> 3\u001b[0m \u001b[43mnp\u001b[49m\u001b[38;5;241;43m.\u001b[39;49m\u001b[43mmat\u001b[49m\u001b[43m(\u001b[49m\u001b[43mnp\u001b[49m\u001b[38;5;241;43m.\u001b[39;49m\u001b[43mfromfunction\u001b[49m\u001b[43m(\u001b[49m\u001b[38;5;28;43;01mlambda\u001b[39;49;00m\u001b[43m \u001b[49m\u001b[43mi\u001b[49m\u001b[43m,\u001b[49m\u001b[43mj\u001b[49m\u001b[43m,\u001b[49m\u001b[43mk\u001b[49m\u001b[43m \u001b[49m\u001b[43m:\u001b[49m\u001b[43m \u001b[49m\u001b[43mi\u001b[49m\u001b[38;5;241;43m*\u001b[39;49m\u001b[43mj\u001b[49m\u001b[38;5;241;43m*\u001b[39;49m\u001b[43mk\u001b[49m\u001b[43m \u001b[49m\u001b[43m,\u001b[49m\u001b[43m \u001b[49m\u001b[43m(\u001b[49m\u001b[38;5;241;43m3\u001b[39;49m\u001b[43m,\u001b[49m\u001b[38;5;241;43m5\u001b[39;49m\u001b[43m,\u001b[49m\u001b[38;5;241;43m3\u001b[39;49m\u001b[43m)\u001b[49m\u001b[43m,\u001b[49m\u001b[43m \u001b[49m\u001b[43mdtype\u001b[49m\u001b[43m \u001b[49m\u001b[38;5;241;43m=\u001b[39;49m\u001b[43m \u001b[49m\u001b[38;5;28;43mint\u001b[39;49m\u001b[43m)\u001b[49m\u001b[43m)\u001b[49m\n",
      "File \u001b[1;32m~\\anaconda3\\lib\\site-packages\\numpy\\matrixlib\\defmatrix.py:69\u001b[0m, in \u001b[0;36masmatrix\u001b[1;34m(data, dtype)\u001b[0m\n\u001b[0;32m     36\u001b[0m \u001b[38;5;129m@set_module\u001b[39m(\u001b[38;5;124m'\u001b[39m\u001b[38;5;124mnumpy\u001b[39m\u001b[38;5;124m'\u001b[39m)\n\u001b[0;32m     37\u001b[0m \u001b[38;5;28;01mdef\u001b[39;00m \u001b[38;5;21masmatrix\u001b[39m(data, dtype\u001b[38;5;241m=\u001b[39m\u001b[38;5;28;01mNone\u001b[39;00m):\n\u001b[0;32m     38\u001b[0m     \u001b[38;5;124;03m\"\"\"\u001b[39;00m\n\u001b[0;32m     39\u001b[0m \u001b[38;5;124;03m    Interpret the input as a matrix.\u001b[39;00m\n\u001b[0;32m     40\u001b[0m \n\u001b[1;32m   (...)\u001b[0m\n\u001b[0;32m     67\u001b[0m \n\u001b[0;32m     68\u001b[0m \u001b[38;5;124;03m    \"\"\"\u001b[39;00m\n\u001b[1;32m---> 69\u001b[0m     \u001b[38;5;28;01mreturn\u001b[39;00m \u001b[43mmatrix\u001b[49m\u001b[43m(\u001b[49m\u001b[43mdata\u001b[49m\u001b[43m,\u001b[49m\u001b[43m \u001b[49m\u001b[43mdtype\u001b[49m\u001b[38;5;241;43m=\u001b[39;49m\u001b[43mdtype\u001b[49m\u001b[43m,\u001b[49m\u001b[43m \u001b[49m\u001b[43mcopy\u001b[49m\u001b[38;5;241;43m=\u001b[39;49m\u001b[38;5;28;43;01mFalse\u001b[39;49;00m\u001b[43m)\u001b[49m\n",
      "File \u001b[1;32m~\\anaconda3\\lib\\site-packages\\numpy\\matrixlib\\defmatrix.py:135\u001b[0m, in \u001b[0;36mmatrix.__new__\u001b[1;34m(subtype, data, dtype, copy)\u001b[0m\n\u001b[0;32m    133\u001b[0m \u001b[38;5;28;01melse\u001b[39;00m:\n\u001b[0;32m    134\u001b[0m     intype \u001b[38;5;241m=\u001b[39m N\u001b[38;5;241m.\u001b[39mdtype(dtype)\n\u001b[1;32m--> 135\u001b[0m new \u001b[38;5;241m=\u001b[39m \u001b[43mdata\u001b[49m\u001b[38;5;241;43m.\u001b[39;49m\u001b[43mview\u001b[49m\u001b[43m(\u001b[49m\u001b[43msubtype\u001b[49m\u001b[43m)\u001b[49m\n\u001b[0;32m    136\u001b[0m \u001b[38;5;28;01mif\u001b[39;00m intype \u001b[38;5;241m!=\u001b[39m data\u001b[38;5;241m.\u001b[39mdtype:\n\u001b[0;32m    137\u001b[0m     \u001b[38;5;28;01mreturn\u001b[39;00m new\u001b[38;5;241m.\u001b[39mastype(intype)\n",
      "File \u001b[1;32m~\\anaconda3\\lib\\site-packages\\numpy\\matrixlib\\defmatrix.py:180\u001b[0m, in \u001b[0;36mmatrix.__array_finalize__\u001b[1;34m(self, obj)\u001b[0m\n\u001b[0;32m    178\u001b[0m         \u001b[38;5;28;01mreturn\u001b[39;00m\n\u001b[0;32m    179\u001b[0m     \u001b[38;5;28;01melif\u001b[39;00m (ndim \u001b[38;5;241m>\u001b[39m \u001b[38;5;241m2\u001b[39m):\n\u001b[1;32m--> 180\u001b[0m         \u001b[38;5;28;01mraise\u001b[39;00m \u001b[38;5;167;01mValueError\u001b[39;00m(\u001b[38;5;124m\"\u001b[39m\u001b[38;5;124mshape too large to be a matrix.\u001b[39m\u001b[38;5;124m\"\u001b[39m)\n\u001b[0;32m    181\u001b[0m \u001b[38;5;28;01melse\u001b[39;00m:\n\u001b[0;32m    182\u001b[0m     newshape \u001b[38;5;241m=\u001b[39m \u001b[38;5;28mself\u001b[39m\u001b[38;5;241m.\u001b[39mshape\n",
      "\u001b[1;31mValueError\u001b[0m: shape too large to be a matrix."
     ]
    }
   ],
   "source": [
    "# can you print the matrix in 3d array ?\n",
    "# matrix is 2d that is fixed.\n",
    "np.mat(np.fromfunction(lambda i,j,k : i*j*k , (3,5,3), dtype = int))"
   ]
  },
  {
   "cell_type": "code",
   "execution_count": 20,
   "id": "8c7360bf",
   "metadata": {
    "scrolled": true
   },
   "outputs": [
    {
     "data": {
      "text/plain": [
       "array([[[ 0,  0,  0],\n",
       "        [ 0,  0,  0],\n",
       "        [ 0,  0,  0],\n",
       "        [ 0,  0,  0],\n",
       "        [ 0,  0,  0]],\n",
       "\n",
       "       [[ 0,  0,  0],\n",
       "        [ 0,  1,  2],\n",
       "        [ 0,  2,  4],\n",
       "        [ 0,  3,  6],\n",
       "        [ 0,  4,  8]],\n",
       "\n",
       "       [[ 0,  0,  0],\n",
       "        [ 0,  2,  4],\n",
       "        [ 0,  4,  8],\n",
       "        [ 0,  6, 12],\n",
       "        [ 0,  8, 16]],\n",
       "\n",
       "       [[ 0,  0,  0],\n",
       "        [ 0,  3,  6],\n",
       "        [ 0,  6, 12],\n",
       "        [ 0,  9, 18],\n",
       "        [ 0, 12, 24]]])"
      ]
     },
     "execution_count": 20,
     "metadata": {},
     "output_type": "execute_result"
    }
   ],
   "source": [
    "# you casn convert same thing into 3d in array, but not in matrix\n",
    "\n",
    "np.fromfunction(lambda i,j,k : i*j*k , (4,5,3), dtype = int) \n",
    "# 4 - how many no. of matrices\n",
    "# 5 - how many rows \n",
    "# 3 - how many columns"
   ]
  },
  {
   "cell_type": "code",
   "execution_count": 21,
   "id": "dc1e2832",
   "metadata": {
    "scrolled": true
   },
   "outputs": [
    {
     "data": {
      "text/plain": [
       "array([[[[0, 0],\n",
       "         [0, 0]],\n",
       "\n",
       "        [[0, 0],\n",
       "         [0, 0]],\n",
       "\n",
       "        [[0, 0],\n",
       "         [0, 0]]],\n",
       "\n",
       "\n",
       "       [[[0, 0],\n",
       "         [0, 0]],\n",
       "\n",
       "        [[0, 0],\n",
       "         [0, 1]],\n",
       "\n",
       "        [[0, 0],\n",
       "         [0, 2]]],\n",
       "\n",
       "\n",
       "       [[[0, 0],\n",
       "         [0, 0]],\n",
       "\n",
       "        [[0, 0],\n",
       "         [0, 2]],\n",
       "\n",
       "        [[0, 0],\n",
       "         [0, 4]]],\n",
       "\n",
       "\n",
       "       [[[0, 0],\n",
       "         [0, 0]],\n",
       "\n",
       "        [[0, 0],\n",
       "         [0, 3]],\n",
       "\n",
       "        [[0, 0],\n",
       "         [0, 6]]]])"
      ]
     },
     "execution_count": 21,
     "metadata": {},
     "output_type": "execute_result"
    }
   ],
   "source": [
    "# let's see in 4d : \n",
    "# a 2*2 array of 3 times of 4 combination\n",
    "np.fromfunction(lambda i,j,k,l : i*j*k*l , (4,3,2,2), dtype = int) "
   ]
  },
  {
   "cell_type": "markdown",
   "id": "a3111832",
   "metadata": {},
   "source": [
    "#### there is no restriction in n dimensions, you can create any no. of dimensions, 3d,4d,5d,6d,7d,8d"
   ]
  },
  {
   "cell_type": "code",
   "execution_count": 22,
   "id": "487a038f",
   "metadata": {},
   "outputs": [
    {
     "data": {
      "text/plain": [
       "array([[[ 0,  0,  0],\n",
       "        [ 0,  0,  0],\n",
       "        [ 0,  0,  0]],\n",
       "\n",
       "       [[ 0,  0,  0],\n",
       "        [ 0,  1,  2],\n",
       "        [ 0,  2,  4]],\n",
       "\n",
       "       [[ 0,  0,  0],\n",
       "        [ 0,  2,  4],\n",
       "        [ 0,  4,  8]],\n",
       "\n",
       "       [[ 0,  0,  0],\n",
       "        [ 0,  3,  6],\n",
       "        [ 0,  6, 12]]])"
      ]
     },
     "execution_count": 22,
     "metadata": {},
     "output_type": "execute_result"
    }
   ],
   "source": [
    "a = np.fromfunction(lambda i,j,k : i*j*k , (4,3,3),dtype = int)\n",
    "a"
   ]
  },
  {
   "cell_type": "code",
   "execution_count": 23,
   "id": "60f31e3b",
   "metadata": {},
   "outputs": [
    {
     "data": {
      "text/plain": [
       "3"
      ]
     },
     "execution_count": 23,
     "metadata": {},
     "output_type": "execute_result"
    }
   ],
   "source": [
    "a.ndim # gives the dimension of a"
   ]
  },
  {
   "cell_type": "code",
   "execution_count": 24,
   "id": "15324b55",
   "metadata": {},
   "outputs": [
    {
     "data": {
      "text/plain": [
       "36"
      ]
     },
     "execution_count": 24,
     "metadata": {},
     "output_type": "execute_result"
    }
   ],
   "source": [
    "a.size # total no. of elements present in an array."
   ]
  },
  {
   "cell_type": "code",
   "execution_count": 25,
   "id": "4e3f3475",
   "metadata": {},
   "outputs": [
    {
     "data": {
      "text/plain": [
       "(4, 3, 3)"
      ]
     },
     "execution_count": 25,
     "metadata": {},
     "output_type": "execute_result"
    }
   ],
   "source": [
    "a.shape #it gives the shape of a array"
   ]
  },
  {
   "cell_type": "code",
   "execution_count": 26,
   "id": "ae4373d4",
   "metadata": {},
   "outputs": [
    {
     "data": {
      "text/plain": [
       "dtype('int32')"
      ]
     },
     "execution_count": 26,
     "metadata": {},
     "output_type": "execute_result"
    }
   ],
   "source": [
    "a.dtype"
   ]
  },
  {
   "cell_type": "code",
   "execution_count": 27,
   "id": "e17c681a",
   "metadata": {
    "scrolled": true
   },
   "outputs": [
    {
     "ename": "ValueError",
     "evalue": "Must pass 2-d input. shape=(4, 3, 3)",
     "output_type": "error",
     "traceback": [
      "\u001b[1;31m---------------------------------------------------------------------------\u001b[0m",
      "\u001b[1;31mValueError\u001b[0m                                Traceback (most recent call last)",
      "Input \u001b[1;32mIn [27]\u001b[0m, in \u001b[0;36m<cell line: 3>\u001b[1;34m()\u001b[0m\n\u001b[0;32m      1\u001b[0m \u001b[38;5;66;03m# convert a into a dataframe.\u001b[39;00m\n\u001b[0;32m      2\u001b[0m \u001b[38;5;28;01mimport\u001b[39;00m \u001b[38;5;21;01mpandas\u001b[39;00m \u001b[38;5;28;01mas\u001b[39;00m \u001b[38;5;21;01mpd\u001b[39;00m\n\u001b[1;32m----> 3\u001b[0m \u001b[43mpd\u001b[49m\u001b[38;5;241;43m.\u001b[39;49m\u001b[43mDataFrame\u001b[49m\u001b[43m(\u001b[49m\u001b[43ma\u001b[49m\u001b[43m)\u001b[49m\n",
      "File \u001b[1;32m~\\anaconda3\\lib\\site-packages\\pandas\\core\\frame.py:694\u001b[0m, in \u001b[0;36mDataFrame.__init__\u001b[1;34m(self, data, index, columns, dtype, copy)\u001b[0m\n\u001b[0;32m    684\u001b[0m         mgr \u001b[38;5;241m=\u001b[39m dict_to_mgr(\n\u001b[0;32m    685\u001b[0m             \u001b[38;5;66;03m# error: Item \"ndarray\" of \"Union[ndarray, Series, Index]\" has no\u001b[39;00m\n\u001b[0;32m    686\u001b[0m             \u001b[38;5;66;03m# attribute \"name\"\u001b[39;00m\n\u001b[1;32m   (...)\u001b[0m\n\u001b[0;32m    691\u001b[0m             typ\u001b[38;5;241m=\u001b[39mmanager,\n\u001b[0;32m    692\u001b[0m         )\n\u001b[0;32m    693\u001b[0m     \u001b[38;5;28;01melse\u001b[39;00m:\n\u001b[1;32m--> 694\u001b[0m         mgr \u001b[38;5;241m=\u001b[39m \u001b[43mndarray_to_mgr\u001b[49m\u001b[43m(\u001b[49m\n\u001b[0;32m    695\u001b[0m \u001b[43m            \u001b[49m\u001b[43mdata\u001b[49m\u001b[43m,\u001b[49m\n\u001b[0;32m    696\u001b[0m \u001b[43m            \u001b[49m\u001b[43mindex\u001b[49m\u001b[43m,\u001b[49m\n\u001b[0;32m    697\u001b[0m \u001b[43m            \u001b[49m\u001b[43mcolumns\u001b[49m\u001b[43m,\u001b[49m\n\u001b[0;32m    698\u001b[0m \u001b[43m            \u001b[49m\u001b[43mdtype\u001b[49m\u001b[38;5;241;43m=\u001b[39;49m\u001b[43mdtype\u001b[49m\u001b[43m,\u001b[49m\n\u001b[0;32m    699\u001b[0m \u001b[43m            \u001b[49m\u001b[43mcopy\u001b[49m\u001b[38;5;241;43m=\u001b[39;49m\u001b[43mcopy\u001b[49m\u001b[43m,\u001b[49m\n\u001b[0;32m    700\u001b[0m \u001b[43m            \u001b[49m\u001b[43mtyp\u001b[49m\u001b[38;5;241;43m=\u001b[39;49m\u001b[43mmanager\u001b[49m\u001b[43m,\u001b[49m\n\u001b[0;32m    701\u001b[0m \u001b[43m        \u001b[49m\u001b[43m)\u001b[49m\n\u001b[0;32m    703\u001b[0m \u001b[38;5;66;03m# For data is list-like, or Iterable (will consume into list)\u001b[39;00m\n\u001b[0;32m    704\u001b[0m \u001b[38;5;28;01melif\u001b[39;00m is_list_like(data):\n",
      "File \u001b[1;32m~\\anaconda3\\lib\\site-packages\\pandas\\core\\internals\\construction.py:331\u001b[0m, in \u001b[0;36mndarray_to_mgr\u001b[1;34m(values, index, columns, dtype, copy, typ)\u001b[0m\n\u001b[0;32m    326\u001b[0m         values \u001b[38;5;241m=\u001b[39m values\u001b[38;5;241m.\u001b[39mreshape(\u001b[38;5;241m-\u001b[39m\u001b[38;5;241m1\u001b[39m, \u001b[38;5;241m1\u001b[39m)\n\u001b[0;32m    328\u001b[0m \u001b[38;5;28;01melse\u001b[39;00m:\n\u001b[0;32m    329\u001b[0m     \u001b[38;5;66;03m# by definition an array here\u001b[39;00m\n\u001b[0;32m    330\u001b[0m     \u001b[38;5;66;03m# the dtypes will be coerced to a single dtype\u001b[39;00m\n\u001b[1;32m--> 331\u001b[0m     values \u001b[38;5;241m=\u001b[39m \u001b[43m_prep_ndarray\u001b[49m\u001b[43m(\u001b[49m\u001b[43mvalues\u001b[49m\u001b[43m,\u001b[49m\u001b[43m \u001b[49m\u001b[43mcopy\u001b[49m\u001b[38;5;241;43m=\u001b[39;49m\u001b[43mcopy_on_sanitize\u001b[49m\u001b[43m)\u001b[49m\n\u001b[0;32m    333\u001b[0m \u001b[38;5;28;01mif\u001b[39;00m dtype \u001b[38;5;129;01mis\u001b[39;00m \u001b[38;5;129;01mnot\u001b[39;00m \u001b[38;5;28;01mNone\u001b[39;00m \u001b[38;5;129;01mand\u001b[39;00m \u001b[38;5;129;01mnot\u001b[39;00m is_dtype_equal(values\u001b[38;5;241m.\u001b[39mdtype, dtype):\n\u001b[0;32m    334\u001b[0m     shape \u001b[38;5;241m=\u001b[39m values\u001b[38;5;241m.\u001b[39mshape\n",
      "File \u001b[1;32m~\\anaconda3\\lib\\site-packages\\pandas\\core\\internals\\construction.py:591\u001b[0m, in \u001b[0;36m_prep_ndarray\u001b[1;34m(values, copy)\u001b[0m\n\u001b[0;32m    589\u001b[0m     values \u001b[38;5;241m=\u001b[39m values\u001b[38;5;241m.\u001b[39mreshape((values\u001b[38;5;241m.\u001b[39mshape[\u001b[38;5;241m0\u001b[39m], \u001b[38;5;241m1\u001b[39m))\n\u001b[0;32m    590\u001b[0m \u001b[38;5;28;01melif\u001b[39;00m values\u001b[38;5;241m.\u001b[39mndim \u001b[38;5;241m!=\u001b[39m \u001b[38;5;241m2\u001b[39m:\n\u001b[1;32m--> 591\u001b[0m     \u001b[38;5;28;01mraise\u001b[39;00m \u001b[38;5;167;01mValueError\u001b[39;00m(\u001b[38;5;124mf\u001b[39m\u001b[38;5;124m\"\u001b[39m\u001b[38;5;124mMust pass 2-d input. shape=\u001b[39m\u001b[38;5;132;01m{\u001b[39;00mvalues\u001b[38;5;241m.\u001b[39mshape\u001b[38;5;132;01m}\u001b[39;00m\u001b[38;5;124m\"\u001b[39m)\n\u001b[0;32m    593\u001b[0m \u001b[38;5;28;01mreturn\u001b[39;00m values\n",
      "\u001b[1;31mValueError\u001b[0m: Must pass 2-d input. shape=(4, 3, 3)"
     ]
    }
   ],
   "source": [
    "# convert a into a dataframe.\n",
    "import pandas as pd\n",
    "pd.DataFrame(a) # gives error, coz pd is a 2d array, n this is 3d"
   ]
  },
  {
   "cell_type": "code",
   "execution_count": 30,
   "id": "cc1d3a34",
   "metadata": {},
   "outputs": [
    {
     "data": {
      "text/html": [
       "<div><div id=1130796b-e5d8-4e29-bb2b-116bf2c366b1 style=\"display:none; background-color:#9D6CFF; color:white; width:200px; height:30px; padding-left:5px; border-radius:4px; flex-direction:row; justify-content:space-around; align-items:center;\" onmouseover=\"this.style.backgroundColor='#BA9BF8'\" onmouseout=\"this.style.backgroundColor='#9D6CFF'\" onclick=\"window.commands?.execute('create-mitosheet-from-dataframe-output');\">See Full Dataframe in Mito</div> <script> if (window.commands?.hasCommand('create-mitosheet-from-dataframe-output')) document.getElementById('1130796b-e5d8-4e29-bb2b-116bf2c366b1').style.display = 'flex' </script> <table border=\"1\" class=\"dataframe\">\n",
       "  <thead>\n",
       "    <tr style=\"text-align: right;\">\n",
       "      <th></th>\n",
       "      <th>0</th>\n",
       "      <th>1</th>\n",
       "      <th>2</th>\n",
       "      <th>3</th>\n",
       "      <th>4</th>\n",
       "      <th>5</th>\n",
       "      <th>6</th>\n",
       "      <th>7</th>\n",
       "      <th>8</th>\n",
       "      <th>9</th>\n",
       "      <th>...</th>\n",
       "      <th>190</th>\n",
       "      <th>191</th>\n",
       "      <th>192</th>\n",
       "      <th>193</th>\n",
       "      <th>194</th>\n",
       "      <th>195</th>\n",
       "      <th>196</th>\n",
       "      <th>197</th>\n",
       "      <th>198</th>\n",
       "      <th>199</th>\n",
       "    </tr>\n",
       "  </thead>\n",
       "  <tbody>\n",
       "    <tr>\n",
       "      <th>0</th>\n",
       "      <td>0</td>\n",
       "      <td>0</td>\n",
       "      <td>0</td>\n",
       "      <td>0</td>\n",
       "      <td>0</td>\n",
       "      <td>0</td>\n",
       "      <td>0</td>\n",
       "      <td>0</td>\n",
       "      <td>0</td>\n",
       "      <td>0</td>\n",
       "      <td>...</td>\n",
       "      <td>0</td>\n",
       "      <td>0</td>\n",
       "      <td>0</td>\n",
       "      <td>0</td>\n",
       "      <td>0</td>\n",
       "      <td>0</td>\n",
       "      <td>0</td>\n",
       "      <td>0</td>\n",
       "      <td>0</td>\n",
       "      <td>0</td>\n",
       "    </tr>\n",
       "    <tr>\n",
       "      <th>1</th>\n",
       "      <td>0</td>\n",
       "      <td>1</td>\n",
       "      <td>2</td>\n",
       "      <td>3</td>\n",
       "      <td>4</td>\n",
       "      <td>5</td>\n",
       "      <td>6</td>\n",
       "      <td>7</td>\n",
       "      <td>8</td>\n",
       "      <td>9</td>\n",
       "      <td>...</td>\n",
       "      <td>190</td>\n",
       "      <td>191</td>\n",
       "      <td>192</td>\n",
       "      <td>193</td>\n",
       "      <td>194</td>\n",
       "      <td>195</td>\n",
       "      <td>196</td>\n",
       "      <td>197</td>\n",
       "      <td>198</td>\n",
       "      <td>199</td>\n",
       "    </tr>\n",
       "    <tr>\n",
       "      <th>2</th>\n",
       "      <td>0</td>\n",
       "      <td>2</td>\n",
       "      <td>4</td>\n",
       "      <td>6</td>\n",
       "      <td>8</td>\n",
       "      <td>10</td>\n",
       "      <td>12</td>\n",
       "      <td>14</td>\n",
       "      <td>16</td>\n",
       "      <td>18</td>\n",
       "      <td>...</td>\n",
       "      <td>380</td>\n",
       "      <td>382</td>\n",
       "      <td>384</td>\n",
       "      <td>386</td>\n",
       "      <td>388</td>\n",
       "      <td>390</td>\n",
       "      <td>392</td>\n",
       "      <td>394</td>\n",
       "      <td>396</td>\n",
       "      <td>398</td>\n",
       "    </tr>\n",
       "    <tr>\n",
       "      <th>3</th>\n",
       "      <td>0</td>\n",
       "      <td>3</td>\n",
       "      <td>6</td>\n",
       "      <td>9</td>\n",
       "      <td>12</td>\n",
       "      <td>15</td>\n",
       "      <td>18</td>\n",
       "      <td>21</td>\n",
       "      <td>24</td>\n",
       "      <td>27</td>\n",
       "      <td>...</td>\n",
       "      <td>570</td>\n",
       "      <td>573</td>\n",
       "      <td>576</td>\n",
       "      <td>579</td>\n",
       "      <td>582</td>\n",
       "      <td>585</td>\n",
       "      <td>588</td>\n",
       "      <td>591</td>\n",
       "      <td>594</td>\n",
       "      <td>597</td>\n",
       "    </tr>\n",
       "    <tr>\n",
       "      <th>4</th>\n",
       "      <td>0</td>\n",
       "      <td>4</td>\n",
       "      <td>8</td>\n",
       "      <td>12</td>\n",
       "      <td>16</td>\n",
       "      <td>20</td>\n",
       "      <td>24</td>\n",
       "      <td>28</td>\n",
       "      <td>32</td>\n",
       "      <td>36</td>\n",
       "      <td>...</td>\n",
       "      <td>760</td>\n",
       "      <td>764</td>\n",
       "      <td>768</td>\n",
       "      <td>772</td>\n",
       "      <td>776</td>\n",
       "      <td>780</td>\n",
       "      <td>784</td>\n",
       "      <td>788</td>\n",
       "      <td>792</td>\n",
       "      <td>796</td>\n",
       "    </tr>\n",
       "    <tr>\n",
       "      <th>...</th>\n",
       "      <td>...</td>\n",
       "      <td>...</td>\n",
       "      <td>...</td>\n",
       "      <td>...</td>\n",
       "      <td>...</td>\n",
       "      <td>...</td>\n",
       "      <td>...</td>\n",
       "      <td>...</td>\n",
       "      <td>...</td>\n",
       "      <td>...</td>\n",
       "      <td>...</td>\n",
       "      <td>...</td>\n",
       "      <td>...</td>\n",
       "      <td>...</td>\n",
       "      <td>...</td>\n",
       "      <td>...</td>\n",
       "      <td>...</td>\n",
       "      <td>...</td>\n",
       "      <td>...</td>\n",
       "      <td>...</td>\n",
       "      <td>...</td>\n",
       "    </tr>\n",
       "    <tr>\n",
       "      <th>345</th>\n",
       "      <td>0</td>\n",
       "      <td>345</td>\n",
       "      <td>690</td>\n",
       "      <td>1035</td>\n",
       "      <td>1380</td>\n",
       "      <td>1725</td>\n",
       "      <td>2070</td>\n",
       "      <td>2415</td>\n",
       "      <td>2760</td>\n",
       "      <td>3105</td>\n",
       "      <td>...</td>\n",
       "      <td>65550</td>\n",
       "      <td>65895</td>\n",
       "      <td>66240</td>\n",
       "      <td>66585</td>\n",
       "      <td>66930</td>\n",
       "      <td>67275</td>\n",
       "      <td>67620</td>\n",
       "      <td>67965</td>\n",
       "      <td>68310</td>\n",
       "      <td>68655</td>\n",
       "    </tr>\n",
       "    <tr>\n",
       "      <th>346</th>\n",
       "      <td>0</td>\n",
       "      <td>346</td>\n",
       "      <td>692</td>\n",
       "      <td>1038</td>\n",
       "      <td>1384</td>\n",
       "      <td>1730</td>\n",
       "      <td>2076</td>\n",
       "      <td>2422</td>\n",
       "      <td>2768</td>\n",
       "      <td>3114</td>\n",
       "      <td>...</td>\n",
       "      <td>65740</td>\n",
       "      <td>66086</td>\n",
       "      <td>66432</td>\n",
       "      <td>66778</td>\n",
       "      <td>67124</td>\n",
       "      <td>67470</td>\n",
       "      <td>67816</td>\n",
       "      <td>68162</td>\n",
       "      <td>68508</td>\n",
       "      <td>68854</td>\n",
       "    </tr>\n",
       "    <tr>\n",
       "      <th>347</th>\n",
       "      <td>0</td>\n",
       "      <td>347</td>\n",
       "      <td>694</td>\n",
       "      <td>1041</td>\n",
       "      <td>1388</td>\n",
       "      <td>1735</td>\n",
       "      <td>2082</td>\n",
       "      <td>2429</td>\n",
       "      <td>2776</td>\n",
       "      <td>3123</td>\n",
       "      <td>...</td>\n",
       "      <td>65930</td>\n",
       "      <td>66277</td>\n",
       "      <td>66624</td>\n",
       "      <td>66971</td>\n",
       "      <td>67318</td>\n",
       "      <td>67665</td>\n",
       "      <td>68012</td>\n",
       "      <td>68359</td>\n",
       "      <td>68706</td>\n",
       "      <td>69053</td>\n",
       "    </tr>\n",
       "    <tr>\n",
       "      <th>348</th>\n",
       "      <td>0</td>\n",
       "      <td>348</td>\n",
       "      <td>696</td>\n",
       "      <td>1044</td>\n",
       "      <td>1392</td>\n",
       "      <td>1740</td>\n",
       "      <td>2088</td>\n",
       "      <td>2436</td>\n",
       "      <td>2784</td>\n",
       "      <td>3132</td>\n",
       "      <td>...</td>\n",
       "      <td>66120</td>\n",
       "      <td>66468</td>\n",
       "      <td>66816</td>\n",
       "      <td>67164</td>\n",
       "      <td>67512</td>\n",
       "      <td>67860</td>\n",
       "      <td>68208</td>\n",
       "      <td>68556</td>\n",
       "      <td>68904</td>\n",
       "      <td>69252</td>\n",
       "    </tr>\n",
       "    <tr>\n",
       "      <th>349</th>\n",
       "      <td>0</td>\n",
       "      <td>349</td>\n",
       "      <td>698</td>\n",
       "      <td>1047</td>\n",
       "      <td>1396</td>\n",
       "      <td>1745</td>\n",
       "      <td>2094</td>\n",
       "      <td>2443</td>\n",
       "      <td>2792</td>\n",
       "      <td>3141</td>\n",
       "      <td>...</td>\n",
       "      <td>66310</td>\n",
       "      <td>66659</td>\n",
       "      <td>67008</td>\n",
       "      <td>67357</td>\n",
       "      <td>67706</td>\n",
       "      <td>68055</td>\n",
       "      <td>68404</td>\n",
       "      <td>68753</td>\n",
       "      <td>69102</td>\n",
       "      <td>69451</td>\n",
       "    </tr>\n",
       "  </tbody>\n",
       "</table></div>"
      ],
      "text/plain": [
       "     0    1    2     3     4     5     6     7     8     9    ...    190  \\\n",
       "0      0    0    0     0     0     0     0     0     0     0  ...      0   \n",
       "1      0    1    2     3     4     5     6     7     8     9  ...    190   \n",
       "2      0    2    4     6     8    10    12    14    16    18  ...    380   \n",
       "3      0    3    6     9    12    15    18    21    24    27  ...    570   \n",
       "4      0    4    8    12    16    20    24    28    32    36  ...    760   \n",
       "..   ...  ...  ...   ...   ...   ...   ...   ...   ...   ...  ...    ...   \n",
       "345    0  345  690  1035  1380  1725  2070  2415  2760  3105  ...  65550   \n",
       "346    0  346  692  1038  1384  1730  2076  2422  2768  3114  ...  65740   \n",
       "347    0  347  694  1041  1388  1735  2082  2429  2776  3123  ...  65930   \n",
       "348    0  348  696  1044  1392  1740  2088  2436  2784  3132  ...  66120   \n",
       "349    0  349  698  1047  1396  1745  2094  2443  2792  3141  ...  66310   \n",
       "\n",
       "       191    192    193    194    195    196    197    198    199  \n",
       "0        0      0      0      0      0      0      0      0      0  \n",
       "1      191    192    193    194    195    196    197    198    199  \n",
       "2      382    384    386    388    390    392    394    396    398  \n",
       "3      573    576    579    582    585    588    591    594    597  \n",
       "4      764    768    772    776    780    784    788    792    796  \n",
       "..     ...    ...    ...    ...    ...    ...    ...    ...    ...  \n",
       "345  65895  66240  66585  66930  67275  67620  67965  68310  68655  \n",
       "346  66086  66432  66778  67124  67470  67816  68162  68508  68854  \n",
       "347  66277  66624  66971  67318  67665  68012  68359  68706  69053  \n",
       "348  66468  66816  67164  67512  67860  68208  68556  68904  69252  \n",
       "349  66659  67008  67357  67706  68055  68404  68753  69102  69451  \n",
       "\n",
       "[350 rows x 200 columns]"
      ]
     },
     "execution_count": 30,
     "metadata": {},
     "output_type": "execute_result"
    }
   ],
   "source": [
    "# you can perfrom DataFrame for 2d array.\n",
    "\n",
    "pd.DataFrame(np.fromfunction(lambda i,j : i*j, (350,200),dtype = int))"
   ]
  },
  {
   "cell_type": "markdown",
   "id": "b9db9a85",
   "metadata": {},
   "source": [
    "### [ random.rand ]  and  [ random.randint ]  and  [ random.randn ]  function : "
   ]
  },
  {
   "cell_type": "code",
   "execution_count": 31,
   "id": "eb109718",
   "metadata": {},
   "outputs": [
    {
     "data": {
      "text/plain": [
       "array([[0.14410923, 0.19476114, 0.20416863, 0.01375665],\n",
       "       [0.14597548, 0.3626429 , 0.23052065, 0.54780966],\n",
       "       [0.32863413, 0.16501847, 0.06053461, 0.97443282],\n",
       "       [0.83792703, 0.23071465, 0.30539959, 0.14681305],\n",
       "       [0.35212593, 0.12872092, 0.32585467, 0.01538099],\n",
       "       [0.46072377, 0.32734625, 0.30844322, 0.69719123],\n",
       "       [0.9535356 , 0.94227955, 0.03224593, 0.70759109],\n",
       "       [0.59607864, 0.47672366, 0.02841526, 0.57534616],\n",
       "       [0.01883365, 0.73265567, 0.67342221, 0.76616992],\n",
       "       [0.15043708, 0.33139082, 0.36168524, 0.50413871]])"
      ]
     },
     "execution_count": 31,
     "metadata": {},
     "output_type": "execute_result"
    }
   ],
   "source": [
    "np.random.rand(10, 4) # provide 10 rows and 4 columns of simple random numbers"
   ]
  },
  {
   "cell_type": "code",
   "execution_count": 32,
   "id": "fb12c715",
   "metadata": {},
   "outputs": [
    {
     "data": {
      "text/plain": [
       "40"
      ]
     },
     "execution_count": 32,
     "metadata": {},
     "output_type": "execute_result"
    }
   ],
   "source": [
    "np.random.randint(10,50) # it will give a random number bteween 10 and 50"
   ]
  },
  {
   "cell_type": "code",
   "execution_count": 33,
   "id": "188027b0",
   "metadata": {},
   "outputs": [
    {
     "data": {
      "text/plain": [
       "array([[ 0.66280742, -1.2774185 , -1.29300257, -0.85507671,  0.9497465 ],\n",
       "       [ 0.07021936,  0.55222758, -2.48282688,  0.1547464 ,  0.56093062],\n",
       "       [ 0.61002104,  1.0003413 , -0.05393771,  1.10458217, -0.44514439],\n",
       "       [ 0.84672655,  1.1867886 ,  0.90607131, -1.29505686, -1.04088223]])"
      ]
     },
     "execution_count": 33,
     "metadata": {},
     "output_type": "execute_result"
    }
   ],
   "source": [
    "np.random.randn(4,5) # it gives random numbers with normal distribution average of numbers is 0 and SD is 1."
   ]
  },
  {
   "cell_type": "markdown",
   "id": "8d60416c",
   "metadata": {},
   "source": [
    "##### randn generates samples from the normal distribution, \n",
    "##### while numpy. random. rand from a uniform distribution (in the range [0,1))"
   ]
  },
  {
   "cell_type": "code",
   "execution_count": 34,
   "id": "937ad781",
   "metadata": {},
   "outputs": [
    {
     "data": {
      "text/plain": [
       "array([[[ 0,  0,  0],\n",
       "        [ 0,  0,  0],\n",
       "        [ 0,  0,  0]],\n",
       "\n",
       "       [[ 0,  0,  0],\n",
       "        [ 0,  1,  2],\n",
       "        [ 0,  2,  4]],\n",
       "\n",
       "       [[ 0,  0,  0],\n",
       "        [ 0,  2,  4],\n",
       "        [ 0,  4,  8]],\n",
       "\n",
       "       [[ 0,  0,  0],\n",
       "        [ 0,  3,  6],\n",
       "        [ 0,  6, 12]]])"
      ]
     },
     "execution_count": 34,
     "metadata": {},
     "output_type": "execute_result"
    }
   ],
   "source": [
    "# i want to convert this 3d into 2d, how :\n",
    "\n",
    "b = np.fromfunction(lambda i,j,k : i*j*k , (4,3,3), dtype = int)\n",
    "b"
   ]
  },
  {
   "cell_type": "code",
   "execution_count": 35,
   "id": "a52130c2",
   "metadata": {},
   "outputs": [
    {
     "data": {
      "text/plain": [
       "36"
      ]
     },
     "execution_count": 35,
     "metadata": {},
     "output_type": "execute_result"
    }
   ],
   "source": [
    "b.size"
   ]
  },
  {
   "cell_type": "markdown",
   "id": "40d35922",
   "metadata": {},
   "source": [
    "### reshape function :"
   ]
  },
  {
   "cell_type": "code",
   "execution_count": 36,
   "id": "1a9e8fe4",
   "metadata": {},
   "outputs": [
    {
     "data": {
      "text/plain": [
       "array([[ 0,  0,  0,  0,  0,  0,  0,  0,  0,  0,  0,  0,  0,  1,  2,  0,\n",
       "         2,  4],\n",
       "       [ 0,  0,  0,  0,  2,  4,  0,  4,  8,  0,  0,  0,  0,  3,  6,  0,\n",
       "         6, 12]])"
      ]
     },
     "execution_count": 36,
     "metadata": {},
     "output_type": "execute_result"
    }
   ],
   "source": [
    "# to convert this 3d to 2d, there is a function called \"reshape \"\n",
    "# reshape helps in changing the dimension of an array \n",
    "b = b.reshape(2,18) # your new array shape is must equal to the shape of a older array.\n",
    "b"
   ]
  },
  {
   "cell_type": "code",
   "execution_count": 37,
   "id": "4959367d",
   "metadata": {},
   "outputs": [
    {
     "data": {
      "text/plain": [
       "2"
      ]
     },
     "execution_count": 37,
     "metadata": {},
     "output_type": "execute_result"
    }
   ],
   "source": [
    "b.ndim"
   ]
  },
  {
   "cell_type": "code",
   "execution_count": 38,
   "id": "bc353600",
   "metadata": {
    "scrolled": true
   },
   "outputs": [
    {
     "data": {
      "text/html": [
       "<div><div id=d73da2ef-8426-4910-bd3f-85c9d20f748c style=\"display:none; background-color:#9D6CFF; color:white; width:200px; height:30px; padding-left:5px; border-radius:4px; flex-direction:row; justify-content:space-around; align-items:center;\" onmouseover=\"this.style.backgroundColor='#BA9BF8'\" onmouseout=\"this.style.backgroundColor='#9D6CFF'\" onclick=\"window.commands?.execute('create-mitosheet-from-dataframe-output');\">See Full Dataframe in Mito</div> <script> if (window.commands?.hasCommand('create-mitosheet-from-dataframe-output')) document.getElementById('d73da2ef-8426-4910-bd3f-85c9d20f748c').style.display = 'flex' </script> <table border=\"1\" class=\"dataframe\">\n",
       "  <thead>\n",
       "    <tr style=\"text-align: right;\">\n",
       "      <th></th>\n",
       "      <th>0</th>\n",
       "      <th>1</th>\n",
       "      <th>2</th>\n",
       "      <th>3</th>\n",
       "      <th>4</th>\n",
       "      <th>5</th>\n",
       "      <th>6</th>\n",
       "      <th>7</th>\n",
       "      <th>8</th>\n",
       "      <th>9</th>\n",
       "      <th>10</th>\n",
       "      <th>11</th>\n",
       "      <th>12</th>\n",
       "      <th>13</th>\n",
       "      <th>14</th>\n",
       "      <th>15</th>\n",
       "      <th>16</th>\n",
       "      <th>17</th>\n",
       "    </tr>\n",
       "  </thead>\n",
       "  <tbody>\n",
       "    <tr>\n",
       "      <th>0</th>\n",
       "      <td>0</td>\n",
       "      <td>0</td>\n",
       "      <td>0</td>\n",
       "      <td>0</td>\n",
       "      <td>0</td>\n",
       "      <td>0</td>\n",
       "      <td>0</td>\n",
       "      <td>0</td>\n",
       "      <td>0</td>\n",
       "      <td>0</td>\n",
       "      <td>0</td>\n",
       "      <td>0</td>\n",
       "      <td>0</td>\n",
       "      <td>1</td>\n",
       "      <td>2</td>\n",
       "      <td>0</td>\n",
       "      <td>2</td>\n",
       "      <td>4</td>\n",
       "    </tr>\n",
       "    <tr>\n",
       "      <th>1</th>\n",
       "      <td>0</td>\n",
       "      <td>0</td>\n",
       "      <td>0</td>\n",
       "      <td>0</td>\n",
       "      <td>2</td>\n",
       "      <td>4</td>\n",
       "      <td>0</td>\n",
       "      <td>4</td>\n",
       "      <td>8</td>\n",
       "      <td>0</td>\n",
       "      <td>0</td>\n",
       "      <td>0</td>\n",
       "      <td>0</td>\n",
       "      <td>3</td>\n",
       "      <td>6</td>\n",
       "      <td>0</td>\n",
       "      <td>6</td>\n",
       "      <td>12</td>\n",
       "    </tr>\n",
       "  </tbody>\n",
       "</table></div>"
      ],
      "text/plain": [
       "   0   1   2   3   4   5   6   7   8   9   10  11  12  13  14  15  16  17\n",
       "0   0   0   0   0   0   0   0   0   0   0   0   0   0   1   2   0   2   4\n",
       "1   0   0   0   0   2   4   0   4   8   0   0   0   0   3   6   0   6  12"
      ]
     },
     "execution_count": 38,
     "metadata": {},
     "output_type": "execute_result"
    }
   ],
   "source": [
    "pd.DataFrame(b)"
   ]
  },
  {
   "cell_type": "code",
   "execution_count": 39,
   "id": "8234b41c",
   "metadata": {},
   "outputs": [
    {
     "data": {
      "text/plain": [
       "array([[ 0,  0,  0,  0,  0,  0],\n",
       "       [ 0,  0,  0,  0,  0,  0],\n",
       "       [ 0,  1,  2,  0,  2,  4],\n",
       "       [ 0,  0,  0,  0,  2,  4],\n",
       "       [ 0,  4,  8,  0,  0,  0],\n",
       "       [ 0,  3,  6,  0,  6, 12]])"
      ]
     },
     "execution_count": 39,
     "metadata": {},
     "output_type": "execute_result"
    }
   ],
   "source": [
    "b.reshape(6,-1)"
   ]
  },
  {
   "cell_type": "code",
   "execution_count": 40,
   "id": "cc63b876",
   "metadata": {},
   "outputs": [
    {
     "ename": "ValueError",
     "evalue": "cannot reshape array of size 36 into shape (7,newaxis)",
     "output_type": "error",
     "traceback": [
      "\u001b[1;31m---------------------------------------------------------------------------\u001b[0m",
      "\u001b[1;31mValueError\u001b[0m                                Traceback (most recent call last)",
      "Input \u001b[1;32mIn [40]\u001b[0m, in \u001b[0;36m<cell line: 1>\u001b[1;34m()\u001b[0m\n\u001b[1;32m----> 1\u001b[0m \u001b[43mb\u001b[49m\u001b[38;5;241;43m.\u001b[39;49m\u001b[43mreshape\u001b[49m\u001b[43m(\u001b[49m\u001b[38;5;241;43m7\u001b[39;49m\u001b[43m,\u001b[49m\u001b[38;5;241;43m-\u001b[39;49m\u001b[38;5;241;43m1\u001b[39;49m\u001b[43m)\u001b[49m\n",
      "\u001b[1;31mValueError\u001b[0m: cannot reshape array of size 36 into shape (7,newaxis)"
     ]
    }
   ],
   "source": [
    "b.reshape(7,-1)  # 36 is not present in multiple of 7"
   ]
  },
  {
   "cell_type": "code",
   "execution_count": 41,
   "id": "95ab03e6",
   "metadata": {},
   "outputs": [
    {
     "data": {
      "text/plain": [
       "array([[ 0,  0,  0,  0,  0,  0],\n",
       "       [ 0,  0,  0,  0,  0,  0],\n",
       "       [ 0,  1,  2,  0,  2,  4],\n",
       "       [ 0,  0,  0,  0,  2,  4],\n",
       "       [ 0,  4,  8,  0,  0,  0],\n",
       "       [ 0,  3,  6,  0,  6, 12]])"
      ]
     },
     "execution_count": 41,
     "metadata": {},
     "output_type": "execute_result"
    }
   ],
   "source": [
    "b.reshape(6, -342343534544) # when you give - it wont consider, though it will give square matrix."
   ]
  },
  {
   "cell_type": "code",
   "execution_count": 15,
   "id": "82bddd1e",
   "metadata": {},
   "outputs": [
    {
     "data": {
      "text/plain": [
       "array([[[ 0,  1,  2],\n",
       "        [ 0,  1,  2],\n",
       "        [ 0,  1,  2],\n",
       "        [ 0,  1,  2],\n",
       "        [ 0,  1,  2]],\n",
       "\n",
       "       [[ 0,  1,  2],\n",
       "        [ 1,  2,  3],\n",
       "        [ 2,  3,  4],\n",
       "        [ 3,  4,  5],\n",
       "        [ 4,  5,  6]],\n",
       "\n",
       "       [[ 0,  1,  2],\n",
       "        [ 2,  3,  4],\n",
       "        [ 4,  5,  6],\n",
       "        [ 6,  7,  8],\n",
       "        [ 8,  9, 10]],\n",
       "\n",
       "       [[ 0,  1,  2],\n",
       "        [ 3,  4,  5],\n",
       "        [ 6,  7,  8],\n",
       "        [ 9, 10, 11],\n",
       "        [12, 13, 14]]])"
      ]
     },
     "execution_count": 15,
     "metadata": {},
     "output_type": "execute_result"
    }
   ],
   "source": [
    "c = np.fromfunction(lambda i,j,k : i*j+k , (4,5,3), dtype = int)\n",
    "c"
   ]
  },
  {
   "cell_type": "code",
   "execution_count": 16,
   "id": "55500d96",
   "metadata": {},
   "outputs": [
    {
     "data": {
      "text/plain": [
       "60"
      ]
     },
     "execution_count": 16,
     "metadata": {},
     "output_type": "execute_result"
    }
   ],
   "source": [
    "c.size"
   ]
  },
  {
   "cell_type": "code",
   "execution_count": 18,
   "id": "181a363f",
   "metadata": {},
   "outputs": [
    {
     "data": {
      "text/plain": [
       "array([[ 0,  1,  2,  0,  1,  2,  0,  1,  2,  0],\n",
       "       [ 1,  2,  0,  1,  2,  0,  1,  2,  1,  2],\n",
       "       [ 3,  2,  3,  4,  3,  4,  5,  4,  5,  6],\n",
       "       [ 0,  1,  2,  2,  3,  4,  4,  5,  6,  6],\n",
       "       [ 7,  8,  8,  9, 10,  0,  1,  2,  3,  4],\n",
       "       [ 5,  6,  7,  8,  9, 10, 11, 12, 13, 14]])"
      ]
     },
     "execution_count": 18,
     "metadata": {},
     "output_type": "execute_result"
    }
   ],
   "source": [
    "c1 = c.reshape(6,-5)\n",
    "c1"
   ]
  },
  {
   "cell_type": "code",
   "execution_count": 43,
   "id": "376f1719",
   "metadata": {},
   "outputs": [
    {
     "data": {
      "text/plain": [
       "[4, 5, 6, 7, 8, 9]"
      ]
     },
     "execution_count": 43,
     "metadata": {},
     "output_type": "execute_result"
    }
   ],
   "source": [
    "list(range(4,10)) # list (range) from 4 to 10"
   ]
  },
  {
   "cell_type": "code",
   "execution_count": 44,
   "id": "863307c7",
   "metadata": {},
   "outputs": [
    {
     "data": {
      "text/plain": [
       "[4, 6, 8, 10, 12, 14, 16, 18]"
      ]
     },
     "execution_count": 44,
     "metadata": {},
     "output_type": "execute_result"
    }
   ],
   "source": [
    "list(range(4,20,2)) # here 2 is interval, jumping numbber"
   ]
  },
  {
   "cell_type": "code",
   "execution_count": 45,
   "id": "a1e5a34c",
   "metadata": {},
   "outputs": [
    {
     "ename": "TypeError",
     "evalue": "'float' object cannot be interpreted as an integer",
     "output_type": "error",
     "traceback": [
      "\u001b[1;31m---------------------------------------------------------------------------\u001b[0m",
      "\u001b[1;31mTypeError\u001b[0m                                 Traceback (most recent call last)",
      "Input \u001b[1;32mIn [45]\u001b[0m, in \u001b[0;36m<cell line: 2>\u001b[1;34m()\u001b[0m\n\u001b[0;32m      1\u001b[0m \u001b[38;5;66;03m# when you give .2 as interval(stepsize) raises an error \u001b[39;00m\n\u001b[1;32m----> 2\u001b[0m \u001b[38;5;28mlist\u001b[39m (\u001b[38;5;28;43mrange\u001b[39;49m\u001b[43m(\u001b[49m\u001b[38;5;241;43m4\u001b[39;49m\u001b[43m,\u001b[49m\u001b[38;5;241;43m10\u001b[39;49m\u001b[43m,\u001b[49m\u001b[38;5;241;43m.2\u001b[39;49m\u001b[43m)\u001b[49m)\n",
      "\u001b[1;31mTypeError\u001b[0m: 'float' object cannot be interpreted as an integer"
     ]
    }
   ],
   "source": [
    "# when you give .2 as interval(stepsize) raises an error \n",
    "list (range(4,10,.2))"
   ]
  },
  {
   "cell_type": "markdown",
   "id": "0d30dd24",
   "metadata": {},
   "source": [
    "### arange function : "
   ]
  },
  {
   "cell_type": "code",
   "execution_count": 46,
   "id": "41aaf17f",
   "metadata": {},
   "outputs": [
    {
     "data": {
      "text/plain": [
       "array([4. , 4.2, 4.4, 4.6, 4.8, 5. , 5.2, 5.4, 5.6, 5.8, 6. , 6.2, 6.4,\n",
       "       6.6, 6.8, 7. , 7.2, 7.4, 7.6, 7.8, 8. , 8.2, 8.4, 8.6, 8.8, 9. ,\n",
       "       9.2, 9.4, 9.6, 9.8])"
      ]
     },
     "execution_count": 46,
     "metadata": {},
     "output_type": "execute_result"
    }
   ],
   "source": [
    "np.arange(4,10,.2)"
   ]
  },
  {
   "cell_type": "markdown",
   "id": "732541c8",
   "metadata": {},
   "source": [
    "#### here range function will take only int values.\n",
    "#### and arange function will take floting point"
   ]
  },
  {
   "cell_type": "code",
   "execution_count": 1,
   "id": "908dcc03",
   "metadata": {},
   "outputs": [],
   "source": [
    "import numpy as np"
   ]
  },
  {
   "cell_type": "code",
   "execution_count": 2,
   "id": "05d73321",
   "metadata": {},
   "outputs": [
    {
     "data": {
      "text/plain": [
       "array([[0.08107637, 0.70005261, 0.02999991, 0.73895145, 0.68020833],\n",
       "       [0.90583597, 0.06772062, 0.98062467, 0.81711274, 0.31522967],\n",
       "       [0.02609211, 0.21376814, 0.2585943 , 0.03902925, 0.63413551],\n",
       "       [0.14692632, 0.6459985 , 0.71394475, 0.68138243, 0.77760985]])"
      ]
     },
     "execution_count": 2,
     "metadata": {},
     "output_type": "execute_result"
    }
   ],
   "source": [
    "arr = np.random.rand(4,5)\n",
    "arr"
   ]
  },
  {
   "cell_type": "code",
   "execution_count": 3,
   "id": "036d7475",
   "metadata": {},
   "outputs": [
    {
     "data": {
      "text/plain": [
       "array([0.70005261, 0.73895145, 0.68020833, 0.90583597, 0.98062467,\n",
       "       0.81711274, 0.63413551, 0.6459985 , 0.71394475, 0.68138243,\n",
       "       0.77760985])"
      ]
     },
     "execution_count": 3,
     "metadata": {},
     "output_type": "execute_result"
    }
   ],
   "source": [
    "# find no. > 0.5\n",
    "\n",
    "arr[arr > 0.5]"
   ]
  },
  {
   "cell_type": "code",
   "execution_count": 4,
   "id": "2fa6b1a5",
   "metadata": {},
   "outputs": [
    {
     "data": {
      "text/plain": [
       "array([[0.08107637, 0.70005261, 0.02999991, 0.73895145, 0.68020833],\n",
       "       [0.90583597, 0.06772062, 0.98062467, 0.81711274, 0.31522967],\n",
       "       [0.02609211, 0.21376814, 0.2585943 , 0.03902925, 0.63413551],\n",
       "       [0.14692632, 0.6459985 , 0.71394475, 0.68138243, 0.77760985]])"
      ]
     },
     "execution_count": 4,
     "metadata": {},
     "output_type": "execute_result"
    }
   ],
   "source": [
    "arr"
   ]
  },
  {
   "cell_type": "code",
   "execution_count": 5,
   "id": "ef461f13",
   "metadata": {},
   "outputs": [
    {
     "data": {
      "text/plain": [
       "array([0.98062467, 0.2585943 ])"
      ]
     },
     "execution_count": 5,
     "metadata": {},
     "output_type": "execute_result"
    }
   ],
   "source": [
    "arr[[1,2],[2]]  # 1st is row and 2nd is column, get this data."
   ]
  },
  {
   "cell_type": "code",
   "execution_count": 6,
   "id": "03231467",
   "metadata": {},
   "outputs": [
    {
     "data": {
      "text/plain": [
       "array([[0.90583597, 0.06772062, 0.98062467],\n",
       "       [0.02609211, 0.21376814, 0.2585943 ],\n",
       "       [0.14692632, 0.6459985 , 0.71394475]])"
      ]
     },
     "execution_count": 6,
     "metadata": {},
     "output_type": "execute_result"
    }
   ],
   "source": [
    "arr[1:4 , 0:3]"
   ]
  },
  {
   "cell_type": "code",
   "execution_count": 7,
   "id": "93794929",
   "metadata": {},
   "outputs": [],
   "source": [
    "arr[0][0] = 4564  # i'm able to change the values"
   ]
  },
  {
   "cell_type": "code",
   "execution_count": 8,
   "id": "206a5d40",
   "metadata": {},
   "outputs": [
    {
     "data": {
      "text/plain": [
       "array([[4.56400000e+03, 7.00052613e-01, 2.99999075e-02, 7.38951450e-01,\n",
       "        6.80208330e-01],\n",
       "       [9.05835973e-01, 6.77206250e-02, 9.80624672e-01, 8.17112744e-01,\n",
       "        3.15229673e-01],\n",
       "       [2.60921075e-02, 2.13768135e-01, 2.58594302e-01, 3.90292516e-02,\n",
       "        6.34135506e-01],\n",
       "       [1.46926319e-01, 6.45998502e-01, 7.13944746e-01, 6.81382426e-01,\n",
       "        7.77609855e-01]])"
      ]
     },
     "execution_count": 8,
     "metadata": {},
     "output_type": "execute_result"
    }
   ],
   "source": [
    "arr"
   ]
  },
  {
   "cell_type": "code",
   "execution_count": 33,
   "id": "67df8c1b",
   "metadata": {},
   "outputs": [],
   "source": [
    "a = np.array([[1,2],[3,4]])\n",
    "b = np.array([[2,3],[4,5]])"
   ]
  },
  {
   "cell_type": "code",
   "execution_count": 34,
   "id": "3e16cc1b",
   "metadata": {},
   "outputs": [
    {
     "data": {
      "text/plain": [
       "array([[1, 2],\n",
       "       [3, 4]])"
      ]
     },
     "execution_count": 34,
     "metadata": {},
     "output_type": "execute_result"
    }
   ],
   "source": [
    "a"
   ]
  },
  {
   "cell_type": "code",
   "execution_count": 35,
   "id": "c65fc7b4",
   "metadata": {},
   "outputs": [
    {
     "data": {
      "text/plain": [
       "array([[2, 3],\n",
       "       [4, 5]])"
      ]
     },
     "execution_count": 35,
     "metadata": {},
     "output_type": "execute_result"
    }
   ],
   "source": [
    "b"
   ]
  },
  {
   "attachments": {
    "download-2.png": {
     "image/png": "[encoded data removed]"
    }
   },
   "cell_type": "markdown",
   "id": "7fd73649",
   "metadata": {},
   "source": [
    "## matrix multiplication :  \n",
    "![download-2.png](attachment:download-2.png)"
   ]
  },
  {
   "cell_type": "code",
   "execution_count": 14,
   "id": "da86ef0a",
   "metadata": {},
   "outputs": [
    {
     "data": {
      "text/plain": [
       "array([[ 2,  6],\n",
       "       [12, 20]])"
      ]
     },
     "execution_count": 14,
     "metadata": {},
     "output_type": "execute_result"
    }
   ],
   "source": [
    "np.multiply(a,b) # this is normal multiplication(values) or u can do as ( a*b )\n",
    "\n",
    "# this is wrong matrix multiplication"
   ]
  },
  {
   "cell_type": "code",
   "execution_count": 36,
   "id": "352ac5a5",
   "metadata": {},
   "outputs": [
    {
     "data": {
      "text/plain": [
       "array([[10, 13],\n",
       "       [22, 29]])"
      ]
     },
     "execution_count": 36,
     "metadata": {},
     "output_type": "execute_result"
    }
   ],
   "source": [
    "m = a @ b # this is the correct matrix multipication (use @ )\n",
    "m"
   ]
  },
  {
   "cell_type": "markdown",
   "id": "98723398",
   "metadata": {},
   "source": [
    "### another exaple for matrix multiplication with 4*4"
   ]
  },
  {
   "cell_type": "code",
   "execution_count": 26,
   "id": "f1fa4716",
   "metadata": {},
   "outputs": [
    {
     "data": {
      "text/plain": [
       "array([[1, 2, 3, 4],\n",
       "       [5, 6, 7, 8],\n",
       "       [1, 4, 7, 9],\n",
       "       [2, 4, 6, 8]])"
      ]
     },
     "execution_count": 26,
     "metadata": {},
     "output_type": "execute_result"
    }
   ],
   "source": [
    "c = np.array([[1,2,3,4], [5,6,7,8], [1,4,7,9], [2,4,6,8]])\n",
    "c"
   ]
  },
  {
   "cell_type": "code",
   "execution_count": 27,
   "id": "1fc46996",
   "metadata": {},
   "outputs": [
    {
     "data": {
      "text/plain": [
       "array([[5, 6, 7, 8],\n",
       "       [1, 4, 7, 9],\n",
       "       [2, 4, 6, 8],\n",
       "       [1, 2, 3, 4]])"
      ]
     },
     "execution_count": 27,
     "metadata": {},
     "output_type": "execute_result"
    }
   ],
   "source": [
    "d = np.array([[5,6,7,8], [1,4,7,9], [2,4,6,8], [1,2,3,4]])\n",
    "d"
   ]
  },
  {
   "cell_type": "code",
   "execution_count": 28,
   "id": "e552ddcd",
   "metadata": {},
   "outputs": [
    {
     "data": {
      "text/plain": [
       "array([[ 17,  34,  51,  66],\n",
       "       [ 53,  98, 143, 182],\n",
       "       [ 32,  68, 104, 136],\n",
       "       [ 34,  68, 102, 132]])"
      ]
     },
     "execution_count": 28,
     "metadata": {},
     "output_type": "execute_result"
    }
   ],
   "source": [
    "e = c @ d\n",
    "e"
   ]
  },
  {
   "cell_type": "code",
   "execution_count": 37,
   "id": "8b454be6",
   "metadata": {},
   "outputs": [
    {
     "name": "stderr",
     "output_type": "stream",
     "text": [
      "C:\\Users\\Dell\\AppData\\Local\\Temp\\ipykernel_9096\\1000344096.py:2: RuntimeWarning: divide by zero encountered in true_divide\n",
      "  m/0\n"
     ]
    },
    {
     "data": {
      "text/plain": [
       "array([[inf, inf],\n",
       "       [inf, inf]])"
      ]
     },
     "execution_count": 37,
     "metadata": {},
     "output_type": "execute_result"
    }
   ],
   "source": [
    "# normally number divided by 0 gives error, but in array, it gives infinity.\n",
    "m/0"
   ]
  },
  {
   "cell_type": "code",
   "execution_count": 19,
   "id": "4b9e5ae9",
   "metadata": {},
   "outputs": [
    {
     "data": {
      "text/plain": [
       "array([0., 0., 0., 0., 0.])"
      ]
     },
     "execution_count": 19,
     "metadata": {},
     "output_type": "execute_result"
    }
   ],
   "source": [
    "np.zeros(5) # gives zeros"
   ]
  },
  {
   "cell_type": "code",
   "execution_count": 21,
   "id": "1f008ef1",
   "metadata": {},
   "outputs": [
    {
     "data": {
      "text/plain": [
       "array([[[0., 0.],\n",
       "        [0., 0.],\n",
       "        [0., 0.],\n",
       "        [0., 0.]],\n",
       "\n",
       "       [[0., 0.],\n",
       "        [0., 0.],\n",
       "        [0., 0.],\n",
       "        [0., 0.]],\n",
       "\n",
       "       [[0., 0.],\n",
       "        [0., 0.],\n",
       "        [0., 0.],\n",
       "        [0., 0.]]])"
      ]
     },
     "execution_count": 21,
     "metadata": {},
     "output_type": "execute_result"
    }
   ],
   "source": [
    "np.zeros((3,4,2))"
   ]
  },
  {
   "cell_type": "code",
   "execution_count": 22,
   "id": "1fe53d05",
   "metadata": {},
   "outputs": [
    {
     "data": {
      "text/plain": [
       "array([[[1., 1.],\n",
       "        [1., 1.],\n",
       "        [1., 1.],\n",
       "        [1., 1.]],\n",
       "\n",
       "       [[1., 1.],\n",
       "        [1., 1.],\n",
       "        [1., 1.],\n",
       "        [1., 1.]],\n",
       "\n",
       "       [[1., 1.],\n",
       "        [1., 1.],\n",
       "        [1., 1.],\n",
       "        [1., 1.]]])"
      ]
     },
     "execution_count": 22,
     "metadata": {},
     "output_type": "execute_result"
    }
   ],
   "source": [
    "np.ones((3,4,2))"
   ]
  },
  {
   "cell_type": "markdown",
   "id": "eba4c29b",
   "metadata": {},
   "source": [
    "##### The term broadcasting refers to how numpy treats arrays with different Dimension during arithmetic operations which lead to certain constraints. like below I added 5 with scalar \n",
    "#### or\n",
    "\n",
    "##### If we perform same kind of operation with all elemnts that are avilable in a space."
   ]
  },
  {
   "cell_type": "code",
   "execution_count": 24,
   "id": "565d98ef",
   "metadata": {},
   "outputs": [
    {
     "data": {
      "text/plain": [
       "array([[6., 6., 6., 6.],\n",
       "       [6., 6., 6., 6.],\n",
       "       [6., 6., 6., 6.]])"
      ]
     },
     "execution_count": 24,
     "metadata": {},
     "output_type": "execute_result"
    }
   ],
   "source": [
    " 5 + np.ones((3,4)) # normally np.ones gives 1's, when you add  with 5 every value will become 6."
   ]
  },
  {
   "cell_type": "markdown",
   "id": "5540f6c9",
   "metadata": {},
   "source": [
    "##### A scalar is a single number. From above example, 5 is a scalar\n",
    "##### A vector is an array of numbers. From above example, np.ones((3,4)) is a vector"
   ]
  },
  {
   "cell_type": "code",
   "execution_count": 1,
   "id": "94c22439",
   "metadata": {},
   "outputs": [],
   "source": [
    "import numpy as np"
   ]
  },
  {
   "cell_type": "code",
   "execution_count": 4,
   "id": "95d0021a",
   "metadata": {},
   "outputs": [
    {
     "data": {
      "text/plain": [
       "array([[1.09217465e-311, 1.02271589e-321, 0.00000000e+000,\n",
       "        0.00000000e+000, 3.16047493e+180],\n",
       "       [5.02034658e+175, 4.19408938e+175, 1.24609010e-047,\n",
       "        3.44814856e-032, 4.32026732e-061],\n",
       "       [6.44362057e-067, 4.25759364e-096, 1.12855837e+277,\n",
       "        8.76730979e+252, 2.59027920e-144],\n",
       "       [3.80985069e+180, 1.14428494e+243, 2.59027907e-144,\n",
       "        7.79952704e-143, 1.43369838e+161],\n",
       "       [9.95309303e-043, 2.19357999e-076, 8.69893802e-043,\n",
       "        2.59027864e-144, 2.59903818e-144],\n",
       "       [7.72819857e-091, 1.03163368e-071, 1.14328292e-071,\n",
       "        1.11475752e+261, 1.16318408e-028]])"
      ]
     },
     "execution_count": 4,
     "metadata": {},
     "output_type": "execute_result"
    }
   ],
   "source": [
    "np.empty((6,5)) # it gives very-very small entity"
   ]
  },
  {
   "cell_type": "markdown",
   "id": "0eeae85b",
   "metadata": {},
   "source": [
    "## linspace : "
   ]
  },
  {
   "cell_type": "code",
   "execution_count": 6,
   "id": "6a198703",
   "metadata": {},
   "outputs": [
    {
     "data": {
      "text/plain": [
       "array([2.        , 2.02040816, 2.04081633, 2.06122449, 2.08163265,\n",
       "       2.10204082, 2.12244898, 2.14285714, 2.16326531, 2.18367347,\n",
       "       2.20408163, 2.2244898 , 2.24489796, 2.26530612, 2.28571429,\n",
       "       2.30612245, 2.32653061, 2.34693878, 2.36734694, 2.3877551 ,\n",
       "       2.40816327, 2.42857143, 2.44897959, 2.46938776, 2.48979592,\n",
       "       2.51020408, 2.53061224, 2.55102041, 2.57142857, 2.59183673,\n",
       "       2.6122449 , 2.63265306, 2.65306122, 2.67346939, 2.69387755,\n",
       "       2.71428571, 2.73469388, 2.75510204, 2.7755102 , 2.79591837,\n",
       "       2.81632653, 2.83673469, 2.85714286, 2.87755102, 2.89795918,\n",
       "       2.91836735, 2.93877551, 2.95918367, 2.97959184, 3.        ])"
      ]
     },
     "execution_count": 6,
     "metadata": {},
     "output_type": "execute_result"
    }
   ],
   "source": [
    "np.linspace(2,3) # it will create a many numbers between two numbers, even in between 1,2"
   ]
  },
  {
   "cell_type": "code",
   "execution_count": 7,
   "id": "e58ef821",
   "metadata": {},
   "outputs": [
    {
     "data": {
      "text/plain": [
       "array([1.        , 1.01265823, 1.02531646, 1.03797468, 1.05063291,\n",
       "       1.06329114, 1.07594937, 1.08860759, 1.10126582, 1.11392405,\n",
       "       1.12658228, 1.13924051, 1.15189873, 1.16455696, 1.17721519,\n",
       "       1.18987342, 1.20253165, 1.21518987, 1.2278481 , 1.24050633,\n",
       "       1.25316456, 1.26582278, 1.27848101, 1.29113924, 1.30379747,\n",
       "       1.3164557 , 1.32911392, 1.34177215, 1.35443038, 1.36708861,\n",
       "       1.37974684, 1.39240506, 1.40506329, 1.41772152, 1.43037975,\n",
       "       1.44303797, 1.4556962 , 1.46835443, 1.48101266, 1.49367089,\n",
       "       1.50632911, 1.51898734, 1.53164557, 1.5443038 , 1.55696203,\n",
       "       1.56962025, 1.58227848, 1.59493671, 1.60759494, 1.62025316,\n",
       "       1.63291139, 1.64556962, 1.65822785, 1.67088608, 1.6835443 ,\n",
       "       1.69620253, 1.70886076, 1.72151899, 1.73417722, 1.74683544,\n",
       "       1.75949367, 1.7721519 , 1.78481013, 1.79746835, 1.81012658,\n",
       "       1.82278481, 1.83544304, 1.84810127, 1.86075949, 1.87341772,\n",
       "       1.88607595, 1.89873418, 1.91139241, 1.92405063, 1.93670886,\n",
       "       1.94936709, 1.96202532, 1.97468354, 1.98734177, 2.        ])"
      ]
     },
     "execution_count": 7,
     "metadata": {},
     "output_type": "execute_result"
    }
   ],
   "source": [
    "# you can give how many numbers you want :\n",
    "\n",
    "np.linspace(1,2,80)"
   ]
  },
  {
   "cell_type": "code",
   "execution_count": 10,
   "id": "adf10ac0",
   "metadata": {},
   "outputs": [
    {
     "data": {
      "text/plain": [
       "array([[1.        , 1.01265823, 1.02531646, 1.03797468],\n",
       "       [1.05063291, 1.06329114, 1.07594937, 1.08860759],\n",
       "       [1.10126582, 1.11392405, 1.12658228, 1.13924051],\n",
       "       [1.15189873, 1.16455696, 1.17721519, 1.18987342],\n",
       "       [1.20253165, 1.21518987, 1.2278481 , 1.24050633],\n",
       "       [1.25316456, 1.26582278, 1.27848101, 1.29113924],\n",
       "       [1.30379747, 1.3164557 , 1.32911392, 1.34177215],\n",
       "       [1.35443038, 1.36708861, 1.37974684, 1.39240506],\n",
       "       [1.40506329, 1.41772152, 1.43037975, 1.44303797],\n",
       "       [1.4556962 , 1.46835443, 1.48101266, 1.49367089],\n",
       "       [1.50632911, 1.51898734, 1.53164557, 1.5443038 ],\n",
       "       [1.55696203, 1.56962025, 1.58227848, 1.59493671],\n",
       "       [1.60759494, 1.62025316, 1.63291139, 1.64556962],\n",
       "       [1.65822785, 1.67088608, 1.6835443 , 1.69620253],\n",
       "       [1.70886076, 1.72151899, 1.73417722, 1.74683544],\n",
       "       [1.75949367, 1.7721519 , 1.78481013, 1.79746835],\n",
       "       [1.81012658, 1.82278481, 1.83544304, 1.84810127],\n",
       "       [1.86075949, 1.87341772, 1.88607595, 1.89873418],\n",
       "       [1.91139241, 1.92405063, 1.93670886, 1.94936709],\n",
       "       [1.96202532, 1.97468354, 1.98734177, 2.        ]])"
      ]
     },
     "execution_count": 10,
     "metadata": {},
     "output_type": "execute_result"
    }
   ],
   "source": [
    "# convert into some shape :\n",
    "np.linspace(1,2,80).reshape(20,4)"
   ]
  },
  {
   "cell_type": "code",
   "execution_count": 11,
   "id": "b01e2e14",
   "metadata": {},
   "outputs": [
    {
     "data": {
      "text/plain": [
       "array([[1.    , 1.0125, 1.025 , 1.0375],\n",
       "       [1.05  , 1.0625, 1.075 , 1.0875],\n",
       "       [1.1   , 1.1125, 1.125 , 1.1375],\n",
       "       [1.15  , 1.1625, 1.175 , 1.1875],\n",
       "       [1.2   , 1.2125, 1.225 , 1.2375],\n",
       "       [1.25  , 1.2625, 1.275 , 1.2875],\n",
       "       [1.3   , 1.3125, 1.325 , 1.3375],\n",
       "       [1.35  , 1.3625, 1.375 , 1.3875],\n",
       "       [1.4   , 1.4125, 1.425 , 1.4375],\n",
       "       [1.45  , 1.4625, 1.475 , 1.4875],\n",
       "       [1.5   , 1.5125, 1.525 , 1.5375],\n",
       "       [1.55  , 1.5625, 1.575 , 1.5875],\n",
       "       [1.6   , 1.6125, 1.625 , 1.6375],\n",
       "       [1.65  , 1.6625, 1.675 , 1.6875],\n",
       "       [1.7   , 1.7125, 1.725 , 1.7375],\n",
       "       [1.75  , 1.7625, 1.775 , 1.7875],\n",
       "       [1.8   , 1.8125, 1.825 , 1.8375],\n",
       "       [1.85  , 1.8625, 1.875 , 1.8875],\n",
       "       [1.9   , 1.9125, 1.925 , 1.9375],\n",
       "       [1.95  , 1.9625, 1.975 , 1.9875]])"
      ]
     },
     "execution_count": 11,
     "metadata": {},
     "output_type": "execute_result"
    }
   ],
   "source": [
    "# in above , 2 is null, use :\n",
    "\n",
    "np.linspace(1,2,80, endpoint = False).reshape(20,4)"
   ]
  },
  {
   "cell_type": "code",
   "execution_count": 13,
   "id": "258ac8aa",
   "metadata": {},
   "outputs": [
    {
     "data": {
      "text/plain": [
       "(array([1.    , 1.0125, 1.025 , 1.0375, 1.05  , 1.0625, 1.075 , 1.0875,\n",
       "        1.1   , 1.1125, 1.125 , 1.1375, 1.15  , 1.1625, 1.175 , 1.1875,\n",
       "        1.2   , 1.2125, 1.225 , 1.2375, 1.25  , 1.2625, 1.275 , 1.2875,\n",
       "        1.3   , 1.3125, 1.325 , 1.3375, 1.35  , 1.3625, 1.375 , 1.3875,\n",
       "        1.4   , 1.4125, 1.425 , 1.4375, 1.45  , 1.4625, 1.475 , 1.4875,\n",
       "        1.5   , 1.5125, 1.525 , 1.5375, 1.55  , 1.5625, 1.575 , 1.5875,\n",
       "        1.6   , 1.6125, 1.625 , 1.6375, 1.65  , 1.6625, 1.675 , 1.6875,\n",
       "        1.7   , 1.7125, 1.725 , 1.7375, 1.75  , 1.7625, 1.775 , 1.7875,\n",
       "        1.8   , 1.8125, 1.825 , 1.8375, 1.85  , 1.8625, 1.875 , 1.8875,\n",
       "        1.9   , 1.9125, 1.925 , 1.9375, 1.95  , 1.9625, 1.975 , 1.9875]),\n",
       " 0.0125)"
      ]
     },
     "execution_count": 13,
     "metadata": {},
     "output_type": "execute_result"
    }
   ],
   "source": [
    "# retstep : what is the stepsize\n",
    "\n",
    "np.linspace(1,2,80, endpoint = False, retstep = True)  # 0.0125 is my step size here"
   ]
  },
  {
   "cell_type": "markdown",
   "id": "4789811d",
   "metadata": {},
   "source": [
    "## logspace : gives log values"
   ]
  },
  {
   "cell_type": "code",
   "execution_count": 41,
   "id": "24e24f83",
   "metadata": {
    "scrolled": true
   },
   "outputs": [
    {
     "data": {
      "text/plain": [
       "array([[2.        , 2.03586377, 2.07237064, 2.10953215],\n",
       "       [2.14736004, 2.18586625, 2.22506295, 2.26496252],\n",
       "       [2.30557757, 2.34692092, 2.38900563, 2.43184501],\n",
       "       [2.47545257, 2.5198421 , 2.56502762, 2.6110234 ],\n",
       "       [2.65784396, 2.70550412, 2.7540189 , 2.80340365],\n",
       "       [2.85367396, 2.90484571, 2.95693507, 3.00995849],\n",
       "       [3.06393271, 3.1188748 , 3.1748021 , 3.23173229],\n",
       "       [3.28968334, 3.34867356, 3.40872159, 3.46984639],\n",
       "       [3.53206727, 3.59540389, 3.65987626, 3.72550474],\n",
       "       [3.79231006, 3.86031332, 3.92953601, 4.        ]])"
      ]
     },
     "execution_count": 41,
     "metadata": {},
     "output_type": "execute_result"
    }
   ],
   "source": [
    "np.logspace(1,2,40, base = 2).reshape(10,4)"
   ]
  },
  {
   "cell_type": "code",
   "execution_count": 1,
   "id": "ca531d96",
   "metadata": {},
   "outputs": [],
   "source": [
    "import numpy as np"
   ]
  },
  {
   "cell_type": "code",
   "execution_count": 2,
   "id": "b34b4698",
   "metadata": {},
   "outputs": [
    {
     "data": {
      "text/plain": [
       "array([[ 4,  5,  6,  7,  8,  9],\n",
       "       [10, 11, 12, 13, 14, 15],\n",
       "       [16, 17, 18, 19, 20, 21],\n",
       "       [22, 23, 24, 25, 26, 27],\n",
       "       [28, 29, 30, 31, 32, 33],\n",
       "       [34, 35, 36, 37, 38, 39]])"
      ]
     },
     "execution_count": 2,
     "metadata": {},
     "output_type": "execute_result"
    }
   ],
   "source": [
    "a = np.arange(4,40).reshape(6,6)\n",
    "a"
   ]
  },
  {
   "cell_type": "code",
   "execution_count": 3,
   "id": "2d91ca72",
   "metadata": {},
   "outputs": [
    {
     "data": {
      "text/plain": [
       "39"
      ]
     },
     "execution_count": 3,
     "metadata": {},
     "output_type": "execute_result"
    }
   ],
   "source": [
    "# max return maximum value in an array :\n",
    "a.max()"
   ]
  },
  {
   "cell_type": "code",
   "execution_count": 4,
   "id": "a51859df",
   "metadata": {},
   "outputs": [
    {
     "data": {
      "text/plain": [
       "array([34, 35, 36, 37, 38, 39])"
      ]
     },
     "execution_count": 4,
     "metadata": {},
     "output_type": "execute_result"
    }
   ],
   "source": [
    "a.max(axis =0) #max numbers in row-wise , it will compare row-wise numbers"
   ]
  },
  {
   "cell_type": "code",
   "execution_count": 5,
   "id": "297df31d",
   "metadata": {},
   "outputs": [
    {
     "data": {
      "text/plain": [
       "array([ 9, 15, 21, 27, 33, 39])"
      ]
     },
     "execution_count": 5,
     "metadata": {},
     "output_type": "execute_result"
    }
   ],
   "source": [
    "a.max(axis = 1)  # max numbers in column-wise , it will compare column-wise numbers"
   ]
  },
  {
   "cell_type": "code",
   "execution_count": 6,
   "id": "0c1f0144",
   "metadata": {},
   "outputs": [
    {
     "data": {
      "text/plain": [
       "array([[  16,   25,   36,   49,   64,   81],\n",
       "       [ 100,  121,  144,  169,  196,  225],\n",
       "       [ 256,  289,  324,  361,  400,  441],\n",
       "       [ 484,  529,  576,  625,  676,  729],\n",
       "       [ 784,  841,  900,  961, 1024, 1089],\n",
       "       [1156, 1225, 1296, 1369, 1444, 1521]], dtype=int32)"
      ]
     },
     "execution_count": 6,
     "metadata": {},
     "output_type": "execute_result"
    }
   ],
   "source": [
    "pow(a,2) # perform power of 2 of each number"
   ]
  },
  {
   "cell_type": "code",
   "execution_count": 7,
   "id": "bd93c001",
   "metadata": {},
   "outputs": [
    {
     "data": {
      "text/plain": [
       "array([[ 4,  5,  6,  7,  8,  9],\n",
       "       [10, 11, 12, 13, 14, 15],\n",
       "       [16, 17, 18, 19, 20, 21],\n",
       "       [22, 23, 24, 25, 26, 27],\n",
       "       [28, 29, 30, 31, 32, 33],\n",
       "       [34, 35, 36, 37, 38, 39]])"
      ]
     },
     "execution_count": 7,
     "metadata": {},
     "output_type": "execute_result"
    }
   ],
   "source": [
    "a"
   ]
  },
  {
   "cell_type": "code",
   "execution_count": 8,
   "id": "2973a5db",
   "metadata": {},
   "outputs": [
    {
     "data": {
      "text/plain": [
       "array([2, 3, 1, 2, 3, 2])"
      ]
     },
     "execution_count": 8,
     "metadata": {},
     "output_type": "execute_result"
    }
   ],
   "source": [
    "b = np.array([2,3,1,2,3,2])\n",
    "b"
   ]
  },
  {
   "cell_type": "code",
   "execution_count": 9,
   "id": "ec42b0d8",
   "metadata": {},
   "outputs": [
    {
     "data": {
      "text/plain": [
       "array([[ 6,  8,  7,  9, 11, 11],\n",
       "       [12, 14, 13, 15, 17, 17],\n",
       "       [18, 20, 19, 21, 23, 23],\n",
       "       [24, 26, 25, 27, 29, 29],\n",
       "       [30, 32, 31, 33, 35, 35],\n",
       "       [36, 38, 37, 39, 41, 41]])"
      ]
     },
     "execution_count": 9,
     "metadata": {},
     "output_type": "execute_result"
    }
   ],
   "source": [
    "# row wise broadcasting operation : \n",
    "\n",
    "a+b  # here row in b + with each row of a"
   ]
  },
  {
   "cell_type": "code",
   "execution_count": 10,
   "id": "a264228b",
   "metadata": {},
   "outputs": [
    {
     "data": {
      "text/plain": [
       "array([2, 3, 1, 2, 3])"
      ]
     },
     "execution_count": 10,
     "metadata": {},
     "output_type": "execute_result"
    }
   ],
   "source": [
    "# if you give less number or different size of row for a n d b, it rasies error:\n",
    "c = np.array([2,3,1,2,3])\n",
    "c"
   ]
  },
  {
   "cell_type": "code",
   "execution_count": 11,
   "id": "704f15df",
   "metadata": {},
   "outputs": [
    {
     "ename": "ValueError",
     "evalue": "operands could not be broadcast together with shapes (6,6) (5,) ",
     "output_type": "error",
     "traceback": [
      "\u001b[1;31m---------------------------------------------------------------------------\u001b[0m",
      "\u001b[1;31mValueError\u001b[0m                                Traceback (most recent call last)",
      "Input \u001b[1;32mIn [11]\u001b[0m, in \u001b[0;36m<cell line: 2>\u001b[1;34m()\u001b[0m\n\u001b[0;32m      1\u001b[0m \u001b[38;5;66;03m# if i add 5 columns of c with 6 columns of a , raises an error:\u001b[39;00m\n\u001b[1;32m----> 2\u001b[0m \u001b[43ma\u001b[49m\u001b[38;5;241;43m+\u001b[39;49m\u001b[43mc\u001b[49m\n",
      "\u001b[1;31mValueError\u001b[0m: operands could not be broadcast together with shapes (6,6) (5,) "
     ]
    }
   ],
   "source": [
    "# if i add 5 columns of c with 6 columns of a , raises an error:\n",
    "a+c"
   ]
  },
  {
   "cell_type": "markdown",
   "id": "b5a40c35",
   "metadata": {},
   "source": [
    "##### by default adding two arrays, row-wise broadcasting is done"
   ]
  },
  {
   "cell_type": "code",
   "execution_count": 14,
   "id": "b1aee9f1",
   "metadata": {},
   "outputs": [
    {
     "data": {
      "text/plain": [
       "array([[2, 3, 1, 2, 3, 2]])"
      ]
     },
     "execution_count": 14,
     "metadata": {},
     "output_type": "execute_result"
    }
   ],
   "source": [
    "# to perform column wise broadcasting: \n",
    "# b is in 1d, we cannot perform operation, convert inot 2d or 3d:\n",
    "b = b.reshape(1,-1)\n",
    "b"
   ]
  },
  {
   "cell_type": "code",
   "execution_count": 15,
   "id": "319a5c57",
   "metadata": {},
   "outputs": [
    {
     "data": {
      "text/plain": [
       "array([[2],\n",
       "       [3],\n",
       "       [1],\n",
       "       [2],\n",
       "       [3],\n",
       "       [2]])"
      ]
     },
     "execution_count": 15,
     "metadata": {},
     "output_type": "execute_result"
    }
   ],
   "source": [
    "# to perform broadcasting, now transpose(change row to column):\n",
    "b = b.T\n",
    "b"
   ]
  },
  {
   "cell_type": "code",
   "execution_count": 16,
   "id": "d6679664",
   "metadata": {},
   "outputs": [
    {
     "data": {
      "text/plain": [
       "array([[ 6,  7,  8,  9, 10, 11],\n",
       "       [13, 14, 15, 16, 17, 18],\n",
       "       [17, 18, 19, 20, 21, 22],\n",
       "       [24, 25, 26, 27, 28, 29],\n",
       "       [31, 32, 33, 34, 35, 36],\n",
       "       [36, 37, 38, 39, 40, 41]])"
      ]
     },
     "execution_count": 16,
     "metadata": {},
     "output_type": "execute_result"
    }
   ],
   "source": [
    "# now if i perform broadcasting :\n",
    "b+a"
   ]
  },
  {
   "cell_type": "code",
   "execution_count": 18,
   "id": "9827d279",
   "metadata": {},
   "outputs": [
    {
     "data": {
      "text/plain": [
       "array([[ 4,  5,  6,  7,  8,  9],\n",
       "       [10, 11, 12, 13, 14, 15],\n",
       "       [16, 17, 18, 19, 20, 21],\n",
       "       [22, 23, 24, 25, 26, 27],\n",
       "       [28, 29, 30, 31, 32, 33],\n",
       "       [34, 35, 36, 37, 38, 39]])"
      ]
     },
     "execution_count": 18,
     "metadata": {},
     "output_type": "execute_result"
    }
   ],
   "source": [
    "a"
   ]
  },
  {
   "cell_type": "code",
   "execution_count": 17,
   "id": "2152b940",
   "metadata": {},
   "outputs": [
    {
     "data": {
      "text/plain": [
       "array([[2.        , 2.23606798, 2.44948974, 2.64575131, 2.82842712,\n",
       "        3.        ],\n",
       "       [3.16227766, 3.31662479, 3.46410162, 3.60555128, 3.74165739,\n",
       "        3.87298335],\n",
       "       [4.        , 4.12310563, 4.24264069, 4.35889894, 4.47213595,\n",
       "        4.58257569],\n",
       "       [4.69041576, 4.79583152, 4.89897949, 5.        , 5.09901951,\n",
       "        5.19615242],\n",
       "       [5.29150262, 5.38516481, 5.47722558, 5.56776436, 5.65685425,\n",
       "        5.74456265],\n",
       "       [5.83095189, 5.91607978, 6.        , 6.08276253, 6.164414  ,\n",
       "        6.244998  ]])"
      ]
     },
     "execution_count": 17,
     "metadata": {},
     "output_type": "execute_result"
    }
   ],
   "source": [
    "# find sqrt of each element of a :\n",
    "np.sqrt(a)"
   ]
  },
  {
   "cell_type": "code",
   "execution_count": 19,
   "id": "70193e1c",
   "metadata": {},
   "outputs": [
    {
     "data": {
      "text/plain": [
       "array([[5.45981500e+01, 1.48413159e+02, 4.03428793e+02, 1.09663316e+03,\n",
       "        2.98095799e+03, 8.10308393e+03],\n",
       "       [2.20264658e+04, 5.98741417e+04, 1.62754791e+05, 4.42413392e+05,\n",
       "        1.20260428e+06, 3.26901737e+06],\n",
       "       [8.88611052e+06, 2.41549528e+07, 6.56599691e+07, 1.78482301e+08,\n",
       "        4.85165195e+08, 1.31881573e+09],\n",
       "       [3.58491285e+09, 9.74480345e+09, 2.64891221e+10, 7.20048993e+10,\n",
       "        1.95729609e+11, 5.32048241e+11],\n",
       "       [1.44625706e+12, 3.93133430e+12, 1.06864746e+13, 2.90488497e+13,\n",
       "        7.89629602e+13, 2.14643580e+14],\n",
       "       [5.83461743e+14, 1.58601345e+15, 4.31123155e+15, 1.17191424e+16,\n",
       "        3.18559318e+16, 8.65934004e+16]])"
      ]
     },
     "execution_count": 19,
     "metadata": {},
     "output_type": "execute_result"
    }
   ],
   "source": [
    "# find exponent of each element of a :\n",
    "np.exp(a)"
   ]
  },
  {
   "cell_type": "code",
   "execution_count": 20,
   "id": "85909aae",
   "metadata": {},
   "outputs": [
    {
     "data": {
      "text/plain": [
       "array([[0.60205999, 0.69897   , 0.77815125, 0.84509804, 0.90308999,\n",
       "        0.95424251],\n",
       "       [1.        , 1.04139269, 1.07918125, 1.11394335, 1.14612804,\n",
       "        1.17609126],\n",
       "       [1.20411998, 1.23044892, 1.25527251, 1.2787536 , 1.30103   ,\n",
       "        1.32221929],\n",
       "       [1.34242268, 1.36172784, 1.38021124, 1.39794001, 1.41497335,\n",
       "        1.43136376],\n",
       "       [1.44715803, 1.462398  , 1.47712125, 1.49136169, 1.50514998,\n",
       "        1.51851394],\n",
       "       [1.53147892, 1.54406804, 1.5563025 , 1.56820172, 1.5797836 ,\n",
       "        1.59106461]])"
      ]
     },
     "execution_count": 20,
     "metadata": {},
     "output_type": "execute_result"
    }
   ],
   "source": [
    "# log of base 10 : \n",
    "np.log10(a)"
   ]
  },
  {
   "cell_type": "code",
   "execution_count": 21,
   "id": "cb980da2",
   "metadata": {},
   "outputs": [
    {
     "data": {
      "text/plain": [
       "array([1, 2, 3])"
      ]
     },
     "execution_count": 21,
     "metadata": {},
     "output_type": "execute_result"
    }
   ],
   "source": [
    "# \n",
    "x = np.array([1,2,3])\n",
    "y=x\n",
    "y"
   ]
  },
  {
   "cell_type": "code",
   "execution_count": 22,
   "id": "cbdc7c97",
   "metadata": {},
   "outputs": [
    {
     "data": {
      "text/plain": [
       "array([1, 2, 3])"
      ]
     },
     "execution_count": 22,
     "metadata": {},
     "output_type": "execute_result"
    }
   ],
   "source": [
    "z = np.copy(x)\n",
    "z  # z is a copy of x"
   ]
  },
  {
   "cell_type": "code",
   "execution_count": 23,
   "id": "ff23f765",
   "metadata": {},
   "outputs": [
    {
     "data": {
      "text/plain": [
       "array([100,   2,   3])"
      ]
     },
     "execution_count": 23,
     "metadata": {},
     "output_type": "execute_result"
    }
   ],
   "source": [
    "x[0] = 100  # if i change value in x it it automaticall changes in y( y is assigned to x)\n",
    "y"
   ]
  },
  {
   "cell_type": "code",
   "execution_count": 24,
   "id": "1d7f3f61",
   "metadata": {},
   "outputs": [
    {
     "data": {
      "text/plain": [
       "array([1, 2, 3])"
      ]
     },
     "execution_count": 24,
     "metadata": {},
     "output_type": "execute_result"
    }
   ],
   "source": [
    "z # z is a copy not assigned of x"
   ]
  },
  {
   "attachments": {
    "6.jpg": {
     "image/jpeg": "[encoded data removed]"
    }
   },
   "cell_type": "markdown",
   "id": "8e52eaaf",
   "metadata": {},
   "source": [
    "### this is the called shallow copy:\n",
    "\n",
    "![6.jpg](attachment:6.jpg)"
   ]
  },
  {
   "attachments": {
    "7.jpg": {
     "image/jpeg": "[encoded data removed]"
    }
   },
   "cell_type": "markdown",
   "id": "93b574e1",
   "metadata": {},
   "source": [
    "### this is called deep copy :\n",
    "\n",
    "![7.jpg](attachment:7.jpg)"
   ]
  },
  {
   "cell_type": "markdown",
   "id": "c0cd0d29",
   "metadata": {},
   "source": [
    "### In Shallow copy, a copy of the original object is stored and only the reference address is finally copied.\n",
    "### In Deep copy, the copy of the original object and the repetitive copies both are stored."
   ]
  },
  {
   "cell_type": "markdown",
   "id": "151c1db9",
   "metadata": {},
   "source": [
    "## id function :\n",
    "\n",
    "##### The identity array is a square array with ones on the main diagonal. The identity() function return the identity array."
   ]
  },
  {
   "cell_type": "code",
   "execution_count": 25,
   "id": "065b55d7",
   "metadata": {},
   "outputs": [
    {
     "data": {
      "text/plain": [
       "2004807857328"
      ]
     },
     "execution_count": 25,
     "metadata": {},
     "output_type": "execute_result"
    }
   ],
   "source": [
    "id(x)"
   ]
  },
  {
   "cell_type": "code",
   "execution_count": 26,
   "id": "f68d02d4",
   "metadata": {},
   "outputs": [
    {
     "data": {
      "text/plain": [
       "2004807857328"
      ]
     },
     "execution_count": 26,
     "metadata": {},
     "output_type": "execute_result"
    }
   ],
   "source": [
    "id(y) # x=y so id of both x n y are same."
   ]
  },
  {
   "cell_type": "code",
   "execution_count": 29,
   "id": "af48a9f5",
   "metadata": {},
   "outputs": [
    {
     "data": {
      "text/plain": [
       "2004813219664"
      ]
     },
     "execution_count": 29,
     "metadata": {},
     "output_type": "execute_result"
    }
   ],
   "source": [
    "id(z)"
   ]
  },
  {
   "cell_type": "code",
   "execution_count": 30,
   "id": "eb7eae44",
   "metadata": {},
   "outputs": [
    {
     "data": {
      "text/plain": [
       "2004846589776"
      ]
     },
     "execution_count": 30,
     "metadata": {},
     "output_type": "execute_result"
    }
   ],
   "source": [
    "# elements of x n y are not same :\n",
    "id(x[0])"
   ]
  },
  {
   "cell_type": "code",
   "execution_count": 31,
   "id": "992da9d2",
   "metadata": {},
   "outputs": [
    {
     "data": {
      "text/plain": [
       "2004846589744"
      ]
     },
     "execution_count": 31,
     "metadata": {},
     "output_type": "execute_result"
    }
   ],
   "source": [
    "id(y[0])"
   ]
  },
  {
   "cell_type": "code",
   "execution_count": 33,
   "id": "05bbfeb4",
   "metadata": {},
   "outputs": [
    {
     "data": {
      "text/plain": [
       "True"
      ]
     },
     "execution_count": 33,
     "metadata": {},
     "output_type": "execute_result"
    }
   ],
   "source": [
    "id(x[0]) == id(z[0])"
   ]
  }
 ],
 "metadata": {
  "kernelspec": {
   "display_name": "Python 3 (ipykernel)",
   "language": "python",
   "name": "python3"
  },
  "language_info": {
   "codemirror_mode": {
    "name": "ipython",
    "version": 3
   },
   "file_extension": ".py",
   "mimetype": "text/x-python",
   "name": "python",
   "nbconvert_exporter": "python",
   "pygments_lexer": "ipython3",
   "version": "3.9.7"
  }
 },
 "nbformat": 4,
 "nbformat_minor": 5
}
