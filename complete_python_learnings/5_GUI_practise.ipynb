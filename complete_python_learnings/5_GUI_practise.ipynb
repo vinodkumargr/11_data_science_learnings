{
 "cells": [
  {
   "cell_type": "markdown",
   "id": "09001562",
   "metadata": {},
   "source": [
    "# GUI : [Graphical User Interface]\n",
    "\n",
    "### it is made up of graphical components (e.g, buttons, labels, windows) through which user interact with application.\n",
    "\n",
    "\n",
    "### How do I make a GUI in Python?\n",
    "#### Tkinter Programming\n",
    "\n",
    "#### Import the Tkinter module. Create the GUI application main window. Add one or more of the above-mentioned widgets to the GUI application. Enter the main event loop to take action against each event triggered by the user.\n",
    "\n",
    "### important steps in Tkinter :\n",
    "\n",
    "##### 01. Importing the module – tkinter\n",
    "##### 02. Create the main window (container)\n",
    "##### 03. Add any number of widgets to the main window\n",
    "##### 04. Apply the event Trigger on the widgets. or run the event loop that user to interact with   apllication."
   ]
  },
  {
   "cell_type": "code",
   "execution_count": 1,
   "id": "cfa4834e",
   "metadata": {},
   "outputs": [],
   "source": [
    "import tkinter"
   ]
  },
  {
   "cell_type": "code",
   "execution_count": null,
   "id": "d40db4aa",
   "metadata": {
    "scrolled": true
   },
   "outputs": [],
   "source": [
    "# to initialize the main window or root window\n",
    "import tkinter\n",
    "tw = tkinter.Tk()\n",
    "img= tkinter.PhotoImage(file = \"C://Users//Dell//OneDrive//Pictures//Screenshots//Screenshot (145).png\")\n",
    "tw.iconphoto(tw,img)\n",
    "tw.mainloop()\n",
    "\n",
    "# min loop is a function used for making root windwo on the screen "
   ]
  },
  {
   "cell_type": "code",
   "execution_count": 2,
   "id": "0ce71b62",
   "metadata": {},
   "outputs": [],
   "source": [
    "from tkinter.constants import *\n",
    "tk = tkinter.Tk()\n",
    "frame = tkinter.Frame(tk, relief=RIDGE, borderwidth=2)\n",
    "frame.pack(fill=BOTH,expand=1)\n",
    "label = tkinter.Label(frame, text=\"Hello, World\")\n",
    "label.pack(fill=X, expand=1)\n",
    "button = tkinter.Button(frame,text=\"Exit\",command=tk.destroy)\n",
    "button.pack(side=BOTTOM)\n",
    "tk.mainloop()"
   ]
  },
  {
   "cell_type": "code",
   "execution_count": null,
   "id": "31d4d8bb",
   "metadata": {},
   "outputs": [],
   "source": [
    "# to change the tittle of the main menu\n",
    "tw.title(\"vinod\")"
   ]
  },
  {
   "cell_type": "code",
   "execution_count": null,
   "id": "a3075165",
   "metadata": {},
   "outputs": [],
   "source": [
    "# to add icon image(changing icon image)\n",
    "img= tkinter.PhotoImage(file = \"C://Users//Dell//OneDrive//Pictures//Screenshots//Screenshot (145).png\")\n",
    "tw.iconphoto(tw,img)"
   ]
  },
  {
   "cell_type": "code",
   "execution_count": null,
   "id": "566a19db",
   "metadata": {},
   "outputs": [],
   "source": [
    "# to chnage the geometry(size of a window) :\n",
    "tw.geometry(\"600x700\")"
   ]
  },
  {
   "cell_type": "code",
   "execution_count": null,
   "id": "bdf924cd",
   "metadata": {},
   "outputs": [],
   "source": [
    "# add a label :\n",
    "label = tkinter.Label(tw, text = \"python\")  \n",
    "label.pack()"
   ]
  },
  {
   "cell_type": "code",
   "execution_count": null,
   "id": "6ae5964a",
   "metadata": {},
   "outputs": [],
   "source": [
    "# background (bg) and foreground (fg) color for label :\n",
    "\n",
    "label = tkinter.Label2(tw, text = \"python 01\", bg = \"red\", fg = \"black\")\n",
    "label.pack()"
   ]
  },
  {
   "cell_type": "code",
   "execution_count": null,
   "id": "606f9e36",
   "metadata": {},
   "outputs": [],
   "source": [
    "# to change background color of window\n",
    "tw.configure(bg = \"yellow\")"
   ]
  },
  {
   "cell_type": "code",
   "execution_count": null,
   "id": "fb9af1fb",
   "metadata": {},
   "outputs": [],
   "source": [
    "## change the font and style : \n",
    "label2 = tkinter.Label(tw, text = \"font and style\", font = \"Arial 32 bold\")\n",
    "label2.pack()"
   ]
  },
  {
   "cell_type": "code",
   "execution_count": null,
   "id": "74c12ffe",
   "metadata": {},
   "outputs": [],
   "source": [
    "## borderwidth and relief :\n",
    "import tkinter.font as tkfont\n",
    "myfo = tkfont.Font(size = 20)\n",
    "label3 = tkinter.Label(tw, text = \"solid\", font = myfo, borderwidth = 2, relief = \"solid\")\n",
    "label3.pack()\n",
    "label4 = tkinter.Label(tw, text = \"flat\", font = myfo, borderwidth = 2, relief = \"flat\")\n",
    "label4.pack()\n",
    "label5 = tkinter.Label(tw, text = \"raised\", font = myfo, borderwidth = 2, relief = \"raised\")\n",
    "label5.pack()\n",
    "label6 = tkinter.Label(tw, text = \"sunken\", font = myfo, borderwidth = 2, relief = \"sunken\")\n",
    "label6.pack()\n",
    "label7 = tkinter.Label(tw, text = \"ridge\", font = myfo, borderwidth = 2, relief = \"ridge\" )\n",
    "label7.pack()\n",
    "label8 = tkinter.Label(tw, text = \"groove\", font = myfo, borderwidth = 2, relief = \"groove\")\n",
    "label8.pack()\n",
    "\n",
    "## relief means -> certain simulated 3-D effects around the outside of the widget"
   ]
  },
  {
   "cell_type": "code",
   "execution_count": null,
   "id": "b5e208dd",
   "metadata": {},
   "outputs": [],
   "source": []
  },
  {
   "cell_type": "code",
   "execution_count": null,
   "id": "d723b888",
   "metadata": {},
   "outputs": [],
   "source": []
  },
  {
   "cell_type": "code",
   "execution_count": null,
   "id": "4727028c",
   "metadata": {},
   "outputs": [],
   "source": []
  },
  {
   "cell_type": "code",
   "execution_count": null,
   "id": "6effc1c9",
   "metadata": {},
   "outputs": [],
   "source": []
  },
  {
   "cell_type": "code",
   "execution_count": 7,
   "id": "4459fb86",
   "metadata": {},
   "outputs": [],
   "source": [
    "import tkinter\n",
    "tw = tkinter.Tk()\n",
    "## add icon image :\n",
    "#img= tkinter.PhotoImage(file = \"C://Users//Dell//OneDrive//Pictures//Screenshots//Screenshot (145).png\")\n",
    "#tw.iconphoto(tw,img)\n",
    "\n",
    "## add tittle for window :\n",
    "tw.title(\"vinod\")\n",
    "\n",
    "## reshape the window :\n",
    "tw.geometry(\"600x700\")\n",
    "\n",
    "## background color for window :\n",
    "tw.configure(bg = \"yellow\")\n",
    "\n",
    "## add label :\n",
    "label = tkinter.Label(tw, text = \"python\", compound = tkinter.LEFT)  \n",
    "label.pack()  \n",
    "\n",
    "## add another label with background and foreground color :\n",
    "label1 = tkinter.Label(tw, text = \"python 01\", bg = \"red\", fg = \"black\")\n",
    "label1.pack()\n",
    "\n",
    "## change the font and style : \n",
    "label2 = tkinter.Label(tw, text = \"font and style\", font = \"Arial 32 bold\")\n",
    "label2.pack()\n",
    "\n",
    "## borderwidth and relief :\n",
    "import tkinter.font as tkfont\n",
    "myfo = tkfont.Font(size = 20)\n",
    "label3 = tkinter.Label(tw, text = \"solid\", font = myfo, borderwidth = 2, relief = \"solid\" )\n",
    "label3.pack()\n",
    "label4 = tkinter.Label(tw, text = \"flat\", font = myfo, borderwidth = 2, relief = \"flat\")\n",
    "label4.pack()\n",
    "label5 = tkinter.Label(tw, text = \"raised\", font = myfo, borderwidth = 2, relief = \"raised\")\n",
    "label5.pack()\n",
    "label6 = tkinter.Label(tw, text = \"sunken\", font = myfo, borderwidth = 2, relief = \"sunken\" )\n",
    "label6.pack()\n",
    "label7 = tkinter.Label(tw, text = \"ridge\", font = myfo, borderwidth = 2, relief = \"ridge\" )\n",
    "label7.pack()\n",
    "label8 = tkinter.Label(tw, text = \"groove\", font = myfo, borderwidth = 2, relief = \"groove\" )\n",
    "label8.pack()\n",
    "\n",
    "## \n",
    "tw.mainloop()"
   ]
  },
  {
   "cell_type": "code",
   "execution_count": null,
   "id": "9e8a93f0",
   "metadata": {},
   "outputs": [],
   "source": []
  },
  {
   "cell_type": "code",
   "execution_count": null,
   "id": "64e61e60",
   "metadata": {},
   "outputs": [],
   "source": []
  },
  {
   "cell_type": "code",
   "execution_count": null,
   "id": "20011812",
   "metadata": {},
   "outputs": [],
   "source": []
  },
  {
   "cell_type": "code",
   "execution_count": null,
   "id": "40d22530",
   "metadata": {},
   "outputs": [],
   "source": []
  },
  {
   "cell_type": "code",
   "execution_count": null,
   "id": "1dcde3c1",
   "metadata": {},
   "outputs": [],
   "source": []
  },
  {
   "cell_type": "code",
   "execution_count": null,
   "id": "141ec205",
   "metadata": {},
   "outputs": [],
   "source": []
  },
  {
   "cell_type": "code",
   "execution_count": null,
   "id": "ba68b2c4",
   "metadata": {},
   "outputs": [],
   "source": []
  },
  {
   "cell_type": "code",
   "execution_count": null,
   "id": "bf1a1ee3",
   "metadata": {},
   "outputs": [],
   "source": []
  },
  {
   "cell_type": "code",
   "execution_count": null,
   "id": "a35d4e55",
   "metadata": {},
   "outputs": [],
   "source": []
  },
  {
   "cell_type": "code",
   "execution_count": null,
   "id": "5bd56993",
   "metadata": {},
   "outputs": [],
   "source": []
  },
  {
   "cell_type": "code",
   "execution_count": null,
   "id": "21efe0e6",
   "metadata": {},
   "outputs": [],
   "source": []
  },
  {
   "cell_type": "code",
   "execution_count": null,
   "id": "6a027629",
   "metadata": {},
   "outputs": [],
   "source": []
  },
  {
   "cell_type": "code",
   "execution_count": null,
   "id": "2ee07651",
   "metadata": {},
   "outputs": [],
   "source": []
  },
  {
   "cell_type": "code",
   "execution_count": null,
   "id": "274c8b1a",
   "metadata": {},
   "outputs": [],
   "source": []
  },
  {
   "cell_type": "code",
   "execution_count": null,
   "id": "38a26016",
   "metadata": {},
   "outputs": [],
   "source": []
  },
  {
   "cell_type": "code",
   "execution_count": null,
   "id": "146e8e5f",
   "metadata": {},
   "outputs": [],
   "source": []
  },
  {
   "cell_type": "code",
   "execution_count": null,
   "id": "b31fd790",
   "metadata": {},
   "outputs": [],
   "source": []
  },
  {
   "cell_type": "code",
   "execution_count": null,
   "id": "44f8c280",
   "metadata": {},
   "outputs": [],
   "source": []
  },
  {
   "cell_type": "code",
   "execution_count": null,
   "id": "56f9a6e2",
   "metadata": {},
   "outputs": [],
   "source": []
  },
  {
   "cell_type": "code",
   "execution_count": null,
   "id": "ab82e862",
   "metadata": {},
   "outputs": [],
   "source": []
  },
  {
   "cell_type": "code",
   "execution_count": null,
   "id": "6630f69e",
   "metadata": {},
   "outputs": [],
   "source": []
  },
  {
   "cell_type": "code",
   "execution_count": null,
   "id": "0bf47a86",
   "metadata": {},
   "outputs": [],
   "source": []
  },
  {
   "cell_type": "code",
   "execution_count": null,
   "id": "adfabd51",
   "metadata": {},
   "outputs": [],
   "source": []
  },
  {
   "cell_type": "code",
   "execution_count": null,
   "id": "8c994da2",
   "metadata": {},
   "outputs": [],
   "source": []
  },
  {
   "cell_type": "code",
   "execution_count": null,
   "id": "cdcf671d",
   "metadata": {},
   "outputs": [],
   "source": []
  },
  {
   "cell_type": "code",
   "execution_count": null,
   "id": "a369212e",
   "metadata": {},
   "outputs": [],
   "source": []
  },
  {
   "cell_type": "code",
   "execution_count": null,
   "id": "30622358",
   "metadata": {},
   "outputs": [],
   "source": []
  }
 ],
 "metadata": {
  "kernelspec": {
   "display_name": "Python 3 (ipykernel)",
   "language": "python",
   "name": "python3"
  },
  "language_info": {
   "codemirror_mode": {
    "name": "ipython",
    "version": 3
   },
   "file_extension": ".py",
   "mimetype": "text/x-python",
   "name": "python",
   "nbconvert_exporter": "python",
   "pygments_lexer": "ipython3",
   "version": "3.9.7"
  }
 },
 "nbformat": 4,
 "nbformat_minor": 5
}
