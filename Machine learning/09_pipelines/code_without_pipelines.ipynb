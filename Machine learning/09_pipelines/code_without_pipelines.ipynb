{
  "nbformat": 4,
  "nbformat_minor": 0,
  "metadata": {
    "colab": {
      "provenance": []
    },
    "kernelspec": {
      "name": "python3",
      "display_name": "Python 3"
    },
    "language_info": {
      "name": "python"
    }
  },
  "cells": [
    {
      "cell_type": "markdown",
      "source": [
        "## Without using pipeline"
      ],
      "metadata": {
        "id": "sYO-WLSCcuDp"
      }
    },
    {
      "cell_type": "code",
      "execution_count": 1,
      "metadata": {
        "id": "hpDpoZq-ZWII"
      },
      "outputs": [],
      "source": [
        "import pandas as pd\n",
        "import numpy as np\n",
        "import seaborn as sns\n",
        "import matplotlib.pyplot as plt\n",
        "%matplotlib inline\n",
        "\n",
        "from sklearn.model_selection import train_test_split\n",
        "from sklearn.impute import SimpleImputer         # we have some missing values \n",
        "from sklearn.preprocessing import OneHotEncoder  # we have categorical data\n",
        "from sklearn.preprocessing import MinMaxScaler   # for scaling\n",
        "from sklearn.tree import DecisionTreeClassifier  # for making predictions"
      ]
    },
    {
      "cell_type": "code",
      "source": [
        "df = pd.read_csv('https://raw.githubusercontent.com/campusx-official/100-days-of-machine-learning/main/day29-sklearn-pipelines/train.csv')\n",
        "df.head(4)"
      ],
      "metadata": {
        "colab": {
          "base_uri": "https://localhost:8080/",
          "height": 482
        },
        "id": "y1FGfP5gZmRZ",
        "outputId": "3e49974b-a02d-4d2e-ff42-21a6aa7ab98a"
      },
      "execution_count": 2,
      "outputs": [
        {
          "output_type": "execute_result",
          "data": {
            "text/plain": [
              "   PassengerId  Survived  Pclass  \\\n",
              "0            1         0       3   \n",
              "1            2         1       1   \n",
              "2            3         1       3   \n",
              "3            4         1       1   \n",
              "\n",
              "                                                Name     Sex   Age  SibSp  \\\n",
              "0                            Braund, Mr. Owen Harris    male  22.0      1   \n",
              "1  Cumings, Mrs. John Bradley (Florence Briggs Th...  female  38.0      1   \n",
              "2                             Heikkinen, Miss. Laina  female  26.0      0   \n",
              "3       Futrelle, Mrs. Jacques Heath (Lily May Peel)  female  35.0      1   \n",
              "\n",
              "   Parch            Ticket     Fare Cabin Embarked  \n",
              "0      0         A/5 21171   7.2500   NaN        S  \n",
              "1      0          PC 17599  71.2833   C85        C  \n",
              "2      0  STON/O2. 3101282   7.9250   NaN        S  \n",
              "3      0            113803  53.1000  C123        S  "
            ],
            "text/html": [
              "\n",
              "  <div id=\"df-97ad1754-84e4-4cf1-981b-8a59a3c82124\">\n",
              "    <div class=\"colab-df-container\">\n",
              "      <div>\n",
              "<style scoped>\n",
              "    .dataframe tbody tr th:only-of-type {\n",
              "        vertical-align: middle;\n",
              "    }\n",
              "\n",
              "    .dataframe tbody tr th {\n",
              "        vertical-align: top;\n",
              "    }\n",
              "\n",
              "    .dataframe thead th {\n",
              "        text-align: right;\n",
              "    }\n",
              "</style>\n",
              "<table border=\"1\" class=\"dataframe\">\n",
              "  <thead>\n",
              "    <tr style=\"text-align: right;\">\n",
              "      <th></th>\n",
              "      <th>PassengerId</th>\n",
              "      <th>Survived</th>\n",
              "      <th>Pclass</th>\n",
              "      <th>Name</th>\n",
              "      <th>Sex</th>\n",
              "      <th>Age</th>\n",
              "      <th>SibSp</th>\n",
              "      <th>Parch</th>\n",
              "      <th>Ticket</th>\n",
              "      <th>Fare</th>\n",
              "      <th>Cabin</th>\n",
              "      <th>Embarked</th>\n",
              "    </tr>\n",
              "  </thead>\n",
              "  <tbody>\n",
              "    <tr>\n",
              "      <th>0</th>\n",
              "      <td>1</td>\n",
              "      <td>0</td>\n",
              "      <td>3</td>\n",
              "      <td>Braund, Mr. Owen Harris</td>\n",
              "      <td>male</td>\n",
              "      <td>22.0</td>\n",
              "      <td>1</td>\n",
              "      <td>0</td>\n",
              "      <td>A/5 21171</td>\n",
              "      <td>7.2500</td>\n",
              "      <td>NaN</td>\n",
              "      <td>S</td>\n",
              "    </tr>\n",
              "    <tr>\n",
              "      <th>1</th>\n",
              "      <td>2</td>\n",
              "      <td>1</td>\n",
              "      <td>1</td>\n",
              "      <td>Cumings, Mrs. John Bradley (Florence Briggs Th...</td>\n",
              "      <td>female</td>\n",
              "      <td>38.0</td>\n",
              "      <td>1</td>\n",
              "      <td>0</td>\n",
              "      <td>PC 17599</td>\n",
              "      <td>71.2833</td>\n",
              "      <td>C85</td>\n",
              "      <td>C</td>\n",
              "    </tr>\n",
              "    <tr>\n",
              "      <th>2</th>\n",
              "      <td>3</td>\n",
              "      <td>1</td>\n",
              "      <td>3</td>\n",
              "      <td>Heikkinen, Miss. Laina</td>\n",
              "      <td>female</td>\n",
              "      <td>26.0</td>\n",
              "      <td>0</td>\n",
              "      <td>0</td>\n",
              "      <td>STON/O2. 3101282</td>\n",
              "      <td>7.9250</td>\n",
              "      <td>NaN</td>\n",
              "      <td>S</td>\n",
              "    </tr>\n",
              "    <tr>\n",
              "      <th>3</th>\n",
              "      <td>4</td>\n",
              "      <td>1</td>\n",
              "      <td>1</td>\n",
              "      <td>Futrelle, Mrs. Jacques Heath (Lily May Peel)</td>\n",
              "      <td>female</td>\n",
              "      <td>35.0</td>\n",
              "      <td>1</td>\n",
              "      <td>0</td>\n",
              "      <td>113803</td>\n",
              "      <td>53.1000</td>\n",
              "      <td>C123</td>\n",
              "      <td>S</td>\n",
              "    </tr>\n",
              "  </tbody>\n",
              "</table>\n",
              "</div>\n",
              "      <button class=\"colab-df-convert\" onclick=\"convertToInteractive('df-97ad1754-84e4-4cf1-981b-8a59a3c82124')\"\n",
              "              title=\"Convert this dataframe to an interactive table.\"\n",
              "              style=\"display:none;\">\n",
              "        \n",
              "  <svg xmlns=\"http://www.w3.org/2000/svg\" height=\"24px\"viewBox=\"0 0 24 24\"\n",
              "       width=\"24px\">\n",
              "    <path d=\"M0 0h24v24H0V0z\" fill=\"none\"/>\n",
              "    <path d=\"M18.56 5.44l.94 2.06.94-2.06 2.06-.94-2.06-.94-.94-2.06-.94 2.06-2.06.94zm-11 1L8.5 8.5l.94-2.06 2.06-.94-2.06-.94L8.5 2.5l-.94 2.06-2.06.94zm10 10l.94 2.06.94-2.06 2.06-.94-2.06-.94-.94-2.06-.94 2.06-2.06.94z\"/><path d=\"M17.41 7.96l-1.37-1.37c-.4-.4-.92-.59-1.43-.59-.52 0-1.04.2-1.43.59L10.3 9.45l-7.72 7.72c-.78.78-.78 2.05 0 2.83L4 21.41c.39.39.9.59 1.41.59.51 0 1.02-.2 1.41-.59l7.78-7.78 2.81-2.81c.8-.78.8-2.07 0-2.86zM5.41 20L4 18.59l7.72-7.72 1.47 1.35L5.41 20z\"/>\n",
              "  </svg>\n",
              "      </button>\n",
              "      \n",
              "  <style>\n",
              "    .colab-df-container {\n",
              "      display:flex;\n",
              "      flex-wrap:wrap;\n",
              "      gap: 12px;\n",
              "    }\n",
              "\n",
              "    .colab-df-convert {\n",
              "      background-color: #E8F0FE;\n",
              "      border: none;\n",
              "      border-radius: 50%;\n",
              "      cursor: pointer;\n",
              "      display: none;\n",
              "      fill: #1967D2;\n",
              "      height: 32px;\n",
              "      padding: 0 0 0 0;\n",
              "      width: 32px;\n",
              "    }\n",
              "\n",
              "    .colab-df-convert:hover {\n",
              "      background-color: #E2EBFA;\n",
              "      box-shadow: 0px 1px 2px rgba(60, 64, 67, 0.3), 0px 1px 3px 1px rgba(60, 64, 67, 0.15);\n",
              "      fill: #174EA6;\n",
              "    }\n",
              "\n",
              "    [theme=dark] .colab-df-convert {\n",
              "      background-color: #3B4455;\n",
              "      fill: #D2E3FC;\n",
              "    }\n",
              "\n",
              "    [theme=dark] .colab-df-convert:hover {\n",
              "      background-color: #434B5C;\n",
              "      box-shadow: 0px 1px 3px 1px rgba(0, 0, 0, 0.15);\n",
              "      filter: drop-shadow(0px 1px 2px rgba(0, 0, 0, 0.3));\n",
              "      fill: #FFFFFF;\n",
              "    }\n",
              "  </style>\n",
              "\n",
              "      <script>\n",
              "        const buttonEl =\n",
              "          document.querySelector('#df-97ad1754-84e4-4cf1-981b-8a59a3c82124 button.colab-df-convert');\n",
              "        buttonEl.style.display =\n",
              "          google.colab.kernel.accessAllowed ? 'block' : 'none';\n",
              "\n",
              "        async function convertToInteractive(key) {\n",
              "          const element = document.querySelector('#df-97ad1754-84e4-4cf1-981b-8a59a3c82124');\n",
              "          const dataTable =\n",
              "            await google.colab.kernel.invokeFunction('convertToInteractive',\n",
              "                                                     [key], {});\n",
              "          if (!dataTable) return;\n",
              "\n",
              "          const docLinkHtml = 'Like what you see? Visit the ' +\n",
              "            '<a target=\"_blank\" href=https://colab.research.google.com/notebooks/data_table.ipynb>data table notebook</a>'\n",
              "            + ' to learn more about interactive tables.';\n",
              "          element.innerHTML = '';\n",
              "          dataTable['output_type'] = 'display_data';\n",
              "          await google.colab.output.renderOutput(dataTable, element);\n",
              "          const docLink = document.createElement('div');\n",
              "          docLink.innerHTML = docLinkHtml;\n",
              "          element.appendChild(docLink);\n",
              "        }\n",
              "      </script>\n",
              "    </div>\n",
              "  </div>\n",
              "  "
            ]
          },
          "metadata": {},
          "execution_count": 2
        }
      ]
    },
    {
      "cell_type": "code",
      "source": [
        "df.isnull().sum()"
      ],
      "metadata": {
        "colab": {
          "base_uri": "https://localhost:8080/"
        },
        "id": "mQnQClpvZqup",
        "outputId": "8ff211ff-335d-44bf-a2e6-10a875ef230e"
      },
      "execution_count": 3,
      "outputs": [
        {
          "output_type": "execute_result",
          "data": {
            "text/plain": [
              "PassengerId      0\n",
              "Survived         0\n",
              "Pclass           0\n",
              "Name             0\n",
              "Sex              0\n",
              "Age            177\n",
              "SibSp            0\n",
              "Parch            0\n",
              "Ticket           0\n",
              "Fare             0\n",
              "Cabin          687\n",
              "Embarked         2\n",
              "dtype: int64"
            ]
          },
          "metadata": {},
          "execution_count": 3
        }
      ]
    },
    {
      "cell_type": "code",
      "source": [
        "df.drop(columns=['PassengerId','Name','Ticket','Cabin'],inplace=True)\n",
        "df.head(5)"
      ],
      "metadata": {
        "colab": {
          "base_uri": "https://localhost:8080/",
          "height": 206
        },
        "id": "8HKWO_VqcqlD",
        "outputId": "1906bbad-6eab-4fc3-8652-5068e5ebeeb7"
      },
      "execution_count": 4,
      "outputs": [
        {
          "output_type": "execute_result",
          "data": {
            "text/plain": [
              "   Survived  Pclass     Sex   Age  SibSp  Parch     Fare Embarked\n",
              "0         0       3    male  22.0      1      0   7.2500        S\n",
              "1         1       1  female  38.0      1      0  71.2833        C\n",
              "2         1       3  female  26.0      0      0   7.9250        S\n",
              "3         1       1  female  35.0      1      0  53.1000        S\n",
              "4         0       3    male  35.0      0      0   8.0500        S"
            ],
            "text/html": [
              "\n",
              "  <div id=\"df-f089ce16-4337-43e1-9586-e21c6c60f21d\">\n",
              "    <div class=\"colab-df-container\">\n",
              "      <div>\n",
              "<style scoped>\n",
              "    .dataframe tbody tr th:only-of-type {\n",
              "        vertical-align: middle;\n",
              "    }\n",
              "\n",
              "    .dataframe tbody tr th {\n",
              "        vertical-align: top;\n",
              "    }\n",
              "\n",
              "    .dataframe thead th {\n",
              "        text-align: right;\n",
              "    }\n",
              "</style>\n",
              "<table border=\"1\" class=\"dataframe\">\n",
              "  <thead>\n",
              "    <tr style=\"text-align: right;\">\n",
              "      <th></th>\n",
              "      <th>Survived</th>\n",
              "      <th>Pclass</th>\n",
              "      <th>Sex</th>\n",
              "      <th>Age</th>\n",
              "      <th>SibSp</th>\n",
              "      <th>Parch</th>\n",
              "      <th>Fare</th>\n",
              "      <th>Embarked</th>\n",
              "    </tr>\n",
              "  </thead>\n",
              "  <tbody>\n",
              "    <tr>\n",
              "      <th>0</th>\n",
              "      <td>0</td>\n",
              "      <td>3</td>\n",
              "      <td>male</td>\n",
              "      <td>22.0</td>\n",
              "      <td>1</td>\n",
              "      <td>0</td>\n",
              "      <td>7.2500</td>\n",
              "      <td>S</td>\n",
              "    </tr>\n",
              "    <tr>\n",
              "      <th>1</th>\n",
              "      <td>1</td>\n",
              "      <td>1</td>\n",
              "      <td>female</td>\n",
              "      <td>38.0</td>\n",
              "      <td>1</td>\n",
              "      <td>0</td>\n",
              "      <td>71.2833</td>\n",
              "      <td>C</td>\n",
              "    </tr>\n",
              "    <tr>\n",
              "      <th>2</th>\n",
              "      <td>1</td>\n",
              "      <td>3</td>\n",
              "      <td>female</td>\n",
              "      <td>26.0</td>\n",
              "      <td>0</td>\n",
              "      <td>0</td>\n",
              "      <td>7.9250</td>\n",
              "      <td>S</td>\n",
              "    </tr>\n",
              "    <tr>\n",
              "      <th>3</th>\n",
              "      <td>1</td>\n",
              "      <td>1</td>\n",
              "      <td>female</td>\n",
              "      <td>35.0</td>\n",
              "      <td>1</td>\n",
              "      <td>0</td>\n",
              "      <td>53.1000</td>\n",
              "      <td>S</td>\n",
              "    </tr>\n",
              "    <tr>\n",
              "      <th>4</th>\n",
              "      <td>0</td>\n",
              "      <td>3</td>\n",
              "      <td>male</td>\n",
              "      <td>35.0</td>\n",
              "      <td>0</td>\n",
              "      <td>0</td>\n",
              "      <td>8.0500</td>\n",
              "      <td>S</td>\n",
              "    </tr>\n",
              "  </tbody>\n",
              "</table>\n",
              "</div>\n",
              "      <button class=\"colab-df-convert\" onclick=\"convertToInteractive('df-f089ce16-4337-43e1-9586-e21c6c60f21d')\"\n",
              "              title=\"Convert this dataframe to an interactive table.\"\n",
              "              style=\"display:none;\">\n",
              "        \n",
              "  <svg xmlns=\"http://www.w3.org/2000/svg\" height=\"24px\"viewBox=\"0 0 24 24\"\n",
              "       width=\"24px\">\n",
              "    <path d=\"M0 0h24v24H0V0z\" fill=\"none\"/>\n",
              "    <path d=\"M18.56 5.44l.94 2.06.94-2.06 2.06-.94-2.06-.94-.94-2.06-.94 2.06-2.06.94zm-11 1L8.5 8.5l.94-2.06 2.06-.94-2.06-.94L8.5 2.5l-.94 2.06-2.06.94zm10 10l.94 2.06.94-2.06 2.06-.94-2.06-.94-.94-2.06-.94 2.06-2.06.94z\"/><path d=\"M17.41 7.96l-1.37-1.37c-.4-.4-.92-.59-1.43-.59-.52 0-1.04.2-1.43.59L10.3 9.45l-7.72 7.72c-.78.78-.78 2.05 0 2.83L4 21.41c.39.39.9.59 1.41.59.51 0 1.02-.2 1.41-.59l7.78-7.78 2.81-2.81c.8-.78.8-2.07 0-2.86zM5.41 20L4 18.59l7.72-7.72 1.47 1.35L5.41 20z\"/>\n",
              "  </svg>\n",
              "      </button>\n",
              "      \n",
              "  <style>\n",
              "    .colab-df-container {\n",
              "      display:flex;\n",
              "      flex-wrap:wrap;\n",
              "      gap: 12px;\n",
              "    }\n",
              "\n",
              "    .colab-df-convert {\n",
              "      background-color: #E8F0FE;\n",
              "      border: none;\n",
              "      border-radius: 50%;\n",
              "      cursor: pointer;\n",
              "      display: none;\n",
              "      fill: #1967D2;\n",
              "      height: 32px;\n",
              "      padding: 0 0 0 0;\n",
              "      width: 32px;\n",
              "    }\n",
              "\n",
              "    .colab-df-convert:hover {\n",
              "      background-color: #E2EBFA;\n",
              "      box-shadow: 0px 1px 2px rgba(60, 64, 67, 0.3), 0px 1px 3px 1px rgba(60, 64, 67, 0.15);\n",
              "      fill: #174EA6;\n",
              "    }\n",
              "\n",
              "    [theme=dark] .colab-df-convert {\n",
              "      background-color: #3B4455;\n",
              "      fill: #D2E3FC;\n",
              "    }\n",
              "\n",
              "    [theme=dark] .colab-df-convert:hover {\n",
              "      background-color: #434B5C;\n",
              "      box-shadow: 0px 1px 3px 1px rgba(0, 0, 0, 0.15);\n",
              "      filter: drop-shadow(0px 1px 2px rgba(0, 0, 0, 0.3));\n",
              "      fill: #FFFFFF;\n",
              "    }\n",
              "  </style>\n",
              "\n",
              "      <script>\n",
              "        const buttonEl =\n",
              "          document.querySelector('#df-f089ce16-4337-43e1-9586-e21c6c60f21d button.colab-df-convert');\n",
              "        buttonEl.style.display =\n",
              "          google.colab.kernel.accessAllowed ? 'block' : 'none';\n",
              "\n",
              "        async function convertToInteractive(key) {\n",
              "          const element = document.querySelector('#df-f089ce16-4337-43e1-9586-e21c6c60f21d');\n",
              "          const dataTable =\n",
              "            await google.colab.kernel.invokeFunction('convertToInteractive',\n",
              "                                                     [key], {});\n",
              "          if (!dataTable) return;\n",
              "\n",
              "          const docLinkHtml = 'Like what you see? Visit the ' +\n",
              "            '<a target=\"_blank\" href=https://colab.research.google.com/notebooks/data_table.ipynb>data table notebook</a>'\n",
              "            + ' to learn more about interactive tables.';\n",
              "          element.innerHTML = '';\n",
              "          dataTable['output_type'] = 'display_data';\n",
              "          await google.colab.output.renderOutput(dataTable, element);\n",
              "          const docLink = document.createElement('div');\n",
              "          docLink.innerHTML = docLinkHtml;\n",
              "          element.appendChild(docLink);\n",
              "        }\n",
              "      </script>\n",
              "    </div>\n",
              "  </div>\n",
              "  "
            ]
          },
          "metadata": {},
          "execution_count": 4
        }
      ]
    },
    {
      "cell_type": "code",
      "source": [
        "df.isnull().sum()"
      ],
      "metadata": {
        "colab": {
          "base_uri": "https://localhost:8080/"
        },
        "id": "5Rj9vzozcqov",
        "outputId": "44fdef33-0f81-45a3-8310-087b05fda788"
      },
      "execution_count": 5,
      "outputs": [
        {
          "output_type": "execute_result",
          "data": {
            "text/plain": [
              "Survived      0\n",
              "Pclass        0\n",
              "Sex           0\n",
              "Age         177\n",
              "SibSp         0\n",
              "Parch         0\n",
              "Fare          0\n",
              "Embarked      2\n",
              "dtype: int64"
            ]
          },
          "metadata": {},
          "execution_count": 5
        }
      ]
    },
    {
      "cell_type": "code",
      "source": [
        "# you can fill nan values with this or you can use SimpleImputer\n",
        "#df.Age = df.Age.fillna(df.Age.median())\n",
        "#df['Embarked'].fillna(df['Embarked'].mode()[0], inplace=True)"
      ],
      "metadata": {
        "id": "p66Quv_5cqrS"
      },
      "execution_count": 6,
      "outputs": []
    },
    {
      "cell_type": "code",
      "source": [
        "df.sample(10)"
      ],
      "metadata": {
        "colab": {
          "base_uri": "https://localhost:8080/",
          "height": 363
        },
        "id": "jJLJ_e_WcrDl",
        "outputId": "837e63ff-714e-46fc-9d5b-7ca2f2b753bb"
      },
      "execution_count": 7,
      "outputs": [
        {
          "output_type": "execute_result",
          "data": {
            "text/plain": [
              "     Survived  Pclass     Sex   Age  SibSp  Parch      Fare Embarked\n",
              "525         0       3    male  40.5      0      0    7.7500        Q\n",
              "687         0       3    male  19.0      0      0   10.1708        S\n",
              "625         0       1    male  61.0      0      0   32.3208        S\n",
              "348         1       3    male   3.0      1      1   15.9000        S\n",
              "6           0       1    male  54.0      0      0   51.8625        S\n",
              "188         0       3    male  40.0      1      1   15.5000        Q\n",
              "101         0       3    male   NaN      0      0    7.8958        S\n",
              "581         1       1  female  39.0      1      1  110.8833        C\n",
              "118         0       1    male  24.0      0      1  247.5208        C\n",
              "599         1       1    male  49.0      1      0   56.9292        C"
            ],
            "text/html": [
              "\n",
              "  <div id=\"df-bb93ff04-4fe7-4236-b955-d429739ef8bf\">\n",
              "    <div class=\"colab-df-container\">\n",
              "      <div>\n",
              "<style scoped>\n",
              "    .dataframe tbody tr th:only-of-type {\n",
              "        vertical-align: middle;\n",
              "    }\n",
              "\n",
              "    .dataframe tbody tr th {\n",
              "        vertical-align: top;\n",
              "    }\n",
              "\n",
              "    .dataframe thead th {\n",
              "        text-align: right;\n",
              "    }\n",
              "</style>\n",
              "<table border=\"1\" class=\"dataframe\">\n",
              "  <thead>\n",
              "    <tr style=\"text-align: right;\">\n",
              "      <th></th>\n",
              "      <th>Survived</th>\n",
              "      <th>Pclass</th>\n",
              "      <th>Sex</th>\n",
              "      <th>Age</th>\n",
              "      <th>SibSp</th>\n",
              "      <th>Parch</th>\n",
              "      <th>Fare</th>\n",
              "      <th>Embarked</th>\n",
              "    </tr>\n",
              "  </thead>\n",
              "  <tbody>\n",
              "    <tr>\n",
              "      <th>525</th>\n",
              "      <td>0</td>\n",
              "      <td>3</td>\n",
              "      <td>male</td>\n",
              "      <td>40.5</td>\n",
              "      <td>0</td>\n",
              "      <td>0</td>\n",
              "      <td>7.7500</td>\n",
              "      <td>Q</td>\n",
              "    </tr>\n",
              "    <tr>\n",
              "      <th>687</th>\n",
              "      <td>0</td>\n",
              "      <td>3</td>\n",
              "      <td>male</td>\n",
              "      <td>19.0</td>\n",
              "      <td>0</td>\n",
              "      <td>0</td>\n",
              "      <td>10.1708</td>\n",
              "      <td>S</td>\n",
              "    </tr>\n",
              "    <tr>\n",
              "      <th>625</th>\n",
              "      <td>0</td>\n",
              "      <td>1</td>\n",
              "      <td>male</td>\n",
              "      <td>61.0</td>\n",
              "      <td>0</td>\n",
              "      <td>0</td>\n",
              "      <td>32.3208</td>\n",
              "      <td>S</td>\n",
              "    </tr>\n",
              "    <tr>\n",
              "      <th>348</th>\n",
              "      <td>1</td>\n",
              "      <td>3</td>\n",
              "      <td>male</td>\n",
              "      <td>3.0</td>\n",
              "      <td>1</td>\n",
              "      <td>1</td>\n",
              "      <td>15.9000</td>\n",
              "      <td>S</td>\n",
              "    </tr>\n",
              "    <tr>\n",
              "      <th>6</th>\n",
              "      <td>0</td>\n",
              "      <td>1</td>\n",
              "      <td>male</td>\n",
              "      <td>54.0</td>\n",
              "      <td>0</td>\n",
              "      <td>0</td>\n",
              "      <td>51.8625</td>\n",
              "      <td>S</td>\n",
              "    </tr>\n",
              "    <tr>\n",
              "      <th>188</th>\n",
              "      <td>0</td>\n",
              "      <td>3</td>\n",
              "      <td>male</td>\n",
              "      <td>40.0</td>\n",
              "      <td>1</td>\n",
              "      <td>1</td>\n",
              "      <td>15.5000</td>\n",
              "      <td>Q</td>\n",
              "    </tr>\n",
              "    <tr>\n",
              "      <th>101</th>\n",
              "      <td>0</td>\n",
              "      <td>3</td>\n",
              "      <td>male</td>\n",
              "      <td>NaN</td>\n",
              "      <td>0</td>\n",
              "      <td>0</td>\n",
              "      <td>7.8958</td>\n",
              "      <td>S</td>\n",
              "    </tr>\n",
              "    <tr>\n",
              "      <th>581</th>\n",
              "      <td>1</td>\n",
              "      <td>1</td>\n",
              "      <td>female</td>\n",
              "      <td>39.0</td>\n",
              "      <td>1</td>\n",
              "      <td>1</td>\n",
              "      <td>110.8833</td>\n",
              "      <td>C</td>\n",
              "    </tr>\n",
              "    <tr>\n",
              "      <th>118</th>\n",
              "      <td>0</td>\n",
              "      <td>1</td>\n",
              "      <td>male</td>\n",
              "      <td>24.0</td>\n",
              "      <td>0</td>\n",
              "      <td>1</td>\n",
              "      <td>247.5208</td>\n",
              "      <td>C</td>\n",
              "    </tr>\n",
              "    <tr>\n",
              "      <th>599</th>\n",
              "      <td>1</td>\n",
              "      <td>1</td>\n",
              "      <td>male</td>\n",
              "      <td>49.0</td>\n",
              "      <td>1</td>\n",
              "      <td>0</td>\n",
              "      <td>56.9292</td>\n",
              "      <td>C</td>\n",
              "    </tr>\n",
              "  </tbody>\n",
              "</table>\n",
              "</div>\n",
              "      <button class=\"colab-df-convert\" onclick=\"convertToInteractive('df-bb93ff04-4fe7-4236-b955-d429739ef8bf')\"\n",
              "              title=\"Convert this dataframe to an interactive table.\"\n",
              "              style=\"display:none;\">\n",
              "        \n",
              "  <svg xmlns=\"http://www.w3.org/2000/svg\" height=\"24px\"viewBox=\"0 0 24 24\"\n",
              "       width=\"24px\">\n",
              "    <path d=\"M0 0h24v24H0V0z\" fill=\"none\"/>\n",
              "    <path d=\"M18.56 5.44l.94 2.06.94-2.06 2.06-.94-2.06-.94-.94-2.06-.94 2.06-2.06.94zm-11 1L8.5 8.5l.94-2.06 2.06-.94-2.06-.94L8.5 2.5l-.94 2.06-2.06.94zm10 10l.94 2.06.94-2.06 2.06-.94-2.06-.94-.94-2.06-.94 2.06-2.06.94z\"/><path d=\"M17.41 7.96l-1.37-1.37c-.4-.4-.92-.59-1.43-.59-.52 0-1.04.2-1.43.59L10.3 9.45l-7.72 7.72c-.78.78-.78 2.05 0 2.83L4 21.41c.39.39.9.59 1.41.59.51 0 1.02-.2 1.41-.59l7.78-7.78 2.81-2.81c.8-.78.8-2.07 0-2.86zM5.41 20L4 18.59l7.72-7.72 1.47 1.35L5.41 20z\"/>\n",
              "  </svg>\n",
              "      </button>\n",
              "      \n",
              "  <style>\n",
              "    .colab-df-container {\n",
              "      display:flex;\n",
              "      flex-wrap:wrap;\n",
              "      gap: 12px;\n",
              "    }\n",
              "\n",
              "    .colab-df-convert {\n",
              "      background-color: #E8F0FE;\n",
              "      border: none;\n",
              "      border-radius: 50%;\n",
              "      cursor: pointer;\n",
              "      display: none;\n",
              "      fill: #1967D2;\n",
              "      height: 32px;\n",
              "      padding: 0 0 0 0;\n",
              "      width: 32px;\n",
              "    }\n",
              "\n",
              "    .colab-df-convert:hover {\n",
              "      background-color: #E2EBFA;\n",
              "      box-shadow: 0px 1px 2px rgba(60, 64, 67, 0.3), 0px 1px 3px 1px rgba(60, 64, 67, 0.15);\n",
              "      fill: #174EA6;\n",
              "    }\n",
              "\n",
              "    [theme=dark] .colab-df-convert {\n",
              "      background-color: #3B4455;\n",
              "      fill: #D2E3FC;\n",
              "    }\n",
              "\n",
              "    [theme=dark] .colab-df-convert:hover {\n",
              "      background-color: #434B5C;\n",
              "      box-shadow: 0px 1px 3px 1px rgba(0, 0, 0, 0.15);\n",
              "      filter: drop-shadow(0px 1px 2px rgba(0, 0, 0, 0.3));\n",
              "      fill: #FFFFFF;\n",
              "    }\n",
              "  </style>\n",
              "\n",
              "      <script>\n",
              "        const buttonEl =\n",
              "          document.querySelector('#df-bb93ff04-4fe7-4236-b955-d429739ef8bf button.colab-df-convert');\n",
              "        buttonEl.style.display =\n",
              "          google.colab.kernel.accessAllowed ? 'block' : 'none';\n",
              "\n",
              "        async function convertToInteractive(key) {\n",
              "          const element = document.querySelector('#df-bb93ff04-4fe7-4236-b955-d429739ef8bf');\n",
              "          const dataTable =\n",
              "            await google.colab.kernel.invokeFunction('convertToInteractive',\n",
              "                                                     [key], {});\n",
              "          if (!dataTable) return;\n",
              "\n",
              "          const docLinkHtml = 'Like what you see? Visit the ' +\n",
              "            '<a target=\"_blank\" href=https://colab.research.google.com/notebooks/data_table.ipynb>data table notebook</a>'\n",
              "            + ' to learn more about interactive tables.';\n",
              "          element.innerHTML = '';\n",
              "          dataTable['output_type'] = 'display_data';\n",
              "          await google.colab.output.renderOutput(dataTable, element);\n",
              "          const docLink = document.createElement('div');\n",
              "          docLink.innerHTML = docLinkHtml;\n",
              "          element.appendChild(docLink);\n",
              "        }\n",
              "      </script>\n",
              "    </div>\n",
              "  </div>\n",
              "  "
            ]
          },
          "metadata": {},
          "execution_count": 7
        }
      ]
    },
    {
      "cell_type": "code",
      "source": [
        "# train_test_split\n",
        "X_train, X_test, y_train, y_test = train_test_split(df.drop(columns=['Survived']),\n",
        "                                                    df.Survived,\n",
        "                                                    test_size=.3,\n",
        "                                                    random_state=42)"
      ],
      "metadata": {
        "id": "E8m8ryy3crLA"
      },
      "execution_count": 26,
      "outputs": []
    },
    {
      "cell_type": "code",
      "source": [
        "X_train.head(4)"
      ],
      "metadata": {
        "colab": {
          "base_uri": "https://localhost:8080/",
          "height": 175
        },
        "id": "ZrH8dfarcrOI",
        "outputId": "3b8b38fe-3e8c-4055-e15d-460e26e57839"
      },
      "execution_count": 27,
      "outputs": [
        {
          "output_type": "execute_result",
          "data": {
            "text/plain": [
              "     Pclass     Sex   Age  SibSp  Parch     Fare Embarked\n",
              "445       1    male   4.0      0      2  81.8583        S\n",
              "650       3    male   NaN      0      0   7.8958        S\n",
              "172       3  female   1.0      1      1  11.1333        S\n",
              "450       2    male  36.0      1      2  27.7500        S"
            ],
            "text/html": [
              "\n",
              "  <div id=\"df-e48e9533-475f-4365-acad-f0302a01ac42\">\n",
              "    <div class=\"colab-df-container\">\n",
              "      <div>\n",
              "<style scoped>\n",
              "    .dataframe tbody tr th:only-of-type {\n",
              "        vertical-align: middle;\n",
              "    }\n",
              "\n",
              "    .dataframe tbody tr th {\n",
              "        vertical-align: top;\n",
              "    }\n",
              "\n",
              "    .dataframe thead th {\n",
              "        text-align: right;\n",
              "    }\n",
              "</style>\n",
              "<table border=\"1\" class=\"dataframe\">\n",
              "  <thead>\n",
              "    <tr style=\"text-align: right;\">\n",
              "      <th></th>\n",
              "      <th>Pclass</th>\n",
              "      <th>Sex</th>\n",
              "      <th>Age</th>\n",
              "      <th>SibSp</th>\n",
              "      <th>Parch</th>\n",
              "      <th>Fare</th>\n",
              "      <th>Embarked</th>\n",
              "    </tr>\n",
              "  </thead>\n",
              "  <tbody>\n",
              "    <tr>\n",
              "      <th>445</th>\n",
              "      <td>1</td>\n",
              "      <td>male</td>\n",
              "      <td>4.0</td>\n",
              "      <td>0</td>\n",
              "      <td>2</td>\n",
              "      <td>81.8583</td>\n",
              "      <td>S</td>\n",
              "    </tr>\n",
              "    <tr>\n",
              "      <th>650</th>\n",
              "      <td>3</td>\n",
              "      <td>male</td>\n",
              "      <td>NaN</td>\n",
              "      <td>0</td>\n",
              "      <td>0</td>\n",
              "      <td>7.8958</td>\n",
              "      <td>S</td>\n",
              "    </tr>\n",
              "    <tr>\n",
              "      <th>172</th>\n",
              "      <td>3</td>\n",
              "      <td>female</td>\n",
              "      <td>1.0</td>\n",
              "      <td>1</td>\n",
              "      <td>1</td>\n",
              "      <td>11.1333</td>\n",
              "      <td>S</td>\n",
              "    </tr>\n",
              "    <tr>\n",
              "      <th>450</th>\n",
              "      <td>2</td>\n",
              "      <td>male</td>\n",
              "      <td>36.0</td>\n",
              "      <td>1</td>\n",
              "      <td>2</td>\n",
              "      <td>27.7500</td>\n",
              "      <td>S</td>\n",
              "    </tr>\n",
              "  </tbody>\n",
              "</table>\n",
              "</div>\n",
              "      <button class=\"colab-df-convert\" onclick=\"convertToInteractive('df-e48e9533-475f-4365-acad-f0302a01ac42')\"\n",
              "              title=\"Convert this dataframe to an interactive table.\"\n",
              "              style=\"display:none;\">\n",
              "        \n",
              "  <svg xmlns=\"http://www.w3.org/2000/svg\" height=\"24px\"viewBox=\"0 0 24 24\"\n",
              "       width=\"24px\">\n",
              "    <path d=\"M0 0h24v24H0V0z\" fill=\"none\"/>\n",
              "    <path d=\"M18.56 5.44l.94 2.06.94-2.06 2.06-.94-2.06-.94-.94-2.06-.94 2.06-2.06.94zm-11 1L8.5 8.5l.94-2.06 2.06-.94-2.06-.94L8.5 2.5l-.94 2.06-2.06.94zm10 10l.94 2.06.94-2.06 2.06-.94-2.06-.94-.94-2.06-.94 2.06-2.06.94z\"/><path d=\"M17.41 7.96l-1.37-1.37c-.4-.4-.92-.59-1.43-.59-.52 0-1.04.2-1.43.59L10.3 9.45l-7.72 7.72c-.78.78-.78 2.05 0 2.83L4 21.41c.39.39.9.59 1.41.59.51 0 1.02-.2 1.41-.59l7.78-7.78 2.81-2.81c.8-.78.8-2.07 0-2.86zM5.41 20L4 18.59l7.72-7.72 1.47 1.35L5.41 20z\"/>\n",
              "  </svg>\n",
              "      </button>\n",
              "      \n",
              "  <style>\n",
              "    .colab-df-container {\n",
              "      display:flex;\n",
              "      flex-wrap:wrap;\n",
              "      gap: 12px;\n",
              "    }\n",
              "\n",
              "    .colab-df-convert {\n",
              "      background-color: #E8F0FE;\n",
              "      border: none;\n",
              "      border-radius: 50%;\n",
              "      cursor: pointer;\n",
              "      display: none;\n",
              "      fill: #1967D2;\n",
              "      height: 32px;\n",
              "      padding: 0 0 0 0;\n",
              "      width: 32px;\n",
              "    }\n",
              "\n",
              "    .colab-df-convert:hover {\n",
              "      background-color: #E2EBFA;\n",
              "      box-shadow: 0px 1px 2px rgba(60, 64, 67, 0.3), 0px 1px 3px 1px rgba(60, 64, 67, 0.15);\n",
              "      fill: #174EA6;\n",
              "    }\n",
              "\n",
              "    [theme=dark] .colab-df-convert {\n",
              "      background-color: #3B4455;\n",
              "      fill: #D2E3FC;\n",
              "    }\n",
              "\n",
              "    [theme=dark] .colab-df-convert:hover {\n",
              "      background-color: #434B5C;\n",
              "      box-shadow: 0px 1px 3px 1px rgba(0, 0, 0, 0.15);\n",
              "      filter: drop-shadow(0px 1px 2px rgba(0, 0, 0, 0.3));\n",
              "      fill: #FFFFFF;\n",
              "    }\n",
              "  </style>\n",
              "\n",
              "      <script>\n",
              "        const buttonEl =\n",
              "          document.querySelector('#df-e48e9533-475f-4365-acad-f0302a01ac42 button.colab-df-convert');\n",
              "        buttonEl.style.display =\n",
              "          google.colab.kernel.accessAllowed ? 'block' : 'none';\n",
              "\n",
              "        async function convertToInteractive(key) {\n",
              "          const element = document.querySelector('#df-e48e9533-475f-4365-acad-f0302a01ac42');\n",
              "          const dataTable =\n",
              "            await google.colab.kernel.invokeFunction('convertToInteractive',\n",
              "                                                     [key], {});\n",
              "          if (!dataTable) return;\n",
              "\n",
              "          const docLinkHtml = 'Like what you see? Visit the ' +\n",
              "            '<a target=\"_blank\" href=https://colab.research.google.com/notebooks/data_table.ipynb>data table notebook</a>'\n",
              "            + ' to learn more about interactive tables.';\n",
              "          element.innerHTML = '';\n",
              "          dataTable['output_type'] = 'display_data';\n",
              "          await google.colab.output.renderOutput(dataTable, element);\n",
              "          const docLink = document.createElement('div');\n",
              "          docLink.innerHTML = docLinkHtml;\n",
              "          element.appendChild(docLink);\n",
              "        }\n",
              "      </script>\n",
              "    </div>\n",
              "  </div>\n",
              "  "
            ]
          },
          "metadata": {},
          "execution_count": 27
        }
      ]
    },
    {
      "cell_type": "code",
      "source": [
        "y_train.head(4)"
      ],
      "metadata": {
        "colab": {
          "base_uri": "https://localhost:8080/"
        },
        "id": "DBahl2CLcrRH",
        "outputId": "54e14839-05ec-4f35-b72c-4204b9d4659b"
      },
      "execution_count": 28,
      "outputs": [
        {
          "output_type": "execute_result",
          "data": {
            "text/plain": [
              "445    1\n",
              "650    0\n",
              "172    1\n",
              "450    0\n",
              "Name: Survived, dtype: int64"
            ]
          },
          "metadata": {},
          "execution_count": 28
        }
      ]
    },
    {
      "cell_type": "code",
      "source": [
        " # Applying imputation to fill nan values\n",
        "\n",
        "si_age = SimpleImputer()\n",
        "si_embarked = SimpleImputer(strategy='most_frequent')\n",
        "\n",
        "# fit and tranform x_train\n",
        "X_train_age = si_age.fit_transform(X_train[['Age']])\n",
        "X_train_embarked = si_embarked.fit_transform(X_train[['Embarked']])\n",
        "\n",
        "# transform x_test\n",
        "X_test_age = si_age.transform(X_test[['Age']])\n",
        "X_test_embarked = si_embarked.transform(X_test[['Embarked']])"
      ],
      "metadata": {
        "id": "yXwFiInAcrUF"
      },
      "execution_count": 29,
      "outputs": []
    },
    {
      "cell_type": "code",
      "source": [
        "X_train_embarked"
      ],
      "metadata": {
        "colab": {
          "base_uri": "https://localhost:8080/"
        },
        "id": "t-sEMw9scrXg",
        "outputId": "2900e9dc-f875-4c08-e3c6-72502d70c1cb"
      },
      "execution_count": 30,
      "outputs": [
        {
          "output_type": "execute_result",
          "data": {
            "text/plain": [
              "array([['S'],\n",
              "       ['S'],\n",
              "       ['S'],\n",
              "       ['S'],\n",
              "       ['S'],\n",
              "       ['S'],\n",
              "       ['S'],\n",
              "       ['S'],\n",
              "       ['S'],\n",
              "       ['C'],\n",
              "       ['C'],\n",
              "       ['S'],\n",
              "       ['S'],\n",
              "       ['S'],\n",
              "       ['S'],\n",
              "       ['S'],\n",
              "       ['C'],\n",
              "       ['S'],\n",
              "       ['Q'],\n",
              "       ['S'],\n",
              "       ['S'],\n",
              "       ['S'],\n",
              "       ['S'],\n",
              "       ['Q'],\n",
              "       ['C'],\n",
              "       ['C'],\n",
              "       ['S'],\n",
              "       ['S'],\n",
              "       ['Q'],\n",
              "       ['C'],\n",
              "       ['C'],\n",
              "       ['S'],\n",
              "       ['S'],\n",
              "       ['C'],\n",
              "       ['S'],\n",
              "       ['S'],\n",
              "       ['S'],\n",
              "       ['C'],\n",
              "       ['S'],\n",
              "       ['S'],\n",
              "       ['S'],\n",
              "       ['S'],\n",
              "       ['S'],\n",
              "       ['S'],\n",
              "       ['C'],\n",
              "       ['S'],\n",
              "       ['S'],\n",
              "       ['S'],\n",
              "       ['S'],\n",
              "       ['S'],\n",
              "       ['S'],\n",
              "       ['S'],\n",
              "       ['S'],\n",
              "       ['S'],\n",
              "       ['S'],\n",
              "       ['S'],\n",
              "       ['S'],\n",
              "       ['S'],\n",
              "       ['S'],\n",
              "       ['Q'],\n",
              "       ['S'],\n",
              "       ['Q'],\n",
              "       ['C'],\n",
              "       ['C'],\n",
              "       ['S'],\n",
              "       ['S'],\n",
              "       ['S'],\n",
              "       ['S'],\n",
              "       ['S'],\n",
              "       ['S'],\n",
              "       ['C'],\n",
              "       ['S'],\n",
              "       ['S'],\n",
              "       ['S'],\n",
              "       ['S'],\n",
              "       ['S'],\n",
              "       ['Q'],\n",
              "       ['S'],\n",
              "       ['C'],\n",
              "       ['S'],\n",
              "       ['C'],\n",
              "       ['S'],\n",
              "       ['C'],\n",
              "       ['S'],\n",
              "       ['S'],\n",
              "       ['S'],\n",
              "       ['S'],\n",
              "       ['S'],\n",
              "       ['S'],\n",
              "       ['S'],\n",
              "       ['Q'],\n",
              "       ['S'],\n",
              "       ['S'],\n",
              "       ['S'],\n",
              "       ['Q'],\n",
              "       ['S'],\n",
              "       ['C'],\n",
              "       ['Q'],\n",
              "       ['S'],\n",
              "       ['S'],\n",
              "       ['S'],\n",
              "       ['S'],\n",
              "       ['C'],\n",
              "       ['C'],\n",
              "       ['Q'],\n",
              "       ['S'],\n",
              "       ['S'],\n",
              "       ['S'],\n",
              "       ['S'],\n",
              "       ['S'],\n",
              "       ['C'],\n",
              "       ['C'],\n",
              "       ['C'],\n",
              "       ['S'],\n",
              "       ['S'],\n",
              "       ['C'],\n",
              "       ['S'],\n",
              "       ['S'],\n",
              "       ['S'],\n",
              "       ['C'],\n",
              "       ['S'],\n",
              "       ['Q'],\n",
              "       ['C'],\n",
              "       ['C'],\n",
              "       ['C'],\n",
              "       ['S'],\n",
              "       ['S'],\n",
              "       ['S'],\n",
              "       ['S'],\n",
              "       ['S'],\n",
              "       ['S'],\n",
              "       ['S'],\n",
              "       ['S'],\n",
              "       ['Q'],\n",
              "       ['C'],\n",
              "       ['S'],\n",
              "       ['C'],\n",
              "       ['Q'],\n",
              "       ['C'],\n",
              "       ['S'],\n",
              "       ['S'],\n",
              "       ['S'],\n",
              "       ['C'],\n",
              "       ['S'],\n",
              "       ['S'],\n",
              "       ['C'],\n",
              "       ['S'],\n",
              "       ['Q'],\n",
              "       ['S'],\n",
              "       ['S'],\n",
              "       ['S'],\n",
              "       ['C'],\n",
              "       ['C'],\n",
              "       ['S'],\n",
              "       ['S'],\n",
              "       ['S'],\n",
              "       ['S'],\n",
              "       ['C'],\n",
              "       ['S'],\n",
              "       ['S'],\n",
              "       ['S'],\n",
              "       ['S'],\n",
              "       ['S'],\n",
              "       ['S'],\n",
              "       ['S'],\n",
              "       ['S'],\n",
              "       ['C'],\n",
              "       ['S'],\n",
              "       ['S'],\n",
              "       ['S'],\n",
              "       ['S'],\n",
              "       ['S'],\n",
              "       ['S'],\n",
              "       ['Q'],\n",
              "       ['Q'],\n",
              "       ['S'],\n",
              "       ['S'],\n",
              "       ['S'],\n",
              "       ['S'],\n",
              "       ['S'],\n",
              "       ['S'],\n",
              "       ['S'],\n",
              "       ['C'],\n",
              "       ['C'],\n",
              "       ['Q'],\n",
              "       ['S'],\n",
              "       ['S'],\n",
              "       ['S'],\n",
              "       ['S'],\n",
              "       ['C'],\n",
              "       ['S'],\n",
              "       ['C'],\n",
              "       ['Q'],\n",
              "       ['Q'],\n",
              "       ['C'],\n",
              "       ['Q'],\n",
              "       ['S'],\n",
              "       ['C'],\n",
              "       ['S'],\n",
              "       ['C'],\n",
              "       ['S'],\n",
              "       ['Q'],\n",
              "       ['S'],\n",
              "       ['S'],\n",
              "       ['S'],\n",
              "       ['S'],\n",
              "       ['S'],\n",
              "       ['S'],\n",
              "       ['S'],\n",
              "       ['C'],\n",
              "       ['S'],\n",
              "       ['S'],\n",
              "       ['C'],\n",
              "       ['S'],\n",
              "       ['C'],\n",
              "       ['C'],\n",
              "       ['Q'],\n",
              "       ['S'],\n",
              "       ['S'],\n",
              "       ['S'],\n",
              "       ['S'],\n",
              "       ['S'],\n",
              "       ['C'],\n",
              "       ['Q'],\n",
              "       ['S'],\n",
              "       ['S'],\n",
              "       ['C'],\n",
              "       ['S'],\n",
              "       ['S'],\n",
              "       ['S'],\n",
              "       ['C'],\n",
              "       ['S'],\n",
              "       ['S'],\n",
              "       ['S'],\n",
              "       ['S'],\n",
              "       ['S'],\n",
              "       ['S'],\n",
              "       ['S'],\n",
              "       ['S'],\n",
              "       ['S'],\n",
              "       ['S'],\n",
              "       ['C'],\n",
              "       ['C'],\n",
              "       ['S'],\n",
              "       ['S'],\n",
              "       ['Q'],\n",
              "       ['S'],\n",
              "       ['S'],\n",
              "       ['S'],\n",
              "       ['S'],\n",
              "       ['S'],\n",
              "       ['S'],\n",
              "       ['S'],\n",
              "       ['S'],\n",
              "       ['C'],\n",
              "       ['S'],\n",
              "       ['S'],\n",
              "       ['S'],\n",
              "       ['S'],\n",
              "       ['C'],\n",
              "       ['S'],\n",
              "       ['S'],\n",
              "       ['Q'],\n",
              "       ['S'],\n",
              "       ['S'],\n",
              "       ['Q'],\n",
              "       ['S'],\n",
              "       ['S'],\n",
              "       ['S'],\n",
              "       ['S'],\n",
              "       ['S'],\n",
              "       ['S'],\n",
              "       ['Q'],\n",
              "       ['C'],\n",
              "       ['S'],\n",
              "       ['S'],\n",
              "       ['S'],\n",
              "       ['S'],\n",
              "       ['C'],\n",
              "       ['S'],\n",
              "       ['Q'],\n",
              "       ['C'],\n",
              "       ['S'],\n",
              "       ['S'],\n",
              "       ['S'],\n",
              "       ['S'],\n",
              "       ['Q'],\n",
              "       ['C'],\n",
              "       ['S'],\n",
              "       ['S'],\n",
              "       ['S'],\n",
              "       ['S'],\n",
              "       ['Q'],\n",
              "       ['Q'],\n",
              "       ['S'],\n",
              "       ['C'],\n",
              "       ['S'],\n",
              "       ['Q'],\n",
              "       ['S'],\n",
              "       ['S'],\n",
              "       ['S'],\n",
              "       ['S'],\n",
              "       ['S'],\n",
              "       ['S'],\n",
              "       ['C'],\n",
              "       ['S'],\n",
              "       ['S'],\n",
              "       ['S'],\n",
              "       ['Q'],\n",
              "       ['S'],\n",
              "       ['S'],\n",
              "       ['S'],\n",
              "       ['S'],\n",
              "       ['C'],\n",
              "       ['C'],\n",
              "       ['S'],\n",
              "       ['S'],\n",
              "       ['C'],\n",
              "       ['S'],\n",
              "       ['S'],\n",
              "       ['S'],\n",
              "       ['S'],\n",
              "       ['S'],\n",
              "       ['S'],\n",
              "       ['S'],\n",
              "       ['S'],\n",
              "       ['S'],\n",
              "       ['S'],\n",
              "       ['S'],\n",
              "       ['Q'],\n",
              "       ['S'],\n",
              "       ['C'],\n",
              "       ['S'],\n",
              "       ['S'],\n",
              "       ['S'],\n",
              "       ['Q'],\n",
              "       ['S'],\n",
              "       ['S'],\n",
              "       ['S'],\n",
              "       ['S'],\n",
              "       ['S'],\n",
              "       ['S'],\n",
              "       ['C'],\n",
              "       ['C'],\n",
              "       ['S'],\n",
              "       ['S'],\n",
              "       ['S'],\n",
              "       ['S'],\n",
              "       ['C'],\n",
              "       ['C'],\n",
              "       ['S'],\n",
              "       ['Q'],\n",
              "       ['S'],\n",
              "       ['S'],\n",
              "       ['S'],\n",
              "       ['S'],\n",
              "       ['S'],\n",
              "       ['S'],\n",
              "       ['S'],\n",
              "       ['S'],\n",
              "       ['S'],\n",
              "       ['S'],\n",
              "       ['C'],\n",
              "       ['C'],\n",
              "       ['S'],\n",
              "       ['S'],\n",
              "       ['S'],\n",
              "       ['S'],\n",
              "       ['S'],\n",
              "       ['S'],\n",
              "       ['S'],\n",
              "       ['S'],\n",
              "       ['C'],\n",
              "       ['Q'],\n",
              "       ['S'],\n",
              "       ['S'],\n",
              "       ['C'],\n",
              "       ['Q'],\n",
              "       ['S'],\n",
              "       ['S'],\n",
              "       ['S'],\n",
              "       ['S'],\n",
              "       ['S'],\n",
              "       ['S'],\n",
              "       ['C'],\n",
              "       ['S'],\n",
              "       ['S'],\n",
              "       ['S'],\n",
              "       ['S'],\n",
              "       ['S'],\n",
              "       ['S'],\n",
              "       ['S'],\n",
              "       ['S'],\n",
              "       ['S'],\n",
              "       ['S'],\n",
              "       ['S'],\n",
              "       ['S'],\n",
              "       ['S'],\n",
              "       ['C'],\n",
              "       ['S'],\n",
              "       ['S'],\n",
              "       ['S'],\n",
              "       ['S'],\n",
              "       ['S'],\n",
              "       ['Q'],\n",
              "       ['S'],\n",
              "       ['S'],\n",
              "       ['S'],\n",
              "       ['S'],\n",
              "       ['S'],\n",
              "       ['S'],\n",
              "       ['C'],\n",
              "       ['S'],\n",
              "       ['S'],\n",
              "       ['S'],\n",
              "       ['S'],\n",
              "       ['S'],\n",
              "       ['C'],\n",
              "       ['S'],\n",
              "       ['S'],\n",
              "       ['S'],\n",
              "       ['S'],\n",
              "       ['S'],\n",
              "       ['S'],\n",
              "       ['S'],\n",
              "       ['S'],\n",
              "       ['C'],\n",
              "       ['Q'],\n",
              "       ['C'],\n",
              "       ['S'],\n",
              "       ['C'],\n",
              "       ['S'],\n",
              "       ['S'],\n",
              "       ['S'],\n",
              "       ['S'],\n",
              "       ['S'],\n",
              "       ['S'],\n",
              "       ['S'],\n",
              "       ['S'],\n",
              "       ['C'],\n",
              "       ['S'],\n",
              "       ['S'],\n",
              "       ['S'],\n",
              "       ['C'],\n",
              "       ['S'],\n",
              "       ['S'],\n",
              "       ['C'],\n",
              "       ['S'],\n",
              "       ['C'],\n",
              "       ['S'],\n",
              "       ['S'],\n",
              "       ['S'],\n",
              "       ['S'],\n",
              "       ['C'],\n",
              "       ['S'],\n",
              "       ['C'],\n",
              "       ['S'],\n",
              "       ['S'],\n",
              "       ['S'],\n",
              "       ['Q'],\n",
              "       ['S'],\n",
              "       ['S'],\n",
              "       ['S'],\n",
              "       ['S'],\n",
              "       ['S'],\n",
              "       ['C'],\n",
              "       ['S'],\n",
              "       ['S'],\n",
              "       ['S'],\n",
              "       ['C'],\n",
              "       ['C'],\n",
              "       ['S'],\n",
              "       ['S'],\n",
              "       ['S'],\n",
              "       ['S'],\n",
              "       ['S'],\n",
              "       ['S'],\n",
              "       ['S'],\n",
              "       ['S'],\n",
              "       ['Q'],\n",
              "       ['S'],\n",
              "       ['S'],\n",
              "       ['S'],\n",
              "       ['S'],\n",
              "       ['S'],\n",
              "       ['Q'],\n",
              "       ['Q'],\n",
              "       ['S'],\n",
              "       ['Q'],\n",
              "       ['Q'],\n",
              "       ['Q'],\n",
              "       ['S'],\n",
              "       ['S'],\n",
              "       ['S'],\n",
              "       ['C'],\n",
              "       ['S'],\n",
              "       ['S'],\n",
              "       ['C'],\n",
              "       ['S'],\n",
              "       ['S'],\n",
              "       ['S'],\n",
              "       ['S'],\n",
              "       ['S'],\n",
              "       ['S'],\n",
              "       ['S'],\n",
              "       ['S'],\n",
              "       ['S'],\n",
              "       ['C'],\n",
              "       ['C'],\n",
              "       ['S'],\n",
              "       ['S'],\n",
              "       ['C'],\n",
              "       ['S'],\n",
              "       ['Q'],\n",
              "       ['S'],\n",
              "       ['S'],\n",
              "       ['S'],\n",
              "       ['S'],\n",
              "       ['S'],\n",
              "       ['S'],\n",
              "       ['C'],\n",
              "       ['C'],\n",
              "       ['S'],\n",
              "       ['S'],\n",
              "       ['S'],\n",
              "       ['C'],\n",
              "       ['S'],\n",
              "       ['S'],\n",
              "       ['S'],\n",
              "       ['S'],\n",
              "       ['C'],\n",
              "       ['S'],\n",
              "       ['S'],\n",
              "       ['S'],\n",
              "       ['S'],\n",
              "       ['S'],\n",
              "       ['S'],\n",
              "       ['S'],\n",
              "       ['C'],\n",
              "       ['S'],\n",
              "       ['S'],\n",
              "       ['S'],\n",
              "       ['S'],\n",
              "       ['C'],\n",
              "       ['C'],\n",
              "       ['C'],\n",
              "       ['S'],\n",
              "       ['S'],\n",
              "       ['S'],\n",
              "       ['C'],\n",
              "       ['S'],\n",
              "       ['S'],\n",
              "       ['S'],\n",
              "       ['S'],\n",
              "       ['C'],\n",
              "       ['S'],\n",
              "       ['S'],\n",
              "       ['S'],\n",
              "       ['S'],\n",
              "       ['Q'],\n",
              "       ['Q'],\n",
              "       ['S'],\n",
              "       ['S'],\n",
              "       ['S'],\n",
              "       ['S'],\n",
              "       ['C'],\n",
              "       ['S'],\n",
              "       ['S'],\n",
              "       ['S'],\n",
              "       ['S'],\n",
              "       ['C'],\n",
              "       ['S'],\n",
              "       ['S'],\n",
              "       ['S'],\n",
              "       ['S'],\n",
              "       ['S'],\n",
              "       ['S'],\n",
              "       ['S'],\n",
              "       ['S'],\n",
              "       ['S'],\n",
              "       ['S'],\n",
              "       ['S'],\n",
              "       ['C'],\n",
              "       ['Q'],\n",
              "       ['S'],\n",
              "       ['S'],\n",
              "       ['Q'],\n",
              "       ['S'],\n",
              "       ['S'],\n",
              "       ['S'],\n",
              "       ['S'],\n",
              "       ['Q'],\n",
              "       ['S'],\n",
              "       ['S'],\n",
              "       ['S'],\n",
              "       ['S'],\n",
              "       ['S'],\n",
              "       ['S'],\n",
              "       ['S'],\n",
              "       ['S'],\n",
              "       ['S'],\n",
              "       ['C'],\n",
              "       ['C'],\n",
              "       ['C'],\n",
              "       ['S'],\n",
              "       ['S'],\n",
              "       ['S'],\n",
              "       ['S'],\n",
              "       ['S'],\n",
              "       ['S'],\n",
              "       ['Q'],\n",
              "       ['Q'],\n",
              "       ['S'],\n",
              "       ['S'],\n",
              "       ['S'],\n",
              "       ['S'],\n",
              "       ['C'],\n",
              "       ['S'],\n",
              "       ['S'],\n",
              "       ['S'],\n",
              "       ['S'],\n",
              "       ['S'],\n",
              "       ['S']], dtype=object)"
            ]
          },
          "metadata": {},
          "execution_count": 30
        }
      ]
    },
    {
      "cell_type": "code",
      "source": [
        "# nan values replaced in X_train and X_test\n",
        "df.isnull().sum()"
      ],
      "metadata": {
        "colab": {
          "base_uri": "https://localhost:8080/"
        },
        "id": "KLH06jOInkGe",
        "outputId": "d18f88fa-9d2f-4a6d-d2d1-3f235a75e649"
      },
      "execution_count": 31,
      "outputs": [
        {
          "output_type": "execute_result",
          "data": {
            "text/plain": [
              "Survived      0\n",
              "Pclass        0\n",
              "Sex           0\n",
              "Age         177\n",
              "SibSp         0\n",
              "Parch         0\n",
              "Fare          0\n",
              "Embarked      2\n",
              "dtype: int64"
            ]
          },
          "metadata": {},
          "execution_count": 31
        }
      ]
    },
    {
      "cell_type": "code",
      "source": [
        "# one hot encoding Sex and Embarked\n",
        "\n",
        "ohe_sex = OneHotEncoder(sparse=False,handle_unknown='ignore')\n",
        "ohe_embarked = OneHotEncoder(sparse=False,handle_unknown='ignore')\n",
        "\n",
        "X_train_sex = ohe_sex.fit_transform(X_train[['Sex']])\n",
        "X_train_embarked = ohe_embarked.fit_transform(X_train_embarked)\n",
        "\n",
        "X_test_sex = ohe_sex.transform(X_test[['Sex']])\n",
        "X_test_embarked = ohe_embarked.transform(X_test_embarked)"
      ],
      "metadata": {
        "id": "BaEYUBtOcrb7"
      },
      "execution_count": 32,
      "outputs": []
    },
    {
      "cell_type": "code",
      "source": [
        "X_train_embarked"
      ],
      "metadata": {
        "colab": {
          "base_uri": "https://localhost:8080/"
        },
        "id": "gRLMHQ3HcrfT",
        "outputId": "50b73144-0ad4-4048-954d-533e2f445a95"
      },
      "execution_count": 33,
      "outputs": [
        {
          "output_type": "execute_result",
          "data": {
            "text/plain": [
              "array([[0., 0., 1.],\n",
              "       [0., 0., 1.],\n",
              "       [0., 0., 1.],\n",
              "       ...,\n",
              "       [0., 0., 1.],\n",
              "       [0., 0., 1.],\n",
              "       [0., 0., 1.]])"
            ]
          },
          "metadata": {},
          "execution_count": 33
        }
      ]
    },
    {
      "cell_type": "code",
      "source": [
        "X_train.head(4)"
      ],
      "metadata": {
        "colab": {
          "base_uri": "https://localhost:8080/",
          "height": 175
        },
        "id": "JfOuRU8ZcrkG",
        "outputId": "ae65b589-58d4-40fb-e552-eb5d6634eef5"
      },
      "execution_count": 34,
      "outputs": [
        {
          "output_type": "execute_result",
          "data": {
            "text/plain": [
              "     Pclass     Sex   Age  SibSp  Parch     Fare Embarked\n",
              "445       1    male   4.0      0      2  81.8583        S\n",
              "650       3    male   NaN      0      0   7.8958        S\n",
              "172       3  female   1.0      1      1  11.1333        S\n",
              "450       2    male  36.0      1      2  27.7500        S"
            ],
            "text/html": [
              "\n",
              "  <div id=\"df-de016388-8955-4f99-b353-3d3ddd5da48c\">\n",
              "    <div class=\"colab-df-container\">\n",
              "      <div>\n",
              "<style scoped>\n",
              "    .dataframe tbody tr th:only-of-type {\n",
              "        vertical-align: middle;\n",
              "    }\n",
              "\n",
              "    .dataframe tbody tr th {\n",
              "        vertical-align: top;\n",
              "    }\n",
              "\n",
              "    .dataframe thead th {\n",
              "        text-align: right;\n",
              "    }\n",
              "</style>\n",
              "<table border=\"1\" class=\"dataframe\">\n",
              "  <thead>\n",
              "    <tr style=\"text-align: right;\">\n",
              "      <th></th>\n",
              "      <th>Pclass</th>\n",
              "      <th>Sex</th>\n",
              "      <th>Age</th>\n",
              "      <th>SibSp</th>\n",
              "      <th>Parch</th>\n",
              "      <th>Fare</th>\n",
              "      <th>Embarked</th>\n",
              "    </tr>\n",
              "  </thead>\n",
              "  <tbody>\n",
              "    <tr>\n",
              "      <th>445</th>\n",
              "      <td>1</td>\n",
              "      <td>male</td>\n",
              "      <td>4.0</td>\n",
              "      <td>0</td>\n",
              "      <td>2</td>\n",
              "      <td>81.8583</td>\n",
              "      <td>S</td>\n",
              "    </tr>\n",
              "    <tr>\n",
              "      <th>650</th>\n",
              "      <td>3</td>\n",
              "      <td>male</td>\n",
              "      <td>NaN</td>\n",
              "      <td>0</td>\n",
              "      <td>0</td>\n",
              "      <td>7.8958</td>\n",
              "      <td>S</td>\n",
              "    </tr>\n",
              "    <tr>\n",
              "      <th>172</th>\n",
              "      <td>3</td>\n",
              "      <td>female</td>\n",
              "      <td>1.0</td>\n",
              "      <td>1</td>\n",
              "      <td>1</td>\n",
              "      <td>11.1333</td>\n",
              "      <td>S</td>\n",
              "    </tr>\n",
              "    <tr>\n",
              "      <th>450</th>\n",
              "      <td>2</td>\n",
              "      <td>male</td>\n",
              "      <td>36.0</td>\n",
              "      <td>1</td>\n",
              "      <td>2</td>\n",
              "      <td>27.7500</td>\n",
              "      <td>S</td>\n",
              "    </tr>\n",
              "  </tbody>\n",
              "</table>\n",
              "</div>\n",
              "      <button class=\"colab-df-convert\" onclick=\"convertToInteractive('df-de016388-8955-4f99-b353-3d3ddd5da48c')\"\n",
              "              title=\"Convert this dataframe to an interactive table.\"\n",
              "              style=\"display:none;\">\n",
              "        \n",
              "  <svg xmlns=\"http://www.w3.org/2000/svg\" height=\"24px\"viewBox=\"0 0 24 24\"\n",
              "       width=\"24px\">\n",
              "    <path d=\"M0 0h24v24H0V0z\" fill=\"none\"/>\n",
              "    <path d=\"M18.56 5.44l.94 2.06.94-2.06 2.06-.94-2.06-.94-.94-2.06-.94 2.06-2.06.94zm-11 1L8.5 8.5l.94-2.06 2.06-.94-2.06-.94L8.5 2.5l-.94 2.06-2.06.94zm10 10l.94 2.06.94-2.06 2.06-.94-2.06-.94-.94-2.06-.94 2.06-2.06.94z\"/><path d=\"M17.41 7.96l-1.37-1.37c-.4-.4-.92-.59-1.43-.59-.52 0-1.04.2-1.43.59L10.3 9.45l-7.72 7.72c-.78.78-.78 2.05 0 2.83L4 21.41c.39.39.9.59 1.41.59.51 0 1.02-.2 1.41-.59l7.78-7.78 2.81-2.81c.8-.78.8-2.07 0-2.86zM5.41 20L4 18.59l7.72-7.72 1.47 1.35L5.41 20z\"/>\n",
              "  </svg>\n",
              "      </button>\n",
              "      \n",
              "  <style>\n",
              "    .colab-df-container {\n",
              "      display:flex;\n",
              "      flex-wrap:wrap;\n",
              "      gap: 12px;\n",
              "    }\n",
              "\n",
              "    .colab-df-convert {\n",
              "      background-color: #E8F0FE;\n",
              "      border: none;\n",
              "      border-radius: 50%;\n",
              "      cursor: pointer;\n",
              "      display: none;\n",
              "      fill: #1967D2;\n",
              "      height: 32px;\n",
              "      padding: 0 0 0 0;\n",
              "      width: 32px;\n",
              "    }\n",
              "\n",
              "    .colab-df-convert:hover {\n",
              "      background-color: #E2EBFA;\n",
              "      box-shadow: 0px 1px 2px rgba(60, 64, 67, 0.3), 0px 1px 3px 1px rgba(60, 64, 67, 0.15);\n",
              "      fill: #174EA6;\n",
              "    }\n",
              "\n",
              "    [theme=dark] .colab-df-convert {\n",
              "      background-color: #3B4455;\n",
              "      fill: #D2E3FC;\n",
              "    }\n",
              "\n",
              "    [theme=dark] .colab-df-convert:hover {\n",
              "      background-color: #434B5C;\n",
              "      box-shadow: 0px 1px 3px 1px rgba(0, 0, 0, 0.15);\n",
              "      filter: drop-shadow(0px 1px 2px rgba(0, 0, 0, 0.3));\n",
              "      fill: #FFFFFF;\n",
              "    }\n",
              "  </style>\n",
              "\n",
              "      <script>\n",
              "        const buttonEl =\n",
              "          document.querySelector('#df-de016388-8955-4f99-b353-3d3ddd5da48c button.colab-df-convert');\n",
              "        buttonEl.style.display =\n",
              "          google.colab.kernel.accessAllowed ? 'block' : 'none';\n",
              "\n",
              "        async function convertToInteractive(key) {\n",
              "          const element = document.querySelector('#df-de016388-8955-4f99-b353-3d3ddd5da48c');\n",
              "          const dataTable =\n",
              "            await google.colab.kernel.invokeFunction('convertToInteractive',\n",
              "                                                     [key], {});\n",
              "          if (!dataTable) return;\n",
              "\n",
              "          const docLinkHtml = 'Like what you see? Visit the ' +\n",
              "            '<a target=\"_blank\" href=https://colab.research.google.com/notebooks/data_table.ipynb>data table notebook</a>'\n",
              "            + ' to learn more about interactive tables.';\n",
              "          element.innerHTML = '';\n",
              "          dataTable['output_type'] = 'display_data';\n",
              "          await google.colab.output.renderOutput(dataTable, element);\n",
              "          const docLink = document.createElement('div');\n",
              "          docLink.innerHTML = docLinkHtml;\n",
              "          element.appendChild(docLink);\n",
              "        }\n",
              "      </script>\n",
              "    </div>\n",
              "  </div>\n",
              "  "
            ]
          },
          "metadata": {},
          "execution_count": 34
        }
      ]
    },
    {
      "cell_type": "code",
      "source": [
        "X_train_rem = X_train.drop(columns=['Sex','Age','Embarked'])"
      ],
      "metadata": {
        "id": "QJudn9bwcrmq"
      },
      "execution_count": 35,
      "outputs": []
    },
    {
      "cell_type": "code",
      "source": [
        "X_test_rem = X_test.drop(columns=['Sex','Age','Embarked'])"
      ],
      "metadata": {
        "id": "OGGD34JTcrrT"
      },
      "execution_count": 36,
      "outputs": []
    },
    {
      "cell_type": "code",
      "source": [
        "X_train_transformed = np.concatenate((X_train_rem,X_train_age,\n",
        "                                      X_train_sex,X_train_embarked),axis=1)\n",
        "X_test_transformed = np.concatenate((X_test_rem,X_test_age,\n",
        "                                     X_test_sex,X_test_embarked),axis=1)"
      ],
      "metadata": {
        "id": "GyRlYoOycrtL"
      },
      "execution_count": 37,
      "outputs": []
    },
    {
      "cell_type": "code",
      "source": [
        "X_train_transformed"
      ],
      "metadata": {
        "colab": {
          "base_uri": "https://localhost:8080/"
        },
        "id": "Q4P8y9URo5Nm",
        "outputId": "bd4404ea-bb74-4309-af12-af364a759e32"
      },
      "execution_count": 38,
      "outputs": [
        {
          "output_type": "execute_result",
          "data": {
            "text/plain": [
              "array([[1., 0., 2., ..., 0., 0., 1.],\n",
              "       [3., 0., 0., ..., 0., 0., 1.],\n",
              "       [3., 1., 1., ..., 0., 0., 1.],\n",
              "       ...,\n",
              "       [3., 2., 0., ..., 0., 0., 1.],\n",
              "       [1., 1., 2., ..., 0., 0., 1.],\n",
              "       [1., 0., 1., ..., 0., 0., 1.]])"
            ]
          },
          "metadata": {},
          "execution_count": 38
        }
      ]
    },
    {
      "cell_type": "code",
      "source": [
        "X_test_transformed.shape"
      ],
      "metadata": {
        "colab": {
          "base_uri": "https://localhost:8080/"
        },
        "id": "sNRQ3akxcrxv",
        "outputId": "4af3f539-6aae-42db-a6aa-01f1cfeda1ef"
      },
      "execution_count": 39,
      "outputs": [
        {
          "output_type": "execute_result",
          "data": {
            "text/plain": [
              "(268, 10)"
            ]
          },
          "metadata": {},
          "execution_count": 39
        }
      ]
    },
    {
      "cell_type": "code",
      "source": [
        "clf = DecisionTreeClassifier()\n",
        "clf.fit(X_train_transformed,y_train)"
      ],
      "metadata": {
        "colab": {
          "base_uri": "https://localhost:8080/"
        },
        "id": "Zz0YXWqUcrzy",
        "outputId": "f2643db7-07d8-4969-fd8a-b41c552625ee"
      },
      "execution_count": 40,
      "outputs": [
        {
          "output_type": "execute_result",
          "data": {
            "text/plain": [
              "DecisionTreeClassifier()"
            ]
          },
          "metadata": {},
          "execution_count": 40
        }
      ]
    },
    {
      "cell_type": "code",
      "source": [
        "y_pred = clf.predict(X_test_transformed)\n",
        "y_pred"
      ],
      "metadata": {
        "colab": {
          "base_uri": "https://localhost:8080/"
        },
        "id": "3jGSNlh2cr5C",
        "outputId": "9659e1fb-717d-4ae9-e9dc-f74d17d98efb"
      },
      "execution_count": 41,
      "outputs": [
        {
          "output_type": "execute_result",
          "data": {
            "text/plain": [
              "array([0, 1, 1, 1, 0, 1, 1, 0, 0, 1, 1, 0, 0, 0, 0, 1, 1, 1, 0, 0, 0, 0,\n",
              "       0, 0, 0, 0, 1, 1, 1, 1, 0, 1, 1, 1, 0, 0, 0, 1, 1, 0, 0, 0, 0, 0,\n",
              "       0, 0, 0, 0, 1, 0, 1, 1, 0, 1, 1, 1, 0, 1, 0, 1, 1, 1, 1, 0, 0, 1,\n",
              "       0, 0, 0, 1, 1, 1, 0, 1, 0, 0, 1, 1, 1, 0, 0, 1, 1, 0, 0, 1, 1, 1,\n",
              "       0, 0, 0, 0, 0, 0, 0, 0, 0, 0, 1, 0, 0, 0, 1, 0, 0, 1, 1, 0, 0, 0,\n",
              "       1, 0, 1, 1, 0, 0, 1, 0, 1, 0, 0, 1, 1, 1, 0, 0, 1, 0, 0, 0, 1, 0,\n",
              "       0, 0, 0, 0, 1, 0, 0, 1, 0, 1, 0, 0, 0, 1, 0, 1, 1, 0, 0, 1, 0, 0,\n",
              "       0, 0, 0, 1, 1, 1, 0, 0, 0, 1, 1, 1, 0, 1, 0, 0, 1, 1, 1, 0, 0, 0,\n",
              "       0, 1, 1, 1, 0, 0, 0, 1, 0, 1, 1, 0, 0, 1, 0, 0, 0, 0, 1, 1, 1, 0,\n",
              "       1, 0, 0, 0, 1, 0, 0, 1, 0, 1, 0, 0, 0, 0, 1, 0, 0, 1, 1, 1, 1, 0,\n",
              "       0, 1, 0, 1, 0, 1, 0, 1, 1, 1, 0, 1, 0, 1, 1, 0, 1, 0, 1, 0, 1, 1,\n",
              "       0, 0, 0, 0, 0, 0, 0, 1, 0, 0, 0, 1, 0, 0, 0, 0, 0, 1, 0, 0, 1, 0,\n",
              "       0, 0, 0, 0])"
            ]
          },
          "metadata": {},
          "execution_count": 41
        }
      ]
    },
    {
      "cell_type": "code",
      "source": [
        "from sklearn.metrics import accuracy_score\n",
        "accuracy_score(y_test,y_pred)"
      ],
      "metadata": {
        "colab": {
          "base_uri": "https://localhost:8080/"
        },
        "id": "UmX_f_oacr7O",
        "outputId": "3214ef7c-9056-4c1d-9b30-a3672a95b89a"
      },
      "execution_count": 42,
      "outputs": [
        {
          "output_type": "execute_result",
          "data": {
            "text/plain": [
              "0.7350746268656716"
            ]
          },
          "metadata": {},
          "execution_count": 42
        }
      ]
    },
    {
      "cell_type": "code",
      "source": [
        "import pickle"
      ],
      "metadata": {
        "id": "yv4w9ROccsAR"
      },
      "execution_count": 43,
      "outputs": []
    },
    {
      "cell_type": "code",
      "source": [
        "pickle.dump(ohe_sex,open('ohe_sex.pkl','wb'))\n",
        "pickle.dump(ohe_embarked,open('ohe_embarked.pkl','wb'))\n",
        "pickle.dump(clf,open('clf.pkl','wb'))"
      ],
      "metadata": {
        "id": "CXJoSjaecsCe"
      },
      "execution_count": 47,
      "outputs": []
    },
    {
      "cell_type": "code",
      "source": [],
      "metadata": {
        "id": "vAmBKMsJwxlw"
      },
      "execution_count": null,
      "outputs": []
    },
    {
      "cell_type": "markdown",
      "source": [
        "## Predict without pipeline"
      ],
      "metadata": {
        "id": "ypKuyB4vv1Kr"
      }
    },
    {
      "cell_type": "code",
      "source": [
        "import pickle\n",
        "import numpy as np\n",
        "import pandas as pd"
      ],
      "metadata": {
        "id": "xc0fd7r1su2M"
      },
      "execution_count": 48,
      "outputs": []
    },
    {
      "cell_type": "code",
      "source": [
        "# loading models\n",
        "ohe_sex = pickle.load(open('/content/ohe_sex.pkl','rb'))\n",
        "ohe_embarked = pickle.load(open('/content/ohe_embarked.pkl','rb'))\n",
        "clf = pickle.load(open('/content/clf.pkl','rb'))"
      ],
      "metadata": {
        "id": "5aLtcHP8v7YK"
      },
      "execution_count": 49,
      "outputs": []
    },
    {
      "cell_type": "code",
      "source": [
        "# Assume user input\n",
        "# Pclass/gender/age/SibSp/Parch/Fare/Embarked\n",
        "test_input = np.array([2, 'male', 31.0, 0, 0, 10.5, 'S'],dtype=object).reshape(1,7)\n",
        "test_input"
      ],
      "metadata": {
        "colab": {
          "base_uri": "https://localhost:8080/"
        },
        "id": "bo9QA3WWv7bG",
        "outputId": "d5fb3bcd-bd43-4eb9-f9de-a064e7d339ed"
      },
      "execution_count": 50,
      "outputs": [
        {
          "output_type": "execute_result",
          "data": {
            "text/plain": [
              "array([[2, 'male', 31.0, 0, 0, 10.5, 'S']], dtype=object)"
            ]
          },
          "metadata": {},
          "execution_count": 50
        }
      ]
    },
    {
      "cell_type": "code",
      "source": [
        "test_input[:,1]"
      ],
      "metadata": {
        "colab": {
          "base_uri": "https://localhost:8080/"
        },
        "id": "Qx9XDKiOzSY3",
        "outputId": "4a1a8ee1-4fa7-41ea-b628-f601d59362a9"
      },
      "execution_count": 56,
      "outputs": [
        {
          "output_type": "execute_result",
          "data": {
            "text/plain": [
              "array(['male'], dtype=object)"
            ]
          },
          "metadata": {},
          "execution_count": 56
        }
      ]
    },
    {
      "cell_type": "code",
      "source": [
        "# we have to perform OheHotEncoding here also\n",
        "test_input_sex = ohe_sex.transform(test_input[:,1].reshape(1,1))\n",
        "test_input_sex"
      ],
      "metadata": {
        "colab": {
          "base_uri": "https://localhost:8080/"
        },
        "id": "DBFQuqZ4v7sK",
        "outputId": "e15bafdf-9aec-462e-c63c-57b6d0264a67"
      },
      "execution_count": 51,
      "outputs": [
        {
          "output_type": "stream",
          "name": "stderr",
          "text": [
            "/usr/local/lib/python3.7/dist-packages/sklearn/base.py:451: UserWarning: X does not have valid feature names, but OneHotEncoder was fitted with feature names\n",
            "  \"X does not have valid feature names, but\"\n"
          ]
        },
        {
          "output_type": "execute_result",
          "data": {
            "text/plain": [
              "array([[0., 1.]])"
            ]
          },
          "metadata": {},
          "execution_count": 51
        }
      ]
    },
    {
      "cell_type": "code",
      "source": [
        "test_input_embarked = ohe_embarked.transform(test_input[:,-1].reshape(1,1))\n",
        "test_input_embarked"
      ],
      "metadata": {
        "colab": {
          "base_uri": "https://localhost:8080/"
        },
        "id": "57nPG_GFv7uB",
        "outputId": "d67908f1-6f5d-4bd9-ab34-a3dd01ffdb98"
      },
      "execution_count": 52,
      "outputs": [
        {
          "output_type": "execute_result",
          "data": {
            "text/plain": [
              "array([[0., 0., 1.]])"
            ]
          },
          "metadata": {},
          "execution_count": 52
        }
      ]
    },
    {
      "cell_type": "code",
      "source": [
        "test_input_age = test_input[:,2].reshape(1,1)"
      ],
      "metadata": {
        "id": "ZbiDUGogv7xG"
      },
      "execution_count": 53,
      "outputs": []
    },
    {
      "cell_type": "code",
      "source": [
        "test_input_transformed = np.concatenate((test_input[:,[0,3,4,5]],test_input_age,test_input_sex,test_input_embarked),axis=1)\n",
        "test_input_transformed.shape"
      ],
      "metadata": {
        "colab": {
          "base_uri": "https://localhost:8080/"
        },
        "id": "PFB6j6l1v7zg",
        "outputId": "37c51482-2f37-41b3-95b2-ba9bb550f821"
      },
      "execution_count": 54,
      "outputs": [
        {
          "output_type": "execute_result",
          "data": {
            "text/plain": [
              "(1, 10)"
            ]
          },
          "metadata": {},
          "execution_count": 54
        }
      ]
    },
    {
      "cell_type": "code",
      "source": [
        "clf.predict(test_input_transformed)"
      ],
      "metadata": {
        "colab": {
          "base_uri": "https://localhost:8080/"
        },
        "id": "RfHHUG7mv73e",
        "outputId": "59e292b4-0eef-45d4-f100-5d5f8b0b7a21"
      },
      "execution_count": 55,
      "outputs": [
        {
          "output_type": "execute_result",
          "data": {
            "text/plain": [
              "array([1])"
            ]
          },
          "metadata": {},
          "execution_count": 55
        }
      ]
    },
    {
      "cell_type": "code",
      "source": [
        "# tried"
      ],
      "metadata": {
        "id": "F_r6cNS138NK"
      },
      "execution_count": null,
      "outputs": []
    },
    {
      "cell_type": "code",
      "source": [
        "test__train = np.array([1, 'male',\t4.0,\t0,\t2,\t81.8583,\t'S'],dtype=object).reshape(1,7)\n",
        "test__train"
      ],
      "metadata": {
        "colab": {
          "base_uri": "https://localhost:8080/"
        },
        "id": "DAb7A7SHv7_I",
        "outputId": "1cb4d4b7-d251-4113-c102-9bd4532e8402"
      },
      "execution_count": 57,
      "outputs": [
        {
          "output_type": "execute_result",
          "data": {
            "text/plain": [
              "array([[1, 'male', 4.0, 0, 2, 81.8583, 'S']], dtype=object)"
            ]
          },
          "metadata": {},
          "execution_count": 57
        }
      ]
    },
    {
      "cell_type": "code",
      "source": [
        "test__train[:,1]"
      ],
      "metadata": {
        "colab": {
          "base_uri": "https://localhost:8080/"
        },
        "id": "PCGmfaEI1nxE",
        "outputId": "baa38cc7-6177-44c7-a7ae-b88d11d298d9"
      },
      "execution_count": 67,
      "outputs": [
        {
          "output_type": "execute_result",
          "data": {
            "text/plain": [
              "array(['male'], dtype=object)"
            ]
          },
          "metadata": {},
          "execution_count": 67
        }
      ]
    },
    {
      "cell_type": "code",
      "source": [
        "test_train_sex = ohe_sex.transform(test__train[:,1].reshape(1,1))\n",
        "test_train_sex"
      ],
      "metadata": {
        "colab": {
          "base_uri": "https://localhost:8080/"
        },
        "id": "BFHnBTN10iXr",
        "outputId": "3cb309f9-dc18-43ce-8732-7777e9ccadde"
      },
      "execution_count": 68,
      "outputs": [
        {
          "output_type": "stream",
          "name": "stderr",
          "text": [
            "/usr/local/lib/python3.7/dist-packages/sklearn/base.py:451: UserWarning: X does not have valid feature names, but OneHotEncoder was fitted with feature names\n",
            "  \"X does not have valid feature names, but\"\n"
          ]
        },
        {
          "output_type": "execute_result",
          "data": {
            "text/plain": [
              "array([[0., 1.]])"
            ]
          },
          "metadata": {},
          "execution_count": 68
        }
      ]
    },
    {
      "cell_type": "code",
      "source": [
        "test_train_embarked = ohe_embarked.transform(test__train[:,-1].reshape(1,1))\n",
        "test_train_embarked"
      ],
      "metadata": {
        "colab": {
          "base_uri": "https://localhost:8080/"
        },
        "id": "NIgR1zOR0irN",
        "outputId": "8f78b721-0e5e-4dc1-99bb-e172d98bd0d5"
      },
      "execution_count": 69,
      "outputs": [
        {
          "output_type": "execute_result",
          "data": {
            "text/plain": [
              "array([[0., 0., 1.]])"
            ]
          },
          "metadata": {},
          "execution_count": 69
        }
      ]
    },
    {
      "cell_type": "code",
      "source": [
        "test_train_age = test__train[:,2].reshape(1,1)"
      ],
      "metadata": {
        "id": "pGfeTexn0itb"
      },
      "execution_count": 70,
      "outputs": []
    },
    {
      "cell_type": "code",
      "source": [
        "final = np.concatenate((test__train[:,[0,3,4,5]],test_train_age,\n",
        "               test_train_sex,test_train_embarked), axis=1)\n",
        "final"
      ],
      "metadata": {
        "colab": {
          "base_uri": "https://localhost:8080/"
        },
        "id": "KWIjccOk0ixJ",
        "outputId": "a0f5aa1b-3dca-4184-8792-4875fa463590"
      },
      "execution_count": 72,
      "outputs": [
        {
          "output_type": "execute_result",
          "data": {
            "text/plain": [
              "array([[1, 0, 2, 81.8583, 4.0, 0.0, 1.0, 0.0, 0.0, 1.0]], dtype=object)"
            ]
          },
          "metadata": {},
          "execution_count": 72
        }
      ]
    },
    {
      "cell_type": "code",
      "source": [
        "clf.predict(final)"
      ],
      "metadata": {
        "colab": {
          "base_uri": "https://localhost:8080/"
        },
        "id": "EOP-Md0Q30ML",
        "outputId": "dcf9a3f0-2049-4436-8146-a3940ef93228"
      },
      "execution_count": 73,
      "outputs": [
        {
          "output_type": "execute_result",
          "data": {
            "text/plain": [
              "array([1])"
            ]
          },
          "metadata": {},
          "execution_count": 73
        }
      ]
    },
    {
      "cell_type": "code",
      "source": [],
      "metadata": {
        "id": "9O06s-Vo33Xq"
      },
      "execution_count": null,
      "outputs": []
    }
  ]
}