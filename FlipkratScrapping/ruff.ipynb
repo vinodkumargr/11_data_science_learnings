{
 "cells": [
  {
   "cell_type": "code",
   "execution_count": 5,
   "id": "acacf614",
   "metadata": {},
   "outputs": [],
   "source": [
    "\n",
    "import numpy as np\n",
    "data = np.array([180,167, 154, 142, 181, 145, 143, 145, 167, 145])\n",
    "q = [1,2,3,4,5,6,7,8,9]"
   ]
  },
  {
   "cell_type": "code",
   "execution_count": 8,
   "id": "afdd1000",
   "metadata": {},
   "outputs": [
    {
     "data": {
      "text/plain": [
       "array([142.09, 142.18, 142.27, 142.36, 142.45, 142.54, 142.63, 142.72,\n",
       "       142.81])"
      ]
     },
     "execution_count": 8,
     "metadata": {},
     "output_type": "execute_result"
    }
   ],
   "source": [
    "np.percentile(data,q)"
   ]
  },
  {
   "cell_type": "code",
   "execution_count": 12,
   "id": "81b9540b",
   "metadata": {},
   "outputs": [
    {
     "name": "stdout",
     "output_type": "stream",
     "text": [
      "[0]\n",
      "[1]\n",
      "[2]\n",
      "[3]\n",
      "[4]\n",
      "[5]\n",
      "[6]\n",
      "[7]\n",
      "[8]\n"
     ]
    }
   ],
   "source": [
    "for i in q:\n",
    "    l=[]\n",
    "    r = i-1\n",
    "    l.append(r)\n",
    "    print(l)"
   ]
  },
  {
   "cell_type": "code",
   "execution_count": 20,
   "id": "23d69357",
   "metadata": {},
   "outputs": [
    {
     "name": "stdout",
     "output_type": "stream",
     "text": [
      "number of heads = 4, number of tails =6\n",
      "Prob of heads = 0.4, prob of tails =0.6\n"
     ]
    }
   ],
   "source": [
    "# A simple example\n",
    "import random\n",
    "\n",
    "trials = 10\n",
    "\n",
    "head = 0\n",
    "tails = 0\n",
    "for i in range(trials):\n",
    "    x = random.random()\n",
    "    if x <.5:\n",
    "        head += 1\n",
    "    else:\n",
    "        tails += 1\n",
    "print(f'number of heads = {head}, number of tails ={tails}')\n",
    "print(f'Prob of heads = {head/trials}, prob of tails ={tails/trials}')"
   ]
  },
  {
   "cell_type": "code",
   "execution_count": null,
   "id": "65af4965",
   "metadata": {},
   "outputs": [],
   "source": []
  },
  {
   "cell_type": "code",
   "execution_count": null,
   "id": "f83dda09",
   "metadata": {},
   "outputs": [],
   "source": []
  }
 ],
 "metadata": {
  "kernelspec": {
   "display_name": "Python 3 (ipykernel)",
   "language": "python",
   "name": "python3"
  },
  "language_info": {
   "codemirror_mode": {
    "name": "ipython",
    "version": 3
   },
   "file_extension": ".py",
   "mimetype": "text/x-python",
   "name": "python",
   "nbconvert_exporter": "python",
   "pygments_lexer": "ipython3",
   "version": "3.9.7"
  }
 },
 "nbformat": 4,
 "nbformat_minor": 5
}
