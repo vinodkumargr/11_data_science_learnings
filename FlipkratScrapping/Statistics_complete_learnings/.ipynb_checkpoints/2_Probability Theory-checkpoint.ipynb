{
 "cells": [
  {
   "cell_type": "markdown",
   "metadata": {},
   "source": [
    "# Probability Theory"
   ]
  },
  {
   "cell_type": "markdown",
   "metadata": {},
   "source": [
    "## Introduction to probability"
   ]
  },
  {
   "cell_type": "markdown",
   "metadata": {},
   "source": [
    "Consider an experiment is repeated under defined homogeneous condition, there will be two situations.\n",
    "* Result or outcome is certain or is known.\n",
    "* Result or outcome is not certain or unique but one of the many possible outcomes."
   ]
  },
  {
   "cell_type": "markdown",
   "metadata": {},
   "source": [
    "Just consider a coin which is biased i.e; Both sides of the coin have head. So when you toss that coin you are $100$% sure that the outcome will be head. Such event are called certain events or <b>Determinist</b> events.\n",
    "\n",
    "In the same way if you toss a fair coin you are not certain about the outcome. It may be head or tail. But you are sure that the outcome will be either head or tails i.e; you are not sure of the outcome but you are sure that it will be out of the many outcomes. Such events are called <b>Probabilistic</b> events.\n",
    "\n",
    "Here we will deal with such type of events."
   ]
  },
  {
   "cell_type": "markdown",
   "metadata": {},
   "source": [
    "Some examples of Probability.\n",
    "\n",
    "| Event               | Possible outcomes |\n",
    "| ------------------- | ----------------- |\n",
    "| Tossing a fair coin | Heads, Tails      |\n",
    "| Rolling a fair die  | 1,2,3,4,5,6       |\n",
    "\n",
    "In these events their is an uncertainty to some extent and when we express the uncertainty in numerical value that is called as <b>Probability</b>."
   ]
  },
  {
   "cell_type": "markdown",
   "metadata": {},
   "source": [
    "### Basic terminologies required"
   ]
  },
  {
   "cell_type": "markdown",
   "metadata": {},
   "source": [
    "* <b>Random experiment :</b>If an experiment is conducted under certain conditions the outcome is not known but it will be one of the possible out come. Such experiment is called random experiment.\n",
    "\n",
    "Example: Tossing a coin, Rolling a dice.\n",
    "\n",
    "* <b>Outcome :</b>Result of a random experiment is called Outcome.\n",
    "\n",
    "Example: When a fair coin is tossed either Heads or Tails are called outcome.\n",
    "\n",
    "* <b>Trial and Event :</b>Any particular happening of a random experiment is called trial, Outcome or combinations of outcomes are called events.\n",
    "\n",
    "Example: If a coin is tossed repeatedly, the result is not unique. We may get any of the two faces, head or tail. Thus tossing a coin is a random experiment or trial and getting head or tail is an event\n",
    "\n",
    "* <b>Exhaustive Events :</b>The total number of possible outcomes of a random experiment is known as exhaustive events.\n",
    "\n",
    "Example 1: In rolling a die, there are 6 exhaustive cases since any one of the 6 faces 1,2,3,4,5,6 may be the outcome.\n",
    "\n",
    "Example 2: In drawing 5 cards form a pack of cards, the exhaustive number of cases is $ ^{52} C_5 $, since 5 cards can be drawn out of 52 cards in $ ^{52} C_5 $ ways.\n",
    "\n",
    "* <b>Favorable events :</b>The number of cases favorable to an event in a trial. This depends on the problem statement given.\n",
    "\n",
    "Example: In drawing a card from pack of cards the number of cases favorable to drawing of an ace is 4, for drawing a red card is 26, for drawing a hearts is 13 and so on.\n",
    "\n",
    "* <b>Mutually exclusive events :</b>Events are said to be mutually exclusive or incompatible if the happening of one event prevents the happening of all other events.\n",
    "\n",
    "Example: In rolling a die all the 6 faces numbered 1 to 6 are mutually exclusive since if any one of these faces comes, the possibility of others, in the same trial, is ruled out.\n",
    "\n",
    "* <b>Equally Likely Events :</b>If all the Outcomes of a experiment have same probability of occurring.\n",
    "\n",
    "Example: In rolling a die all the outcomes from 1 to 6 are equally likely, since all the outcomes have same probability of occurring. In the same way events of getting even numbers and getting odd numbers are also equally likely. Since both of them have same probability of occurring.\n",
    "\n",
    "* <b>Independent Events :</b> Two events are said to be independent if happening of one event doesn't affect the happening of other event.\n",
    "\n",
    "Example: In tossing an unbiased coin the probability of getting a head in first toss and getting head in second, third and subsequent toss are Independent events.\n"
   ]
  },
  {
   "cell_type": "markdown",
   "metadata": {},
   "source": [
    "<b>Mathematical Probability :</b>If a random experiment or a trial results in $n$ exhaustive, mutually exclusive and equally likely outcomes, out of which $m$ are favorable to the occurrence of an event E, Then the probability $p$ of occurrence of $E$ is given by \n",
    "\n",
    "$$ P(E)=\\frac{m}{n} $$\n",
    "\n",
    "$m=$ Number of favorable outcomes\n",
    "\n",
    "$n=$ Total number of outcomes"
   ]
  },
  {
   "cell_type": "markdown",
   "metadata": {},
   "source": [
    "1. Find the probability of getting\n",
    "* even numbers\n",
    "* odd numbers\n",
    "* Numbers greater than or equal to 6\n",
    "\n",
    "when you roll a fair die"
   ]
  },
  {
   "cell_type": "markdown",
   "metadata": {},
   "source": [
    "| Outcome | Probability |\n",
    "| ------- | ----------- |\n",
    "| 1       | 1/6         |\n",
    "| 2       | 1/6         |\n",
    "| 3       | 1/6         |\n",
    "| 4       | 1/6         |\n",
    "| 5       | 1/6         |\n",
    "| 6       | 1/6         |"
   ]
  },
  {
   "cell_type": "markdown",
   "metadata": {},
   "source": [
    "$p$ (even numbers) $= p(2)+p(4)+p(6) = \\frac{1}{6}+\\frac{1}{6}+\\frac{1}{6} = \\frac{1}{2}$\n",
    "\n",
    "$p$ (Odd numbers) $= p(1)+p(3)+p(5) = \\frac{1}{6}+\\frac{1}{6}+\\frac{1}{6} = \\frac{1}{2}$\n",
    "\n",
    "$p(number \\ge6 )= p(6) = \\frac{1}{6} = \\frac{1}{6}$"
   ]
  },
  {
   "cell_type": "markdown",
   "metadata": {},
   "source": [
    "There were some limitations:\n",
    "\n",
    "1. Various out comes are not equally likely.\n",
    "2. Exhaustive events of an experiment can be infinite or unknown in some cases."
   ]
  },
  {
   "cell_type": "markdown",
   "metadata": {},
   "source": [
    "## Statistical or Empirical probability"
   ]
  },
  {
   "cell_type": "markdown",
   "metadata": {},
   "source": [
    "If a experiment is conducted repeatedly under essentially homogeneous and identical condition, then the limiting value of the ration of the number of times the event occurs to the number of trials, as the number of trials become indefinitely large, is called the probability of happening of the event, it being assumed that the limit is finite and unique."
   ]
  },
  {
   "cell_type": "markdown",
   "metadata": {},
   "source": [
    "Symbolically\n",
    "\n",
    "$$ \\lim _{n \\to {\\inf}} \\frac{M}{N} $$"
   ]
  },
  {
   "cell_type": "code",
   "execution_count": 58,
   "metadata": {},
   "outputs": [
    {
     "name": "stdout",
     "output_type": "stream",
     "text": [
      "number of heads = 7, number of tails =3\n",
      "Prob of heads = 0.7, prob of tails =0.3\n"
     ]
    }
   ],
   "source": [
    "# A simple example\n",
    "import random\n",
    "\n",
    "trials = 10\n",
    "\n",
    "head = 0\n",
    "tails = 0\n",
    "for i in range(trials):\n",
    "    x = random.random()\n",
    "    if x <.5:\n",
    "        head += 1\n",
    "    else:\n",
    "        tails += 1\n",
    "print(f'number of heads = {head}, number of tails ={tails}')\n",
    "print(f'Prob of heads = {head/trials}, prob of tails ={tails/trials}')"
   ]
  },
  {
   "cell_type": "markdown",
   "metadata": {},
   "source": [
    "In the above program increase the number of `trials` so that the probability will tend to $0.5$ and the results will be more consistent."
   ]
  },
  {
   "cell_type": "markdown",
   "metadata": {},
   "source": [
    "Limitations of Probability\n",
    "* For the experiment to repeat large number of times keeping conditions ideal is not possible.\n",
    "* That limit may not attain a unique value however large N might be.\n"
   ]
  },
  {
   "cell_type": "markdown",
   "metadata": {},
   "source": [
    "## Subjective Probability"
   ]
  },
  {
   "cell_type": "markdown",
   "metadata": {},
   "source": [
    "You might have heard of someone saying:\n",
    "\n",
    "* Chance of raining is $80$% today\n",
    "* Odds of a came winning the race is $ 5:1 $"
   ]
  },
  {
   "cell_type": "markdown",
   "metadata": {},
   "source": [
    "In these cases the probability of occurrence of an event is assigned by individual.\n",
    "\n",
    "This plays an important role in some cases such as: \n",
    "\n",
    "Consider cloudy day there we cannot say that the probability of raining and not raining is .5, the probability of raining will be obviously more. Hence these type of situations can be measured using subjective probability."
   ]
  },
  {
   "cell_type": "markdown",
   "metadata": {},
   "source": [
    "## Axiomatic approach of Probability"
   ]
  },
  {
   "cell_type": "markdown",
   "metadata": {},
   "source": [
    "This approach closely relates the theory of probability with the modern metric theory of functions.\n",
    "\n",
    "Here we consider probability as a function defined on all events. Accordingly, as in case of any function we need a domain space which is the $\\sigma$-field $\\textbf{B}$ of the events, generated by $\\textbf{S}$; a `range space` which is the closed interval [0, 1] on the real line, and a rule which assigns a value to every element of the domain space $\\textbf{B}$."
   ]
  },
  {
   "cell_type": "markdown",
   "metadata": {},
   "source": [
    "$P(A)$ is the probability function defined on a $\\sigma$-field $\\textbf{B}$ of events if the following properties o axioms hold\n",
    "\n",
    "1. For each $A\\in p(A)$ is defined, real and $P(A) \\ge = 0$ (Axiom of non-Negativity)\n",
    "2. $P(S)=1$\n",
    "3. if $A_n$ is any finite or infinite sequence of disjoint events in $\\textbf{B}$, then (Axiom of additivity)\n",
    "$$ p(\\cup _{i=1}^n A_i)=\\sum _{i=1}^n{P(A_i)} $$"
   ]
  },
  {
   "cell_type": "markdown",
   "metadata": {},
   "source": [
    "<h3>Some theorems on probability.</h3>"
   ]
  },
  {
   "cell_type": "markdown",
   "metadata": {},
   "source": [
    "1. Probability of impossible event is 0 i.e., $ P(\\Phi)=0 $\n",
    "2. Probability of the complimentary event $ \\bar A $ of $A$ is given by\n",
    "$$ P(\\bar A) = 1-P(A)$$\n",
    "3. For any two events A and B, we have\n",
    "$$ P(\\bar A \\cap B) = P(B) - P(A \\cap B) $$\n",
    "$$ P(A \\cap \\bar B) = P(A) - P(A \\cap B) $$\n",
    "4. If $ B \\subset A $, then\n",
    "$$ P(A \\cap \\bar B) = P(A) - P(B) $$\n",
    "$$ P(B) \\le P(A) $$"
   ]
  },
  {
   "cell_type": "markdown",
   "metadata": {},
   "source": [
    "<h4> Addition Theorem of Probability </h4>\n",
    "\n",
    "If $ \\textbf {B} $ and B are any two events (subsets of sample space $ \\textbf S $) and are not disjoint, then\n",
    "\n",
    "$$ P(A \\cup B) = P(A) + P(B) - P(A \\cap B) $$\n",
    "\n",
    "<h5>Extending the idea to more $n$ events</h5>\n",
    "\n",
    "For $ n $ events $ A_1, A_2, ..., A_n $ we have\n",
    "\n",
    "$$ p(\\cup _{i=1}^n A_i)=\\sum _{i=1}^n{P(A_i)} - \\sum\\sum _{1 \\le i < j \\le n} P(A_i \\cap A_j)+... +(-1)^{n-1} P(A_1 \\cap A_2 \\cap ..., A_n) $$"
   ]
  },
  {
   "cell_type": "markdown",
   "metadata": {},
   "source": [
    "## Conditional Probability"
   ]
  },
  {
   "cell_type": "markdown",
   "metadata": {},
   "source": [
    "Consider an experiment where you draw a card from pack of cards. Then the probability of an event $ \\textbf A$ of  drawing a king is $ \\frac {4}{52} = \\frac {1}{13} $\n",
    "\n",
    "Now suppose that a card is drawn and we are informed that the drawn card is black. Now this information affects the probability of the same event.\n",
    "\n",
    "Now consider the new information as a new event $ \\textbf B $. And lets see how this event affects the event $ \\textbf A$.\n",
    "\n",
    "Now the probability of event $ \\textbf A$ given that event $ \\textbf B$ has occurred implies that the sample space has changed from whole deck of cards i.e., from 52 cards to only Red cards i.e., 26 cards. Here there are only 2 kings in the sample space.\n",
    "\n",
    "Hence the new probability is given by $$ P(A|B) = \\frac {n(A \\cap B)} {n(B)} $$\n",
    "\n",
    "$ = \\frac 2 {26} = \\frac 1 {13}$"
   ]
  },
  {
   "cell_type": "markdown",
   "metadata": {},
   "source": [
    "## Multiplication theorem of probability"
   ]
  },
  {
   "cell_type": "markdown",
   "metadata": {},
   "source": [
    "For two events $ \\textbf A $ and $ \\textbf B $, rearranging the formula of conditional probability\n",
    "$$ P(A \\cap B) = P(A) . P(B|A), P(A) >0 $$\n",
    "$$ P(A \\cap B) = P(B) . P(A|B), P(B) >0 $$"
   ]
  },
  {
   "cell_type": "markdown",
   "metadata": {},
   "source": [
    "### Independent events\n",
    "\n",
    "Two or more events are said to be independent if the happening or non-happening of any one of them, does not, in any way, affect the happening of others.\n",
    "\n",
    "In statistical notation two events are said to be independent if the conditional probability of $ \\textbf A $ given $ \\textbf B $ i.e., $ P(A|B) $ is equal to unconditional probability of $ \\textbf A $.\n",
    "\n",
    "$$ P(A|B) = P(A) $$\n",
    "imilarly,\n",
    "$$ P(B|A) = P(B) $$\n",
    "\n",
    "Hence for independent events \n",
    "$$ P(A \\cap B) = P(A).P(B) $$\n",
    "\n",
    "And generalizing it for n terms, For $n$ events $ A_1, A_2,...,A_n$\n",
    "$$ P(A_1 \\cap A_2 \\cap ... \\cap A_n)=P(A_1)*P(A_2)*...*P(A_n)"
   ]
  },
  {
   "cell_type": "markdown",
   "metadata": {},
   "source": [
    "<h3>Example:</h3>\n",
    "\n",
    "An urn contains 4 tickets numbered 1, 2, 3, 4 and other contains 6 tickets numbered 2, 4, 6, 7, 8, 9. If one of the two urns is chosen at random and a ticket is drawn at random form the chosen urn, find the probabilities that the ticket drawn bears the number.\n",
    "\n",
    "(i) 2 or 4\n",
    "\n",
    "(ii) 3\n",
    "\n",
    "(iii) 1 or 9"
   ]
  },
  {
   "cell_type": "markdown",
   "metadata": {},
   "source": [
    "<h3>Solution:</h3>\n",
    "(i) 2 or 4\n",
    "Required event can happen in the following mutually exclusive ways.\n",
    "\n",
    "* (a) First urn is chosen and then a ticket is drawn\n",
    "* (b) Second urn is chosen and then a ticket is drawn\n",
    "Since, the probability of choosing any urn us $\\frac 1 2 $, required probability 'p' is given by:\n",
    "\n",
    "$$ p(a) + p(b) = \\frac 1 2 * \\frac 2 4 + \\frac 1 2 * \\frac 2 6 = \\frac 5 {12} $$\n",
    "\n",
    "(ii) 3, second urn has no ticket labeled 3\n",
    "$$ \\frac 1 2 * \\frac 1 4 + \\frac 1 2 * 0 = \\frac 1 8 $$\n",
    "\n",
    "(iii) 1 or 9\n",
    "$$ \\frac 1 2 * \\frac 1 4 + \\frac 1 2 * \\frac 1 6 = \\frac 1 8 $$"
   ]
  },
  {
   "cell_type": "markdown",
   "metadata": {},
   "source": [
    "## Bayes Theorem"
   ]
  },
  {
   "cell_type": "markdown",
   "metadata": {},
   "source": [
    "Conditional probability is a kind of new probability when a new information is added. In the same way using bayes theorem we revise the older probabilities instead of just new probability.\n",
    "\n",
    "Here we begin our analysis with initial or prior probability estimates or specific events of interests. Then we obtain new or additional information from sources such as reports, product test etc. Now we update the prior probabilities by calculating the revised probabilities, referred as posterior probabilities."
   ]
  },
  {
   "cell_type": "markdown",
   "metadata": {},
   "source": [
    "  <img height=\"60%\" width=\"60%\" align=\"left\" src=\"data:image/png;base64,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\" alt=\"Re dot\" />"
   ]
  },
  {
   "cell_type": "markdown",
   "metadata": {},
   "source": [
    "<h3>Bayes' Theorem</h3>\n",
    "\n",
    "If $ E_1, E_2, E_3,...E_n $ are mutually disjoint events with $ (E_i) \\ne 0, (i=1, 2,...,n) $, then for any arbitrary event $E$ which is a subset of $ \\cup _{i=1} ^n E_i $ Such that $P(E)>0$, we have\n",
    "\n",
    "$$ P(E_i | E) = \\frac {P(E_i)P(E|E_i)}{ \\sum_{i=1}^n P(E_i)P(E|E_i)}; i = 1, 2, ..., n$$"
   ]
  },
  {
   "cell_type": "markdown",
   "metadata": {},
   "source": [
    "* Probabilities $ P(E_1), P(E_2), ..., P(E_n) $ are termed as the `prior probabilities` because they exist before we gain any information from the experiment itself.\n",
    "* The probabilities $P(E|E_i); i=1, 2, ..., n$ are called `likelihoods` because they indicate how likely the event E under consideration is to occur, given each and every `prior probability`\n",
    "* The probabilities $P(E_i|E); i=1, 2, ..., n$ are called `posterior probabilities` because they are determined after the results of the experiment are known."
   ]
  },
  {
   "cell_type": "markdown",
   "metadata": {},
   "source": [
    "<h3> Example </h3>\n",
    "\n",
    "Suppose that a product is produces in three factories X, Y and Z. It is known that factory X produces thrice as many as items as factory Y, and that factories Y and Z produces the same number of items. Assume that it is known that 3 percent of the items produced by each of the factories X ad Z are defective while 5 percent of those manufactured by factory Y are defective. All the items produced in the three factories are stocked, and an item of product is selected at random.\n",
    "\n",
    "(i) What is the probability that the item is defective?\n",
    "\n",
    "(ii) If an item selected at random is found to be defective, what is the probability that it was produced by factory X, Y and Z respectively?"
   ]
  },
  {
   "cell_type": "markdown",
   "metadata": {},
   "source": [
    "<h3> Solution </h3>\n",
    "\n",
    "Let the number of items produced by eac of the factories Y and Z be $n$. Then the number of items produced by the factory X is $3n$. Let $ E_1, E_2$ and $E_3$ denote the events that the item being defective. Then we have\n",
    "\n",
    "$$ P(E_1) = \\frac {3n} {3n + n+n} = 0.6,     P(E_2)=\\frac {n}{5n}=0.2,    P(E_3)=\\frac {n}{5n}=0.2 $$\n",
    "Also, given\n",
    "$$ P(E|E_1)=P(E|E_3)=0.03, P(E|E_2)=0.05 $$\n",
    "\n",
    "(i) The probability that an item selected at random from the stock is defective is given by:\n",
    "\n",
    "$$ P(E) = \\sum_{i=1}^{3} P(E \\cup E_i) = \\sum_{i=1}^{3} P(E_i) P(E|E_i) $$\n",
    "$$ P(E_1)*P(E|E_1)+P(E_2)*P(E|E_2)+P(E_3)*P(E|E_3) $$\n",
    "$$ 0.6*0.03+0.2*0.05+0.2*0.03=0.034 $$"
   ]
  },
  {
   "cell_type": "markdown",
   "metadata": {},
   "source": [
    "(ii) Probability that the item selected, if defective is from each factory is given by :\n",
    "\n",
    "$$ P(E_1|E) = \\frac {P(E|E_1)} {P(E)} = \\frac {0.6*0.03} {0.034} = \\frac {9} {17} $$\n",
    "\n",
    "$$ P(E_2|E) = \\frac {P(E|E_2)} {P(E)} = \\frac {0.2*0.05} {0.034} = \\frac {5} {17} $$\n",
    "\n",
    "$$ P(E_3|E) = \\frac {P(E|E_3)} {P(E)} = \\frac {0.2*0.03} {0.034} = \\frac {3} {17} $$"
   ]
  }
 ],
 "metadata": {
  "interpreter": {
   "hash": "1d2c35cbcf6c439fe4023d62c617fb10792e58220c81eb199d5fcf428c4dff3e"
  },
  "kernelspec": {
   "display_name": "Python 3 (ipykernel)",
   "language": "python",
   "name": "python3"
  },
  "language_info": {
   "codemirror_mode": {
    "name": "ipython",
    "version": 3
   },
   "file_extension": ".py",
   "mimetype": "text/x-python",
   "name": "python",
   "nbconvert_exporter": "python",
   "pygments_lexer": "ipython3",
   "version": "3.9.7"
  }
 },
 "nbformat": 4,
 "nbformat_minor": 4
}
