{
 "cells": [
  {
   "cell_type": "markdown",
   "metadata": {},
   "source": [
    "# Random Variable and its application"
   ]
  },
  {
   "cell_type": "markdown",
   "metadata": {},
   "source": [
    "## Random variable"
   ]
  },
  {
   "cell_type": "markdown",
   "metadata": {},
   "source": [
    "In many experiments we are not interested in the outcome but the number associated with that event.\n",
    "\n",
    "Consider and example of tossing 3 coins simultaneously. Events of interest will be number of heads and the number associated will be 0, 1, 2, 3. So, these are called the random variable associated with that particular experiment.\n",
    "\n",
    "We can assign any required values for the random variables, but as a standard we use something associated with the experiment.\n",
    "\n",
    "Random variable is a real number $ X $ connected with the outcome of a random experiment $E$."
   ]
  },
  {
   "cell_type": "markdown",
   "metadata": {},
   "source": [
    "Consider an example of tossing 3 coins and let the random no associated with that will be 0, 1, 2, 3.\n",
    "\n",
    "| Outcome    | HHH | HHT | HTH | HTT | THH | THT | TTH | TTT |\n",
    "| ---------- | --- | --- | --- | --- | --- | --- | --- | --- |\n",
    "| Value of X | 3   | 2   | 2   | 1   | 2   | 1   | 1   | 0   |\n",
    "\n",
    "Thus each outcome $\\omega$, corresponds to a real number $X(\\omega)$. Since the points of the sample space $S$ correspond to outcomes, this means that a real number, which we denote by $X(\\omega)$, is defined for each $ \\omega \\in S $.\n"
   ]
  },
  {
   "cell_type": "markdown",
   "metadata": {},
   "source": [
    "<b> Random variable: </b> Let $S$ be the sample space associated with a given random experiment. A real-valued function defined on S and taking values in $ R(-\\infty , \\infty ) $is called a one dimensional random variable. If the function values are ordered pairs of real numbers (i.e., vectors in 2D space), the function is said to be a two-dimensional random variable. In the same way an n-dimensional random variable is simply a function whose domain is $S$ and whose range is a collection of n-tuples of real numbers (vectors in n-space)."
   ]
  },
  {
   "cell_type": "markdown",
   "metadata": {},
   "source": [
    "<h3> Some theorem on Random Variable </h3>\n",
    "\n",
    "1. If $ X_1$ and $X_2$ are random variable and $C$ is a constant then $ CX_1, X_1 + X_2, X_1X_2 $ are also random variables\n",
    "2. If $X$ is a random variable then,\n",
    "* $ \\frac 1 X$ where $ \\frac 1 X (\\omega)=\\infty $ if $X(\\omega)=0$\n",
    "* $ X_+(\\omega)=max(0, X(\\omega)) $\n",
    "3. If $X_1$ and $X_2$ are random variable, then $ max[X_1, X_2]$ and $ min[X_1, X_2]$ are also random variable."
   ]
  },
  {
   "cell_type": "markdown",
   "metadata": {},
   "source": [
    "## Discrete random variable and probability mass function"
   ]
  },
  {
   "cell_type": "markdown",
   "metadata": {},
   "source": [
    "A variable which can assume only a countable number of real values and for which the values which the variable takes depends on chance, is called a discrete random variable. Alternatively, a real valued function defined on a discrete sample space is called a discrete random variable.\n",
    "\n",
    "Example: Marks obtained by the students in a test, number of accidents per month, number of success in n trials."
   ]
  },
  {
   "cell_type": "markdown",
   "metadata": {},
   "source": [
    "### Probability mass function(PMF)"
   ]
  },
  {
   "cell_type": "markdown",
   "metadata": {},
   "source": [
    "If $X$ is one-dimensional discrete random variable taking at most a countably infinite numbers of values $x_1, x_2,...$ then its probabilistic behavior at each real point is described by a function called the probability mass function.\n",
    "\n",
    "If $X$ is a discrete random variable with the distinct values $x_1, x_2,...x_n...$ then the function $p(x)$ defined as: \n",
    "\n",
    "$$ p_X(x) = \n",
    "     \\begin{cases}\n",
    "       P(X=x_i)=p_i &if  {x=x_i}\\\\\n",
    "       0 & if x \\ne x_i; i=1, 2, ... \\\\\n",
    "     \\end{cases} $$\n",
    "\n",
    "is called the probability mass function of random variable $X$.\n"
   ]
  },
  {
   "cell_type": "markdown",
   "metadata": {},
   "source": [
    "Properties of PMF\n",
    "\n",
    "1. The numbers $p(x_i); i=1,2, ..$ must satisfy the following conditions:\n",
    "$$ (i) \\ p(x_i) \\ge 0 \\qquad \\forall \\: i $$\n",
    "$$ (ii) \\ \\sum_{i=1} ^{\\infty} p(x_i)=1 $$\n",
    "\n",
    "2. The set of values which $X$ tales is called the spectrum of the random variable.\n",
    "3. For discrete random variable a knowledge of the probability mass function enables us to compute probabilities of arbitrary events. Hence, for $E$ being set of real numbers\n",
    "$$ P(x \\in E)= \\sum_{x \\in E \\cup S}p(x) $$"
   ]
  },
  {
   "cell_type": "markdown",
   "metadata": {},
   "source": [
    "<h4> Example :</h4>\n",
    "\n",
    "A random variable $X$ has a following probability function:\n",
    "\n",
    "| Values of X | 0   | 1   | 2    | 3    | 4    | 5     | 6      | 7        |\n",
    "| ----------- | --- | --- | ---- | ---- | ---- | ----- | ------ | -------- |\n",
    "| p(x)        | $0$ | $k$ | $2k$ | $2k$ | $3k$ | $k^2$ | $2k^2$ | $7K^2+k$ |\n",
    "\n",
    "(i) Find K.\n",
    "\n",
    "(ii) Evaluate $ P(X < 6), p(X \\ge 6)$, and $ p(0 < X < 5>>) $.\n",
    "\n",
    "(iii) Determine probability function of X."
   ]
  },
  {
   "cell_type": "markdown",
   "metadata": {},
   "source": [
    "<h4> Solution </h4>\n",
    "\n",
    "(i) Since $\\sum_{x=0} ^{7} p(x)=1 $, \n",
    "\n",
    "We have  $ 0+k+2k+2k+3k+k^2+2k^2+7K^2+k=1 $\n",
    "\n",
    "upon simplifying we get a quadratic equation $ 10k^2+9k-1=0 $ and solving the equation results in two roots i.e., $ k=\\frac 1 {10}, \\ -1 $\n",
    "\n",
    "Since the probability cannot be negative we accept that the value of $k=\\frac 1 {10}$\n",
    "\n"
   ]
  },
  {
   "cell_type": "markdown",
   "metadata": {},
   "source": [
    "(ii) $$ P(X<6) = P(X=0) + P(X=1)+P(X=2) + P(X=3) + P(X=4) + P(X=5) =0 + \\frac 1 {10} +\\frac 2 {10} + \\frac 2 {10} + \\frac 3 {10} + \\frac 1 {100} = \\frac {81} {100} $$\n",
    "$$ P(X \\ge 6) = 1-P(X<6) = 1- \\frac {81} {100} = \\frac {19} {100} $$\n",
    "\n",
    "$$ P(0<X<5) = P(X=1)+P(X=2) + P(X=3) + P(X=4) = \\frac 2 {10} + \\frac 2 {10} + \\frac 3 {10} +\\frac 1 {10} = \\frac 4 5 $$"
   ]
  },
  {
   "cell_type": "markdown",
   "metadata": {},
   "source": [
    "(iii) Probability function is calculated by substituting the value of k in the probability table\n",
    "\n",
    "| Values of X | 0 | 1                | 2                | 3                | 4                | 5                 | 6                 | 7                  |\n",
    "| ----------- | - | ---------------- | ---------------- | ---------------- | ---------------- | ----------------- | ----------------- | ------------------ |\n",
    "| p(x)        | 0 | $\\frac 1 {10} $ | $\\frac 2 {10} $ | $\\frac 2 {10} $ | $\\frac 3 {10} $ | $\\frac 1 {100} $ | $\\frac 2 {100} $ | $\\frac 17 {100} $ |\n",
    "\n"
   ]
  },
  {
   "cell_type": "markdown",
   "metadata": {},
   "source": [
    "## Continuous random variable and probability density function"
   ]
  },
  {
   "cell_type": "markdown",
   "metadata": {},
   "source": [
    "A random variable that can take all the possible values between certain limits is called continuous random variable.\n",
    "$$ or$$\n",
    "\n",
    "A random variable is said to be continuous when its different values cannot be put in 1-1 correspondence with a set of positive integers. Continuous random variable can be measured in any degree of accuracy.\n",
    "\n",
    "Example: Height or weight of a students in class, Age of population."
   ]
  },
  {
   "cell_type": "markdown",
   "metadata": {},
   "source": [
    "### Probability density function"
   ]
  },
  {
   "cell_type": "markdown",
   "metadata": {},
   "source": [
    "Consider a small interval $ (x, x+dx)$ of length $dx$ round the point $x$. Lef $f(x)$ be any  continuous function of $x$ so that $f(x)dx$ represents the probability that $X$ falls in the infinitesimal interval $(x, x+ dx)$. Symbolically\n",
    "$$ P(x \\le X \\le x + dx) = f_X (x) dx $$\n",
    "\n",
    "Hence, probability density function $f_X(x)$ of the random variable $X$ is defined as :\n",
    "$$ f_X(x)=\\lim _{\\delta x \\to 0} \\frac {P(x \\le X \\le x + \\delta x)}{\\delta x}"
   ]
  },
  {
   "cell_type": "markdown",
   "metadata": {},
   "source": [
    "The probability of a variate value to lie in the interval $dx$ is $f(x) dx$ and hence the probability for a variate value to fall in the finite interval $[\\alpha , \\beta]$ is:\n",
    "\n",
    "$$ P(\\alpha \\le X \\le \\beta) = \\int _\\alpha ^\\beta f(x) dx $$\n",
    "\n",
    "which mathematically represents the area between the curve $ y=f(x) $, $ x-axis $ and the ordinates at $x=\\alpha$ and $x=\\beta$"
   ]
  },
  {
   "cell_type": "markdown",
   "metadata": {},
   "source": [
    "  <img height=\"60%\" width=\"50%\" align=\"center\" src=\"data:image/jpeg;base64,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\" alt=\"Red dot\" />"
   ]
  },
  {
   "cell_type": "markdown",
   "metadata": {},
   "source": [
    "Various measures of central tendency , Dispersion, Skewness and Kurtosis for Continuous Probability Distribution\n",
    "\n",
    "* Arithmetic mean $$ \\int _a ^b f(x) dx $$\n",
    "* Harmonic mean $$ \\frac 1 H = \\int _a ^b \\frac 1 x f(x) dx $$\n",
    "* Geometric mean $$ log G= \\int _a ^b log x f(x) dx $$\n",
    "* Median: It is a point which divides the entire distribution in two equal parts. In case of continuous distribution, median is the point which divides the total area into two equal part. Thus if M is the median $$ \\int _a ^M f(x) dx = \\int _M ^b f(x) dx = \\frac 1 2$$\n",
    "* Mean deviation $$ M.D = \\int _a ^b |x-mean|f(x)dx $$\n",
    "* Mode is the value of $x$ for which $f(x)$ is maximum. Mode is thus the solution of $ f'(x) = 0$ and f''(x)<0$ provided it lies in $[a,b]$"
   ]
  },
  {
   "cell_type": "markdown",
   "metadata": {},
   "source": [
    "## Visualizing PDF of the data"
   ]
  },
  {
   "cell_type": "code",
   "execution_count": 1,
   "metadata": {},
   "outputs": [],
   "source": [
    "import pandas as pd"
   ]
  },
  {
   "cell_type": "code",
   "execution_count": 4,
   "metadata": {},
   "outputs": [
    {
     "data": {
      "text/html": [
       "<div>\n",
       "<style scoped>\n",
       "    .dataframe tbody tr th:only-of-type {\n",
       "        vertical-align: middle;\n",
       "    }\n",
       "\n",
       "    .dataframe tbody tr th {\n",
       "        vertical-align: top;\n",
       "    }\n",
       "\n",
       "    .dataframe thead th {\n",
       "        text-align: right;\n",
       "    }\n",
       "</style>\n",
       "<table border=\"1\" class=\"dataframe\">\n",
       "  <thead>\n",
       "    <tr style=\"text-align: right;\">\n",
       "      <th></th>\n",
       "      <th>gender</th>\n",
       "      <th>race/ethnicity</th>\n",
       "      <th>parental level of education</th>\n",
       "      <th>lunch</th>\n",
       "      <th>test preparation course</th>\n",
       "      <th>math score</th>\n",
       "      <th>reading score</th>\n",
       "      <th>writing score</th>\n",
       "    </tr>\n",
       "  </thead>\n",
       "  <tbody>\n",
       "    <tr>\n",
       "      <th>0</th>\n",
       "      <td>female</td>\n",
       "      <td>group B</td>\n",
       "      <td>bachelor's degree</td>\n",
       "      <td>standard</td>\n",
       "      <td>none</td>\n",
       "      <td>72</td>\n",
       "      <td>72</td>\n",
       "      <td>74</td>\n",
       "    </tr>\n",
       "    <tr>\n",
       "      <th>1</th>\n",
       "      <td>female</td>\n",
       "      <td>group C</td>\n",
       "      <td>some college</td>\n",
       "      <td>standard</td>\n",
       "      <td>completed</td>\n",
       "      <td>69</td>\n",
       "      <td>90</td>\n",
       "      <td>88</td>\n",
       "    </tr>\n",
       "    <tr>\n",
       "      <th>2</th>\n",
       "      <td>female</td>\n",
       "      <td>group B</td>\n",
       "      <td>master's degree</td>\n",
       "      <td>standard</td>\n",
       "      <td>none</td>\n",
       "      <td>90</td>\n",
       "      <td>95</td>\n",
       "      <td>93</td>\n",
       "    </tr>\n",
       "    <tr>\n",
       "      <th>3</th>\n",
       "      <td>male</td>\n",
       "      <td>group A</td>\n",
       "      <td>associate's degree</td>\n",
       "      <td>free/reduced</td>\n",
       "      <td>none</td>\n",
       "      <td>47</td>\n",
       "      <td>57</td>\n",
       "      <td>44</td>\n",
       "    </tr>\n",
       "    <tr>\n",
       "      <th>4</th>\n",
       "      <td>male</td>\n",
       "      <td>group C</td>\n",
       "      <td>some college</td>\n",
       "      <td>standard</td>\n",
       "      <td>none</td>\n",
       "      <td>76</td>\n",
       "      <td>78</td>\n",
       "      <td>75</td>\n",
       "    </tr>\n",
       "  </tbody>\n",
       "</table>\n",
       "</div>"
      ],
      "text/plain": [
       "   gender race/ethnicity parental level of education         lunch  \\\n",
       "0  female        group B           bachelor's degree      standard   \n",
       "1  female        group C                some college      standard   \n",
       "2  female        group B             master's degree      standard   \n",
       "3    male        group A          associate's degree  free/reduced   \n",
       "4    male        group C                some college      standard   \n",
       "\n",
       "  test preparation course  math score  reading score  writing score  \n",
       "0                    none          72             72             74  \n",
       "1               completed          69             90             88  \n",
       "2                    none          90             95             93  \n",
       "3                    none          47             57             44  \n",
       "4                    none          76             78             75  "
      ]
     },
     "execution_count": 4,
     "metadata": {},
     "output_type": "execute_result"
    }
   ],
   "source": [
    "df = pd.read_csv('StudentsPerformance.csv')\n",
    "df.head()"
   ]
  },
  {
   "cell_type": "code",
   "execution_count": 5,
   "metadata": {},
   "outputs": [],
   "source": [
    "data = df['math score']"
   ]
  },
  {
   "cell_type": "code",
   "execution_count": 7,
   "metadata": {},
   "outputs": [
    {
     "data": {
      "image/png": "[encoded data removed]",
      "text/plain": [
       "<Figure size 432x288 with 1 Axes>"
      ]
     },
     "metadata": {
      "needs_background": "light"
     },
     "output_type": "display_data"
    }
   ],
   "source": [
    "data.plot.hist();"
   ]
  },
  {
   "cell_type": "code",
   "execution_count": 8,
   "metadata": {},
   "outputs": [
    {
     "data": {
      "image/png": "[encoded data removed]",
      "text/plain": [
       "<Figure size 432x288 with 1 Axes>"
      ]
     },
     "metadata": {
      "needs_background": "light"
     },
     "output_type": "display_data"
    }
   ],
   "source": [
    "data.plot.density();"
   ]
  },
  {
   "cell_type": "markdown",
   "metadata": {},
   "source": [
    "## Distribution Function"
   ]
  },
  {
   "cell_type": "markdown",
   "metadata": {},
   "source": [
    "Let $X$ be a random variable. The function $F$ defined for all real $x$ by \n",
    "$$ F(x)=P(X \\le x) = P[\\omega: X (\\omega) \\le x], - \\infty < x < \\infty"
   ]
  },
  {
   "cell_type": "markdown",
   "metadata": {},
   "source": [
    "A distribution function is also called the cumulative distributive function. $F_X(x)$ is used to emphasis the fact that the distribution function is associated with the particular random variable $X$. The domain of the distribution function is $(-\\infty, \\infty)$ and its range is $[0,1]$"
   ]
  },
  {
   "cell_type": "markdown",
   "metadata": {},
   "source": [
    "In the same way for continuous random variable\n",
    "\n",
    "if X is a continuous random variable with the p.d.f $f(x)$, then the function:\n",
    "$$ F_X(x) = P(X \\le x) = \\int _{- \\infty} ^x f(t) dt, - \\infty < x < \\infty $$\n",
    "is called the distribution function of random variable $x$."
   ]
  },
  {
   "cell_type": "markdown",
   "metadata": {},
   "source": [
    "## Fitting and visualizing the distribution function"
   ]
  },
  {
   "cell_type": "code",
   "execution_count": 19,
   "metadata": {},
   "outputs": [],
   "source": [
    "from statsmodels.distributions.empirical_distribution import ECDF\n",
    "import matplotlib.pyplot as plt"
   ]
  },
  {
   "cell_type": "markdown",
   "metadata": {},
   "source": [
    "We use `ECDF()` from statsmodels library fit the distribution function"
   ]
  },
  {
   "cell_type": "code",
   "execution_count": 18,
   "metadata": {},
   "outputs": [],
   "source": [
    "cumulative_data = ECDF(data)"
   ]
  },
  {
   "cell_type": "code",
   "execution_count": 21,
   "metadata": {},
   "outputs": [
    {
     "data": {
      "image/png": "[encoded data removed]",
      "text/plain": [
       "<Figure size 432x288 with 1 Axes>"
      ]
     },
     "metadata": {
      "needs_background": "light"
     },
     "output_type": "display_data"
    }
   ],
   "source": [
    "plt.plot(cumulative_data.x, cumulative_data.y);"
   ]
  }
 ],
 "metadata": {
  "interpreter": {
   "hash": "1d2c35cbcf6c439fe4023d62c617fb10792e58220c81eb199d5fcf428c4dff3e"
  },
  "kernelspec": {
   "display_name": "Python 3 (ipykernel)",
   "language": "python",
   "name": "python3"
  },
  "language_info": {
   "codemirror_mode": {
    "name": "ipython",
    "version": 3
   },
   "file_extension": ".py",
   "mimetype": "text/x-python",
   "name": "python",
   "nbconvert_exporter": "python",
   "pygments_lexer": "ipython3",
   "version": "3.9.7"
  }
 },
 "nbformat": 4,
 "nbformat_minor": 4
}
